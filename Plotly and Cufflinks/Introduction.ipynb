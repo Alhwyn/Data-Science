{
 "cells": [
  {
   "cell_type": "code",
   "execution_count": 1,
   "metadata": {},
   "outputs": [],
   "source": [
    "import pandas as pd \n",
    "import numpy as np \n"
   ]
  },
  {
   "cell_type": "code",
   "execution_count": 2,
   "metadata": {},
   "outputs": [],
   "source": [
    "from plotly import __version__\n",
    "import cufflinks as cf"
   ]
  },
  {
   "cell_type": "code",
   "execution_count": 3,
   "metadata": {},
   "outputs": [],
   "source": [
    "from plotly.offline import download_plotlyjs,init_notebook_mode,plot,iplot"
   ]
  },
  {
   "cell_type": "code",
   "execution_count": 4,
   "metadata": {},
   "outputs": [
    {
     "data": {
      "text/html": [
       "        <script type=\"text/javascript\">\n",
       "        window.PlotlyConfig = {MathJaxConfig: 'local'};\n",
       "        if (window.MathJax && window.MathJax.Hub && window.MathJax.Hub.Config) {window.MathJax.Hub.Config({SVG: {font: \"STIX-Web\"}});}\n",
       "        if (typeof require !== 'undefined') {\n",
       "        require.undef(\"plotly\");\n",
       "        requirejs.config({\n",
       "            paths: {\n",
       "                'plotly': ['https://cdn.plot.ly/plotly-2.12.1.min']\n",
       "            }\n",
       "        });\n",
       "        require(['plotly'], function(Plotly) {\n",
       "            window._Plotly = Plotly;\n",
       "        });\n",
       "        }\n",
       "        </script>\n",
       "        "
      ]
     },
     "metadata": {},
     "output_type": "display_data"
    }
   ],
   "source": [
    "cf.go_offline()"
   ]
  },
  {
   "cell_type": "code",
   "execution_count": 5,
   "metadata": {},
   "outputs": [
    {
     "data": {
      "text/html": [
       "        <script type=\"text/javascript\">\n",
       "        window.PlotlyConfig = {MathJaxConfig: 'local'};\n",
       "        if (window.MathJax && window.MathJax.Hub && window.MathJax.Hub.Config) {window.MathJax.Hub.Config({SVG: {font: \"STIX-Web\"}});}\n",
       "        if (typeof require !== 'undefined') {\n",
       "        require.undef(\"plotly\");\n",
       "        requirejs.config({\n",
       "            paths: {\n",
       "                'plotly': ['https://cdn.plot.ly/plotly-2.12.1.min']\n",
       "            }\n",
       "        });\n",
       "        require(['plotly'], function(Plotly) {\n",
       "            window._Plotly = Plotly;\n",
       "        });\n",
       "        }\n",
       "        </script>\n",
       "        "
      ]
     },
     "metadata": {},
     "output_type": "display_data"
    }
   ],
   "source": [
    "init_notebook_mode(connected=True)"
   ]
  },
  {
   "cell_type": "code",
   "execution_count": 6,
   "metadata": {},
   "outputs": [
    {
     "data": {
      "text/html": [
       "        <script type=\"text/javascript\">\n",
       "        window.PlotlyConfig = {MathJaxConfig: 'local'};\n",
       "        if (window.MathJax && window.MathJax.Hub && window.MathJax.Hub.Config) {window.MathJax.Hub.Config({SVG: {font: \"STIX-Web\"}});}\n",
       "        if (typeof require !== 'undefined') {\n",
       "        require.undef(\"plotly\");\n",
       "        requirejs.config({\n",
       "            paths: {\n",
       "                'plotly': ['https://cdn.plot.ly/plotly-2.12.1.min']\n",
       "            }\n",
       "        });\n",
       "        require(['plotly'], function(Plotly) {\n",
       "            window._Plotly = Plotly;\n",
       "        });\n",
       "        }\n",
       "        </script>\n",
       "        "
      ]
     },
     "metadata": {},
     "output_type": "display_data"
    }
   ],
   "source": [
    "cf.go_offline()"
   ]
  },
  {
   "cell_type": "code",
   "execution_count": 7,
   "metadata": {},
   "outputs": [],
   "source": [
    "#DATA TIME\n",
    "df = pd.DataFrame(np.random.randn(100, 4),columns='A B C D'.split())"
   ]
  },
  {
   "cell_type": "code",
   "execution_count": 8,
   "metadata": {},
   "outputs": [],
   "source": [
    "df2 = pd.DataFrame({'Category':['A','B','C'],'Values':[32,43,50]})"
   ]
  },
  {
   "cell_type": "code",
   "execution_count": 9,
   "metadata": {},
   "outputs": [
    {
     "data": {
      "text/html": [
       "<div>\n",
       "<style scoped>\n",
       "    .dataframe tbody tr th:only-of-type {\n",
       "        vertical-align: middle;\n",
       "    }\n",
       "\n",
       "    .dataframe tbody tr th {\n",
       "        vertical-align: top;\n",
       "    }\n",
       "\n",
       "    .dataframe thead th {\n",
       "        text-align: right;\n",
       "    }\n",
       "</style>\n",
       "<table border=\"1\" class=\"dataframe\">\n",
       "  <thead>\n",
       "    <tr style=\"text-align: right;\">\n",
       "      <th></th>\n",
       "      <th>Category</th>\n",
       "      <th>Values</th>\n",
       "    </tr>\n",
       "  </thead>\n",
       "  <tbody>\n",
       "    <tr>\n",
       "      <th>0</th>\n",
       "      <td>A</td>\n",
       "      <td>32</td>\n",
       "    </tr>\n",
       "    <tr>\n",
       "      <th>1</th>\n",
       "      <td>B</td>\n",
       "      <td>43</td>\n",
       "    </tr>\n",
       "    <tr>\n",
       "      <th>2</th>\n",
       "      <td>C</td>\n",
       "      <td>50</td>\n",
       "    </tr>\n",
       "  </tbody>\n",
       "</table>\n",
       "</div>"
      ],
      "text/plain": [
       "  Category  Values\n",
       "0        A      32\n",
       "1        B      43\n",
       "2        C      50"
      ]
     },
     "execution_count": 9,
     "metadata": {},
     "output_type": "execute_result"
    }
   ],
   "source": [
    "df2"
   ]
  },
  {
   "cell_type": "code",
   "execution_count": 10,
   "metadata": {},
   "outputs": [
    {
     "data": {
      "text/html": [
       "<div>\n",
       "<style scoped>\n",
       "    .dataframe tbody tr th:only-of-type {\n",
       "        vertical-align: middle;\n",
       "    }\n",
       "\n",
       "    .dataframe tbody tr th {\n",
       "        vertical-align: top;\n",
       "    }\n",
       "\n",
       "    .dataframe thead th {\n",
       "        text-align: right;\n",
       "    }\n",
       "</style>\n",
       "<table border=\"1\" class=\"dataframe\">\n",
       "  <thead>\n",
       "    <tr style=\"text-align: right;\">\n",
       "      <th></th>\n",
       "      <th>A</th>\n",
       "      <th>B</th>\n",
       "      <th>C</th>\n",
       "      <th>D</th>\n",
       "    </tr>\n",
       "  </thead>\n",
       "  <tbody>\n",
       "    <tr>\n",
       "      <th>0</th>\n",
       "      <td>0.308832</td>\n",
       "      <td>-0.451691</td>\n",
       "      <td>-1.064602</td>\n",
       "      <td>0.735999</td>\n",
       "    </tr>\n",
       "    <tr>\n",
       "      <th>1</th>\n",
       "      <td>-0.318102</td>\n",
       "      <td>1.911298</td>\n",
       "      <td>0.332192</td>\n",
       "      <td>-0.175571</td>\n",
       "    </tr>\n",
       "    <tr>\n",
       "      <th>2</th>\n",
       "      <td>-0.325564</td>\n",
       "      <td>0.016278</td>\n",
       "      <td>0.609057</td>\n",
       "      <td>-1.078787</td>\n",
       "    </tr>\n",
       "    <tr>\n",
       "      <th>3</th>\n",
       "      <td>-0.192361</td>\n",
       "      <td>-1.561251</td>\n",
       "      <td>-0.676857</td>\n",
       "      <td>0.603552</td>\n",
       "    </tr>\n",
       "    <tr>\n",
       "      <th>4</th>\n",
       "      <td>-0.317058</td>\n",
       "      <td>1.274814</td>\n",
       "      <td>-1.071852</td>\n",
       "      <td>0.181680</td>\n",
       "    </tr>\n",
       "    <tr>\n",
       "      <th>...</th>\n",
       "      <td>...</td>\n",
       "      <td>...</td>\n",
       "      <td>...</td>\n",
       "      <td>...</td>\n",
       "    </tr>\n",
       "    <tr>\n",
       "      <th>95</th>\n",
       "      <td>-0.588687</td>\n",
       "      <td>1.054428</td>\n",
       "      <td>1.619585</td>\n",
       "      <td>-1.813551</td>\n",
       "    </tr>\n",
       "    <tr>\n",
       "      <th>96</th>\n",
       "      <td>0.810020</td>\n",
       "      <td>-1.803051</td>\n",
       "      <td>-1.083943</td>\n",
       "      <td>-0.244037</td>\n",
       "    </tr>\n",
       "    <tr>\n",
       "      <th>97</th>\n",
       "      <td>-1.155642</td>\n",
       "      <td>-0.348151</td>\n",
       "      <td>-1.596912</td>\n",
       "      <td>0.395192</td>\n",
       "    </tr>\n",
       "    <tr>\n",
       "      <th>98</th>\n",
       "      <td>-0.079903</td>\n",
       "      <td>0.336482</td>\n",
       "      <td>0.320761</td>\n",
       "      <td>0.664158</td>\n",
       "    </tr>\n",
       "    <tr>\n",
       "      <th>99</th>\n",
       "      <td>-0.690156</td>\n",
       "      <td>-1.050474</td>\n",
       "      <td>-0.410817</td>\n",
       "      <td>0.282083</td>\n",
       "    </tr>\n",
       "  </tbody>\n",
       "</table>\n",
       "<p>100 rows × 4 columns</p>\n",
       "</div>"
      ],
      "text/plain": [
       "           A         B         C         D\n",
       "0   0.308832 -0.451691 -1.064602  0.735999\n",
       "1  -0.318102  1.911298  0.332192 -0.175571\n",
       "2  -0.325564  0.016278  0.609057 -1.078787\n",
       "3  -0.192361 -1.561251 -0.676857  0.603552\n",
       "4  -0.317058  1.274814 -1.071852  0.181680\n",
       "..       ...       ...       ...       ...\n",
       "95 -0.588687  1.054428  1.619585 -1.813551\n",
       "96  0.810020 -1.803051 -1.083943 -0.244037\n",
       "97 -1.155642 -0.348151 -1.596912  0.395192\n",
       "98 -0.079903  0.336482  0.320761  0.664158\n",
       "99 -0.690156 -1.050474 -0.410817  0.282083\n",
       "\n",
       "[100 rows x 4 columns]"
      ]
     },
     "execution_count": 10,
     "metadata": {},
     "output_type": "execute_result"
    }
   ],
   "source": [
    "df"
   ]
  },
  {
   "cell_type": "code",
   "execution_count": 12,
   "metadata": {},
   "outputs": [
    {
     "data": {
      "application/vnd.plotly.v1+json": {
       "config": {
        "linkText": "Export to plot.ly",
        "plotlyServerURL": "https://plot.ly",
        "showLink": true
       },
       "data": [
        {
         "line": {
          "color": "rgba(255, 153, 51, 1.0)",
          "dash": "solid",
          "shape": "linear",
          "width": 1.3
         },
         "marker": {
          "size": 10,
          "symbol": "circle"
         },
         "mode": "markers",
         "name": "B",
         "text": "",
         "type": "scatter",
         "x": [
          0.3088324856892706,
          -0.3181018657763986,
          -0.3255636066105028,
          -0.19236064939448894,
          -0.31705847833897705,
          -0.3637990623796339,
          1.7381070856119816,
          -1.6365618661350712,
          1.207602245302151,
          0.5795086591513585,
          0.3870112639907086,
          -0.10402522952978051,
          0.39876508426736096,
          0.058877024328745,
          2.046305095259285,
          -0.06205058952363449,
          -0.5088513253753721,
          1.7060136114179525,
          -0.832794298194402,
          0.740658198328443,
          0.9254554710965845,
          -0.5070103677145493,
          -1.4570107579482992,
          -0.24365430134011537,
          1.1676646218937359,
          -0.311995182369368,
          0.7109016891661052,
          -1.0364988054373834,
          -1.09996944787571,
          -0.12594993434748722,
          1.7722816783788544,
          -0.3997032204298883,
          -0.9323688783891173,
          -0.8890050506577837,
          -1.2253267838890964,
          -0.9006985743648436,
          -0.5349749662875761,
          0.8166480990698793,
          -0.7104178965845112,
          -0.3457486752396018,
          2.959469692485582,
          0.23534877803905693,
          0.966630327587809,
          2.4381924323134023,
          -0.30413100985165104,
          -0.05444955774883802,
          0.878998226071373,
          -1.1152616224785363,
          -0.6218799711578149,
          -1.4821637745829594,
          -0.9646987993706798,
          -0.18625141720567243,
          1.082688995662202,
          0.1551996500811465,
          0.6927369140060691,
          -0.4943669432520142,
          0.4662627587205149,
          1.1358562871588116,
          0.013461325519304344,
          0.7146192694121911,
          0.49813190363407545,
          -0.36725654791870793,
          -1.3353814443706784,
          2.5521770370452495,
          -1.4182599967967349,
          -0.43289339497198265,
          1.0100491406976808,
          0.016329224880536244,
          1.3886393871899374,
          0.9613206589194162,
          -1.5355067481574007,
          1.184697490716947,
          2.3216104010354237,
          -2.0445540506204263,
          -0.5871771419671978,
          1.2734450444863539,
          1.4195058858709837,
          0.8390940119444251,
          0.13116077472428445,
          -0.06590812174109323,
          -0.6968929236770744,
          -1.1389255549844535,
          -0.04754382317161936,
          -0.2248628873615001,
          0.7753734423955779,
          -0.18074714231253064,
          -0.8355014732267162,
          0.8467980360783912,
          0.38239269938737475,
          -0.9905196586110199,
          0.9499548630576228,
          -0.6045266692700999,
          1.261098538014877,
          -1.9887055698509426,
          0.8438845678507609,
          -0.5886865644903774,
          0.8100195951040792,
          -1.1556415592736307,
          -0.07990340462631895,
          -0.6901560499125757
         ],
         "y": [
          -0.4516907935643547,
          1.9112976940760542,
          0.016278191613616856,
          -1.5612510125262646,
          1.274813950179761,
          -1.6126805385966763,
          -2.2821957251904537,
          0.2089866829343159,
          -0.8429670959668712,
          -0.1760004882461311,
          -0.28365499381420106,
          -0.33009201915794384,
          1.073630642032631,
          -0.6400132697192715,
          -1.6190174132021233,
          -0.8066969102906225,
          -0.7976712506251615,
          -0.04786740123194217,
          0.0036016919413261912,
          0.9796573940454502,
          0.41890900093567296,
          -0.4651558301356142,
          0.3967128531212736,
          0.3647102645827066,
          2.3635634839500868,
          1.690659593065594,
          -0.12958185421349058,
          1.1451978672201555,
          -0.5445427235078433,
          0.23184905659203003,
          -0.661231661728734,
          -1.3468812161015062,
          -0.12597790256040473,
          -0.7661206376129771,
          0.6726122485131029,
          0.8890951709181736,
          0.07540556913641484,
          -0.5375263337691439,
          0.9102631893960552,
          -1.5706703434768574,
          -0.06651099933796677,
          1.9575820573574008,
          0.5984037057002887,
          -0.29279137068526834,
          0.8608585157666441,
          -0.5722289975411223,
          0.2167161010616931,
          -0.07729590112916514,
          -0.11686005672031406,
          0.5093443084130719,
          -0.9960610113310893,
          -1.7664698608708074,
          0.8343471753750914,
          1.4158114289369463,
          -1.3956435087990042,
          0.05322552854207203,
          -0.9523509773763503,
          -0.6663310368452604,
          -1.0650812212374816,
          -1.0140209385032657,
          0.11207349468470248,
          -0.5104156544641547,
          1.234706908081769,
          2.0556699493257153,
          0.535280282309938,
          0.22644574445244361,
          -1.0778958754538086,
          0.49053867687206737,
          -1.0182020417594757,
          0.2268549447273603,
          -1.2811762721246358,
          -1.9424396249265408,
          0.2047971602644152,
          0.6420282395857231,
          -1.051774222557932,
          -0.38613327141997705,
          0.6988444446067775,
          0.22176227835569992,
          -1.3850991419989536,
          3.170042786967088,
          0.9760411158462163,
          0.9843606399408203,
          0.21425644495420632,
          -0.1454975927098459,
          1.1360264375085198,
          1.4965769407068956,
          2.0212430515195114,
          0.6535613771609278,
          -0.20778690624197377,
          0.05133141205531726,
          1.5951808004389887,
          0.024862938608334953,
          -1.0341191496383413,
          -0.6309259671022158,
          1.8896170951490574,
          1.0544275134607926,
          -1.803050885322603,
          -0.3481509866491919,
          0.3364817028101488,
          -1.0504744495799234
         ]
        }
       ],
       "layout": {
        "legend": {
         "bgcolor": "#F5F6F9",
         "font": {
          "color": "#4D5663"
         }
        },
        "paper_bgcolor": "#F5F6F9",
        "plot_bgcolor": "#F5F6F9",
        "template": {
         "data": {
          "bar": [
           {
            "error_x": {
             "color": "#2a3f5f"
            },
            "error_y": {
             "color": "#2a3f5f"
            },
            "marker": {
             "line": {
              "color": "#E5ECF6",
              "width": 0.5
             },
             "pattern": {
              "fillmode": "overlay",
              "size": 10,
              "solidity": 0.2
             }
            },
            "type": "bar"
           }
          ],
          "barpolar": [
           {
            "marker": {
             "line": {
              "color": "#E5ECF6",
              "width": 0.5
             },
             "pattern": {
              "fillmode": "overlay",
              "size": 10,
              "solidity": 0.2
             }
            },
            "type": "barpolar"
           }
          ],
          "carpet": [
           {
            "aaxis": {
             "endlinecolor": "#2a3f5f",
             "gridcolor": "white",
             "linecolor": "white",
             "minorgridcolor": "white",
             "startlinecolor": "#2a3f5f"
            },
            "baxis": {
             "endlinecolor": "#2a3f5f",
             "gridcolor": "white",
             "linecolor": "white",
             "minorgridcolor": "white",
             "startlinecolor": "#2a3f5f"
            },
            "type": "carpet"
           }
          ],
          "choropleth": [
           {
            "colorbar": {
             "outlinewidth": 0,
             "ticks": ""
            },
            "type": "choropleth"
           }
          ],
          "contour": [
           {
            "colorbar": {
             "outlinewidth": 0,
             "ticks": ""
            },
            "colorscale": [
             [
              0,
              "#0d0887"
             ],
             [
              0.1111111111111111,
              "#46039f"
             ],
             [
              0.2222222222222222,
              "#7201a8"
             ],
             [
              0.3333333333333333,
              "#9c179e"
             ],
             [
              0.4444444444444444,
              "#bd3786"
             ],
             [
              0.5555555555555556,
              "#d8576b"
             ],
             [
              0.6666666666666666,
              "#ed7953"
             ],
             [
              0.7777777777777778,
              "#fb9f3a"
             ],
             [
              0.8888888888888888,
              "#fdca26"
             ],
             [
              1,
              "#f0f921"
             ]
            ],
            "type": "contour"
           }
          ],
          "contourcarpet": [
           {
            "colorbar": {
             "outlinewidth": 0,
             "ticks": ""
            },
            "type": "contourcarpet"
           }
          ],
          "heatmap": [
           {
            "colorbar": {
             "outlinewidth": 0,
             "ticks": ""
            },
            "colorscale": [
             [
              0,
              "#0d0887"
             ],
             [
              0.1111111111111111,
              "#46039f"
             ],
             [
              0.2222222222222222,
              "#7201a8"
             ],
             [
              0.3333333333333333,
              "#9c179e"
             ],
             [
              0.4444444444444444,
              "#bd3786"
             ],
             [
              0.5555555555555556,
              "#d8576b"
             ],
             [
              0.6666666666666666,
              "#ed7953"
             ],
             [
              0.7777777777777778,
              "#fb9f3a"
             ],
             [
              0.8888888888888888,
              "#fdca26"
             ],
             [
              1,
              "#f0f921"
             ]
            ],
            "type": "heatmap"
           }
          ],
          "heatmapgl": [
           {
            "colorbar": {
             "outlinewidth": 0,
             "ticks": ""
            },
            "colorscale": [
             [
              0,
              "#0d0887"
             ],
             [
              0.1111111111111111,
              "#46039f"
             ],
             [
              0.2222222222222222,
              "#7201a8"
             ],
             [
              0.3333333333333333,
              "#9c179e"
             ],
             [
              0.4444444444444444,
              "#bd3786"
             ],
             [
              0.5555555555555556,
              "#d8576b"
             ],
             [
              0.6666666666666666,
              "#ed7953"
             ],
             [
              0.7777777777777778,
              "#fb9f3a"
             ],
             [
              0.8888888888888888,
              "#fdca26"
             ],
             [
              1,
              "#f0f921"
             ]
            ],
            "type": "heatmapgl"
           }
          ],
          "histogram": [
           {
            "marker": {
             "pattern": {
              "fillmode": "overlay",
              "size": 10,
              "solidity": 0.2
             }
            },
            "type": "histogram"
           }
          ],
          "histogram2d": [
           {
            "colorbar": {
             "outlinewidth": 0,
             "ticks": ""
            },
            "colorscale": [
             [
              0,
              "#0d0887"
             ],
             [
              0.1111111111111111,
              "#46039f"
             ],
             [
              0.2222222222222222,
              "#7201a8"
             ],
             [
              0.3333333333333333,
              "#9c179e"
             ],
             [
              0.4444444444444444,
              "#bd3786"
             ],
             [
              0.5555555555555556,
              "#d8576b"
             ],
             [
              0.6666666666666666,
              "#ed7953"
             ],
             [
              0.7777777777777778,
              "#fb9f3a"
             ],
             [
              0.8888888888888888,
              "#fdca26"
             ],
             [
              1,
              "#f0f921"
             ]
            ],
            "type": "histogram2d"
           }
          ],
          "histogram2dcontour": [
           {
            "colorbar": {
             "outlinewidth": 0,
             "ticks": ""
            },
            "colorscale": [
             [
              0,
              "#0d0887"
             ],
             [
              0.1111111111111111,
              "#46039f"
             ],
             [
              0.2222222222222222,
              "#7201a8"
             ],
             [
              0.3333333333333333,
              "#9c179e"
             ],
             [
              0.4444444444444444,
              "#bd3786"
             ],
             [
              0.5555555555555556,
              "#d8576b"
             ],
             [
              0.6666666666666666,
              "#ed7953"
             ],
             [
              0.7777777777777778,
              "#fb9f3a"
             ],
             [
              0.8888888888888888,
              "#fdca26"
             ],
             [
              1,
              "#f0f921"
             ]
            ],
            "type": "histogram2dcontour"
           }
          ],
          "mesh3d": [
           {
            "colorbar": {
             "outlinewidth": 0,
             "ticks": ""
            },
            "type": "mesh3d"
           }
          ],
          "parcoords": [
           {
            "line": {
             "colorbar": {
              "outlinewidth": 0,
              "ticks": ""
             }
            },
            "type": "parcoords"
           }
          ],
          "pie": [
           {
            "automargin": true,
            "type": "pie"
           }
          ],
          "scatter": [
           {
            "fillpattern": {
             "fillmode": "overlay",
             "size": 10,
             "solidity": 0.2
            },
            "type": "scatter"
           }
          ],
          "scatter3d": [
           {
            "line": {
             "colorbar": {
              "outlinewidth": 0,
              "ticks": ""
             }
            },
            "marker": {
             "colorbar": {
              "outlinewidth": 0,
              "ticks": ""
             }
            },
            "type": "scatter3d"
           }
          ],
          "scattercarpet": [
           {
            "marker": {
             "colorbar": {
              "outlinewidth": 0,
              "ticks": ""
             }
            },
            "type": "scattercarpet"
           }
          ],
          "scattergeo": [
           {
            "marker": {
             "colorbar": {
              "outlinewidth": 0,
              "ticks": ""
             }
            },
            "type": "scattergeo"
           }
          ],
          "scattergl": [
           {
            "marker": {
             "colorbar": {
              "outlinewidth": 0,
              "ticks": ""
             }
            },
            "type": "scattergl"
           }
          ],
          "scattermapbox": [
           {
            "marker": {
             "colorbar": {
              "outlinewidth": 0,
              "ticks": ""
             }
            },
            "type": "scattermapbox"
           }
          ],
          "scatterpolar": [
           {
            "marker": {
             "colorbar": {
              "outlinewidth": 0,
              "ticks": ""
             }
            },
            "type": "scatterpolar"
           }
          ],
          "scatterpolargl": [
           {
            "marker": {
             "colorbar": {
              "outlinewidth": 0,
              "ticks": ""
             }
            },
            "type": "scatterpolargl"
           }
          ],
          "scatterternary": [
           {
            "marker": {
             "colorbar": {
              "outlinewidth": 0,
              "ticks": ""
             }
            },
            "type": "scatterternary"
           }
          ],
          "surface": [
           {
            "colorbar": {
             "outlinewidth": 0,
             "ticks": ""
            },
            "colorscale": [
             [
              0,
              "#0d0887"
             ],
             [
              0.1111111111111111,
              "#46039f"
             ],
             [
              0.2222222222222222,
              "#7201a8"
             ],
             [
              0.3333333333333333,
              "#9c179e"
             ],
             [
              0.4444444444444444,
              "#bd3786"
             ],
             [
              0.5555555555555556,
              "#d8576b"
             ],
             [
              0.6666666666666666,
              "#ed7953"
             ],
             [
              0.7777777777777778,
              "#fb9f3a"
             ],
             [
              0.8888888888888888,
              "#fdca26"
             ],
             [
              1,
              "#f0f921"
             ]
            ],
            "type": "surface"
           }
          ],
          "table": [
           {
            "cells": {
             "fill": {
              "color": "#EBF0F8"
             },
             "line": {
              "color": "white"
             }
            },
            "header": {
             "fill": {
              "color": "#C8D4E3"
             },
             "line": {
              "color": "white"
             }
            },
            "type": "table"
           }
          ]
         },
         "layout": {
          "annotationdefaults": {
           "arrowcolor": "#2a3f5f",
           "arrowhead": 0,
           "arrowwidth": 1
          },
          "autotypenumbers": "strict",
          "coloraxis": {
           "colorbar": {
            "outlinewidth": 0,
            "ticks": ""
           }
          },
          "colorscale": {
           "diverging": [
            [
             0,
             "#8e0152"
            ],
            [
             0.1,
             "#c51b7d"
            ],
            [
             0.2,
             "#de77ae"
            ],
            [
             0.3,
             "#f1b6da"
            ],
            [
             0.4,
             "#fde0ef"
            ],
            [
             0.5,
             "#f7f7f7"
            ],
            [
             0.6,
             "#e6f5d0"
            ],
            [
             0.7,
             "#b8e186"
            ],
            [
             0.8,
             "#7fbc41"
            ],
            [
             0.9,
             "#4d9221"
            ],
            [
             1,
             "#276419"
            ]
           ],
           "sequential": [
            [
             0,
             "#0d0887"
            ],
            [
             0.1111111111111111,
             "#46039f"
            ],
            [
             0.2222222222222222,
             "#7201a8"
            ],
            [
             0.3333333333333333,
             "#9c179e"
            ],
            [
             0.4444444444444444,
             "#bd3786"
            ],
            [
             0.5555555555555556,
             "#d8576b"
            ],
            [
             0.6666666666666666,
             "#ed7953"
            ],
            [
             0.7777777777777778,
             "#fb9f3a"
            ],
            [
             0.8888888888888888,
             "#fdca26"
            ],
            [
             1,
             "#f0f921"
            ]
           ],
           "sequentialminus": [
            [
             0,
             "#0d0887"
            ],
            [
             0.1111111111111111,
             "#46039f"
            ],
            [
             0.2222222222222222,
             "#7201a8"
            ],
            [
             0.3333333333333333,
             "#9c179e"
            ],
            [
             0.4444444444444444,
             "#bd3786"
            ],
            [
             0.5555555555555556,
             "#d8576b"
            ],
            [
             0.6666666666666666,
             "#ed7953"
            ],
            [
             0.7777777777777778,
             "#fb9f3a"
            ],
            [
             0.8888888888888888,
             "#fdca26"
            ],
            [
             1,
             "#f0f921"
            ]
           ]
          },
          "colorway": [
           "#636efa",
           "#EF553B",
           "#00cc96",
           "#ab63fa",
           "#FFA15A",
           "#19d3f3",
           "#FF6692",
           "#B6E880",
           "#FF97FF",
           "#FECB52"
          ],
          "font": {
           "color": "#2a3f5f"
          },
          "geo": {
           "bgcolor": "white",
           "lakecolor": "white",
           "landcolor": "#E5ECF6",
           "showlakes": true,
           "showland": true,
           "subunitcolor": "white"
          },
          "hoverlabel": {
           "align": "left"
          },
          "hovermode": "closest",
          "mapbox": {
           "style": "light"
          },
          "paper_bgcolor": "white",
          "plot_bgcolor": "#E5ECF6",
          "polar": {
           "angularaxis": {
            "gridcolor": "white",
            "linecolor": "white",
            "ticks": ""
           },
           "bgcolor": "#E5ECF6",
           "radialaxis": {
            "gridcolor": "white",
            "linecolor": "white",
            "ticks": ""
           }
          },
          "scene": {
           "xaxis": {
            "backgroundcolor": "#E5ECF6",
            "gridcolor": "white",
            "gridwidth": 2,
            "linecolor": "white",
            "showbackground": true,
            "ticks": "",
            "zerolinecolor": "white"
           },
           "yaxis": {
            "backgroundcolor": "#E5ECF6",
            "gridcolor": "white",
            "gridwidth": 2,
            "linecolor": "white",
            "showbackground": true,
            "ticks": "",
            "zerolinecolor": "white"
           },
           "zaxis": {
            "backgroundcolor": "#E5ECF6",
            "gridcolor": "white",
            "gridwidth": 2,
            "linecolor": "white",
            "showbackground": true,
            "ticks": "",
            "zerolinecolor": "white"
           }
          },
          "shapedefaults": {
           "line": {
            "color": "#2a3f5f"
           }
          },
          "ternary": {
           "aaxis": {
            "gridcolor": "white",
            "linecolor": "white",
            "ticks": ""
           },
           "baxis": {
            "gridcolor": "white",
            "linecolor": "white",
            "ticks": ""
           },
           "bgcolor": "#E5ECF6",
           "caxis": {
            "gridcolor": "white",
            "linecolor": "white",
            "ticks": ""
           }
          },
          "title": {
           "x": 0.05
          },
          "xaxis": {
           "automargin": true,
           "gridcolor": "white",
           "linecolor": "white",
           "ticks": "",
           "title": {
            "standoff": 15
           },
           "zerolinecolor": "white",
           "zerolinewidth": 2
          },
          "yaxis": {
           "automargin": true,
           "gridcolor": "white",
           "linecolor": "white",
           "ticks": "",
           "title": {
            "standoff": 15
           },
           "zerolinecolor": "white",
           "zerolinewidth": 2
          }
         }
        },
        "title": {
         "font": {
          "color": "#4D5663"
         }
        },
        "xaxis": {
         "gridcolor": "#E1E5ED",
         "showgrid": true,
         "tickfont": {
          "color": "#4D5663"
         },
         "title": {
          "font": {
           "color": "#4D5663"
          },
          "text": ""
         },
         "zerolinecolor": "#E1E5ED"
        },
        "yaxis": {
         "gridcolor": "#E1E5ED",
         "showgrid": true,
         "tickfont": {
          "color": "#4D5663"
         },
         "title": {
          "font": {
           "color": "#4D5663"
          },
          "text": ""
         },
         "zerolinecolor": "#E1E5ED"
        }
       }
      },
      "text/html": [
       "<div>                            <div id=\"c4331f4e-7c73-40d8-a25d-17d3258fbb3c\" class=\"plotly-graph-div\" style=\"height:525px; width:100%;\"></div>            <script type=\"text/javascript\">                require([\"plotly\"], function(Plotly) {                    window.PLOTLYENV=window.PLOTLYENV || {};\n",
       "                    window.PLOTLYENV.BASE_URL='https://plot.ly';                                    if (document.getElementById(\"c4331f4e-7c73-40d8-a25d-17d3258fbb3c\")) {                    Plotly.newPlot(                        \"c4331f4e-7c73-40d8-a25d-17d3258fbb3c\",                        [{\"line\":{\"color\":\"rgba(255, 153, 51, 1.0)\",\"dash\":\"solid\",\"shape\":\"linear\",\"width\":1.3},\"marker\":{\"size\":10,\"symbol\":\"circle\"},\"mode\":\"markers\",\"name\":\"B\",\"text\":\"\",\"x\":[0.3088324856892706,-0.3181018657763986,-0.3255636066105028,-0.19236064939448894,-0.31705847833897705,-0.3637990623796339,1.7381070856119816,-1.6365618661350712,1.207602245302151,0.5795086591513585,0.3870112639907086,-0.10402522952978051,0.39876508426736096,0.058877024328745,2.046305095259285,-0.06205058952363449,-0.5088513253753721,1.7060136114179525,-0.832794298194402,0.740658198328443,0.9254554710965845,-0.5070103677145493,-1.4570107579482992,-0.24365430134011537,1.1676646218937359,-0.311995182369368,0.7109016891661052,-1.0364988054373834,-1.09996944787571,-0.12594993434748722,1.7722816783788544,-0.3997032204298883,-0.9323688783891173,-0.8890050506577837,-1.2253267838890964,-0.9006985743648436,-0.5349749662875761,0.8166480990698793,-0.7104178965845112,-0.3457486752396018,2.959469692485582,0.23534877803905693,0.966630327587809,2.4381924323134023,-0.30413100985165104,-0.05444955774883802,0.878998226071373,-1.1152616224785363,-0.6218799711578149,-1.4821637745829594,-0.9646987993706798,-0.18625141720567243,1.082688995662202,0.1551996500811465,0.6927369140060691,-0.4943669432520142,0.4662627587205149,1.1358562871588116,0.013461325519304344,0.7146192694121911,0.49813190363407545,-0.36725654791870793,-1.3353814443706784,2.5521770370452495,-1.4182599967967349,-0.43289339497198265,1.0100491406976808,0.016329224880536244,1.3886393871899374,0.9613206589194162,-1.5355067481574007,1.184697490716947,2.3216104010354237,-2.0445540506204263,-0.5871771419671978,1.2734450444863539,1.4195058858709837,0.8390940119444251,0.13116077472428445,-0.06590812174109323,-0.6968929236770744,-1.1389255549844535,-0.04754382317161936,-0.2248628873615001,0.7753734423955779,-0.18074714231253064,-0.8355014732267162,0.8467980360783912,0.38239269938737475,-0.9905196586110199,0.9499548630576228,-0.6045266692700999,1.261098538014877,-1.9887055698509426,0.8438845678507609,-0.5886865644903774,0.8100195951040792,-1.1556415592736307,-0.07990340462631895,-0.6901560499125757],\"y\":[-0.4516907935643547,1.9112976940760542,0.016278191613616856,-1.5612510125262646,1.274813950179761,-1.6126805385966763,-2.2821957251904537,0.2089866829343159,-0.8429670959668712,-0.1760004882461311,-0.28365499381420106,-0.33009201915794384,1.073630642032631,-0.6400132697192715,-1.6190174132021233,-0.8066969102906225,-0.7976712506251615,-0.04786740123194217,0.0036016919413261912,0.9796573940454502,0.41890900093567296,-0.4651558301356142,0.3967128531212736,0.3647102645827066,2.3635634839500868,1.690659593065594,-0.12958185421349058,1.1451978672201555,-0.5445427235078433,0.23184905659203003,-0.661231661728734,-1.3468812161015062,-0.12597790256040473,-0.7661206376129771,0.6726122485131029,0.8890951709181736,0.07540556913641484,-0.5375263337691439,0.9102631893960552,-1.5706703434768574,-0.06651099933796677,1.9575820573574008,0.5984037057002887,-0.29279137068526834,0.8608585157666441,-0.5722289975411223,0.2167161010616931,-0.07729590112916514,-0.11686005672031406,0.5093443084130719,-0.9960610113310893,-1.7664698608708074,0.8343471753750914,1.4158114289369463,-1.3956435087990042,0.05322552854207203,-0.9523509773763503,-0.6663310368452604,-1.0650812212374816,-1.0140209385032657,0.11207349468470248,-0.5104156544641547,1.234706908081769,2.0556699493257153,0.535280282309938,0.22644574445244361,-1.0778958754538086,0.49053867687206737,-1.0182020417594757,0.2268549447273603,-1.2811762721246358,-1.9424396249265408,0.2047971602644152,0.6420282395857231,-1.051774222557932,-0.38613327141997705,0.6988444446067775,0.22176227835569992,-1.3850991419989536,3.170042786967088,0.9760411158462163,0.9843606399408203,0.21425644495420632,-0.1454975927098459,1.1360264375085198,1.4965769407068956,2.0212430515195114,0.6535613771609278,-0.20778690624197377,0.05133141205531726,1.5951808004389887,0.024862938608334953,-1.0341191496383413,-0.6309259671022158,1.8896170951490574,1.0544275134607926,-1.803050885322603,-0.3481509866491919,0.3364817028101488,-1.0504744495799234],\"type\":\"scatter\"}],                        {\"legend\":{\"bgcolor\":\"#F5F6F9\",\"font\":{\"color\":\"#4D5663\"}},\"paper_bgcolor\":\"#F5F6F9\",\"plot_bgcolor\":\"#F5F6F9\",\"template\":{\"data\":{\"barpolar\":[{\"marker\":{\"line\":{\"color\":\"#E5ECF6\",\"width\":0.5},\"pattern\":{\"fillmode\":\"overlay\",\"size\":10,\"solidity\":0.2}},\"type\":\"barpolar\"}],\"bar\":[{\"error_x\":{\"color\":\"#2a3f5f\"},\"error_y\":{\"color\":\"#2a3f5f\"},\"marker\":{\"line\":{\"color\":\"#E5ECF6\",\"width\":0.5},\"pattern\":{\"fillmode\":\"overlay\",\"size\":10,\"solidity\":0.2}},\"type\":\"bar\"}],\"carpet\":[{\"aaxis\":{\"endlinecolor\":\"#2a3f5f\",\"gridcolor\":\"white\",\"linecolor\":\"white\",\"minorgridcolor\":\"white\",\"startlinecolor\":\"#2a3f5f\"},\"baxis\":{\"endlinecolor\":\"#2a3f5f\",\"gridcolor\":\"white\",\"linecolor\":\"white\",\"minorgridcolor\":\"white\",\"startlinecolor\":\"#2a3f5f\"},\"type\":\"carpet\"}],\"choropleth\":[{\"colorbar\":{\"outlinewidth\":0,\"ticks\":\"\"},\"type\":\"choropleth\"}],\"contourcarpet\":[{\"colorbar\":{\"outlinewidth\":0,\"ticks\":\"\"},\"type\":\"contourcarpet\"}],\"contour\":[{\"colorbar\":{\"outlinewidth\":0,\"ticks\":\"\"},\"colorscale\":[[0.0,\"#0d0887\"],[0.1111111111111111,\"#46039f\"],[0.2222222222222222,\"#7201a8\"],[0.3333333333333333,\"#9c179e\"],[0.4444444444444444,\"#bd3786\"],[0.5555555555555556,\"#d8576b\"],[0.6666666666666666,\"#ed7953\"],[0.7777777777777778,\"#fb9f3a\"],[0.8888888888888888,\"#fdca26\"],[1.0,\"#f0f921\"]],\"type\":\"contour\"}],\"heatmapgl\":[{\"colorbar\":{\"outlinewidth\":0,\"ticks\":\"\"},\"colorscale\":[[0.0,\"#0d0887\"],[0.1111111111111111,\"#46039f\"],[0.2222222222222222,\"#7201a8\"],[0.3333333333333333,\"#9c179e\"],[0.4444444444444444,\"#bd3786\"],[0.5555555555555556,\"#d8576b\"],[0.6666666666666666,\"#ed7953\"],[0.7777777777777778,\"#fb9f3a\"],[0.8888888888888888,\"#fdca26\"],[1.0,\"#f0f921\"]],\"type\":\"heatmapgl\"}],\"heatmap\":[{\"colorbar\":{\"outlinewidth\":0,\"ticks\":\"\"},\"colorscale\":[[0.0,\"#0d0887\"],[0.1111111111111111,\"#46039f\"],[0.2222222222222222,\"#7201a8\"],[0.3333333333333333,\"#9c179e\"],[0.4444444444444444,\"#bd3786\"],[0.5555555555555556,\"#d8576b\"],[0.6666666666666666,\"#ed7953\"],[0.7777777777777778,\"#fb9f3a\"],[0.8888888888888888,\"#fdca26\"],[1.0,\"#f0f921\"]],\"type\":\"heatmap\"}],\"histogram2dcontour\":[{\"colorbar\":{\"outlinewidth\":0,\"ticks\":\"\"},\"colorscale\":[[0.0,\"#0d0887\"],[0.1111111111111111,\"#46039f\"],[0.2222222222222222,\"#7201a8\"],[0.3333333333333333,\"#9c179e\"],[0.4444444444444444,\"#bd3786\"],[0.5555555555555556,\"#d8576b\"],[0.6666666666666666,\"#ed7953\"],[0.7777777777777778,\"#fb9f3a\"],[0.8888888888888888,\"#fdca26\"],[1.0,\"#f0f921\"]],\"type\":\"histogram2dcontour\"}],\"histogram2d\":[{\"colorbar\":{\"outlinewidth\":0,\"ticks\":\"\"},\"colorscale\":[[0.0,\"#0d0887\"],[0.1111111111111111,\"#46039f\"],[0.2222222222222222,\"#7201a8\"],[0.3333333333333333,\"#9c179e\"],[0.4444444444444444,\"#bd3786\"],[0.5555555555555556,\"#d8576b\"],[0.6666666666666666,\"#ed7953\"],[0.7777777777777778,\"#fb9f3a\"],[0.8888888888888888,\"#fdca26\"],[1.0,\"#f0f921\"]],\"type\":\"histogram2d\"}],\"histogram\":[{\"marker\":{\"pattern\":{\"fillmode\":\"overlay\",\"size\":10,\"solidity\":0.2}},\"type\":\"histogram\"}],\"mesh3d\":[{\"colorbar\":{\"outlinewidth\":0,\"ticks\":\"\"},\"type\":\"mesh3d\"}],\"parcoords\":[{\"line\":{\"colorbar\":{\"outlinewidth\":0,\"ticks\":\"\"}},\"type\":\"parcoords\"}],\"pie\":[{\"automargin\":true,\"type\":\"pie\"}],\"scatter3d\":[{\"line\":{\"colorbar\":{\"outlinewidth\":0,\"ticks\":\"\"}},\"marker\":{\"colorbar\":{\"outlinewidth\":0,\"ticks\":\"\"}},\"type\":\"scatter3d\"}],\"scattercarpet\":[{\"marker\":{\"colorbar\":{\"outlinewidth\":0,\"ticks\":\"\"}},\"type\":\"scattercarpet\"}],\"scattergeo\":[{\"marker\":{\"colorbar\":{\"outlinewidth\":0,\"ticks\":\"\"}},\"type\":\"scattergeo\"}],\"scattergl\":[{\"marker\":{\"colorbar\":{\"outlinewidth\":0,\"ticks\":\"\"}},\"type\":\"scattergl\"}],\"scattermapbox\":[{\"marker\":{\"colorbar\":{\"outlinewidth\":0,\"ticks\":\"\"}},\"type\":\"scattermapbox\"}],\"scatterpolargl\":[{\"marker\":{\"colorbar\":{\"outlinewidth\":0,\"ticks\":\"\"}},\"type\":\"scatterpolargl\"}],\"scatterpolar\":[{\"marker\":{\"colorbar\":{\"outlinewidth\":0,\"ticks\":\"\"}},\"type\":\"scatterpolar\"}],\"scatter\":[{\"fillpattern\":{\"fillmode\":\"overlay\",\"size\":10,\"solidity\":0.2},\"type\":\"scatter\"}],\"scatterternary\":[{\"marker\":{\"colorbar\":{\"outlinewidth\":0,\"ticks\":\"\"}},\"type\":\"scatterternary\"}],\"surface\":[{\"colorbar\":{\"outlinewidth\":0,\"ticks\":\"\"},\"colorscale\":[[0.0,\"#0d0887\"],[0.1111111111111111,\"#46039f\"],[0.2222222222222222,\"#7201a8\"],[0.3333333333333333,\"#9c179e\"],[0.4444444444444444,\"#bd3786\"],[0.5555555555555556,\"#d8576b\"],[0.6666666666666666,\"#ed7953\"],[0.7777777777777778,\"#fb9f3a\"],[0.8888888888888888,\"#fdca26\"],[1.0,\"#f0f921\"]],\"type\":\"surface\"}],\"table\":[{\"cells\":{\"fill\":{\"color\":\"#EBF0F8\"},\"line\":{\"color\":\"white\"}},\"header\":{\"fill\":{\"color\":\"#C8D4E3\"},\"line\":{\"color\":\"white\"}},\"type\":\"table\"}]},\"layout\":{\"annotationdefaults\":{\"arrowcolor\":\"#2a3f5f\",\"arrowhead\":0,\"arrowwidth\":1},\"autotypenumbers\":\"strict\",\"coloraxis\":{\"colorbar\":{\"outlinewidth\":0,\"ticks\":\"\"}},\"colorscale\":{\"diverging\":[[0,\"#8e0152\"],[0.1,\"#c51b7d\"],[0.2,\"#de77ae\"],[0.3,\"#f1b6da\"],[0.4,\"#fde0ef\"],[0.5,\"#f7f7f7\"],[0.6,\"#e6f5d0\"],[0.7,\"#b8e186\"],[0.8,\"#7fbc41\"],[0.9,\"#4d9221\"],[1,\"#276419\"]],\"sequential\":[[0.0,\"#0d0887\"],[0.1111111111111111,\"#46039f\"],[0.2222222222222222,\"#7201a8\"],[0.3333333333333333,\"#9c179e\"],[0.4444444444444444,\"#bd3786\"],[0.5555555555555556,\"#d8576b\"],[0.6666666666666666,\"#ed7953\"],[0.7777777777777778,\"#fb9f3a\"],[0.8888888888888888,\"#fdca26\"],[1.0,\"#f0f921\"]],\"sequentialminus\":[[0.0,\"#0d0887\"],[0.1111111111111111,\"#46039f\"],[0.2222222222222222,\"#7201a8\"],[0.3333333333333333,\"#9c179e\"],[0.4444444444444444,\"#bd3786\"],[0.5555555555555556,\"#d8576b\"],[0.6666666666666666,\"#ed7953\"],[0.7777777777777778,\"#fb9f3a\"],[0.8888888888888888,\"#fdca26\"],[1.0,\"#f0f921\"]]},\"colorway\":[\"#636efa\",\"#EF553B\",\"#00cc96\",\"#ab63fa\",\"#FFA15A\",\"#19d3f3\",\"#FF6692\",\"#B6E880\",\"#FF97FF\",\"#FECB52\"],\"font\":{\"color\":\"#2a3f5f\"},\"geo\":{\"bgcolor\":\"white\",\"lakecolor\":\"white\",\"landcolor\":\"#E5ECF6\",\"showlakes\":true,\"showland\":true,\"subunitcolor\":\"white\"},\"hoverlabel\":{\"align\":\"left\"},\"hovermode\":\"closest\",\"mapbox\":{\"style\":\"light\"},\"paper_bgcolor\":\"white\",\"plot_bgcolor\":\"#E5ECF6\",\"polar\":{\"angularaxis\":{\"gridcolor\":\"white\",\"linecolor\":\"white\",\"ticks\":\"\"},\"bgcolor\":\"#E5ECF6\",\"radialaxis\":{\"gridcolor\":\"white\",\"linecolor\":\"white\",\"ticks\":\"\"}},\"scene\":{\"xaxis\":{\"backgroundcolor\":\"#E5ECF6\",\"gridcolor\":\"white\",\"gridwidth\":2,\"linecolor\":\"white\",\"showbackground\":true,\"ticks\":\"\",\"zerolinecolor\":\"white\"},\"yaxis\":{\"backgroundcolor\":\"#E5ECF6\",\"gridcolor\":\"white\",\"gridwidth\":2,\"linecolor\":\"white\",\"showbackground\":true,\"ticks\":\"\",\"zerolinecolor\":\"white\"},\"zaxis\":{\"backgroundcolor\":\"#E5ECF6\",\"gridcolor\":\"white\",\"gridwidth\":2,\"linecolor\":\"white\",\"showbackground\":true,\"ticks\":\"\",\"zerolinecolor\":\"white\"}},\"shapedefaults\":{\"line\":{\"color\":\"#2a3f5f\"}},\"ternary\":{\"aaxis\":{\"gridcolor\":\"white\",\"linecolor\":\"white\",\"ticks\":\"\"},\"baxis\":{\"gridcolor\":\"white\",\"linecolor\":\"white\",\"ticks\":\"\"},\"bgcolor\":\"#E5ECF6\",\"caxis\":{\"gridcolor\":\"white\",\"linecolor\":\"white\",\"ticks\":\"\"}},\"title\":{\"x\":0.05},\"xaxis\":{\"automargin\":true,\"gridcolor\":\"white\",\"linecolor\":\"white\",\"ticks\":\"\",\"title\":{\"standoff\":15},\"zerolinecolor\":\"white\",\"zerolinewidth\":2},\"yaxis\":{\"automargin\":true,\"gridcolor\":\"white\",\"linecolor\":\"white\",\"ticks\":\"\",\"title\":{\"standoff\":15},\"zerolinecolor\":\"white\",\"zerolinewidth\":2}}},\"title\":{\"font\":{\"color\":\"#4D5663\"}},\"xaxis\":{\"gridcolor\":\"#E1E5ED\",\"showgrid\":true,\"tickfont\":{\"color\":\"#4D5663\"},\"title\":{\"font\":{\"color\":\"#4D5663\"},\"text\":\"\"},\"zerolinecolor\":\"#E1E5ED\"},\"yaxis\":{\"gridcolor\":\"#E1E5ED\",\"showgrid\":true,\"tickfont\":{\"color\":\"#4D5663\"},\"title\":{\"font\":{\"color\":\"#4D5663\"},\"text\":\"\"},\"zerolinecolor\":\"#E1E5ED\"}},                        {\"showLink\": true, \"linkText\": \"Export to plot.ly\", \"plotlyServerURL\": \"https://plot.ly\", \"responsive\": true}                    ).then(function(){\n",
       "                            \n",
       "var gd = document.getElementById('c4331f4e-7c73-40d8-a25d-17d3258fbb3c');\n",
       "var x = new MutationObserver(function (mutations, observer) {{\n",
       "        var display = window.getComputedStyle(gd).display;\n",
       "        if (!display || display === 'none') {{\n",
       "            console.log([gd, 'removed!']);\n",
       "            Plotly.purge(gd);\n",
       "            observer.disconnect();\n",
       "        }}\n",
       "}});\n",
       "\n",
       "// Listen for the removal of the full notebook cells\n",
       "var notebookContainer = gd.closest('#notebook-container');\n",
       "if (notebookContainer) {{\n",
       "    x.observe(notebookContainer, {childList: true});\n",
       "}}\n",
       "\n",
       "// Listen for the clearing of the current output cell\n",
       "var outputEl = gd.closest('.output');\n",
       "if (outputEl) {{\n",
       "    x.observe(outputEl, {childList: true});\n",
       "}}\n",
       "\n",
       "                        })                };                });            </script>        </div>"
      ]
     },
     "metadata": {},
     "output_type": "display_data"
    }
   ],
   "source": [
    "df.iplot(kind='scatter',x='A', y='B', mode='markers', size=10 )"
   ]
  },
  {
   "cell_type": "code",
   "execution_count": 13,
   "metadata": {},
   "outputs": [
    {
     "data": {
      "application/vnd.plotly.v1+json": {
       "config": {
        "linkText": "Export to plot.ly",
        "plotlyServerURL": "https://plot.ly",
        "showLink": true
       },
       "data": [
        {
         "marker": {
          "color": "rgba(255, 153, 51, 0.6)",
          "line": {
           "color": "rgba(255, 153, 51, 1.0)",
           "width": 1
          }
         },
         "name": "Values",
         "orientation": "v",
         "text": "",
         "type": "bar",
         "x": [
          "A",
          "B",
          "C"
         ],
         "y": [
          32,
          43,
          50
         ]
        }
       ],
       "layout": {
        "legend": {
         "bgcolor": "#F5F6F9",
         "font": {
          "color": "#4D5663"
         }
        },
        "paper_bgcolor": "#F5F6F9",
        "plot_bgcolor": "#F5F6F9",
        "template": {
         "data": {
          "bar": [
           {
            "error_x": {
             "color": "#2a3f5f"
            },
            "error_y": {
             "color": "#2a3f5f"
            },
            "marker": {
             "line": {
              "color": "#E5ECF6",
              "width": 0.5
             },
             "pattern": {
              "fillmode": "overlay",
              "size": 10,
              "solidity": 0.2
             }
            },
            "type": "bar"
           }
          ],
          "barpolar": [
           {
            "marker": {
             "line": {
              "color": "#E5ECF6",
              "width": 0.5
             },
             "pattern": {
              "fillmode": "overlay",
              "size": 10,
              "solidity": 0.2
             }
            },
            "type": "barpolar"
           }
          ],
          "carpet": [
           {
            "aaxis": {
             "endlinecolor": "#2a3f5f",
             "gridcolor": "white",
             "linecolor": "white",
             "minorgridcolor": "white",
             "startlinecolor": "#2a3f5f"
            },
            "baxis": {
             "endlinecolor": "#2a3f5f",
             "gridcolor": "white",
             "linecolor": "white",
             "minorgridcolor": "white",
             "startlinecolor": "#2a3f5f"
            },
            "type": "carpet"
           }
          ],
          "choropleth": [
           {
            "colorbar": {
             "outlinewidth": 0,
             "ticks": ""
            },
            "type": "choropleth"
           }
          ],
          "contour": [
           {
            "colorbar": {
             "outlinewidth": 0,
             "ticks": ""
            },
            "colorscale": [
             [
              0,
              "#0d0887"
             ],
             [
              0.1111111111111111,
              "#46039f"
             ],
             [
              0.2222222222222222,
              "#7201a8"
             ],
             [
              0.3333333333333333,
              "#9c179e"
             ],
             [
              0.4444444444444444,
              "#bd3786"
             ],
             [
              0.5555555555555556,
              "#d8576b"
             ],
             [
              0.6666666666666666,
              "#ed7953"
             ],
             [
              0.7777777777777778,
              "#fb9f3a"
             ],
             [
              0.8888888888888888,
              "#fdca26"
             ],
             [
              1,
              "#f0f921"
             ]
            ],
            "type": "contour"
           }
          ],
          "contourcarpet": [
           {
            "colorbar": {
             "outlinewidth": 0,
             "ticks": ""
            },
            "type": "contourcarpet"
           }
          ],
          "heatmap": [
           {
            "colorbar": {
             "outlinewidth": 0,
             "ticks": ""
            },
            "colorscale": [
             [
              0,
              "#0d0887"
             ],
             [
              0.1111111111111111,
              "#46039f"
             ],
             [
              0.2222222222222222,
              "#7201a8"
             ],
             [
              0.3333333333333333,
              "#9c179e"
             ],
             [
              0.4444444444444444,
              "#bd3786"
             ],
             [
              0.5555555555555556,
              "#d8576b"
             ],
             [
              0.6666666666666666,
              "#ed7953"
             ],
             [
              0.7777777777777778,
              "#fb9f3a"
             ],
             [
              0.8888888888888888,
              "#fdca26"
             ],
             [
              1,
              "#f0f921"
             ]
            ],
            "type": "heatmap"
           }
          ],
          "heatmapgl": [
           {
            "colorbar": {
             "outlinewidth": 0,
             "ticks": ""
            },
            "colorscale": [
             [
              0,
              "#0d0887"
             ],
             [
              0.1111111111111111,
              "#46039f"
             ],
             [
              0.2222222222222222,
              "#7201a8"
             ],
             [
              0.3333333333333333,
              "#9c179e"
             ],
             [
              0.4444444444444444,
              "#bd3786"
             ],
             [
              0.5555555555555556,
              "#d8576b"
             ],
             [
              0.6666666666666666,
              "#ed7953"
             ],
             [
              0.7777777777777778,
              "#fb9f3a"
             ],
             [
              0.8888888888888888,
              "#fdca26"
             ],
             [
              1,
              "#f0f921"
             ]
            ],
            "type": "heatmapgl"
           }
          ],
          "histogram": [
           {
            "marker": {
             "pattern": {
              "fillmode": "overlay",
              "size": 10,
              "solidity": 0.2
             }
            },
            "type": "histogram"
           }
          ],
          "histogram2d": [
           {
            "colorbar": {
             "outlinewidth": 0,
             "ticks": ""
            },
            "colorscale": [
             [
              0,
              "#0d0887"
             ],
             [
              0.1111111111111111,
              "#46039f"
             ],
             [
              0.2222222222222222,
              "#7201a8"
             ],
             [
              0.3333333333333333,
              "#9c179e"
             ],
             [
              0.4444444444444444,
              "#bd3786"
             ],
             [
              0.5555555555555556,
              "#d8576b"
             ],
             [
              0.6666666666666666,
              "#ed7953"
             ],
             [
              0.7777777777777778,
              "#fb9f3a"
             ],
             [
              0.8888888888888888,
              "#fdca26"
             ],
             [
              1,
              "#f0f921"
             ]
            ],
            "type": "histogram2d"
           }
          ],
          "histogram2dcontour": [
           {
            "colorbar": {
             "outlinewidth": 0,
             "ticks": ""
            },
            "colorscale": [
             [
              0,
              "#0d0887"
             ],
             [
              0.1111111111111111,
              "#46039f"
             ],
             [
              0.2222222222222222,
              "#7201a8"
             ],
             [
              0.3333333333333333,
              "#9c179e"
             ],
             [
              0.4444444444444444,
              "#bd3786"
             ],
             [
              0.5555555555555556,
              "#d8576b"
             ],
             [
              0.6666666666666666,
              "#ed7953"
             ],
             [
              0.7777777777777778,
              "#fb9f3a"
             ],
             [
              0.8888888888888888,
              "#fdca26"
             ],
             [
              1,
              "#f0f921"
             ]
            ],
            "type": "histogram2dcontour"
           }
          ],
          "mesh3d": [
           {
            "colorbar": {
             "outlinewidth": 0,
             "ticks": ""
            },
            "type": "mesh3d"
           }
          ],
          "parcoords": [
           {
            "line": {
             "colorbar": {
              "outlinewidth": 0,
              "ticks": ""
             }
            },
            "type": "parcoords"
           }
          ],
          "pie": [
           {
            "automargin": true,
            "type": "pie"
           }
          ],
          "scatter": [
           {
            "fillpattern": {
             "fillmode": "overlay",
             "size": 10,
             "solidity": 0.2
            },
            "type": "scatter"
           }
          ],
          "scatter3d": [
           {
            "line": {
             "colorbar": {
              "outlinewidth": 0,
              "ticks": ""
             }
            },
            "marker": {
             "colorbar": {
              "outlinewidth": 0,
              "ticks": ""
             }
            },
            "type": "scatter3d"
           }
          ],
          "scattercarpet": [
           {
            "marker": {
             "colorbar": {
              "outlinewidth": 0,
              "ticks": ""
             }
            },
            "type": "scattercarpet"
           }
          ],
          "scattergeo": [
           {
            "marker": {
             "colorbar": {
              "outlinewidth": 0,
              "ticks": ""
             }
            },
            "type": "scattergeo"
           }
          ],
          "scattergl": [
           {
            "marker": {
             "colorbar": {
              "outlinewidth": 0,
              "ticks": ""
             }
            },
            "type": "scattergl"
           }
          ],
          "scattermapbox": [
           {
            "marker": {
             "colorbar": {
              "outlinewidth": 0,
              "ticks": ""
             }
            },
            "type": "scattermapbox"
           }
          ],
          "scatterpolar": [
           {
            "marker": {
             "colorbar": {
              "outlinewidth": 0,
              "ticks": ""
             }
            },
            "type": "scatterpolar"
           }
          ],
          "scatterpolargl": [
           {
            "marker": {
             "colorbar": {
              "outlinewidth": 0,
              "ticks": ""
             }
            },
            "type": "scatterpolargl"
           }
          ],
          "scatterternary": [
           {
            "marker": {
             "colorbar": {
              "outlinewidth": 0,
              "ticks": ""
             }
            },
            "type": "scatterternary"
           }
          ],
          "surface": [
           {
            "colorbar": {
             "outlinewidth": 0,
             "ticks": ""
            },
            "colorscale": [
             [
              0,
              "#0d0887"
             ],
             [
              0.1111111111111111,
              "#46039f"
             ],
             [
              0.2222222222222222,
              "#7201a8"
             ],
             [
              0.3333333333333333,
              "#9c179e"
             ],
             [
              0.4444444444444444,
              "#bd3786"
             ],
             [
              0.5555555555555556,
              "#d8576b"
             ],
             [
              0.6666666666666666,
              "#ed7953"
             ],
             [
              0.7777777777777778,
              "#fb9f3a"
             ],
             [
              0.8888888888888888,
              "#fdca26"
             ],
             [
              1,
              "#f0f921"
             ]
            ],
            "type": "surface"
           }
          ],
          "table": [
           {
            "cells": {
             "fill": {
              "color": "#EBF0F8"
             },
             "line": {
              "color": "white"
             }
            },
            "header": {
             "fill": {
              "color": "#C8D4E3"
             },
             "line": {
              "color": "white"
             }
            },
            "type": "table"
           }
          ]
         },
         "layout": {
          "annotationdefaults": {
           "arrowcolor": "#2a3f5f",
           "arrowhead": 0,
           "arrowwidth": 1
          },
          "autotypenumbers": "strict",
          "coloraxis": {
           "colorbar": {
            "outlinewidth": 0,
            "ticks": ""
           }
          },
          "colorscale": {
           "diverging": [
            [
             0,
             "#8e0152"
            ],
            [
             0.1,
             "#c51b7d"
            ],
            [
             0.2,
             "#de77ae"
            ],
            [
             0.3,
             "#f1b6da"
            ],
            [
             0.4,
             "#fde0ef"
            ],
            [
             0.5,
             "#f7f7f7"
            ],
            [
             0.6,
             "#e6f5d0"
            ],
            [
             0.7,
             "#b8e186"
            ],
            [
             0.8,
             "#7fbc41"
            ],
            [
             0.9,
             "#4d9221"
            ],
            [
             1,
             "#276419"
            ]
           ],
           "sequential": [
            [
             0,
             "#0d0887"
            ],
            [
             0.1111111111111111,
             "#46039f"
            ],
            [
             0.2222222222222222,
             "#7201a8"
            ],
            [
             0.3333333333333333,
             "#9c179e"
            ],
            [
             0.4444444444444444,
             "#bd3786"
            ],
            [
             0.5555555555555556,
             "#d8576b"
            ],
            [
             0.6666666666666666,
             "#ed7953"
            ],
            [
             0.7777777777777778,
             "#fb9f3a"
            ],
            [
             0.8888888888888888,
             "#fdca26"
            ],
            [
             1,
             "#f0f921"
            ]
           ],
           "sequentialminus": [
            [
             0,
             "#0d0887"
            ],
            [
             0.1111111111111111,
             "#46039f"
            ],
            [
             0.2222222222222222,
             "#7201a8"
            ],
            [
             0.3333333333333333,
             "#9c179e"
            ],
            [
             0.4444444444444444,
             "#bd3786"
            ],
            [
             0.5555555555555556,
             "#d8576b"
            ],
            [
             0.6666666666666666,
             "#ed7953"
            ],
            [
             0.7777777777777778,
             "#fb9f3a"
            ],
            [
             0.8888888888888888,
             "#fdca26"
            ],
            [
             1,
             "#f0f921"
            ]
           ]
          },
          "colorway": [
           "#636efa",
           "#EF553B",
           "#00cc96",
           "#ab63fa",
           "#FFA15A",
           "#19d3f3",
           "#FF6692",
           "#B6E880",
           "#FF97FF",
           "#FECB52"
          ],
          "font": {
           "color": "#2a3f5f"
          },
          "geo": {
           "bgcolor": "white",
           "lakecolor": "white",
           "landcolor": "#E5ECF6",
           "showlakes": true,
           "showland": true,
           "subunitcolor": "white"
          },
          "hoverlabel": {
           "align": "left"
          },
          "hovermode": "closest",
          "mapbox": {
           "style": "light"
          },
          "paper_bgcolor": "white",
          "plot_bgcolor": "#E5ECF6",
          "polar": {
           "angularaxis": {
            "gridcolor": "white",
            "linecolor": "white",
            "ticks": ""
           },
           "bgcolor": "#E5ECF6",
           "radialaxis": {
            "gridcolor": "white",
            "linecolor": "white",
            "ticks": ""
           }
          },
          "scene": {
           "xaxis": {
            "backgroundcolor": "#E5ECF6",
            "gridcolor": "white",
            "gridwidth": 2,
            "linecolor": "white",
            "showbackground": true,
            "ticks": "",
            "zerolinecolor": "white"
           },
           "yaxis": {
            "backgroundcolor": "#E5ECF6",
            "gridcolor": "white",
            "gridwidth": 2,
            "linecolor": "white",
            "showbackground": true,
            "ticks": "",
            "zerolinecolor": "white"
           },
           "zaxis": {
            "backgroundcolor": "#E5ECF6",
            "gridcolor": "white",
            "gridwidth": 2,
            "linecolor": "white",
            "showbackground": true,
            "ticks": "",
            "zerolinecolor": "white"
           }
          },
          "shapedefaults": {
           "line": {
            "color": "#2a3f5f"
           }
          },
          "ternary": {
           "aaxis": {
            "gridcolor": "white",
            "linecolor": "white",
            "ticks": ""
           },
           "baxis": {
            "gridcolor": "white",
            "linecolor": "white",
            "ticks": ""
           },
           "bgcolor": "#E5ECF6",
           "caxis": {
            "gridcolor": "white",
            "linecolor": "white",
            "ticks": ""
           }
          },
          "title": {
           "x": 0.05
          },
          "xaxis": {
           "automargin": true,
           "gridcolor": "white",
           "linecolor": "white",
           "ticks": "",
           "title": {
            "standoff": 15
           },
           "zerolinecolor": "white",
           "zerolinewidth": 2
          },
          "yaxis": {
           "automargin": true,
           "gridcolor": "white",
           "linecolor": "white",
           "ticks": "",
           "title": {
            "standoff": 15
           },
           "zerolinecolor": "white",
           "zerolinewidth": 2
          }
         }
        },
        "title": {
         "font": {
          "color": "#4D5663"
         }
        },
        "xaxis": {
         "gridcolor": "#E1E5ED",
         "showgrid": true,
         "tickfont": {
          "color": "#4D5663"
         },
         "title": {
          "font": {
           "color": "#4D5663"
          },
          "text": ""
         },
         "zerolinecolor": "#E1E5ED"
        },
        "yaxis": {
         "gridcolor": "#E1E5ED",
         "showgrid": true,
         "tickfont": {
          "color": "#4D5663"
         },
         "title": {
          "font": {
           "color": "#4D5663"
          },
          "text": ""
         },
         "zerolinecolor": "#E1E5ED"
        }
       }
      },
      "text/html": [
       "<div>                            <div id=\"bc730d65-3137-4ab8-98db-3bdce4cd1ff3\" class=\"plotly-graph-div\" style=\"height:525px; width:100%;\"></div>            <script type=\"text/javascript\">                require([\"plotly\"], function(Plotly) {                    window.PLOTLYENV=window.PLOTLYENV || {};\n",
       "                    window.PLOTLYENV.BASE_URL='https://plot.ly';                                    if (document.getElementById(\"bc730d65-3137-4ab8-98db-3bdce4cd1ff3\")) {                    Plotly.newPlot(                        \"bc730d65-3137-4ab8-98db-3bdce4cd1ff3\",                        [{\"marker\":{\"color\":\"rgba(255, 153, 51, 0.6)\",\"line\":{\"color\":\"rgba(255, 153, 51, 1.0)\",\"width\":1}},\"name\":\"Values\",\"orientation\":\"v\",\"text\":\"\",\"x\":[\"A\",\"B\",\"C\"],\"y\":[32,43,50],\"type\":\"bar\"}],                        {\"legend\":{\"bgcolor\":\"#F5F6F9\",\"font\":{\"color\":\"#4D5663\"}},\"paper_bgcolor\":\"#F5F6F9\",\"plot_bgcolor\":\"#F5F6F9\",\"template\":{\"data\":{\"barpolar\":[{\"marker\":{\"line\":{\"color\":\"#E5ECF6\",\"width\":0.5},\"pattern\":{\"fillmode\":\"overlay\",\"size\":10,\"solidity\":0.2}},\"type\":\"barpolar\"}],\"bar\":[{\"error_x\":{\"color\":\"#2a3f5f\"},\"error_y\":{\"color\":\"#2a3f5f\"},\"marker\":{\"line\":{\"color\":\"#E5ECF6\",\"width\":0.5},\"pattern\":{\"fillmode\":\"overlay\",\"size\":10,\"solidity\":0.2}},\"type\":\"bar\"}],\"carpet\":[{\"aaxis\":{\"endlinecolor\":\"#2a3f5f\",\"gridcolor\":\"white\",\"linecolor\":\"white\",\"minorgridcolor\":\"white\",\"startlinecolor\":\"#2a3f5f\"},\"baxis\":{\"endlinecolor\":\"#2a3f5f\",\"gridcolor\":\"white\",\"linecolor\":\"white\",\"minorgridcolor\":\"white\",\"startlinecolor\":\"#2a3f5f\"},\"type\":\"carpet\"}],\"choropleth\":[{\"colorbar\":{\"outlinewidth\":0,\"ticks\":\"\"},\"type\":\"choropleth\"}],\"contourcarpet\":[{\"colorbar\":{\"outlinewidth\":0,\"ticks\":\"\"},\"type\":\"contourcarpet\"}],\"contour\":[{\"colorbar\":{\"outlinewidth\":0,\"ticks\":\"\"},\"colorscale\":[[0.0,\"#0d0887\"],[0.1111111111111111,\"#46039f\"],[0.2222222222222222,\"#7201a8\"],[0.3333333333333333,\"#9c179e\"],[0.4444444444444444,\"#bd3786\"],[0.5555555555555556,\"#d8576b\"],[0.6666666666666666,\"#ed7953\"],[0.7777777777777778,\"#fb9f3a\"],[0.8888888888888888,\"#fdca26\"],[1.0,\"#f0f921\"]],\"type\":\"contour\"}],\"heatmapgl\":[{\"colorbar\":{\"outlinewidth\":0,\"ticks\":\"\"},\"colorscale\":[[0.0,\"#0d0887\"],[0.1111111111111111,\"#46039f\"],[0.2222222222222222,\"#7201a8\"],[0.3333333333333333,\"#9c179e\"],[0.4444444444444444,\"#bd3786\"],[0.5555555555555556,\"#d8576b\"],[0.6666666666666666,\"#ed7953\"],[0.7777777777777778,\"#fb9f3a\"],[0.8888888888888888,\"#fdca26\"],[1.0,\"#f0f921\"]],\"type\":\"heatmapgl\"}],\"heatmap\":[{\"colorbar\":{\"outlinewidth\":0,\"ticks\":\"\"},\"colorscale\":[[0.0,\"#0d0887\"],[0.1111111111111111,\"#46039f\"],[0.2222222222222222,\"#7201a8\"],[0.3333333333333333,\"#9c179e\"],[0.4444444444444444,\"#bd3786\"],[0.5555555555555556,\"#d8576b\"],[0.6666666666666666,\"#ed7953\"],[0.7777777777777778,\"#fb9f3a\"],[0.8888888888888888,\"#fdca26\"],[1.0,\"#f0f921\"]],\"type\":\"heatmap\"}],\"histogram2dcontour\":[{\"colorbar\":{\"outlinewidth\":0,\"ticks\":\"\"},\"colorscale\":[[0.0,\"#0d0887\"],[0.1111111111111111,\"#46039f\"],[0.2222222222222222,\"#7201a8\"],[0.3333333333333333,\"#9c179e\"],[0.4444444444444444,\"#bd3786\"],[0.5555555555555556,\"#d8576b\"],[0.6666666666666666,\"#ed7953\"],[0.7777777777777778,\"#fb9f3a\"],[0.8888888888888888,\"#fdca26\"],[1.0,\"#f0f921\"]],\"type\":\"histogram2dcontour\"}],\"histogram2d\":[{\"colorbar\":{\"outlinewidth\":0,\"ticks\":\"\"},\"colorscale\":[[0.0,\"#0d0887\"],[0.1111111111111111,\"#46039f\"],[0.2222222222222222,\"#7201a8\"],[0.3333333333333333,\"#9c179e\"],[0.4444444444444444,\"#bd3786\"],[0.5555555555555556,\"#d8576b\"],[0.6666666666666666,\"#ed7953\"],[0.7777777777777778,\"#fb9f3a\"],[0.8888888888888888,\"#fdca26\"],[1.0,\"#f0f921\"]],\"type\":\"histogram2d\"}],\"histogram\":[{\"marker\":{\"pattern\":{\"fillmode\":\"overlay\",\"size\":10,\"solidity\":0.2}},\"type\":\"histogram\"}],\"mesh3d\":[{\"colorbar\":{\"outlinewidth\":0,\"ticks\":\"\"},\"type\":\"mesh3d\"}],\"parcoords\":[{\"line\":{\"colorbar\":{\"outlinewidth\":0,\"ticks\":\"\"}},\"type\":\"parcoords\"}],\"pie\":[{\"automargin\":true,\"type\":\"pie\"}],\"scatter3d\":[{\"line\":{\"colorbar\":{\"outlinewidth\":0,\"ticks\":\"\"}},\"marker\":{\"colorbar\":{\"outlinewidth\":0,\"ticks\":\"\"}},\"type\":\"scatter3d\"}],\"scattercarpet\":[{\"marker\":{\"colorbar\":{\"outlinewidth\":0,\"ticks\":\"\"}},\"type\":\"scattercarpet\"}],\"scattergeo\":[{\"marker\":{\"colorbar\":{\"outlinewidth\":0,\"ticks\":\"\"}},\"type\":\"scattergeo\"}],\"scattergl\":[{\"marker\":{\"colorbar\":{\"outlinewidth\":0,\"ticks\":\"\"}},\"type\":\"scattergl\"}],\"scattermapbox\":[{\"marker\":{\"colorbar\":{\"outlinewidth\":0,\"ticks\":\"\"}},\"type\":\"scattermapbox\"}],\"scatterpolargl\":[{\"marker\":{\"colorbar\":{\"outlinewidth\":0,\"ticks\":\"\"}},\"type\":\"scatterpolargl\"}],\"scatterpolar\":[{\"marker\":{\"colorbar\":{\"outlinewidth\":0,\"ticks\":\"\"}},\"type\":\"scatterpolar\"}],\"scatter\":[{\"fillpattern\":{\"fillmode\":\"overlay\",\"size\":10,\"solidity\":0.2},\"type\":\"scatter\"}],\"scatterternary\":[{\"marker\":{\"colorbar\":{\"outlinewidth\":0,\"ticks\":\"\"}},\"type\":\"scatterternary\"}],\"surface\":[{\"colorbar\":{\"outlinewidth\":0,\"ticks\":\"\"},\"colorscale\":[[0.0,\"#0d0887\"],[0.1111111111111111,\"#46039f\"],[0.2222222222222222,\"#7201a8\"],[0.3333333333333333,\"#9c179e\"],[0.4444444444444444,\"#bd3786\"],[0.5555555555555556,\"#d8576b\"],[0.6666666666666666,\"#ed7953\"],[0.7777777777777778,\"#fb9f3a\"],[0.8888888888888888,\"#fdca26\"],[1.0,\"#f0f921\"]],\"type\":\"surface\"}],\"table\":[{\"cells\":{\"fill\":{\"color\":\"#EBF0F8\"},\"line\":{\"color\":\"white\"}},\"header\":{\"fill\":{\"color\":\"#C8D4E3\"},\"line\":{\"color\":\"white\"}},\"type\":\"table\"}]},\"layout\":{\"annotationdefaults\":{\"arrowcolor\":\"#2a3f5f\",\"arrowhead\":0,\"arrowwidth\":1},\"autotypenumbers\":\"strict\",\"coloraxis\":{\"colorbar\":{\"outlinewidth\":0,\"ticks\":\"\"}},\"colorscale\":{\"diverging\":[[0,\"#8e0152\"],[0.1,\"#c51b7d\"],[0.2,\"#de77ae\"],[0.3,\"#f1b6da\"],[0.4,\"#fde0ef\"],[0.5,\"#f7f7f7\"],[0.6,\"#e6f5d0\"],[0.7,\"#b8e186\"],[0.8,\"#7fbc41\"],[0.9,\"#4d9221\"],[1,\"#276419\"]],\"sequential\":[[0.0,\"#0d0887\"],[0.1111111111111111,\"#46039f\"],[0.2222222222222222,\"#7201a8\"],[0.3333333333333333,\"#9c179e\"],[0.4444444444444444,\"#bd3786\"],[0.5555555555555556,\"#d8576b\"],[0.6666666666666666,\"#ed7953\"],[0.7777777777777778,\"#fb9f3a\"],[0.8888888888888888,\"#fdca26\"],[1.0,\"#f0f921\"]],\"sequentialminus\":[[0.0,\"#0d0887\"],[0.1111111111111111,\"#46039f\"],[0.2222222222222222,\"#7201a8\"],[0.3333333333333333,\"#9c179e\"],[0.4444444444444444,\"#bd3786\"],[0.5555555555555556,\"#d8576b\"],[0.6666666666666666,\"#ed7953\"],[0.7777777777777778,\"#fb9f3a\"],[0.8888888888888888,\"#fdca26\"],[1.0,\"#f0f921\"]]},\"colorway\":[\"#636efa\",\"#EF553B\",\"#00cc96\",\"#ab63fa\",\"#FFA15A\",\"#19d3f3\",\"#FF6692\",\"#B6E880\",\"#FF97FF\",\"#FECB52\"],\"font\":{\"color\":\"#2a3f5f\"},\"geo\":{\"bgcolor\":\"white\",\"lakecolor\":\"white\",\"landcolor\":\"#E5ECF6\",\"showlakes\":true,\"showland\":true,\"subunitcolor\":\"white\"},\"hoverlabel\":{\"align\":\"left\"},\"hovermode\":\"closest\",\"mapbox\":{\"style\":\"light\"},\"paper_bgcolor\":\"white\",\"plot_bgcolor\":\"#E5ECF6\",\"polar\":{\"angularaxis\":{\"gridcolor\":\"white\",\"linecolor\":\"white\",\"ticks\":\"\"},\"bgcolor\":\"#E5ECF6\",\"radialaxis\":{\"gridcolor\":\"white\",\"linecolor\":\"white\",\"ticks\":\"\"}},\"scene\":{\"xaxis\":{\"backgroundcolor\":\"#E5ECF6\",\"gridcolor\":\"white\",\"gridwidth\":2,\"linecolor\":\"white\",\"showbackground\":true,\"ticks\":\"\",\"zerolinecolor\":\"white\"},\"yaxis\":{\"backgroundcolor\":\"#E5ECF6\",\"gridcolor\":\"white\",\"gridwidth\":2,\"linecolor\":\"white\",\"showbackground\":true,\"ticks\":\"\",\"zerolinecolor\":\"white\"},\"zaxis\":{\"backgroundcolor\":\"#E5ECF6\",\"gridcolor\":\"white\",\"gridwidth\":2,\"linecolor\":\"white\",\"showbackground\":true,\"ticks\":\"\",\"zerolinecolor\":\"white\"}},\"shapedefaults\":{\"line\":{\"color\":\"#2a3f5f\"}},\"ternary\":{\"aaxis\":{\"gridcolor\":\"white\",\"linecolor\":\"white\",\"ticks\":\"\"},\"baxis\":{\"gridcolor\":\"white\",\"linecolor\":\"white\",\"ticks\":\"\"},\"bgcolor\":\"#E5ECF6\",\"caxis\":{\"gridcolor\":\"white\",\"linecolor\":\"white\",\"ticks\":\"\"}},\"title\":{\"x\":0.05},\"xaxis\":{\"automargin\":true,\"gridcolor\":\"white\",\"linecolor\":\"white\",\"ticks\":\"\",\"title\":{\"standoff\":15},\"zerolinecolor\":\"white\",\"zerolinewidth\":2},\"yaxis\":{\"automargin\":true,\"gridcolor\":\"white\",\"linecolor\":\"white\",\"ticks\":\"\",\"title\":{\"standoff\":15},\"zerolinecolor\":\"white\",\"zerolinewidth\":2}}},\"title\":{\"font\":{\"color\":\"#4D5663\"}},\"xaxis\":{\"gridcolor\":\"#E1E5ED\",\"showgrid\":true,\"tickfont\":{\"color\":\"#4D5663\"},\"title\":{\"font\":{\"color\":\"#4D5663\"},\"text\":\"\"},\"zerolinecolor\":\"#E1E5ED\"},\"yaxis\":{\"gridcolor\":\"#E1E5ED\",\"showgrid\":true,\"tickfont\":{\"color\":\"#4D5663\"},\"title\":{\"font\":{\"color\":\"#4D5663\"},\"text\":\"\"},\"zerolinecolor\":\"#E1E5ED\"}},                        {\"showLink\": true, \"linkText\": \"Export to plot.ly\", \"plotlyServerURL\": \"https://plot.ly\", \"responsive\": true}                    ).then(function(){\n",
       "                            \n",
       "var gd = document.getElementById('bc730d65-3137-4ab8-98db-3bdce4cd1ff3');\n",
       "var x = new MutationObserver(function (mutations, observer) {{\n",
       "        var display = window.getComputedStyle(gd).display;\n",
       "        if (!display || display === 'none') {{\n",
       "            console.log([gd, 'removed!']);\n",
       "            Plotly.purge(gd);\n",
       "            observer.disconnect();\n",
       "        }}\n",
       "}});\n",
       "\n",
       "// Listen for the removal of the full notebook cells\n",
       "var notebookContainer = gd.closest('#notebook-container');\n",
       "if (notebookContainer) {{\n",
       "    x.observe(notebookContainer, {childList: true});\n",
       "}}\n",
       "\n",
       "// Listen for the clearing of the current output cell\n",
       "var outputEl = gd.closest('.output');\n",
       "if (outputEl) {{\n",
       "    x.observe(outputEl, {childList: true});\n",
       "}}\n",
       "\n",
       "                        })                };                });            </script>        </div>"
      ]
     },
     "metadata": {},
     "output_type": "display_data"
    }
   ],
   "source": [
    "df2.iplot(kind='bar',x='Category',y='Values')"
   ]
  },
  {
   "cell_type": "code",
   "execution_count": 14,
   "metadata": {},
   "outputs": [
    {
     "data": {
      "application/vnd.plotly.v1+json": {
       "config": {
        "linkText": "Export to plot.ly",
        "plotlyServerURL": "https://plot.ly",
        "showLink": true
       },
       "data": [
        {
         "marker": {
          "color": "rgba(255, 153, 51, 0.6)",
          "line": {
           "color": "rgba(255, 153, 51, 1.0)",
           "width": 1
          }
         },
         "name": "None",
         "orientation": "v",
         "text": "",
         "type": "bar",
         "x": [
          "A",
          "B",
          "C",
          "D"
         ],
         "y": [
          100,
          100,
          100,
          100
         ]
        }
       ],
       "layout": {
        "legend": {
         "bgcolor": "#F5F6F9",
         "font": {
          "color": "#4D5663"
         }
        },
        "paper_bgcolor": "#F5F6F9",
        "plot_bgcolor": "#F5F6F9",
        "template": {
         "data": {
          "bar": [
           {
            "error_x": {
             "color": "#2a3f5f"
            },
            "error_y": {
             "color": "#2a3f5f"
            },
            "marker": {
             "line": {
              "color": "#E5ECF6",
              "width": 0.5
             },
             "pattern": {
              "fillmode": "overlay",
              "size": 10,
              "solidity": 0.2
             }
            },
            "type": "bar"
           }
          ],
          "barpolar": [
           {
            "marker": {
             "line": {
              "color": "#E5ECF6",
              "width": 0.5
             },
             "pattern": {
              "fillmode": "overlay",
              "size": 10,
              "solidity": 0.2
             }
            },
            "type": "barpolar"
           }
          ],
          "carpet": [
           {
            "aaxis": {
             "endlinecolor": "#2a3f5f",
             "gridcolor": "white",
             "linecolor": "white",
             "minorgridcolor": "white",
             "startlinecolor": "#2a3f5f"
            },
            "baxis": {
             "endlinecolor": "#2a3f5f",
             "gridcolor": "white",
             "linecolor": "white",
             "minorgridcolor": "white",
             "startlinecolor": "#2a3f5f"
            },
            "type": "carpet"
           }
          ],
          "choropleth": [
           {
            "colorbar": {
             "outlinewidth": 0,
             "ticks": ""
            },
            "type": "choropleth"
           }
          ],
          "contour": [
           {
            "colorbar": {
             "outlinewidth": 0,
             "ticks": ""
            },
            "colorscale": [
             [
              0,
              "#0d0887"
             ],
             [
              0.1111111111111111,
              "#46039f"
             ],
             [
              0.2222222222222222,
              "#7201a8"
             ],
             [
              0.3333333333333333,
              "#9c179e"
             ],
             [
              0.4444444444444444,
              "#bd3786"
             ],
             [
              0.5555555555555556,
              "#d8576b"
             ],
             [
              0.6666666666666666,
              "#ed7953"
             ],
             [
              0.7777777777777778,
              "#fb9f3a"
             ],
             [
              0.8888888888888888,
              "#fdca26"
             ],
             [
              1,
              "#f0f921"
             ]
            ],
            "type": "contour"
           }
          ],
          "contourcarpet": [
           {
            "colorbar": {
             "outlinewidth": 0,
             "ticks": ""
            },
            "type": "contourcarpet"
           }
          ],
          "heatmap": [
           {
            "colorbar": {
             "outlinewidth": 0,
             "ticks": ""
            },
            "colorscale": [
             [
              0,
              "#0d0887"
             ],
             [
              0.1111111111111111,
              "#46039f"
             ],
             [
              0.2222222222222222,
              "#7201a8"
             ],
             [
              0.3333333333333333,
              "#9c179e"
             ],
             [
              0.4444444444444444,
              "#bd3786"
             ],
             [
              0.5555555555555556,
              "#d8576b"
             ],
             [
              0.6666666666666666,
              "#ed7953"
             ],
             [
              0.7777777777777778,
              "#fb9f3a"
             ],
             [
              0.8888888888888888,
              "#fdca26"
             ],
             [
              1,
              "#f0f921"
             ]
            ],
            "type": "heatmap"
           }
          ],
          "heatmapgl": [
           {
            "colorbar": {
             "outlinewidth": 0,
             "ticks": ""
            },
            "colorscale": [
             [
              0,
              "#0d0887"
             ],
             [
              0.1111111111111111,
              "#46039f"
             ],
             [
              0.2222222222222222,
              "#7201a8"
             ],
             [
              0.3333333333333333,
              "#9c179e"
             ],
             [
              0.4444444444444444,
              "#bd3786"
             ],
             [
              0.5555555555555556,
              "#d8576b"
             ],
             [
              0.6666666666666666,
              "#ed7953"
             ],
             [
              0.7777777777777778,
              "#fb9f3a"
             ],
             [
              0.8888888888888888,
              "#fdca26"
             ],
             [
              1,
              "#f0f921"
             ]
            ],
            "type": "heatmapgl"
           }
          ],
          "histogram": [
           {
            "marker": {
             "pattern": {
              "fillmode": "overlay",
              "size": 10,
              "solidity": 0.2
             }
            },
            "type": "histogram"
           }
          ],
          "histogram2d": [
           {
            "colorbar": {
             "outlinewidth": 0,
             "ticks": ""
            },
            "colorscale": [
             [
              0,
              "#0d0887"
             ],
             [
              0.1111111111111111,
              "#46039f"
             ],
             [
              0.2222222222222222,
              "#7201a8"
             ],
             [
              0.3333333333333333,
              "#9c179e"
             ],
             [
              0.4444444444444444,
              "#bd3786"
             ],
             [
              0.5555555555555556,
              "#d8576b"
             ],
             [
              0.6666666666666666,
              "#ed7953"
             ],
             [
              0.7777777777777778,
              "#fb9f3a"
             ],
             [
              0.8888888888888888,
              "#fdca26"
             ],
             [
              1,
              "#f0f921"
             ]
            ],
            "type": "histogram2d"
           }
          ],
          "histogram2dcontour": [
           {
            "colorbar": {
             "outlinewidth": 0,
             "ticks": ""
            },
            "colorscale": [
             [
              0,
              "#0d0887"
             ],
             [
              0.1111111111111111,
              "#46039f"
             ],
             [
              0.2222222222222222,
              "#7201a8"
             ],
             [
              0.3333333333333333,
              "#9c179e"
             ],
             [
              0.4444444444444444,
              "#bd3786"
             ],
             [
              0.5555555555555556,
              "#d8576b"
             ],
             [
              0.6666666666666666,
              "#ed7953"
             ],
             [
              0.7777777777777778,
              "#fb9f3a"
             ],
             [
              0.8888888888888888,
              "#fdca26"
             ],
             [
              1,
              "#f0f921"
             ]
            ],
            "type": "histogram2dcontour"
           }
          ],
          "mesh3d": [
           {
            "colorbar": {
             "outlinewidth": 0,
             "ticks": ""
            },
            "type": "mesh3d"
           }
          ],
          "parcoords": [
           {
            "line": {
             "colorbar": {
              "outlinewidth": 0,
              "ticks": ""
             }
            },
            "type": "parcoords"
           }
          ],
          "pie": [
           {
            "automargin": true,
            "type": "pie"
           }
          ],
          "scatter": [
           {
            "fillpattern": {
             "fillmode": "overlay",
             "size": 10,
             "solidity": 0.2
            },
            "type": "scatter"
           }
          ],
          "scatter3d": [
           {
            "line": {
             "colorbar": {
              "outlinewidth": 0,
              "ticks": ""
             }
            },
            "marker": {
             "colorbar": {
              "outlinewidth": 0,
              "ticks": ""
             }
            },
            "type": "scatter3d"
           }
          ],
          "scattercarpet": [
           {
            "marker": {
             "colorbar": {
              "outlinewidth": 0,
              "ticks": ""
             }
            },
            "type": "scattercarpet"
           }
          ],
          "scattergeo": [
           {
            "marker": {
             "colorbar": {
              "outlinewidth": 0,
              "ticks": ""
             }
            },
            "type": "scattergeo"
           }
          ],
          "scattergl": [
           {
            "marker": {
             "colorbar": {
              "outlinewidth": 0,
              "ticks": ""
             }
            },
            "type": "scattergl"
           }
          ],
          "scattermapbox": [
           {
            "marker": {
             "colorbar": {
              "outlinewidth": 0,
              "ticks": ""
             }
            },
            "type": "scattermapbox"
           }
          ],
          "scatterpolar": [
           {
            "marker": {
             "colorbar": {
              "outlinewidth": 0,
              "ticks": ""
             }
            },
            "type": "scatterpolar"
           }
          ],
          "scatterpolargl": [
           {
            "marker": {
             "colorbar": {
              "outlinewidth": 0,
              "ticks": ""
             }
            },
            "type": "scatterpolargl"
           }
          ],
          "scatterternary": [
           {
            "marker": {
             "colorbar": {
              "outlinewidth": 0,
              "ticks": ""
             }
            },
            "type": "scatterternary"
           }
          ],
          "surface": [
           {
            "colorbar": {
             "outlinewidth": 0,
             "ticks": ""
            },
            "colorscale": [
             [
              0,
              "#0d0887"
             ],
             [
              0.1111111111111111,
              "#46039f"
             ],
             [
              0.2222222222222222,
              "#7201a8"
             ],
             [
              0.3333333333333333,
              "#9c179e"
             ],
             [
              0.4444444444444444,
              "#bd3786"
             ],
             [
              0.5555555555555556,
              "#d8576b"
             ],
             [
              0.6666666666666666,
              "#ed7953"
             ],
             [
              0.7777777777777778,
              "#fb9f3a"
             ],
             [
              0.8888888888888888,
              "#fdca26"
             ],
             [
              1,
              "#f0f921"
             ]
            ],
            "type": "surface"
           }
          ],
          "table": [
           {
            "cells": {
             "fill": {
              "color": "#EBF0F8"
             },
             "line": {
              "color": "white"
             }
            },
            "header": {
             "fill": {
              "color": "#C8D4E3"
             },
             "line": {
              "color": "white"
             }
            },
            "type": "table"
           }
          ]
         },
         "layout": {
          "annotationdefaults": {
           "arrowcolor": "#2a3f5f",
           "arrowhead": 0,
           "arrowwidth": 1
          },
          "autotypenumbers": "strict",
          "coloraxis": {
           "colorbar": {
            "outlinewidth": 0,
            "ticks": ""
           }
          },
          "colorscale": {
           "diverging": [
            [
             0,
             "#8e0152"
            ],
            [
             0.1,
             "#c51b7d"
            ],
            [
             0.2,
             "#de77ae"
            ],
            [
             0.3,
             "#f1b6da"
            ],
            [
             0.4,
             "#fde0ef"
            ],
            [
             0.5,
             "#f7f7f7"
            ],
            [
             0.6,
             "#e6f5d0"
            ],
            [
             0.7,
             "#b8e186"
            ],
            [
             0.8,
             "#7fbc41"
            ],
            [
             0.9,
             "#4d9221"
            ],
            [
             1,
             "#276419"
            ]
           ],
           "sequential": [
            [
             0,
             "#0d0887"
            ],
            [
             0.1111111111111111,
             "#46039f"
            ],
            [
             0.2222222222222222,
             "#7201a8"
            ],
            [
             0.3333333333333333,
             "#9c179e"
            ],
            [
             0.4444444444444444,
             "#bd3786"
            ],
            [
             0.5555555555555556,
             "#d8576b"
            ],
            [
             0.6666666666666666,
             "#ed7953"
            ],
            [
             0.7777777777777778,
             "#fb9f3a"
            ],
            [
             0.8888888888888888,
             "#fdca26"
            ],
            [
             1,
             "#f0f921"
            ]
           ],
           "sequentialminus": [
            [
             0,
             "#0d0887"
            ],
            [
             0.1111111111111111,
             "#46039f"
            ],
            [
             0.2222222222222222,
             "#7201a8"
            ],
            [
             0.3333333333333333,
             "#9c179e"
            ],
            [
             0.4444444444444444,
             "#bd3786"
            ],
            [
             0.5555555555555556,
             "#d8576b"
            ],
            [
             0.6666666666666666,
             "#ed7953"
            ],
            [
             0.7777777777777778,
             "#fb9f3a"
            ],
            [
             0.8888888888888888,
             "#fdca26"
            ],
            [
             1,
             "#f0f921"
            ]
           ]
          },
          "colorway": [
           "#636efa",
           "#EF553B",
           "#00cc96",
           "#ab63fa",
           "#FFA15A",
           "#19d3f3",
           "#FF6692",
           "#B6E880",
           "#FF97FF",
           "#FECB52"
          ],
          "font": {
           "color": "#2a3f5f"
          },
          "geo": {
           "bgcolor": "white",
           "lakecolor": "white",
           "landcolor": "#E5ECF6",
           "showlakes": true,
           "showland": true,
           "subunitcolor": "white"
          },
          "hoverlabel": {
           "align": "left"
          },
          "hovermode": "closest",
          "mapbox": {
           "style": "light"
          },
          "paper_bgcolor": "white",
          "plot_bgcolor": "#E5ECF6",
          "polar": {
           "angularaxis": {
            "gridcolor": "white",
            "linecolor": "white",
            "ticks": ""
           },
           "bgcolor": "#E5ECF6",
           "radialaxis": {
            "gridcolor": "white",
            "linecolor": "white",
            "ticks": ""
           }
          },
          "scene": {
           "xaxis": {
            "backgroundcolor": "#E5ECF6",
            "gridcolor": "white",
            "gridwidth": 2,
            "linecolor": "white",
            "showbackground": true,
            "ticks": "",
            "zerolinecolor": "white"
           },
           "yaxis": {
            "backgroundcolor": "#E5ECF6",
            "gridcolor": "white",
            "gridwidth": 2,
            "linecolor": "white",
            "showbackground": true,
            "ticks": "",
            "zerolinecolor": "white"
           },
           "zaxis": {
            "backgroundcolor": "#E5ECF6",
            "gridcolor": "white",
            "gridwidth": 2,
            "linecolor": "white",
            "showbackground": true,
            "ticks": "",
            "zerolinecolor": "white"
           }
          },
          "shapedefaults": {
           "line": {
            "color": "#2a3f5f"
           }
          },
          "ternary": {
           "aaxis": {
            "gridcolor": "white",
            "linecolor": "white",
            "ticks": ""
           },
           "baxis": {
            "gridcolor": "white",
            "linecolor": "white",
            "ticks": ""
           },
           "bgcolor": "#E5ECF6",
           "caxis": {
            "gridcolor": "white",
            "linecolor": "white",
            "ticks": ""
           }
          },
          "title": {
           "x": 0.05
          },
          "xaxis": {
           "automargin": true,
           "gridcolor": "white",
           "linecolor": "white",
           "ticks": "",
           "title": {
            "standoff": 15
           },
           "zerolinecolor": "white",
           "zerolinewidth": 2
          },
          "yaxis": {
           "automargin": true,
           "gridcolor": "white",
           "linecolor": "white",
           "ticks": "",
           "title": {
            "standoff": 15
           },
           "zerolinecolor": "white",
           "zerolinewidth": 2
          }
         }
        },
        "title": {
         "font": {
          "color": "#4D5663"
         }
        },
        "xaxis": {
         "gridcolor": "#E1E5ED",
         "showgrid": true,
         "tickfont": {
          "color": "#4D5663"
         },
         "title": {
          "font": {
           "color": "#4D5663"
          },
          "text": ""
         },
         "zerolinecolor": "#E1E5ED"
        },
        "yaxis": {
         "gridcolor": "#E1E5ED",
         "showgrid": true,
         "tickfont": {
          "color": "#4D5663"
         },
         "title": {
          "font": {
           "color": "#4D5663"
          },
          "text": ""
         },
         "zerolinecolor": "#E1E5ED"
        }
       }
      },
      "text/html": [
       "<div>                            <div id=\"21e0a613-51f1-4897-8a13-e37d7f7937ed\" class=\"plotly-graph-div\" style=\"height:525px; width:100%;\"></div>            <script type=\"text/javascript\">                require([\"plotly\"], function(Plotly) {                    window.PLOTLYENV=window.PLOTLYENV || {};\n",
       "                    window.PLOTLYENV.BASE_URL='https://plot.ly';                                    if (document.getElementById(\"21e0a613-51f1-4897-8a13-e37d7f7937ed\")) {                    Plotly.newPlot(                        \"21e0a613-51f1-4897-8a13-e37d7f7937ed\",                        [{\"marker\":{\"color\":\"rgba(255, 153, 51, 0.6)\",\"line\":{\"color\":\"rgba(255, 153, 51, 1.0)\",\"width\":1}},\"name\":\"None\",\"orientation\":\"v\",\"text\":\"\",\"x\":[\"A\",\"B\",\"C\",\"D\"],\"y\":[100,100,100,100],\"type\":\"bar\"}],                        {\"legend\":{\"bgcolor\":\"#F5F6F9\",\"font\":{\"color\":\"#4D5663\"}},\"paper_bgcolor\":\"#F5F6F9\",\"plot_bgcolor\":\"#F5F6F9\",\"template\":{\"data\":{\"barpolar\":[{\"marker\":{\"line\":{\"color\":\"#E5ECF6\",\"width\":0.5},\"pattern\":{\"fillmode\":\"overlay\",\"size\":10,\"solidity\":0.2}},\"type\":\"barpolar\"}],\"bar\":[{\"error_x\":{\"color\":\"#2a3f5f\"},\"error_y\":{\"color\":\"#2a3f5f\"},\"marker\":{\"line\":{\"color\":\"#E5ECF6\",\"width\":0.5},\"pattern\":{\"fillmode\":\"overlay\",\"size\":10,\"solidity\":0.2}},\"type\":\"bar\"}],\"carpet\":[{\"aaxis\":{\"endlinecolor\":\"#2a3f5f\",\"gridcolor\":\"white\",\"linecolor\":\"white\",\"minorgridcolor\":\"white\",\"startlinecolor\":\"#2a3f5f\"},\"baxis\":{\"endlinecolor\":\"#2a3f5f\",\"gridcolor\":\"white\",\"linecolor\":\"white\",\"minorgridcolor\":\"white\",\"startlinecolor\":\"#2a3f5f\"},\"type\":\"carpet\"}],\"choropleth\":[{\"colorbar\":{\"outlinewidth\":0,\"ticks\":\"\"},\"type\":\"choropleth\"}],\"contourcarpet\":[{\"colorbar\":{\"outlinewidth\":0,\"ticks\":\"\"},\"type\":\"contourcarpet\"}],\"contour\":[{\"colorbar\":{\"outlinewidth\":0,\"ticks\":\"\"},\"colorscale\":[[0.0,\"#0d0887\"],[0.1111111111111111,\"#46039f\"],[0.2222222222222222,\"#7201a8\"],[0.3333333333333333,\"#9c179e\"],[0.4444444444444444,\"#bd3786\"],[0.5555555555555556,\"#d8576b\"],[0.6666666666666666,\"#ed7953\"],[0.7777777777777778,\"#fb9f3a\"],[0.8888888888888888,\"#fdca26\"],[1.0,\"#f0f921\"]],\"type\":\"contour\"}],\"heatmapgl\":[{\"colorbar\":{\"outlinewidth\":0,\"ticks\":\"\"},\"colorscale\":[[0.0,\"#0d0887\"],[0.1111111111111111,\"#46039f\"],[0.2222222222222222,\"#7201a8\"],[0.3333333333333333,\"#9c179e\"],[0.4444444444444444,\"#bd3786\"],[0.5555555555555556,\"#d8576b\"],[0.6666666666666666,\"#ed7953\"],[0.7777777777777778,\"#fb9f3a\"],[0.8888888888888888,\"#fdca26\"],[1.0,\"#f0f921\"]],\"type\":\"heatmapgl\"}],\"heatmap\":[{\"colorbar\":{\"outlinewidth\":0,\"ticks\":\"\"},\"colorscale\":[[0.0,\"#0d0887\"],[0.1111111111111111,\"#46039f\"],[0.2222222222222222,\"#7201a8\"],[0.3333333333333333,\"#9c179e\"],[0.4444444444444444,\"#bd3786\"],[0.5555555555555556,\"#d8576b\"],[0.6666666666666666,\"#ed7953\"],[0.7777777777777778,\"#fb9f3a\"],[0.8888888888888888,\"#fdca26\"],[1.0,\"#f0f921\"]],\"type\":\"heatmap\"}],\"histogram2dcontour\":[{\"colorbar\":{\"outlinewidth\":0,\"ticks\":\"\"},\"colorscale\":[[0.0,\"#0d0887\"],[0.1111111111111111,\"#46039f\"],[0.2222222222222222,\"#7201a8\"],[0.3333333333333333,\"#9c179e\"],[0.4444444444444444,\"#bd3786\"],[0.5555555555555556,\"#d8576b\"],[0.6666666666666666,\"#ed7953\"],[0.7777777777777778,\"#fb9f3a\"],[0.8888888888888888,\"#fdca26\"],[1.0,\"#f0f921\"]],\"type\":\"histogram2dcontour\"}],\"histogram2d\":[{\"colorbar\":{\"outlinewidth\":0,\"ticks\":\"\"},\"colorscale\":[[0.0,\"#0d0887\"],[0.1111111111111111,\"#46039f\"],[0.2222222222222222,\"#7201a8\"],[0.3333333333333333,\"#9c179e\"],[0.4444444444444444,\"#bd3786\"],[0.5555555555555556,\"#d8576b\"],[0.6666666666666666,\"#ed7953\"],[0.7777777777777778,\"#fb9f3a\"],[0.8888888888888888,\"#fdca26\"],[1.0,\"#f0f921\"]],\"type\":\"histogram2d\"}],\"histogram\":[{\"marker\":{\"pattern\":{\"fillmode\":\"overlay\",\"size\":10,\"solidity\":0.2}},\"type\":\"histogram\"}],\"mesh3d\":[{\"colorbar\":{\"outlinewidth\":0,\"ticks\":\"\"},\"type\":\"mesh3d\"}],\"parcoords\":[{\"line\":{\"colorbar\":{\"outlinewidth\":0,\"ticks\":\"\"}},\"type\":\"parcoords\"}],\"pie\":[{\"automargin\":true,\"type\":\"pie\"}],\"scatter3d\":[{\"line\":{\"colorbar\":{\"outlinewidth\":0,\"ticks\":\"\"}},\"marker\":{\"colorbar\":{\"outlinewidth\":0,\"ticks\":\"\"}},\"type\":\"scatter3d\"}],\"scattercarpet\":[{\"marker\":{\"colorbar\":{\"outlinewidth\":0,\"ticks\":\"\"}},\"type\":\"scattercarpet\"}],\"scattergeo\":[{\"marker\":{\"colorbar\":{\"outlinewidth\":0,\"ticks\":\"\"}},\"type\":\"scattergeo\"}],\"scattergl\":[{\"marker\":{\"colorbar\":{\"outlinewidth\":0,\"ticks\":\"\"}},\"type\":\"scattergl\"}],\"scattermapbox\":[{\"marker\":{\"colorbar\":{\"outlinewidth\":0,\"ticks\":\"\"}},\"type\":\"scattermapbox\"}],\"scatterpolargl\":[{\"marker\":{\"colorbar\":{\"outlinewidth\":0,\"ticks\":\"\"}},\"type\":\"scatterpolargl\"}],\"scatterpolar\":[{\"marker\":{\"colorbar\":{\"outlinewidth\":0,\"ticks\":\"\"}},\"type\":\"scatterpolar\"}],\"scatter\":[{\"fillpattern\":{\"fillmode\":\"overlay\",\"size\":10,\"solidity\":0.2},\"type\":\"scatter\"}],\"scatterternary\":[{\"marker\":{\"colorbar\":{\"outlinewidth\":0,\"ticks\":\"\"}},\"type\":\"scatterternary\"}],\"surface\":[{\"colorbar\":{\"outlinewidth\":0,\"ticks\":\"\"},\"colorscale\":[[0.0,\"#0d0887\"],[0.1111111111111111,\"#46039f\"],[0.2222222222222222,\"#7201a8\"],[0.3333333333333333,\"#9c179e\"],[0.4444444444444444,\"#bd3786\"],[0.5555555555555556,\"#d8576b\"],[0.6666666666666666,\"#ed7953\"],[0.7777777777777778,\"#fb9f3a\"],[0.8888888888888888,\"#fdca26\"],[1.0,\"#f0f921\"]],\"type\":\"surface\"}],\"table\":[{\"cells\":{\"fill\":{\"color\":\"#EBF0F8\"},\"line\":{\"color\":\"white\"}},\"header\":{\"fill\":{\"color\":\"#C8D4E3\"},\"line\":{\"color\":\"white\"}},\"type\":\"table\"}]},\"layout\":{\"annotationdefaults\":{\"arrowcolor\":\"#2a3f5f\",\"arrowhead\":0,\"arrowwidth\":1},\"autotypenumbers\":\"strict\",\"coloraxis\":{\"colorbar\":{\"outlinewidth\":0,\"ticks\":\"\"}},\"colorscale\":{\"diverging\":[[0,\"#8e0152\"],[0.1,\"#c51b7d\"],[0.2,\"#de77ae\"],[0.3,\"#f1b6da\"],[0.4,\"#fde0ef\"],[0.5,\"#f7f7f7\"],[0.6,\"#e6f5d0\"],[0.7,\"#b8e186\"],[0.8,\"#7fbc41\"],[0.9,\"#4d9221\"],[1,\"#276419\"]],\"sequential\":[[0.0,\"#0d0887\"],[0.1111111111111111,\"#46039f\"],[0.2222222222222222,\"#7201a8\"],[0.3333333333333333,\"#9c179e\"],[0.4444444444444444,\"#bd3786\"],[0.5555555555555556,\"#d8576b\"],[0.6666666666666666,\"#ed7953\"],[0.7777777777777778,\"#fb9f3a\"],[0.8888888888888888,\"#fdca26\"],[1.0,\"#f0f921\"]],\"sequentialminus\":[[0.0,\"#0d0887\"],[0.1111111111111111,\"#46039f\"],[0.2222222222222222,\"#7201a8\"],[0.3333333333333333,\"#9c179e\"],[0.4444444444444444,\"#bd3786\"],[0.5555555555555556,\"#d8576b\"],[0.6666666666666666,\"#ed7953\"],[0.7777777777777778,\"#fb9f3a\"],[0.8888888888888888,\"#fdca26\"],[1.0,\"#f0f921\"]]},\"colorway\":[\"#636efa\",\"#EF553B\",\"#00cc96\",\"#ab63fa\",\"#FFA15A\",\"#19d3f3\",\"#FF6692\",\"#B6E880\",\"#FF97FF\",\"#FECB52\"],\"font\":{\"color\":\"#2a3f5f\"},\"geo\":{\"bgcolor\":\"white\",\"lakecolor\":\"white\",\"landcolor\":\"#E5ECF6\",\"showlakes\":true,\"showland\":true,\"subunitcolor\":\"white\"},\"hoverlabel\":{\"align\":\"left\"},\"hovermode\":\"closest\",\"mapbox\":{\"style\":\"light\"},\"paper_bgcolor\":\"white\",\"plot_bgcolor\":\"#E5ECF6\",\"polar\":{\"angularaxis\":{\"gridcolor\":\"white\",\"linecolor\":\"white\",\"ticks\":\"\"},\"bgcolor\":\"#E5ECF6\",\"radialaxis\":{\"gridcolor\":\"white\",\"linecolor\":\"white\",\"ticks\":\"\"}},\"scene\":{\"xaxis\":{\"backgroundcolor\":\"#E5ECF6\",\"gridcolor\":\"white\",\"gridwidth\":2,\"linecolor\":\"white\",\"showbackground\":true,\"ticks\":\"\",\"zerolinecolor\":\"white\"},\"yaxis\":{\"backgroundcolor\":\"#E5ECF6\",\"gridcolor\":\"white\",\"gridwidth\":2,\"linecolor\":\"white\",\"showbackground\":true,\"ticks\":\"\",\"zerolinecolor\":\"white\"},\"zaxis\":{\"backgroundcolor\":\"#E5ECF6\",\"gridcolor\":\"white\",\"gridwidth\":2,\"linecolor\":\"white\",\"showbackground\":true,\"ticks\":\"\",\"zerolinecolor\":\"white\"}},\"shapedefaults\":{\"line\":{\"color\":\"#2a3f5f\"}},\"ternary\":{\"aaxis\":{\"gridcolor\":\"white\",\"linecolor\":\"white\",\"ticks\":\"\"},\"baxis\":{\"gridcolor\":\"white\",\"linecolor\":\"white\",\"ticks\":\"\"},\"bgcolor\":\"#E5ECF6\",\"caxis\":{\"gridcolor\":\"white\",\"linecolor\":\"white\",\"ticks\":\"\"}},\"title\":{\"x\":0.05},\"xaxis\":{\"automargin\":true,\"gridcolor\":\"white\",\"linecolor\":\"white\",\"ticks\":\"\",\"title\":{\"standoff\":15},\"zerolinecolor\":\"white\",\"zerolinewidth\":2},\"yaxis\":{\"automargin\":true,\"gridcolor\":\"white\",\"linecolor\":\"white\",\"ticks\":\"\",\"title\":{\"standoff\":15},\"zerolinecolor\":\"white\",\"zerolinewidth\":2}}},\"title\":{\"font\":{\"color\":\"#4D5663\"}},\"xaxis\":{\"gridcolor\":\"#E1E5ED\",\"showgrid\":true,\"tickfont\":{\"color\":\"#4D5663\"},\"title\":{\"font\":{\"color\":\"#4D5663\"},\"text\":\"\"},\"zerolinecolor\":\"#E1E5ED\"},\"yaxis\":{\"gridcolor\":\"#E1E5ED\",\"showgrid\":true,\"tickfont\":{\"color\":\"#4D5663\"},\"title\":{\"font\":{\"color\":\"#4D5663\"},\"text\":\"\"},\"zerolinecolor\":\"#E1E5ED\"}},                        {\"showLink\": true, \"linkText\": \"Export to plot.ly\", \"plotlyServerURL\": \"https://plot.ly\", \"responsive\": true}                    ).then(function(){\n",
       "                            \n",
       "var gd = document.getElementById('21e0a613-51f1-4897-8a13-e37d7f7937ed');\n",
       "var x = new MutationObserver(function (mutations, observer) {{\n",
       "        var display = window.getComputedStyle(gd).display;\n",
       "        if (!display || display === 'none') {{\n",
       "            console.log([gd, 'removed!']);\n",
       "            Plotly.purge(gd);\n",
       "            observer.disconnect();\n",
       "        }}\n",
       "}});\n",
       "\n",
       "// Listen for the removal of the full notebook cells\n",
       "var notebookContainer = gd.closest('#notebook-container');\n",
       "if (notebookContainer) {{\n",
       "    x.observe(notebookContainer, {childList: true});\n",
       "}}\n",
       "\n",
       "// Listen for the clearing of the current output cell\n",
       "var outputEl = gd.closest('.output');\n",
       "if (outputEl) {{\n",
       "    x.observe(outputEl, {childList: true});\n",
       "}}\n",
       "\n",
       "                        })                };                });            </script>        </div>"
      ]
     },
     "metadata": {},
     "output_type": "display_data"
    }
   ],
   "source": [
    "df.count().iplot(kind='bar')"
   ]
  },
  {
   "cell_type": "code",
   "execution_count": 15,
   "metadata": {},
   "outputs": [
    {
     "data": {
      "application/vnd.plotly.v1+json": {
       "config": {
        "linkText": "Export to plot.ly",
        "plotlyServerURL": "https://plot.ly",
        "showLink": true
       },
       "data": [
        {
         "boxpoints": false,
         "line": {
          "width": 1.3
         },
         "marker": {
          "color": "rgba(255, 153, 51, 1.0)"
         },
         "name": "A",
         "orientation": "v",
         "type": "box",
         "y": [
          0.3088324856892706,
          -0.3181018657763986,
          -0.3255636066105028,
          -0.19236064939448894,
          -0.31705847833897705,
          -0.3637990623796339,
          1.7381070856119816,
          -1.6365618661350712,
          1.207602245302151,
          0.5795086591513585,
          0.3870112639907086,
          -0.10402522952978051,
          0.39876508426736096,
          0.058877024328745,
          2.046305095259285,
          -0.06205058952363449,
          -0.5088513253753721,
          1.7060136114179525,
          -0.832794298194402,
          0.740658198328443,
          0.9254554710965845,
          -0.5070103677145493,
          -1.4570107579482992,
          -0.24365430134011537,
          1.1676646218937359,
          -0.311995182369368,
          0.7109016891661052,
          -1.0364988054373834,
          -1.09996944787571,
          -0.12594993434748722,
          1.7722816783788544,
          -0.3997032204298883,
          -0.9323688783891173,
          -0.8890050506577837,
          -1.2253267838890964,
          -0.9006985743648436,
          -0.5349749662875761,
          0.8166480990698793,
          -0.7104178965845112,
          -0.3457486752396018,
          2.959469692485582,
          0.23534877803905693,
          0.966630327587809,
          2.4381924323134023,
          -0.30413100985165104,
          -0.05444955774883802,
          0.878998226071373,
          -1.1152616224785363,
          -0.6218799711578149,
          -1.4821637745829594,
          -0.9646987993706798,
          -0.18625141720567243,
          1.082688995662202,
          0.1551996500811465,
          0.6927369140060691,
          -0.4943669432520142,
          0.4662627587205149,
          1.1358562871588116,
          0.013461325519304344,
          0.7146192694121911,
          0.49813190363407545,
          -0.36725654791870793,
          -1.3353814443706784,
          2.5521770370452495,
          -1.4182599967967349,
          -0.43289339497198265,
          1.0100491406976808,
          0.016329224880536244,
          1.3886393871899374,
          0.9613206589194162,
          -1.5355067481574007,
          1.184697490716947,
          2.3216104010354237,
          -2.0445540506204263,
          -0.5871771419671978,
          1.2734450444863539,
          1.4195058858709837,
          0.8390940119444251,
          0.13116077472428445,
          -0.06590812174109323,
          -0.6968929236770744,
          -1.1389255549844535,
          -0.04754382317161936,
          -0.2248628873615001,
          0.7753734423955779,
          -0.18074714231253064,
          -0.8355014732267162,
          0.8467980360783912,
          0.38239269938737475,
          -0.9905196586110199,
          0.9499548630576228,
          -0.6045266692700999,
          1.261098538014877,
          -1.9887055698509426,
          0.8438845678507609,
          -0.5886865644903774,
          0.8100195951040792,
          -1.1556415592736307,
          -0.07990340462631895,
          -0.6901560499125757
         ]
        },
        {
         "boxpoints": false,
         "line": {
          "width": 1.3
         },
         "marker": {
          "color": "rgba(55, 128, 191, 1.0)"
         },
         "name": "B",
         "orientation": "v",
         "type": "box",
         "y": [
          -0.4516907935643547,
          1.9112976940760542,
          0.016278191613616856,
          -1.5612510125262646,
          1.274813950179761,
          -1.6126805385966763,
          -2.2821957251904537,
          0.2089866829343159,
          -0.8429670959668712,
          -0.1760004882461311,
          -0.28365499381420106,
          -0.33009201915794384,
          1.073630642032631,
          -0.6400132697192715,
          -1.6190174132021233,
          -0.8066969102906225,
          -0.7976712506251615,
          -0.04786740123194217,
          0.0036016919413261912,
          0.9796573940454502,
          0.41890900093567296,
          -0.4651558301356142,
          0.3967128531212736,
          0.3647102645827066,
          2.3635634839500868,
          1.690659593065594,
          -0.12958185421349058,
          1.1451978672201555,
          -0.5445427235078433,
          0.23184905659203003,
          -0.661231661728734,
          -1.3468812161015062,
          -0.12597790256040473,
          -0.7661206376129771,
          0.6726122485131029,
          0.8890951709181736,
          0.07540556913641484,
          -0.5375263337691439,
          0.9102631893960552,
          -1.5706703434768574,
          -0.06651099933796677,
          1.9575820573574008,
          0.5984037057002887,
          -0.29279137068526834,
          0.8608585157666441,
          -0.5722289975411223,
          0.2167161010616931,
          -0.07729590112916514,
          -0.11686005672031406,
          0.5093443084130719,
          -0.9960610113310893,
          -1.7664698608708074,
          0.8343471753750914,
          1.4158114289369463,
          -1.3956435087990042,
          0.05322552854207203,
          -0.9523509773763503,
          -0.6663310368452604,
          -1.0650812212374816,
          -1.0140209385032657,
          0.11207349468470248,
          -0.5104156544641547,
          1.234706908081769,
          2.0556699493257153,
          0.535280282309938,
          0.22644574445244361,
          -1.0778958754538086,
          0.49053867687206737,
          -1.0182020417594757,
          0.2268549447273603,
          -1.2811762721246358,
          -1.9424396249265408,
          0.2047971602644152,
          0.6420282395857231,
          -1.051774222557932,
          -0.38613327141997705,
          0.6988444446067775,
          0.22176227835569992,
          -1.3850991419989536,
          3.170042786967088,
          0.9760411158462163,
          0.9843606399408203,
          0.21425644495420632,
          -0.1454975927098459,
          1.1360264375085198,
          1.4965769407068956,
          2.0212430515195114,
          0.6535613771609278,
          -0.20778690624197377,
          0.05133141205531726,
          1.5951808004389887,
          0.024862938608334953,
          -1.0341191496383413,
          -0.6309259671022158,
          1.8896170951490574,
          1.0544275134607926,
          -1.803050885322603,
          -0.3481509866491919,
          0.3364817028101488,
          -1.0504744495799234
         ]
        },
        {
         "boxpoints": false,
         "line": {
          "width": 1.3
         },
         "marker": {
          "color": "rgba(50, 171, 96, 1.0)"
         },
         "name": "C",
         "orientation": "v",
         "type": "box",
         "y": [
          -1.0646017191384958,
          0.3321920056960001,
          0.6090565112004517,
          -0.6768570819529374,
          -1.071852230152099,
          -0.24855490387020623,
          -1.2222945542298218,
          -0.7322520382168999,
          2.007825808431446,
          -1.0809123274250112,
          -0.11768824980515039,
          -0.34824883740229345,
          -2.2102969564934667,
          0.9565145379687646,
          -0.12417288508694992,
          2.5823146845108242,
          -2.5287024344669775,
          0.4362370346281354,
          0.08121332970927614,
          -1.4921165100303635,
          1.6166003234227755,
          -1.4695942662227708,
          -0.664102522913956,
          -0.36173738383003123,
          1.467965131525319,
          -0.7817816097642503,
          0.09113405686085366,
          1.352614849916358,
          0.21845700235223287,
          -0.8666878726761752,
          1.1498623968326704,
          0.6270341179443294,
          -1.2159888452185579,
          -2.2367407252258773,
          -1.8241905902059923,
          0.1026918667007109,
          -0.5166984158018366,
          -0.8292277504276038,
          1.1139658929156906,
          0.2582461320386364,
          0.22881042527798265,
          1.347821385670737,
          -0.39667707539964553,
          -1.01167711089197,
          -1.6452610840325774,
          0.29628469907043403,
          0.8598128977845043,
          -0.5560416129710283,
          0.9754877209968313,
          -0.001531870216110855,
          -1.032713818364518,
          -0.9648044180053544,
          0.47594295770189793,
          1.0131918766811312,
          2.410196583079355,
          -1.0000870823338293,
          0.42597637653947035,
          0.3018209684464047,
          -0.6207139460615639,
          0.31005535132277434,
          -0.7429817744889307,
          -0.5925940932553534,
          -0.5284619483949309,
          -2.3237684125449984,
          -0.5358627855578586,
          1.0616177200023125,
          -0.9868376386319648,
          0.1293571158515564,
          -0.6002669440068523,
          0.19344541722782177,
          -0.35028462645634595,
          -0.12053593614707578,
          -0.7195975566273206,
          -0.9420064603175615,
          -0.7368035591177027,
          1.0497050421378742,
          0.27064584782110357,
          -0.09930314779047857,
          -1.448750204622501,
          1.5184863376584545,
          0.13878103585449492,
          0.199580322535217,
          -0.7704516727675462,
          0.8997656223843715,
          0.7230120206437123,
          -0.1574469294514196,
          -0.010010105070724269,
          -0.7093881759296811,
          -0.7344249093563884,
          -0.33452298887329696,
          0.0861567927114379,
          -0.1515132843737287,
          -0.27696493836830705,
          -0.9487310945588182,
          -0.0260201937881905,
          1.6195850610439397,
          -1.0839434795958491,
          -1.596912397493733,
          0.32076136805352334,
          -0.4108168750574777
         ]
        },
        {
         "boxpoints": false,
         "line": {
          "width": 1.3
         },
         "marker": {
          "color": "rgba(128, 0, 128, 1.0)"
         },
         "name": "D",
         "orientation": "v",
         "type": "box",
         "y": [
          0.7359993751785493,
          -0.17557093116207317,
          -1.0787873828263503,
          0.6035518134908985,
          0.18167981687568469,
          -0.13124280844835975,
          -0.7084856824897063,
          1.2940719925638406,
          1.3883725849693922,
          -1.4999675734073792,
          -1.5570482851942902,
          -1.349761275032151,
          1.4488471760026187,
          -0.35242888480728524,
          2.2964313296795518,
          -0.5026466049941553,
          -1.7407603578263977,
          0.8987095928114365,
          -0.9605717646133486,
          -1.9544530420613735,
          -0.11057480590181805,
          -0.5820224508966013,
          1.0177299096668178,
          -1.0533154734482344,
          -0.2955482358631533,
          -1.1178890983019882,
          -0.8729133399199831,
          1.6930197330684553,
          -1.4085572541107982,
          -0.7696207939219283,
          -1.1528321094752807,
          0.8227720831940336,
          2.6206574141614865,
          -2.1601402362881577,
          0.8230538217782262,
          0.1540482063819723,
          1.188881265442298,
          -1.412056212300905,
          0.0045927045303107514,
          1.5268714584088512,
          -0.7574748531756668,
          0.5253191985201252,
          -0.7185703785067633,
          1.5334998677776444,
          0.28463919477284333,
          -0.7208273287760024,
          0.5069215950345374,
          0.24519087482467536,
          -0.061549281746454715,
          -1.9698291121616318,
          -0.29575631687560344,
          -1.4980709403457635,
          0.1823380223859322,
          0.7356697165657845,
          -1.2048064883977898,
          -0.4226840602956971,
          0.17684583038739413,
          -0.9859889814806736,
          -0.4818464109298942,
          -0.23513066437363495,
          -0.8163061201015447,
          0.10131426707869867,
          1.1711699293601858,
          -0.8576450485660422,
          -0.34952503702276455,
          -0.4687584668293646,
          0.971603378111854,
          0.7140419326194309,
          2.097600376291275,
          -1.2668312081894249,
          1.5143075166390583,
          0.20665296318028079,
          -1.6665622009528187,
          -0.9131017150669157,
          0.4896363745457838,
          -0.327491791644748,
          0.352250197225543,
          1.2312345592253773,
          0.8850452989683344,
          1.1207003735615513,
          0.21928808851024795,
          0.428652671748359,
          1.540270302284598,
          0.13889038463353362,
          -0.7238454055858894,
          0.4439935804565157,
          1.5173699549790023,
          1.8610768883695068,
          -0.14578225192931238,
          -0.32877649828735056,
          -0.507128933182429,
          0.702742931103773,
          0.40491720787557434,
          -0.3822888160202697,
          -1.0831297740506902,
          -1.8135514824209737,
          -0.24403701726307125,
          0.39519202029123657,
          0.6641580158363705,
          0.2820828673966256
         ]
        }
       ],
       "layout": {
        "legend": {
         "bgcolor": "#F5F6F9",
         "font": {
          "color": "#4D5663"
         }
        },
        "paper_bgcolor": "#F5F6F9",
        "plot_bgcolor": "#F5F6F9",
        "template": {
         "data": {
          "bar": [
           {
            "error_x": {
             "color": "#2a3f5f"
            },
            "error_y": {
             "color": "#2a3f5f"
            },
            "marker": {
             "line": {
              "color": "#E5ECF6",
              "width": 0.5
             },
             "pattern": {
              "fillmode": "overlay",
              "size": 10,
              "solidity": 0.2
             }
            },
            "type": "bar"
           }
          ],
          "barpolar": [
           {
            "marker": {
             "line": {
              "color": "#E5ECF6",
              "width": 0.5
             },
             "pattern": {
              "fillmode": "overlay",
              "size": 10,
              "solidity": 0.2
             }
            },
            "type": "barpolar"
           }
          ],
          "carpet": [
           {
            "aaxis": {
             "endlinecolor": "#2a3f5f",
             "gridcolor": "white",
             "linecolor": "white",
             "minorgridcolor": "white",
             "startlinecolor": "#2a3f5f"
            },
            "baxis": {
             "endlinecolor": "#2a3f5f",
             "gridcolor": "white",
             "linecolor": "white",
             "minorgridcolor": "white",
             "startlinecolor": "#2a3f5f"
            },
            "type": "carpet"
           }
          ],
          "choropleth": [
           {
            "colorbar": {
             "outlinewidth": 0,
             "ticks": ""
            },
            "type": "choropleth"
           }
          ],
          "contour": [
           {
            "colorbar": {
             "outlinewidth": 0,
             "ticks": ""
            },
            "colorscale": [
             [
              0,
              "#0d0887"
             ],
             [
              0.1111111111111111,
              "#46039f"
             ],
             [
              0.2222222222222222,
              "#7201a8"
             ],
             [
              0.3333333333333333,
              "#9c179e"
             ],
             [
              0.4444444444444444,
              "#bd3786"
             ],
             [
              0.5555555555555556,
              "#d8576b"
             ],
             [
              0.6666666666666666,
              "#ed7953"
             ],
             [
              0.7777777777777778,
              "#fb9f3a"
             ],
             [
              0.8888888888888888,
              "#fdca26"
             ],
             [
              1,
              "#f0f921"
             ]
            ],
            "type": "contour"
           }
          ],
          "contourcarpet": [
           {
            "colorbar": {
             "outlinewidth": 0,
             "ticks": ""
            },
            "type": "contourcarpet"
           }
          ],
          "heatmap": [
           {
            "colorbar": {
             "outlinewidth": 0,
             "ticks": ""
            },
            "colorscale": [
             [
              0,
              "#0d0887"
             ],
             [
              0.1111111111111111,
              "#46039f"
             ],
             [
              0.2222222222222222,
              "#7201a8"
             ],
             [
              0.3333333333333333,
              "#9c179e"
             ],
             [
              0.4444444444444444,
              "#bd3786"
             ],
             [
              0.5555555555555556,
              "#d8576b"
             ],
             [
              0.6666666666666666,
              "#ed7953"
             ],
             [
              0.7777777777777778,
              "#fb9f3a"
             ],
             [
              0.8888888888888888,
              "#fdca26"
             ],
             [
              1,
              "#f0f921"
             ]
            ],
            "type": "heatmap"
           }
          ],
          "heatmapgl": [
           {
            "colorbar": {
             "outlinewidth": 0,
             "ticks": ""
            },
            "colorscale": [
             [
              0,
              "#0d0887"
             ],
             [
              0.1111111111111111,
              "#46039f"
             ],
             [
              0.2222222222222222,
              "#7201a8"
             ],
             [
              0.3333333333333333,
              "#9c179e"
             ],
             [
              0.4444444444444444,
              "#bd3786"
             ],
             [
              0.5555555555555556,
              "#d8576b"
             ],
             [
              0.6666666666666666,
              "#ed7953"
             ],
             [
              0.7777777777777778,
              "#fb9f3a"
             ],
             [
              0.8888888888888888,
              "#fdca26"
             ],
             [
              1,
              "#f0f921"
             ]
            ],
            "type": "heatmapgl"
           }
          ],
          "histogram": [
           {
            "marker": {
             "pattern": {
              "fillmode": "overlay",
              "size": 10,
              "solidity": 0.2
             }
            },
            "type": "histogram"
           }
          ],
          "histogram2d": [
           {
            "colorbar": {
             "outlinewidth": 0,
             "ticks": ""
            },
            "colorscale": [
             [
              0,
              "#0d0887"
             ],
             [
              0.1111111111111111,
              "#46039f"
             ],
             [
              0.2222222222222222,
              "#7201a8"
             ],
             [
              0.3333333333333333,
              "#9c179e"
             ],
             [
              0.4444444444444444,
              "#bd3786"
             ],
             [
              0.5555555555555556,
              "#d8576b"
             ],
             [
              0.6666666666666666,
              "#ed7953"
             ],
             [
              0.7777777777777778,
              "#fb9f3a"
             ],
             [
              0.8888888888888888,
              "#fdca26"
             ],
             [
              1,
              "#f0f921"
             ]
            ],
            "type": "histogram2d"
           }
          ],
          "histogram2dcontour": [
           {
            "colorbar": {
             "outlinewidth": 0,
             "ticks": ""
            },
            "colorscale": [
             [
              0,
              "#0d0887"
             ],
             [
              0.1111111111111111,
              "#46039f"
             ],
             [
              0.2222222222222222,
              "#7201a8"
             ],
             [
              0.3333333333333333,
              "#9c179e"
             ],
             [
              0.4444444444444444,
              "#bd3786"
             ],
             [
              0.5555555555555556,
              "#d8576b"
             ],
             [
              0.6666666666666666,
              "#ed7953"
             ],
             [
              0.7777777777777778,
              "#fb9f3a"
             ],
             [
              0.8888888888888888,
              "#fdca26"
             ],
             [
              1,
              "#f0f921"
             ]
            ],
            "type": "histogram2dcontour"
           }
          ],
          "mesh3d": [
           {
            "colorbar": {
             "outlinewidth": 0,
             "ticks": ""
            },
            "type": "mesh3d"
           }
          ],
          "parcoords": [
           {
            "line": {
             "colorbar": {
              "outlinewidth": 0,
              "ticks": ""
             }
            },
            "type": "parcoords"
           }
          ],
          "pie": [
           {
            "automargin": true,
            "type": "pie"
           }
          ],
          "scatter": [
           {
            "fillpattern": {
             "fillmode": "overlay",
             "size": 10,
             "solidity": 0.2
            },
            "type": "scatter"
           }
          ],
          "scatter3d": [
           {
            "line": {
             "colorbar": {
              "outlinewidth": 0,
              "ticks": ""
             }
            },
            "marker": {
             "colorbar": {
              "outlinewidth": 0,
              "ticks": ""
             }
            },
            "type": "scatter3d"
           }
          ],
          "scattercarpet": [
           {
            "marker": {
             "colorbar": {
              "outlinewidth": 0,
              "ticks": ""
             }
            },
            "type": "scattercarpet"
           }
          ],
          "scattergeo": [
           {
            "marker": {
             "colorbar": {
              "outlinewidth": 0,
              "ticks": ""
             }
            },
            "type": "scattergeo"
           }
          ],
          "scattergl": [
           {
            "marker": {
             "colorbar": {
              "outlinewidth": 0,
              "ticks": ""
             }
            },
            "type": "scattergl"
           }
          ],
          "scattermapbox": [
           {
            "marker": {
             "colorbar": {
              "outlinewidth": 0,
              "ticks": ""
             }
            },
            "type": "scattermapbox"
           }
          ],
          "scatterpolar": [
           {
            "marker": {
             "colorbar": {
              "outlinewidth": 0,
              "ticks": ""
             }
            },
            "type": "scatterpolar"
           }
          ],
          "scatterpolargl": [
           {
            "marker": {
             "colorbar": {
              "outlinewidth": 0,
              "ticks": ""
             }
            },
            "type": "scatterpolargl"
           }
          ],
          "scatterternary": [
           {
            "marker": {
             "colorbar": {
              "outlinewidth": 0,
              "ticks": ""
             }
            },
            "type": "scatterternary"
           }
          ],
          "surface": [
           {
            "colorbar": {
             "outlinewidth": 0,
             "ticks": ""
            },
            "colorscale": [
             [
              0,
              "#0d0887"
             ],
             [
              0.1111111111111111,
              "#46039f"
             ],
             [
              0.2222222222222222,
              "#7201a8"
             ],
             [
              0.3333333333333333,
              "#9c179e"
             ],
             [
              0.4444444444444444,
              "#bd3786"
             ],
             [
              0.5555555555555556,
              "#d8576b"
             ],
             [
              0.6666666666666666,
              "#ed7953"
             ],
             [
              0.7777777777777778,
              "#fb9f3a"
             ],
             [
              0.8888888888888888,
              "#fdca26"
             ],
             [
              1,
              "#f0f921"
             ]
            ],
            "type": "surface"
           }
          ],
          "table": [
           {
            "cells": {
             "fill": {
              "color": "#EBF0F8"
             },
             "line": {
              "color": "white"
             }
            },
            "header": {
             "fill": {
              "color": "#C8D4E3"
             },
             "line": {
              "color": "white"
             }
            },
            "type": "table"
           }
          ]
         },
         "layout": {
          "annotationdefaults": {
           "arrowcolor": "#2a3f5f",
           "arrowhead": 0,
           "arrowwidth": 1
          },
          "autotypenumbers": "strict",
          "coloraxis": {
           "colorbar": {
            "outlinewidth": 0,
            "ticks": ""
           }
          },
          "colorscale": {
           "diverging": [
            [
             0,
             "#8e0152"
            ],
            [
             0.1,
             "#c51b7d"
            ],
            [
             0.2,
             "#de77ae"
            ],
            [
             0.3,
             "#f1b6da"
            ],
            [
             0.4,
             "#fde0ef"
            ],
            [
             0.5,
             "#f7f7f7"
            ],
            [
             0.6,
             "#e6f5d0"
            ],
            [
             0.7,
             "#b8e186"
            ],
            [
             0.8,
             "#7fbc41"
            ],
            [
             0.9,
             "#4d9221"
            ],
            [
             1,
             "#276419"
            ]
           ],
           "sequential": [
            [
             0,
             "#0d0887"
            ],
            [
             0.1111111111111111,
             "#46039f"
            ],
            [
             0.2222222222222222,
             "#7201a8"
            ],
            [
             0.3333333333333333,
             "#9c179e"
            ],
            [
             0.4444444444444444,
             "#bd3786"
            ],
            [
             0.5555555555555556,
             "#d8576b"
            ],
            [
             0.6666666666666666,
             "#ed7953"
            ],
            [
             0.7777777777777778,
             "#fb9f3a"
            ],
            [
             0.8888888888888888,
             "#fdca26"
            ],
            [
             1,
             "#f0f921"
            ]
           ],
           "sequentialminus": [
            [
             0,
             "#0d0887"
            ],
            [
             0.1111111111111111,
             "#46039f"
            ],
            [
             0.2222222222222222,
             "#7201a8"
            ],
            [
             0.3333333333333333,
             "#9c179e"
            ],
            [
             0.4444444444444444,
             "#bd3786"
            ],
            [
             0.5555555555555556,
             "#d8576b"
            ],
            [
             0.6666666666666666,
             "#ed7953"
            ],
            [
             0.7777777777777778,
             "#fb9f3a"
            ],
            [
             0.8888888888888888,
             "#fdca26"
            ],
            [
             1,
             "#f0f921"
            ]
           ]
          },
          "colorway": [
           "#636efa",
           "#EF553B",
           "#00cc96",
           "#ab63fa",
           "#FFA15A",
           "#19d3f3",
           "#FF6692",
           "#B6E880",
           "#FF97FF",
           "#FECB52"
          ],
          "font": {
           "color": "#2a3f5f"
          },
          "geo": {
           "bgcolor": "white",
           "lakecolor": "white",
           "landcolor": "#E5ECF6",
           "showlakes": true,
           "showland": true,
           "subunitcolor": "white"
          },
          "hoverlabel": {
           "align": "left"
          },
          "hovermode": "closest",
          "mapbox": {
           "style": "light"
          },
          "paper_bgcolor": "white",
          "plot_bgcolor": "#E5ECF6",
          "polar": {
           "angularaxis": {
            "gridcolor": "white",
            "linecolor": "white",
            "ticks": ""
           },
           "bgcolor": "#E5ECF6",
           "radialaxis": {
            "gridcolor": "white",
            "linecolor": "white",
            "ticks": ""
           }
          },
          "scene": {
           "xaxis": {
            "backgroundcolor": "#E5ECF6",
            "gridcolor": "white",
            "gridwidth": 2,
            "linecolor": "white",
            "showbackground": true,
            "ticks": "",
            "zerolinecolor": "white"
           },
           "yaxis": {
            "backgroundcolor": "#E5ECF6",
            "gridcolor": "white",
            "gridwidth": 2,
            "linecolor": "white",
            "showbackground": true,
            "ticks": "",
            "zerolinecolor": "white"
           },
           "zaxis": {
            "backgroundcolor": "#E5ECF6",
            "gridcolor": "white",
            "gridwidth": 2,
            "linecolor": "white",
            "showbackground": true,
            "ticks": "",
            "zerolinecolor": "white"
           }
          },
          "shapedefaults": {
           "line": {
            "color": "#2a3f5f"
           }
          },
          "ternary": {
           "aaxis": {
            "gridcolor": "white",
            "linecolor": "white",
            "ticks": ""
           },
           "baxis": {
            "gridcolor": "white",
            "linecolor": "white",
            "ticks": ""
           },
           "bgcolor": "#E5ECF6",
           "caxis": {
            "gridcolor": "white",
            "linecolor": "white",
            "ticks": ""
           }
          },
          "title": {
           "x": 0.05
          },
          "xaxis": {
           "automargin": true,
           "gridcolor": "white",
           "linecolor": "white",
           "ticks": "",
           "title": {
            "standoff": 15
           },
           "zerolinecolor": "white",
           "zerolinewidth": 2
          },
          "yaxis": {
           "automargin": true,
           "gridcolor": "white",
           "linecolor": "white",
           "ticks": "",
           "title": {
            "standoff": 15
           },
           "zerolinecolor": "white",
           "zerolinewidth": 2
          }
         }
        },
        "title": {
         "font": {
          "color": "#4D5663"
         }
        },
        "xaxis": {
         "gridcolor": "#E1E5ED",
         "showgrid": true,
         "tickfont": {
          "color": "#4D5663"
         },
         "title": {
          "font": {
           "color": "#4D5663"
          },
          "text": ""
         },
         "zerolinecolor": "#E1E5ED"
        },
        "yaxis": {
         "gridcolor": "#E1E5ED",
         "showgrid": true,
         "tickfont": {
          "color": "#4D5663"
         },
         "title": {
          "font": {
           "color": "#4D5663"
          },
          "text": ""
         },
         "zerolinecolor": "#E1E5ED"
        }
       }
      },
      "text/html": [
       "<div>                            <div id=\"96b16d56-b21a-4172-b740-7abefcf4b720\" class=\"plotly-graph-div\" style=\"height:525px; width:100%;\"></div>            <script type=\"text/javascript\">                require([\"plotly\"], function(Plotly) {                    window.PLOTLYENV=window.PLOTLYENV || {};\n",
       "                    window.PLOTLYENV.BASE_URL='https://plot.ly';                                    if (document.getElementById(\"96b16d56-b21a-4172-b740-7abefcf4b720\")) {                    Plotly.newPlot(                        \"96b16d56-b21a-4172-b740-7abefcf4b720\",                        [{\"boxpoints\":false,\"line\":{\"width\":1.3},\"marker\":{\"color\":\"rgba(255, 153, 51, 1.0)\"},\"name\":\"A\",\"orientation\":\"v\",\"y\":[0.3088324856892706,-0.3181018657763986,-0.3255636066105028,-0.19236064939448894,-0.31705847833897705,-0.3637990623796339,1.7381070856119816,-1.6365618661350712,1.207602245302151,0.5795086591513585,0.3870112639907086,-0.10402522952978051,0.39876508426736096,0.058877024328745,2.046305095259285,-0.06205058952363449,-0.5088513253753721,1.7060136114179525,-0.832794298194402,0.740658198328443,0.9254554710965845,-0.5070103677145493,-1.4570107579482992,-0.24365430134011537,1.1676646218937359,-0.311995182369368,0.7109016891661052,-1.0364988054373834,-1.09996944787571,-0.12594993434748722,1.7722816783788544,-0.3997032204298883,-0.9323688783891173,-0.8890050506577837,-1.2253267838890964,-0.9006985743648436,-0.5349749662875761,0.8166480990698793,-0.7104178965845112,-0.3457486752396018,2.959469692485582,0.23534877803905693,0.966630327587809,2.4381924323134023,-0.30413100985165104,-0.05444955774883802,0.878998226071373,-1.1152616224785363,-0.6218799711578149,-1.4821637745829594,-0.9646987993706798,-0.18625141720567243,1.082688995662202,0.1551996500811465,0.6927369140060691,-0.4943669432520142,0.4662627587205149,1.1358562871588116,0.013461325519304344,0.7146192694121911,0.49813190363407545,-0.36725654791870793,-1.3353814443706784,2.5521770370452495,-1.4182599967967349,-0.43289339497198265,1.0100491406976808,0.016329224880536244,1.3886393871899374,0.9613206589194162,-1.5355067481574007,1.184697490716947,2.3216104010354237,-2.0445540506204263,-0.5871771419671978,1.2734450444863539,1.4195058858709837,0.8390940119444251,0.13116077472428445,-0.06590812174109323,-0.6968929236770744,-1.1389255549844535,-0.04754382317161936,-0.2248628873615001,0.7753734423955779,-0.18074714231253064,-0.8355014732267162,0.8467980360783912,0.38239269938737475,-0.9905196586110199,0.9499548630576228,-0.6045266692700999,1.261098538014877,-1.9887055698509426,0.8438845678507609,-0.5886865644903774,0.8100195951040792,-1.1556415592736307,-0.07990340462631895,-0.6901560499125757],\"type\":\"box\"},{\"boxpoints\":false,\"line\":{\"width\":1.3},\"marker\":{\"color\":\"rgba(55, 128, 191, 1.0)\"},\"name\":\"B\",\"orientation\":\"v\",\"y\":[-0.4516907935643547,1.9112976940760542,0.016278191613616856,-1.5612510125262646,1.274813950179761,-1.6126805385966763,-2.2821957251904537,0.2089866829343159,-0.8429670959668712,-0.1760004882461311,-0.28365499381420106,-0.33009201915794384,1.073630642032631,-0.6400132697192715,-1.6190174132021233,-0.8066969102906225,-0.7976712506251615,-0.04786740123194217,0.0036016919413261912,0.9796573940454502,0.41890900093567296,-0.4651558301356142,0.3967128531212736,0.3647102645827066,2.3635634839500868,1.690659593065594,-0.12958185421349058,1.1451978672201555,-0.5445427235078433,0.23184905659203003,-0.661231661728734,-1.3468812161015062,-0.12597790256040473,-0.7661206376129771,0.6726122485131029,0.8890951709181736,0.07540556913641484,-0.5375263337691439,0.9102631893960552,-1.5706703434768574,-0.06651099933796677,1.9575820573574008,0.5984037057002887,-0.29279137068526834,0.8608585157666441,-0.5722289975411223,0.2167161010616931,-0.07729590112916514,-0.11686005672031406,0.5093443084130719,-0.9960610113310893,-1.7664698608708074,0.8343471753750914,1.4158114289369463,-1.3956435087990042,0.05322552854207203,-0.9523509773763503,-0.6663310368452604,-1.0650812212374816,-1.0140209385032657,0.11207349468470248,-0.5104156544641547,1.234706908081769,2.0556699493257153,0.535280282309938,0.22644574445244361,-1.0778958754538086,0.49053867687206737,-1.0182020417594757,0.2268549447273603,-1.2811762721246358,-1.9424396249265408,0.2047971602644152,0.6420282395857231,-1.051774222557932,-0.38613327141997705,0.6988444446067775,0.22176227835569992,-1.3850991419989536,3.170042786967088,0.9760411158462163,0.9843606399408203,0.21425644495420632,-0.1454975927098459,1.1360264375085198,1.4965769407068956,2.0212430515195114,0.6535613771609278,-0.20778690624197377,0.05133141205531726,1.5951808004389887,0.024862938608334953,-1.0341191496383413,-0.6309259671022158,1.8896170951490574,1.0544275134607926,-1.803050885322603,-0.3481509866491919,0.3364817028101488,-1.0504744495799234],\"type\":\"box\"},{\"boxpoints\":false,\"line\":{\"width\":1.3},\"marker\":{\"color\":\"rgba(50, 171, 96, 1.0)\"},\"name\":\"C\",\"orientation\":\"v\",\"y\":[-1.0646017191384958,0.3321920056960001,0.6090565112004517,-0.6768570819529374,-1.071852230152099,-0.24855490387020623,-1.2222945542298218,-0.7322520382168999,2.007825808431446,-1.0809123274250112,-0.11768824980515039,-0.34824883740229345,-2.2102969564934667,0.9565145379687646,-0.12417288508694992,2.5823146845108242,-2.5287024344669775,0.4362370346281354,0.08121332970927614,-1.4921165100303635,1.6166003234227755,-1.4695942662227708,-0.664102522913956,-0.36173738383003123,1.467965131525319,-0.7817816097642503,0.09113405686085366,1.352614849916358,0.21845700235223287,-0.8666878726761752,1.1498623968326704,0.6270341179443294,-1.2159888452185579,-2.2367407252258773,-1.8241905902059923,0.1026918667007109,-0.5166984158018366,-0.8292277504276038,1.1139658929156906,0.2582461320386364,0.22881042527798265,1.347821385670737,-0.39667707539964553,-1.01167711089197,-1.6452610840325774,0.29628469907043403,0.8598128977845043,-0.5560416129710283,0.9754877209968313,-0.001531870216110855,-1.032713818364518,-0.9648044180053544,0.47594295770189793,1.0131918766811312,2.410196583079355,-1.0000870823338293,0.42597637653947035,0.3018209684464047,-0.6207139460615639,0.31005535132277434,-0.7429817744889307,-0.5925940932553534,-0.5284619483949309,-2.3237684125449984,-0.5358627855578586,1.0616177200023125,-0.9868376386319648,0.1293571158515564,-0.6002669440068523,0.19344541722782177,-0.35028462645634595,-0.12053593614707578,-0.7195975566273206,-0.9420064603175615,-0.7368035591177027,1.0497050421378742,0.27064584782110357,-0.09930314779047857,-1.448750204622501,1.5184863376584545,0.13878103585449492,0.199580322535217,-0.7704516727675462,0.8997656223843715,0.7230120206437123,-0.1574469294514196,-0.010010105070724269,-0.7093881759296811,-0.7344249093563884,-0.33452298887329696,0.0861567927114379,-0.1515132843737287,-0.27696493836830705,-0.9487310945588182,-0.0260201937881905,1.6195850610439397,-1.0839434795958491,-1.596912397493733,0.32076136805352334,-0.4108168750574777],\"type\":\"box\"},{\"boxpoints\":false,\"line\":{\"width\":1.3},\"marker\":{\"color\":\"rgba(128, 0, 128, 1.0)\"},\"name\":\"D\",\"orientation\":\"v\",\"y\":[0.7359993751785493,-0.17557093116207317,-1.0787873828263503,0.6035518134908985,0.18167981687568469,-0.13124280844835975,-0.7084856824897063,1.2940719925638406,1.3883725849693922,-1.4999675734073792,-1.5570482851942902,-1.349761275032151,1.4488471760026187,-0.35242888480728524,2.2964313296795518,-0.5026466049941553,-1.7407603578263977,0.8987095928114365,-0.9605717646133486,-1.9544530420613735,-0.11057480590181805,-0.5820224508966013,1.0177299096668178,-1.0533154734482344,-0.2955482358631533,-1.1178890983019882,-0.8729133399199831,1.6930197330684553,-1.4085572541107982,-0.7696207939219283,-1.1528321094752807,0.8227720831940336,2.6206574141614865,-2.1601402362881577,0.8230538217782262,0.1540482063819723,1.188881265442298,-1.412056212300905,0.0045927045303107514,1.5268714584088512,-0.7574748531756668,0.5253191985201252,-0.7185703785067633,1.5334998677776444,0.28463919477284333,-0.7208273287760024,0.5069215950345374,0.24519087482467536,-0.061549281746454715,-1.9698291121616318,-0.29575631687560344,-1.4980709403457635,0.1823380223859322,0.7356697165657845,-1.2048064883977898,-0.4226840602956971,0.17684583038739413,-0.9859889814806736,-0.4818464109298942,-0.23513066437363495,-0.8163061201015447,0.10131426707869867,1.1711699293601858,-0.8576450485660422,-0.34952503702276455,-0.4687584668293646,0.971603378111854,0.7140419326194309,2.097600376291275,-1.2668312081894249,1.5143075166390583,0.20665296318028079,-1.6665622009528187,-0.9131017150669157,0.4896363745457838,-0.327491791644748,0.352250197225543,1.2312345592253773,0.8850452989683344,1.1207003735615513,0.21928808851024795,0.428652671748359,1.540270302284598,0.13889038463353362,-0.7238454055858894,0.4439935804565157,1.5173699549790023,1.8610768883695068,-0.14578225192931238,-0.32877649828735056,-0.507128933182429,0.702742931103773,0.40491720787557434,-0.3822888160202697,-1.0831297740506902,-1.8135514824209737,-0.24403701726307125,0.39519202029123657,0.6641580158363705,0.2820828673966256],\"type\":\"box\"}],                        {\"legend\":{\"bgcolor\":\"#F5F6F9\",\"font\":{\"color\":\"#4D5663\"}},\"paper_bgcolor\":\"#F5F6F9\",\"plot_bgcolor\":\"#F5F6F9\",\"template\":{\"data\":{\"barpolar\":[{\"marker\":{\"line\":{\"color\":\"#E5ECF6\",\"width\":0.5},\"pattern\":{\"fillmode\":\"overlay\",\"size\":10,\"solidity\":0.2}},\"type\":\"barpolar\"}],\"bar\":[{\"error_x\":{\"color\":\"#2a3f5f\"},\"error_y\":{\"color\":\"#2a3f5f\"},\"marker\":{\"line\":{\"color\":\"#E5ECF6\",\"width\":0.5},\"pattern\":{\"fillmode\":\"overlay\",\"size\":10,\"solidity\":0.2}},\"type\":\"bar\"}],\"carpet\":[{\"aaxis\":{\"endlinecolor\":\"#2a3f5f\",\"gridcolor\":\"white\",\"linecolor\":\"white\",\"minorgridcolor\":\"white\",\"startlinecolor\":\"#2a3f5f\"},\"baxis\":{\"endlinecolor\":\"#2a3f5f\",\"gridcolor\":\"white\",\"linecolor\":\"white\",\"minorgridcolor\":\"white\",\"startlinecolor\":\"#2a3f5f\"},\"type\":\"carpet\"}],\"choropleth\":[{\"colorbar\":{\"outlinewidth\":0,\"ticks\":\"\"},\"type\":\"choropleth\"}],\"contourcarpet\":[{\"colorbar\":{\"outlinewidth\":0,\"ticks\":\"\"},\"type\":\"contourcarpet\"}],\"contour\":[{\"colorbar\":{\"outlinewidth\":0,\"ticks\":\"\"},\"colorscale\":[[0.0,\"#0d0887\"],[0.1111111111111111,\"#46039f\"],[0.2222222222222222,\"#7201a8\"],[0.3333333333333333,\"#9c179e\"],[0.4444444444444444,\"#bd3786\"],[0.5555555555555556,\"#d8576b\"],[0.6666666666666666,\"#ed7953\"],[0.7777777777777778,\"#fb9f3a\"],[0.8888888888888888,\"#fdca26\"],[1.0,\"#f0f921\"]],\"type\":\"contour\"}],\"heatmapgl\":[{\"colorbar\":{\"outlinewidth\":0,\"ticks\":\"\"},\"colorscale\":[[0.0,\"#0d0887\"],[0.1111111111111111,\"#46039f\"],[0.2222222222222222,\"#7201a8\"],[0.3333333333333333,\"#9c179e\"],[0.4444444444444444,\"#bd3786\"],[0.5555555555555556,\"#d8576b\"],[0.6666666666666666,\"#ed7953\"],[0.7777777777777778,\"#fb9f3a\"],[0.8888888888888888,\"#fdca26\"],[1.0,\"#f0f921\"]],\"type\":\"heatmapgl\"}],\"heatmap\":[{\"colorbar\":{\"outlinewidth\":0,\"ticks\":\"\"},\"colorscale\":[[0.0,\"#0d0887\"],[0.1111111111111111,\"#46039f\"],[0.2222222222222222,\"#7201a8\"],[0.3333333333333333,\"#9c179e\"],[0.4444444444444444,\"#bd3786\"],[0.5555555555555556,\"#d8576b\"],[0.6666666666666666,\"#ed7953\"],[0.7777777777777778,\"#fb9f3a\"],[0.8888888888888888,\"#fdca26\"],[1.0,\"#f0f921\"]],\"type\":\"heatmap\"}],\"histogram2dcontour\":[{\"colorbar\":{\"outlinewidth\":0,\"ticks\":\"\"},\"colorscale\":[[0.0,\"#0d0887\"],[0.1111111111111111,\"#46039f\"],[0.2222222222222222,\"#7201a8\"],[0.3333333333333333,\"#9c179e\"],[0.4444444444444444,\"#bd3786\"],[0.5555555555555556,\"#d8576b\"],[0.6666666666666666,\"#ed7953\"],[0.7777777777777778,\"#fb9f3a\"],[0.8888888888888888,\"#fdca26\"],[1.0,\"#f0f921\"]],\"type\":\"histogram2dcontour\"}],\"histogram2d\":[{\"colorbar\":{\"outlinewidth\":0,\"ticks\":\"\"},\"colorscale\":[[0.0,\"#0d0887\"],[0.1111111111111111,\"#46039f\"],[0.2222222222222222,\"#7201a8\"],[0.3333333333333333,\"#9c179e\"],[0.4444444444444444,\"#bd3786\"],[0.5555555555555556,\"#d8576b\"],[0.6666666666666666,\"#ed7953\"],[0.7777777777777778,\"#fb9f3a\"],[0.8888888888888888,\"#fdca26\"],[1.0,\"#f0f921\"]],\"type\":\"histogram2d\"}],\"histogram\":[{\"marker\":{\"pattern\":{\"fillmode\":\"overlay\",\"size\":10,\"solidity\":0.2}},\"type\":\"histogram\"}],\"mesh3d\":[{\"colorbar\":{\"outlinewidth\":0,\"ticks\":\"\"},\"type\":\"mesh3d\"}],\"parcoords\":[{\"line\":{\"colorbar\":{\"outlinewidth\":0,\"ticks\":\"\"}},\"type\":\"parcoords\"}],\"pie\":[{\"automargin\":true,\"type\":\"pie\"}],\"scatter3d\":[{\"line\":{\"colorbar\":{\"outlinewidth\":0,\"ticks\":\"\"}},\"marker\":{\"colorbar\":{\"outlinewidth\":0,\"ticks\":\"\"}},\"type\":\"scatter3d\"}],\"scattercarpet\":[{\"marker\":{\"colorbar\":{\"outlinewidth\":0,\"ticks\":\"\"}},\"type\":\"scattercarpet\"}],\"scattergeo\":[{\"marker\":{\"colorbar\":{\"outlinewidth\":0,\"ticks\":\"\"}},\"type\":\"scattergeo\"}],\"scattergl\":[{\"marker\":{\"colorbar\":{\"outlinewidth\":0,\"ticks\":\"\"}},\"type\":\"scattergl\"}],\"scattermapbox\":[{\"marker\":{\"colorbar\":{\"outlinewidth\":0,\"ticks\":\"\"}},\"type\":\"scattermapbox\"}],\"scatterpolargl\":[{\"marker\":{\"colorbar\":{\"outlinewidth\":0,\"ticks\":\"\"}},\"type\":\"scatterpolargl\"}],\"scatterpolar\":[{\"marker\":{\"colorbar\":{\"outlinewidth\":0,\"ticks\":\"\"}},\"type\":\"scatterpolar\"}],\"scatter\":[{\"fillpattern\":{\"fillmode\":\"overlay\",\"size\":10,\"solidity\":0.2},\"type\":\"scatter\"}],\"scatterternary\":[{\"marker\":{\"colorbar\":{\"outlinewidth\":0,\"ticks\":\"\"}},\"type\":\"scatterternary\"}],\"surface\":[{\"colorbar\":{\"outlinewidth\":0,\"ticks\":\"\"},\"colorscale\":[[0.0,\"#0d0887\"],[0.1111111111111111,\"#46039f\"],[0.2222222222222222,\"#7201a8\"],[0.3333333333333333,\"#9c179e\"],[0.4444444444444444,\"#bd3786\"],[0.5555555555555556,\"#d8576b\"],[0.6666666666666666,\"#ed7953\"],[0.7777777777777778,\"#fb9f3a\"],[0.8888888888888888,\"#fdca26\"],[1.0,\"#f0f921\"]],\"type\":\"surface\"}],\"table\":[{\"cells\":{\"fill\":{\"color\":\"#EBF0F8\"},\"line\":{\"color\":\"white\"}},\"header\":{\"fill\":{\"color\":\"#C8D4E3\"},\"line\":{\"color\":\"white\"}},\"type\":\"table\"}]},\"layout\":{\"annotationdefaults\":{\"arrowcolor\":\"#2a3f5f\",\"arrowhead\":0,\"arrowwidth\":1},\"autotypenumbers\":\"strict\",\"coloraxis\":{\"colorbar\":{\"outlinewidth\":0,\"ticks\":\"\"}},\"colorscale\":{\"diverging\":[[0,\"#8e0152\"],[0.1,\"#c51b7d\"],[0.2,\"#de77ae\"],[0.3,\"#f1b6da\"],[0.4,\"#fde0ef\"],[0.5,\"#f7f7f7\"],[0.6,\"#e6f5d0\"],[0.7,\"#b8e186\"],[0.8,\"#7fbc41\"],[0.9,\"#4d9221\"],[1,\"#276419\"]],\"sequential\":[[0.0,\"#0d0887\"],[0.1111111111111111,\"#46039f\"],[0.2222222222222222,\"#7201a8\"],[0.3333333333333333,\"#9c179e\"],[0.4444444444444444,\"#bd3786\"],[0.5555555555555556,\"#d8576b\"],[0.6666666666666666,\"#ed7953\"],[0.7777777777777778,\"#fb9f3a\"],[0.8888888888888888,\"#fdca26\"],[1.0,\"#f0f921\"]],\"sequentialminus\":[[0.0,\"#0d0887\"],[0.1111111111111111,\"#46039f\"],[0.2222222222222222,\"#7201a8\"],[0.3333333333333333,\"#9c179e\"],[0.4444444444444444,\"#bd3786\"],[0.5555555555555556,\"#d8576b\"],[0.6666666666666666,\"#ed7953\"],[0.7777777777777778,\"#fb9f3a\"],[0.8888888888888888,\"#fdca26\"],[1.0,\"#f0f921\"]]},\"colorway\":[\"#636efa\",\"#EF553B\",\"#00cc96\",\"#ab63fa\",\"#FFA15A\",\"#19d3f3\",\"#FF6692\",\"#B6E880\",\"#FF97FF\",\"#FECB52\"],\"font\":{\"color\":\"#2a3f5f\"},\"geo\":{\"bgcolor\":\"white\",\"lakecolor\":\"white\",\"landcolor\":\"#E5ECF6\",\"showlakes\":true,\"showland\":true,\"subunitcolor\":\"white\"},\"hoverlabel\":{\"align\":\"left\"},\"hovermode\":\"closest\",\"mapbox\":{\"style\":\"light\"},\"paper_bgcolor\":\"white\",\"plot_bgcolor\":\"#E5ECF6\",\"polar\":{\"angularaxis\":{\"gridcolor\":\"white\",\"linecolor\":\"white\",\"ticks\":\"\"},\"bgcolor\":\"#E5ECF6\",\"radialaxis\":{\"gridcolor\":\"white\",\"linecolor\":\"white\",\"ticks\":\"\"}},\"scene\":{\"xaxis\":{\"backgroundcolor\":\"#E5ECF6\",\"gridcolor\":\"white\",\"gridwidth\":2,\"linecolor\":\"white\",\"showbackground\":true,\"ticks\":\"\",\"zerolinecolor\":\"white\"},\"yaxis\":{\"backgroundcolor\":\"#E5ECF6\",\"gridcolor\":\"white\",\"gridwidth\":2,\"linecolor\":\"white\",\"showbackground\":true,\"ticks\":\"\",\"zerolinecolor\":\"white\"},\"zaxis\":{\"backgroundcolor\":\"#E5ECF6\",\"gridcolor\":\"white\",\"gridwidth\":2,\"linecolor\":\"white\",\"showbackground\":true,\"ticks\":\"\",\"zerolinecolor\":\"white\"}},\"shapedefaults\":{\"line\":{\"color\":\"#2a3f5f\"}},\"ternary\":{\"aaxis\":{\"gridcolor\":\"white\",\"linecolor\":\"white\",\"ticks\":\"\"},\"baxis\":{\"gridcolor\":\"white\",\"linecolor\":\"white\",\"ticks\":\"\"},\"bgcolor\":\"#E5ECF6\",\"caxis\":{\"gridcolor\":\"white\",\"linecolor\":\"white\",\"ticks\":\"\"}},\"title\":{\"x\":0.05},\"xaxis\":{\"automargin\":true,\"gridcolor\":\"white\",\"linecolor\":\"white\",\"ticks\":\"\",\"title\":{\"standoff\":15},\"zerolinecolor\":\"white\",\"zerolinewidth\":2},\"yaxis\":{\"automargin\":true,\"gridcolor\":\"white\",\"linecolor\":\"white\",\"ticks\":\"\",\"title\":{\"standoff\":15},\"zerolinecolor\":\"white\",\"zerolinewidth\":2}}},\"title\":{\"font\":{\"color\":\"#4D5663\"}},\"xaxis\":{\"gridcolor\":\"#E1E5ED\",\"showgrid\":true,\"tickfont\":{\"color\":\"#4D5663\"},\"title\":{\"font\":{\"color\":\"#4D5663\"},\"text\":\"\"},\"zerolinecolor\":\"#E1E5ED\"},\"yaxis\":{\"gridcolor\":\"#E1E5ED\",\"showgrid\":true,\"tickfont\":{\"color\":\"#4D5663\"},\"title\":{\"font\":{\"color\":\"#4D5663\"},\"text\":\"\"},\"zerolinecolor\":\"#E1E5ED\"}},                        {\"showLink\": true, \"linkText\": \"Export to plot.ly\", \"plotlyServerURL\": \"https://plot.ly\", \"responsive\": true}                    ).then(function(){\n",
       "                            \n",
       "var gd = document.getElementById('96b16d56-b21a-4172-b740-7abefcf4b720');\n",
       "var x = new MutationObserver(function (mutations, observer) {{\n",
       "        var display = window.getComputedStyle(gd).display;\n",
       "        if (!display || display === 'none') {{\n",
       "            console.log([gd, 'removed!']);\n",
       "            Plotly.purge(gd);\n",
       "            observer.disconnect();\n",
       "        }}\n",
       "}});\n",
       "\n",
       "// Listen for the removal of the full notebook cells\n",
       "var notebookContainer = gd.closest('#notebook-container');\n",
       "if (notebookContainer) {{\n",
       "    x.observe(notebookContainer, {childList: true});\n",
       "}}\n",
       "\n",
       "// Listen for the clearing of the current output cell\n",
       "var outputEl = gd.closest('.output');\n",
       "if (outputEl) {{\n",
       "    x.observe(outputEl, {childList: true});\n",
       "}}\n",
       "\n",
       "                        })                };                });            </script>        </div>"
      ]
     },
     "metadata": {},
     "output_type": "display_data"
    }
   ],
   "source": [
    "df.iplot(kind='box')"
   ]
  },
  {
   "cell_type": "code",
   "execution_count": 16,
   "metadata": {},
   "outputs": [
    {
     "data": {
      "application/vnd.plotly.v1+json": {
       "config": {
        "linkText": "Export to plot.ly",
        "plotlyServerURL": "https://plot.ly",
        "showLink": true
       },
       "data": [
        {
         "colorscale": [
          [
           0,
           "rgb(165,0,38)"
          ],
          [
           0.1,
           "rgb(215,48,39)"
          ],
          [
           0.2,
           "rgb(244,109,67)"
          ],
          [
           0.3,
           "rgb(253,174,97)"
          ],
          [
           0.4,
           "rgb(254,224,144)"
          ],
          [
           0.5,
           "rgb(255,255,191)"
          ],
          [
           0.6,
           "rgb(224,243,248)"
          ],
          [
           0.7,
           "rgb(171,217,233)"
          ],
          [
           0.8,
           "rgb(116,173,209)"
          ],
          [
           0.9,
           "rgb(69,117,180)"
          ],
          [
           1,
           "rgb(49,54,149)"
          ]
         ],
         "type": "surface",
         "x": [
          0,
          1,
          2,
          3,
          4
         ],
         "y": [
          "x",
          "y",
          "z"
         ],
         "z": [
          [
           1,
           2,
           3,
           4,
           5
          ],
          [
           10,
           20,
           30,
           20,
           10
          ],
          [
           5,
           4,
           3,
           2,
           1
          ]
         ]
        }
       ],
       "layout": {
        "legend": {
         "bgcolor": "#F5F6F9",
         "font": {
          "color": "#4D5663"
         }
        },
        "paper_bgcolor": "#F5F6F9",
        "plot_bgcolor": "#F5F6F9",
        "template": {
         "data": {
          "bar": [
           {
            "error_x": {
             "color": "#2a3f5f"
            },
            "error_y": {
             "color": "#2a3f5f"
            },
            "marker": {
             "line": {
              "color": "#E5ECF6",
              "width": 0.5
             },
             "pattern": {
              "fillmode": "overlay",
              "size": 10,
              "solidity": 0.2
             }
            },
            "type": "bar"
           }
          ],
          "barpolar": [
           {
            "marker": {
             "line": {
              "color": "#E5ECF6",
              "width": 0.5
             },
             "pattern": {
              "fillmode": "overlay",
              "size": 10,
              "solidity": 0.2
             }
            },
            "type": "barpolar"
           }
          ],
          "carpet": [
           {
            "aaxis": {
             "endlinecolor": "#2a3f5f",
             "gridcolor": "white",
             "linecolor": "white",
             "minorgridcolor": "white",
             "startlinecolor": "#2a3f5f"
            },
            "baxis": {
             "endlinecolor": "#2a3f5f",
             "gridcolor": "white",
             "linecolor": "white",
             "minorgridcolor": "white",
             "startlinecolor": "#2a3f5f"
            },
            "type": "carpet"
           }
          ],
          "choropleth": [
           {
            "colorbar": {
             "outlinewidth": 0,
             "ticks": ""
            },
            "type": "choropleth"
           }
          ],
          "contour": [
           {
            "colorbar": {
             "outlinewidth": 0,
             "ticks": ""
            },
            "colorscale": [
             [
              0,
              "#0d0887"
             ],
             [
              0.1111111111111111,
              "#46039f"
             ],
             [
              0.2222222222222222,
              "#7201a8"
             ],
             [
              0.3333333333333333,
              "#9c179e"
             ],
             [
              0.4444444444444444,
              "#bd3786"
             ],
             [
              0.5555555555555556,
              "#d8576b"
             ],
             [
              0.6666666666666666,
              "#ed7953"
             ],
             [
              0.7777777777777778,
              "#fb9f3a"
             ],
             [
              0.8888888888888888,
              "#fdca26"
             ],
             [
              1,
              "#f0f921"
             ]
            ],
            "type": "contour"
           }
          ],
          "contourcarpet": [
           {
            "colorbar": {
             "outlinewidth": 0,
             "ticks": ""
            },
            "type": "contourcarpet"
           }
          ],
          "heatmap": [
           {
            "colorbar": {
             "outlinewidth": 0,
             "ticks": ""
            },
            "colorscale": [
             [
              0,
              "#0d0887"
             ],
             [
              0.1111111111111111,
              "#46039f"
             ],
             [
              0.2222222222222222,
              "#7201a8"
             ],
             [
              0.3333333333333333,
              "#9c179e"
             ],
             [
              0.4444444444444444,
              "#bd3786"
             ],
             [
              0.5555555555555556,
              "#d8576b"
             ],
             [
              0.6666666666666666,
              "#ed7953"
             ],
             [
              0.7777777777777778,
              "#fb9f3a"
             ],
             [
              0.8888888888888888,
              "#fdca26"
             ],
             [
              1,
              "#f0f921"
             ]
            ],
            "type": "heatmap"
           }
          ],
          "heatmapgl": [
           {
            "colorbar": {
             "outlinewidth": 0,
             "ticks": ""
            },
            "colorscale": [
             [
              0,
              "#0d0887"
             ],
             [
              0.1111111111111111,
              "#46039f"
             ],
             [
              0.2222222222222222,
              "#7201a8"
             ],
             [
              0.3333333333333333,
              "#9c179e"
             ],
             [
              0.4444444444444444,
              "#bd3786"
             ],
             [
              0.5555555555555556,
              "#d8576b"
             ],
             [
              0.6666666666666666,
              "#ed7953"
             ],
             [
              0.7777777777777778,
              "#fb9f3a"
             ],
             [
              0.8888888888888888,
              "#fdca26"
             ],
             [
              1,
              "#f0f921"
             ]
            ],
            "type": "heatmapgl"
           }
          ],
          "histogram": [
           {
            "marker": {
             "pattern": {
              "fillmode": "overlay",
              "size": 10,
              "solidity": 0.2
             }
            },
            "type": "histogram"
           }
          ],
          "histogram2d": [
           {
            "colorbar": {
             "outlinewidth": 0,
             "ticks": ""
            },
            "colorscale": [
             [
              0,
              "#0d0887"
             ],
             [
              0.1111111111111111,
              "#46039f"
             ],
             [
              0.2222222222222222,
              "#7201a8"
             ],
             [
              0.3333333333333333,
              "#9c179e"
             ],
             [
              0.4444444444444444,
              "#bd3786"
             ],
             [
              0.5555555555555556,
              "#d8576b"
             ],
             [
              0.6666666666666666,
              "#ed7953"
             ],
             [
              0.7777777777777778,
              "#fb9f3a"
             ],
             [
              0.8888888888888888,
              "#fdca26"
             ],
             [
              1,
              "#f0f921"
             ]
            ],
            "type": "histogram2d"
           }
          ],
          "histogram2dcontour": [
           {
            "colorbar": {
             "outlinewidth": 0,
             "ticks": ""
            },
            "colorscale": [
             [
              0,
              "#0d0887"
             ],
             [
              0.1111111111111111,
              "#46039f"
             ],
             [
              0.2222222222222222,
              "#7201a8"
             ],
             [
              0.3333333333333333,
              "#9c179e"
             ],
             [
              0.4444444444444444,
              "#bd3786"
             ],
             [
              0.5555555555555556,
              "#d8576b"
             ],
             [
              0.6666666666666666,
              "#ed7953"
             ],
             [
              0.7777777777777778,
              "#fb9f3a"
             ],
             [
              0.8888888888888888,
              "#fdca26"
             ],
             [
              1,
              "#f0f921"
             ]
            ],
            "type": "histogram2dcontour"
           }
          ],
          "mesh3d": [
           {
            "colorbar": {
             "outlinewidth": 0,
             "ticks": ""
            },
            "type": "mesh3d"
           }
          ],
          "parcoords": [
           {
            "line": {
             "colorbar": {
              "outlinewidth": 0,
              "ticks": ""
             }
            },
            "type": "parcoords"
           }
          ],
          "pie": [
           {
            "automargin": true,
            "type": "pie"
           }
          ],
          "scatter": [
           {
            "fillpattern": {
             "fillmode": "overlay",
             "size": 10,
             "solidity": 0.2
            },
            "type": "scatter"
           }
          ],
          "scatter3d": [
           {
            "line": {
             "colorbar": {
              "outlinewidth": 0,
              "ticks": ""
             }
            },
            "marker": {
             "colorbar": {
              "outlinewidth": 0,
              "ticks": ""
             }
            },
            "type": "scatter3d"
           }
          ],
          "scattercarpet": [
           {
            "marker": {
             "colorbar": {
              "outlinewidth": 0,
              "ticks": ""
             }
            },
            "type": "scattercarpet"
           }
          ],
          "scattergeo": [
           {
            "marker": {
             "colorbar": {
              "outlinewidth": 0,
              "ticks": ""
             }
            },
            "type": "scattergeo"
           }
          ],
          "scattergl": [
           {
            "marker": {
             "colorbar": {
              "outlinewidth": 0,
              "ticks": ""
             }
            },
            "type": "scattergl"
           }
          ],
          "scattermapbox": [
           {
            "marker": {
             "colorbar": {
              "outlinewidth": 0,
              "ticks": ""
             }
            },
            "type": "scattermapbox"
           }
          ],
          "scatterpolar": [
           {
            "marker": {
             "colorbar": {
              "outlinewidth": 0,
              "ticks": ""
             }
            },
            "type": "scatterpolar"
           }
          ],
          "scatterpolargl": [
           {
            "marker": {
             "colorbar": {
              "outlinewidth": 0,
              "ticks": ""
             }
            },
            "type": "scatterpolargl"
           }
          ],
          "scatterternary": [
           {
            "marker": {
             "colorbar": {
              "outlinewidth": 0,
              "ticks": ""
             }
            },
            "type": "scatterternary"
           }
          ],
          "surface": [
           {
            "colorbar": {
             "outlinewidth": 0,
             "ticks": ""
            },
            "colorscale": [
             [
              0,
              "#0d0887"
             ],
             [
              0.1111111111111111,
              "#46039f"
             ],
             [
              0.2222222222222222,
              "#7201a8"
             ],
             [
              0.3333333333333333,
              "#9c179e"
             ],
             [
              0.4444444444444444,
              "#bd3786"
             ],
             [
              0.5555555555555556,
              "#d8576b"
             ],
             [
              0.6666666666666666,
              "#ed7953"
             ],
             [
              0.7777777777777778,
              "#fb9f3a"
             ],
             [
              0.8888888888888888,
              "#fdca26"
             ],
             [
              1,
              "#f0f921"
             ]
            ],
            "type": "surface"
           }
          ],
          "table": [
           {
            "cells": {
             "fill": {
              "color": "#EBF0F8"
             },
             "line": {
              "color": "white"
             }
            },
            "header": {
             "fill": {
              "color": "#C8D4E3"
             },
             "line": {
              "color": "white"
             }
            },
            "type": "table"
           }
          ]
         },
         "layout": {
          "annotationdefaults": {
           "arrowcolor": "#2a3f5f",
           "arrowhead": 0,
           "arrowwidth": 1
          },
          "autotypenumbers": "strict",
          "coloraxis": {
           "colorbar": {
            "outlinewidth": 0,
            "ticks": ""
           }
          },
          "colorscale": {
           "diverging": [
            [
             0,
             "#8e0152"
            ],
            [
             0.1,
             "#c51b7d"
            ],
            [
             0.2,
             "#de77ae"
            ],
            [
             0.3,
             "#f1b6da"
            ],
            [
             0.4,
             "#fde0ef"
            ],
            [
             0.5,
             "#f7f7f7"
            ],
            [
             0.6,
             "#e6f5d0"
            ],
            [
             0.7,
             "#b8e186"
            ],
            [
             0.8,
             "#7fbc41"
            ],
            [
             0.9,
             "#4d9221"
            ],
            [
             1,
             "#276419"
            ]
           ],
           "sequential": [
            [
             0,
             "#0d0887"
            ],
            [
             0.1111111111111111,
             "#46039f"
            ],
            [
             0.2222222222222222,
             "#7201a8"
            ],
            [
             0.3333333333333333,
             "#9c179e"
            ],
            [
             0.4444444444444444,
             "#bd3786"
            ],
            [
             0.5555555555555556,
             "#d8576b"
            ],
            [
             0.6666666666666666,
             "#ed7953"
            ],
            [
             0.7777777777777778,
             "#fb9f3a"
            ],
            [
             0.8888888888888888,
             "#fdca26"
            ],
            [
             1,
             "#f0f921"
            ]
           ],
           "sequentialminus": [
            [
             0,
             "#0d0887"
            ],
            [
             0.1111111111111111,
             "#46039f"
            ],
            [
             0.2222222222222222,
             "#7201a8"
            ],
            [
             0.3333333333333333,
             "#9c179e"
            ],
            [
             0.4444444444444444,
             "#bd3786"
            ],
            [
             0.5555555555555556,
             "#d8576b"
            ],
            [
             0.6666666666666666,
             "#ed7953"
            ],
            [
             0.7777777777777778,
             "#fb9f3a"
            ],
            [
             0.8888888888888888,
             "#fdca26"
            ],
            [
             1,
             "#f0f921"
            ]
           ]
          },
          "colorway": [
           "#636efa",
           "#EF553B",
           "#00cc96",
           "#ab63fa",
           "#FFA15A",
           "#19d3f3",
           "#FF6692",
           "#B6E880",
           "#FF97FF",
           "#FECB52"
          ],
          "font": {
           "color": "#2a3f5f"
          },
          "geo": {
           "bgcolor": "white",
           "lakecolor": "white",
           "landcolor": "#E5ECF6",
           "showlakes": true,
           "showland": true,
           "subunitcolor": "white"
          },
          "hoverlabel": {
           "align": "left"
          },
          "hovermode": "closest",
          "mapbox": {
           "style": "light"
          },
          "paper_bgcolor": "white",
          "plot_bgcolor": "#E5ECF6",
          "polar": {
           "angularaxis": {
            "gridcolor": "white",
            "linecolor": "white",
            "ticks": ""
           },
           "bgcolor": "#E5ECF6",
           "radialaxis": {
            "gridcolor": "white",
            "linecolor": "white",
            "ticks": ""
           }
          },
          "scene": {
           "xaxis": {
            "backgroundcolor": "#E5ECF6",
            "gridcolor": "white",
            "gridwidth": 2,
            "linecolor": "white",
            "showbackground": true,
            "ticks": "",
            "zerolinecolor": "white"
           },
           "yaxis": {
            "backgroundcolor": "#E5ECF6",
            "gridcolor": "white",
            "gridwidth": 2,
            "linecolor": "white",
            "showbackground": true,
            "ticks": "",
            "zerolinecolor": "white"
           },
           "zaxis": {
            "backgroundcolor": "#E5ECF6",
            "gridcolor": "white",
            "gridwidth": 2,
            "linecolor": "white",
            "showbackground": true,
            "ticks": "",
            "zerolinecolor": "white"
           }
          },
          "shapedefaults": {
           "line": {
            "color": "#2a3f5f"
           }
          },
          "ternary": {
           "aaxis": {
            "gridcolor": "white",
            "linecolor": "white",
            "ticks": ""
           },
           "baxis": {
            "gridcolor": "white",
            "linecolor": "white",
            "ticks": ""
           },
           "bgcolor": "#E5ECF6",
           "caxis": {
            "gridcolor": "white",
            "linecolor": "white",
            "ticks": ""
           }
          },
          "title": {
           "x": 0.05
          },
          "xaxis": {
           "automargin": true,
           "gridcolor": "white",
           "linecolor": "white",
           "ticks": "",
           "title": {
            "standoff": 15
           },
           "zerolinecolor": "white",
           "zerolinewidth": 2
          },
          "yaxis": {
           "automargin": true,
           "gridcolor": "white",
           "linecolor": "white",
           "ticks": "",
           "title": {
            "standoff": 15
           },
           "zerolinecolor": "white",
           "zerolinewidth": 2
          }
         }
        },
        "title": {
         "font": {
          "color": "#4D5663"
         }
        },
        "xaxis": {
         "gridcolor": "#E1E5ED",
         "showgrid": true,
         "tickfont": {
          "color": "#4D5663"
         },
         "title": {
          "font": {
           "color": "#4D5663"
          },
          "text": ""
         },
         "zerolinecolor": "#E1E5ED"
        },
        "yaxis": {
         "gridcolor": "#E1E5ED",
         "showgrid": true,
         "tickfont": {
          "color": "#4D5663"
         },
         "title": {
          "font": {
           "color": "#4D5663"
          },
          "text": ""
         },
         "zerolinecolor": "#E1E5ED"
        }
       }
      },
      "text/html": [
       "<div>                            <div id=\"087ca75f-08a6-471a-887b-16283f0e8126\" class=\"plotly-graph-div\" style=\"height:525px; width:100%;\"></div>            <script type=\"text/javascript\">                require([\"plotly\"], function(Plotly) {                    window.PLOTLYENV=window.PLOTLYENV || {};\n",
       "                    window.PLOTLYENV.BASE_URL='https://plot.ly';                                    if (document.getElementById(\"087ca75f-08a6-471a-887b-16283f0e8126\")) {                    Plotly.newPlot(                        \"087ca75f-08a6-471a-887b-16283f0e8126\",                        [{\"colorscale\":[[0.0,\"rgb(165,0,38)\"],[0.1,\"rgb(215,48,39)\"],[0.2,\"rgb(244,109,67)\"],[0.3,\"rgb(253,174,97)\"],[0.4,\"rgb(254,224,144)\"],[0.5,\"rgb(255,255,191)\"],[0.6,\"rgb(224,243,248)\"],[0.7,\"rgb(171,217,233)\"],[0.8,\"rgb(116,173,209)\"],[0.9,\"rgb(69,117,180)\"],[1.0,\"rgb(49,54,149)\"]],\"x\":[0,1,2,3,4],\"y\":[\"x\",\"y\",\"z\"],\"z\":[[1,2,3,4,5],[10,20,30,20,10],[5,4,3,2,1]],\"type\":\"surface\"}],                        {\"legend\":{\"bgcolor\":\"#F5F6F9\",\"font\":{\"color\":\"#4D5663\"}},\"paper_bgcolor\":\"#F5F6F9\",\"plot_bgcolor\":\"#F5F6F9\",\"template\":{\"data\":{\"barpolar\":[{\"marker\":{\"line\":{\"color\":\"#E5ECF6\",\"width\":0.5},\"pattern\":{\"fillmode\":\"overlay\",\"size\":10,\"solidity\":0.2}},\"type\":\"barpolar\"}],\"bar\":[{\"error_x\":{\"color\":\"#2a3f5f\"},\"error_y\":{\"color\":\"#2a3f5f\"},\"marker\":{\"line\":{\"color\":\"#E5ECF6\",\"width\":0.5},\"pattern\":{\"fillmode\":\"overlay\",\"size\":10,\"solidity\":0.2}},\"type\":\"bar\"}],\"carpet\":[{\"aaxis\":{\"endlinecolor\":\"#2a3f5f\",\"gridcolor\":\"white\",\"linecolor\":\"white\",\"minorgridcolor\":\"white\",\"startlinecolor\":\"#2a3f5f\"},\"baxis\":{\"endlinecolor\":\"#2a3f5f\",\"gridcolor\":\"white\",\"linecolor\":\"white\",\"minorgridcolor\":\"white\",\"startlinecolor\":\"#2a3f5f\"},\"type\":\"carpet\"}],\"choropleth\":[{\"colorbar\":{\"outlinewidth\":0,\"ticks\":\"\"},\"type\":\"choropleth\"}],\"contourcarpet\":[{\"colorbar\":{\"outlinewidth\":0,\"ticks\":\"\"},\"type\":\"contourcarpet\"}],\"contour\":[{\"colorbar\":{\"outlinewidth\":0,\"ticks\":\"\"},\"colorscale\":[[0.0,\"#0d0887\"],[0.1111111111111111,\"#46039f\"],[0.2222222222222222,\"#7201a8\"],[0.3333333333333333,\"#9c179e\"],[0.4444444444444444,\"#bd3786\"],[0.5555555555555556,\"#d8576b\"],[0.6666666666666666,\"#ed7953\"],[0.7777777777777778,\"#fb9f3a\"],[0.8888888888888888,\"#fdca26\"],[1.0,\"#f0f921\"]],\"type\":\"contour\"}],\"heatmapgl\":[{\"colorbar\":{\"outlinewidth\":0,\"ticks\":\"\"},\"colorscale\":[[0.0,\"#0d0887\"],[0.1111111111111111,\"#46039f\"],[0.2222222222222222,\"#7201a8\"],[0.3333333333333333,\"#9c179e\"],[0.4444444444444444,\"#bd3786\"],[0.5555555555555556,\"#d8576b\"],[0.6666666666666666,\"#ed7953\"],[0.7777777777777778,\"#fb9f3a\"],[0.8888888888888888,\"#fdca26\"],[1.0,\"#f0f921\"]],\"type\":\"heatmapgl\"}],\"heatmap\":[{\"colorbar\":{\"outlinewidth\":0,\"ticks\":\"\"},\"colorscale\":[[0.0,\"#0d0887\"],[0.1111111111111111,\"#46039f\"],[0.2222222222222222,\"#7201a8\"],[0.3333333333333333,\"#9c179e\"],[0.4444444444444444,\"#bd3786\"],[0.5555555555555556,\"#d8576b\"],[0.6666666666666666,\"#ed7953\"],[0.7777777777777778,\"#fb9f3a\"],[0.8888888888888888,\"#fdca26\"],[1.0,\"#f0f921\"]],\"type\":\"heatmap\"}],\"histogram2dcontour\":[{\"colorbar\":{\"outlinewidth\":0,\"ticks\":\"\"},\"colorscale\":[[0.0,\"#0d0887\"],[0.1111111111111111,\"#46039f\"],[0.2222222222222222,\"#7201a8\"],[0.3333333333333333,\"#9c179e\"],[0.4444444444444444,\"#bd3786\"],[0.5555555555555556,\"#d8576b\"],[0.6666666666666666,\"#ed7953\"],[0.7777777777777778,\"#fb9f3a\"],[0.8888888888888888,\"#fdca26\"],[1.0,\"#f0f921\"]],\"type\":\"histogram2dcontour\"}],\"histogram2d\":[{\"colorbar\":{\"outlinewidth\":0,\"ticks\":\"\"},\"colorscale\":[[0.0,\"#0d0887\"],[0.1111111111111111,\"#46039f\"],[0.2222222222222222,\"#7201a8\"],[0.3333333333333333,\"#9c179e\"],[0.4444444444444444,\"#bd3786\"],[0.5555555555555556,\"#d8576b\"],[0.6666666666666666,\"#ed7953\"],[0.7777777777777778,\"#fb9f3a\"],[0.8888888888888888,\"#fdca26\"],[1.0,\"#f0f921\"]],\"type\":\"histogram2d\"}],\"histogram\":[{\"marker\":{\"pattern\":{\"fillmode\":\"overlay\",\"size\":10,\"solidity\":0.2}},\"type\":\"histogram\"}],\"mesh3d\":[{\"colorbar\":{\"outlinewidth\":0,\"ticks\":\"\"},\"type\":\"mesh3d\"}],\"parcoords\":[{\"line\":{\"colorbar\":{\"outlinewidth\":0,\"ticks\":\"\"}},\"type\":\"parcoords\"}],\"pie\":[{\"automargin\":true,\"type\":\"pie\"}],\"scatter3d\":[{\"line\":{\"colorbar\":{\"outlinewidth\":0,\"ticks\":\"\"}},\"marker\":{\"colorbar\":{\"outlinewidth\":0,\"ticks\":\"\"}},\"type\":\"scatter3d\"}],\"scattercarpet\":[{\"marker\":{\"colorbar\":{\"outlinewidth\":0,\"ticks\":\"\"}},\"type\":\"scattercarpet\"}],\"scattergeo\":[{\"marker\":{\"colorbar\":{\"outlinewidth\":0,\"ticks\":\"\"}},\"type\":\"scattergeo\"}],\"scattergl\":[{\"marker\":{\"colorbar\":{\"outlinewidth\":0,\"ticks\":\"\"}},\"type\":\"scattergl\"}],\"scattermapbox\":[{\"marker\":{\"colorbar\":{\"outlinewidth\":0,\"ticks\":\"\"}},\"type\":\"scattermapbox\"}],\"scatterpolargl\":[{\"marker\":{\"colorbar\":{\"outlinewidth\":0,\"ticks\":\"\"}},\"type\":\"scatterpolargl\"}],\"scatterpolar\":[{\"marker\":{\"colorbar\":{\"outlinewidth\":0,\"ticks\":\"\"}},\"type\":\"scatterpolar\"}],\"scatter\":[{\"fillpattern\":{\"fillmode\":\"overlay\",\"size\":10,\"solidity\":0.2},\"type\":\"scatter\"}],\"scatterternary\":[{\"marker\":{\"colorbar\":{\"outlinewidth\":0,\"ticks\":\"\"}},\"type\":\"scatterternary\"}],\"surface\":[{\"colorbar\":{\"outlinewidth\":0,\"ticks\":\"\"},\"colorscale\":[[0.0,\"#0d0887\"],[0.1111111111111111,\"#46039f\"],[0.2222222222222222,\"#7201a8\"],[0.3333333333333333,\"#9c179e\"],[0.4444444444444444,\"#bd3786\"],[0.5555555555555556,\"#d8576b\"],[0.6666666666666666,\"#ed7953\"],[0.7777777777777778,\"#fb9f3a\"],[0.8888888888888888,\"#fdca26\"],[1.0,\"#f0f921\"]],\"type\":\"surface\"}],\"table\":[{\"cells\":{\"fill\":{\"color\":\"#EBF0F8\"},\"line\":{\"color\":\"white\"}},\"header\":{\"fill\":{\"color\":\"#C8D4E3\"},\"line\":{\"color\":\"white\"}},\"type\":\"table\"}]},\"layout\":{\"annotationdefaults\":{\"arrowcolor\":\"#2a3f5f\",\"arrowhead\":0,\"arrowwidth\":1},\"autotypenumbers\":\"strict\",\"coloraxis\":{\"colorbar\":{\"outlinewidth\":0,\"ticks\":\"\"}},\"colorscale\":{\"diverging\":[[0,\"#8e0152\"],[0.1,\"#c51b7d\"],[0.2,\"#de77ae\"],[0.3,\"#f1b6da\"],[0.4,\"#fde0ef\"],[0.5,\"#f7f7f7\"],[0.6,\"#e6f5d0\"],[0.7,\"#b8e186\"],[0.8,\"#7fbc41\"],[0.9,\"#4d9221\"],[1,\"#276419\"]],\"sequential\":[[0.0,\"#0d0887\"],[0.1111111111111111,\"#46039f\"],[0.2222222222222222,\"#7201a8\"],[0.3333333333333333,\"#9c179e\"],[0.4444444444444444,\"#bd3786\"],[0.5555555555555556,\"#d8576b\"],[0.6666666666666666,\"#ed7953\"],[0.7777777777777778,\"#fb9f3a\"],[0.8888888888888888,\"#fdca26\"],[1.0,\"#f0f921\"]],\"sequentialminus\":[[0.0,\"#0d0887\"],[0.1111111111111111,\"#46039f\"],[0.2222222222222222,\"#7201a8\"],[0.3333333333333333,\"#9c179e\"],[0.4444444444444444,\"#bd3786\"],[0.5555555555555556,\"#d8576b\"],[0.6666666666666666,\"#ed7953\"],[0.7777777777777778,\"#fb9f3a\"],[0.8888888888888888,\"#fdca26\"],[1.0,\"#f0f921\"]]},\"colorway\":[\"#636efa\",\"#EF553B\",\"#00cc96\",\"#ab63fa\",\"#FFA15A\",\"#19d3f3\",\"#FF6692\",\"#B6E880\",\"#FF97FF\",\"#FECB52\"],\"font\":{\"color\":\"#2a3f5f\"},\"geo\":{\"bgcolor\":\"white\",\"lakecolor\":\"white\",\"landcolor\":\"#E5ECF6\",\"showlakes\":true,\"showland\":true,\"subunitcolor\":\"white\"},\"hoverlabel\":{\"align\":\"left\"},\"hovermode\":\"closest\",\"mapbox\":{\"style\":\"light\"},\"paper_bgcolor\":\"white\",\"plot_bgcolor\":\"#E5ECF6\",\"polar\":{\"angularaxis\":{\"gridcolor\":\"white\",\"linecolor\":\"white\",\"ticks\":\"\"},\"bgcolor\":\"#E5ECF6\",\"radialaxis\":{\"gridcolor\":\"white\",\"linecolor\":\"white\",\"ticks\":\"\"}},\"scene\":{\"xaxis\":{\"backgroundcolor\":\"#E5ECF6\",\"gridcolor\":\"white\",\"gridwidth\":2,\"linecolor\":\"white\",\"showbackground\":true,\"ticks\":\"\",\"zerolinecolor\":\"white\"},\"yaxis\":{\"backgroundcolor\":\"#E5ECF6\",\"gridcolor\":\"white\",\"gridwidth\":2,\"linecolor\":\"white\",\"showbackground\":true,\"ticks\":\"\",\"zerolinecolor\":\"white\"},\"zaxis\":{\"backgroundcolor\":\"#E5ECF6\",\"gridcolor\":\"white\",\"gridwidth\":2,\"linecolor\":\"white\",\"showbackground\":true,\"ticks\":\"\",\"zerolinecolor\":\"white\"}},\"shapedefaults\":{\"line\":{\"color\":\"#2a3f5f\"}},\"ternary\":{\"aaxis\":{\"gridcolor\":\"white\",\"linecolor\":\"white\",\"ticks\":\"\"},\"baxis\":{\"gridcolor\":\"white\",\"linecolor\":\"white\",\"ticks\":\"\"},\"bgcolor\":\"#E5ECF6\",\"caxis\":{\"gridcolor\":\"white\",\"linecolor\":\"white\",\"ticks\":\"\"}},\"title\":{\"x\":0.05},\"xaxis\":{\"automargin\":true,\"gridcolor\":\"white\",\"linecolor\":\"white\",\"ticks\":\"\",\"title\":{\"standoff\":15},\"zerolinecolor\":\"white\",\"zerolinewidth\":2},\"yaxis\":{\"automargin\":true,\"gridcolor\":\"white\",\"linecolor\":\"white\",\"ticks\":\"\",\"title\":{\"standoff\":15},\"zerolinecolor\":\"white\",\"zerolinewidth\":2}}},\"title\":{\"font\":{\"color\":\"#4D5663\"}},\"xaxis\":{\"gridcolor\":\"#E1E5ED\",\"showgrid\":true,\"tickfont\":{\"color\":\"#4D5663\"},\"title\":{\"font\":{\"color\":\"#4D5663\"},\"text\":\"\"},\"zerolinecolor\":\"#E1E5ED\"},\"yaxis\":{\"gridcolor\":\"#E1E5ED\",\"showgrid\":true,\"tickfont\":{\"color\":\"#4D5663\"},\"title\":{\"font\":{\"color\":\"#4D5663\"},\"text\":\"\"},\"zerolinecolor\":\"#E1E5ED\"}},                        {\"showLink\": true, \"linkText\": \"Export to plot.ly\", \"plotlyServerURL\": \"https://plot.ly\", \"responsive\": true}                    ).then(function(){\n",
       "                            \n",
       "var gd = document.getElementById('087ca75f-08a6-471a-887b-16283f0e8126');\n",
       "var x = new MutationObserver(function (mutations, observer) {{\n",
       "        var display = window.getComputedStyle(gd).display;\n",
       "        if (!display || display === 'none') {{\n",
       "            console.log([gd, 'removed!']);\n",
       "            Plotly.purge(gd);\n",
       "            observer.disconnect();\n",
       "        }}\n",
       "}});\n",
       "\n",
       "// Listen for the removal of the full notebook cells\n",
       "var notebookContainer = gd.closest('#notebook-container');\n",
       "if (notebookContainer) {{\n",
       "    x.observe(notebookContainer, {childList: true});\n",
       "}}\n",
       "\n",
       "// Listen for the clearing of the current output cell\n",
       "var outputEl = gd.closest('.output');\n",
       "if (outputEl) {{\n",
       "    x.observe(outputEl, {childList: true});\n",
       "}}\n",
       "\n",
       "                        })                };                });            </script>        </div>"
      ]
     },
     "metadata": {},
     "output_type": "display_data"
    }
   ],
   "source": [
    "df3 = pd.DataFrame({'x':[1,2,3,4,5],'y':[10,20,30,20,10],'z':[5,4,3,2,1]})\n",
    "df3.iplot(kind='surface',colorscale='rdylbu')"
   ]
  },
  {
   "cell_type": "code",
   "execution_count": 18,
   "metadata": {},
   "outputs": [
    {
     "data": {
      "application/vnd.plotly.v1+json": {
       "config": {
        "linkText": "Export to plot.ly",
        "plotlyServerURL": "https://plot.ly",
        "showLink": true
       },
       "data": [
        {
         "colorscale": [
          [
           0,
           "rgb(165,0,38)"
          ],
          [
           0.1,
           "rgb(215,48,39)"
          ],
          [
           0.2,
           "rgb(244,109,67)"
          ],
          [
           0.3,
           "rgb(253,174,97)"
          ],
          [
           0.4,
           "rgb(254,224,144)"
          ],
          [
           0.5,
           "rgb(255,255,191)"
          ],
          [
           0.6,
           "rgb(224,243,248)"
          ],
          [
           0.7,
           "rgb(171,217,233)"
          ],
          [
           0.8,
           "rgb(116,173,209)"
          ],
          [
           0.9,
           "rgb(69,117,180)"
          ],
          [
           1,
           "rgb(49,54,149)"
          ]
         ],
         "type": "surface",
         "x": [
          0,
          1,
          2,
          3,
          4
         ],
         "y": [
          "x",
          "y",
          "z"
         ],
         "z": [
          [
           2,
           4,
           6,
           8,
           10
          ],
          [
           30,
           20,
           10,
           20,
           30
          ],
          [
           2,
           4,
           6,
           8,
           10
          ]
         ]
        }
       ],
       "layout": {
        "legend": {
         "bgcolor": "#F5F6F9",
         "font": {
          "color": "#4D5663"
         }
        },
        "paper_bgcolor": "#F5F6F9",
        "plot_bgcolor": "#F5F6F9",
        "template": {
         "data": {
          "bar": [
           {
            "error_x": {
             "color": "#2a3f5f"
            },
            "error_y": {
             "color": "#2a3f5f"
            },
            "marker": {
             "line": {
              "color": "#E5ECF6",
              "width": 0.5
             },
             "pattern": {
              "fillmode": "overlay",
              "size": 10,
              "solidity": 0.2
             }
            },
            "type": "bar"
           }
          ],
          "barpolar": [
           {
            "marker": {
             "line": {
              "color": "#E5ECF6",
              "width": 0.5
             },
             "pattern": {
              "fillmode": "overlay",
              "size": 10,
              "solidity": 0.2
             }
            },
            "type": "barpolar"
           }
          ],
          "carpet": [
           {
            "aaxis": {
             "endlinecolor": "#2a3f5f",
             "gridcolor": "white",
             "linecolor": "white",
             "minorgridcolor": "white",
             "startlinecolor": "#2a3f5f"
            },
            "baxis": {
             "endlinecolor": "#2a3f5f",
             "gridcolor": "white",
             "linecolor": "white",
             "minorgridcolor": "white",
             "startlinecolor": "#2a3f5f"
            },
            "type": "carpet"
           }
          ],
          "choropleth": [
           {
            "colorbar": {
             "outlinewidth": 0,
             "ticks": ""
            },
            "type": "choropleth"
           }
          ],
          "contour": [
           {
            "colorbar": {
             "outlinewidth": 0,
             "ticks": ""
            },
            "colorscale": [
             [
              0,
              "#0d0887"
             ],
             [
              0.1111111111111111,
              "#46039f"
             ],
             [
              0.2222222222222222,
              "#7201a8"
             ],
             [
              0.3333333333333333,
              "#9c179e"
             ],
             [
              0.4444444444444444,
              "#bd3786"
             ],
             [
              0.5555555555555556,
              "#d8576b"
             ],
             [
              0.6666666666666666,
              "#ed7953"
             ],
             [
              0.7777777777777778,
              "#fb9f3a"
             ],
             [
              0.8888888888888888,
              "#fdca26"
             ],
             [
              1,
              "#f0f921"
             ]
            ],
            "type": "contour"
           }
          ],
          "contourcarpet": [
           {
            "colorbar": {
             "outlinewidth": 0,
             "ticks": ""
            },
            "type": "contourcarpet"
           }
          ],
          "heatmap": [
           {
            "colorbar": {
             "outlinewidth": 0,
             "ticks": ""
            },
            "colorscale": [
             [
              0,
              "#0d0887"
             ],
             [
              0.1111111111111111,
              "#46039f"
             ],
             [
              0.2222222222222222,
              "#7201a8"
             ],
             [
              0.3333333333333333,
              "#9c179e"
             ],
             [
              0.4444444444444444,
              "#bd3786"
             ],
             [
              0.5555555555555556,
              "#d8576b"
             ],
             [
              0.6666666666666666,
              "#ed7953"
             ],
             [
              0.7777777777777778,
              "#fb9f3a"
             ],
             [
              0.8888888888888888,
              "#fdca26"
             ],
             [
              1,
              "#f0f921"
             ]
            ],
            "type": "heatmap"
           }
          ],
          "heatmapgl": [
           {
            "colorbar": {
             "outlinewidth": 0,
             "ticks": ""
            },
            "colorscale": [
             [
              0,
              "#0d0887"
             ],
             [
              0.1111111111111111,
              "#46039f"
             ],
             [
              0.2222222222222222,
              "#7201a8"
             ],
             [
              0.3333333333333333,
              "#9c179e"
             ],
             [
              0.4444444444444444,
              "#bd3786"
             ],
             [
              0.5555555555555556,
              "#d8576b"
             ],
             [
              0.6666666666666666,
              "#ed7953"
             ],
             [
              0.7777777777777778,
              "#fb9f3a"
             ],
             [
              0.8888888888888888,
              "#fdca26"
             ],
             [
              1,
              "#f0f921"
             ]
            ],
            "type": "heatmapgl"
           }
          ],
          "histogram": [
           {
            "marker": {
             "pattern": {
              "fillmode": "overlay",
              "size": 10,
              "solidity": 0.2
             }
            },
            "type": "histogram"
           }
          ],
          "histogram2d": [
           {
            "colorbar": {
             "outlinewidth": 0,
             "ticks": ""
            },
            "colorscale": [
             [
              0,
              "#0d0887"
             ],
             [
              0.1111111111111111,
              "#46039f"
             ],
             [
              0.2222222222222222,
              "#7201a8"
             ],
             [
              0.3333333333333333,
              "#9c179e"
             ],
             [
              0.4444444444444444,
              "#bd3786"
             ],
             [
              0.5555555555555556,
              "#d8576b"
             ],
             [
              0.6666666666666666,
              "#ed7953"
             ],
             [
              0.7777777777777778,
              "#fb9f3a"
             ],
             [
              0.8888888888888888,
              "#fdca26"
             ],
             [
              1,
              "#f0f921"
             ]
            ],
            "type": "histogram2d"
           }
          ],
          "histogram2dcontour": [
           {
            "colorbar": {
             "outlinewidth": 0,
             "ticks": ""
            },
            "colorscale": [
             [
              0,
              "#0d0887"
             ],
             [
              0.1111111111111111,
              "#46039f"
             ],
             [
              0.2222222222222222,
              "#7201a8"
             ],
             [
              0.3333333333333333,
              "#9c179e"
             ],
             [
              0.4444444444444444,
              "#bd3786"
             ],
             [
              0.5555555555555556,
              "#d8576b"
             ],
             [
              0.6666666666666666,
              "#ed7953"
             ],
             [
              0.7777777777777778,
              "#fb9f3a"
             ],
             [
              0.8888888888888888,
              "#fdca26"
             ],
             [
              1,
              "#f0f921"
             ]
            ],
            "type": "histogram2dcontour"
           }
          ],
          "mesh3d": [
           {
            "colorbar": {
             "outlinewidth": 0,
             "ticks": ""
            },
            "type": "mesh3d"
           }
          ],
          "parcoords": [
           {
            "line": {
             "colorbar": {
              "outlinewidth": 0,
              "ticks": ""
             }
            },
            "type": "parcoords"
           }
          ],
          "pie": [
           {
            "automargin": true,
            "type": "pie"
           }
          ],
          "scatter": [
           {
            "fillpattern": {
             "fillmode": "overlay",
             "size": 10,
             "solidity": 0.2
            },
            "type": "scatter"
           }
          ],
          "scatter3d": [
           {
            "line": {
             "colorbar": {
              "outlinewidth": 0,
              "ticks": ""
             }
            },
            "marker": {
             "colorbar": {
              "outlinewidth": 0,
              "ticks": ""
             }
            },
            "type": "scatter3d"
           }
          ],
          "scattercarpet": [
           {
            "marker": {
             "colorbar": {
              "outlinewidth": 0,
              "ticks": ""
             }
            },
            "type": "scattercarpet"
           }
          ],
          "scattergeo": [
           {
            "marker": {
             "colorbar": {
              "outlinewidth": 0,
              "ticks": ""
             }
            },
            "type": "scattergeo"
           }
          ],
          "scattergl": [
           {
            "marker": {
             "colorbar": {
              "outlinewidth": 0,
              "ticks": ""
             }
            },
            "type": "scattergl"
           }
          ],
          "scattermapbox": [
           {
            "marker": {
             "colorbar": {
              "outlinewidth": 0,
              "ticks": ""
             }
            },
            "type": "scattermapbox"
           }
          ],
          "scatterpolar": [
           {
            "marker": {
             "colorbar": {
              "outlinewidth": 0,
              "ticks": ""
             }
            },
            "type": "scatterpolar"
           }
          ],
          "scatterpolargl": [
           {
            "marker": {
             "colorbar": {
              "outlinewidth": 0,
              "ticks": ""
             }
            },
            "type": "scatterpolargl"
           }
          ],
          "scatterternary": [
           {
            "marker": {
             "colorbar": {
              "outlinewidth": 0,
              "ticks": ""
             }
            },
            "type": "scatterternary"
           }
          ],
          "surface": [
           {
            "colorbar": {
             "outlinewidth": 0,
             "ticks": ""
            },
            "colorscale": [
             [
              0,
              "#0d0887"
             ],
             [
              0.1111111111111111,
              "#46039f"
             ],
             [
              0.2222222222222222,
              "#7201a8"
             ],
             [
              0.3333333333333333,
              "#9c179e"
             ],
             [
              0.4444444444444444,
              "#bd3786"
             ],
             [
              0.5555555555555556,
              "#d8576b"
             ],
             [
              0.6666666666666666,
              "#ed7953"
             ],
             [
              0.7777777777777778,
              "#fb9f3a"
             ],
             [
              0.8888888888888888,
              "#fdca26"
             ],
             [
              1,
              "#f0f921"
             ]
            ],
            "type": "surface"
           }
          ],
          "table": [
           {
            "cells": {
             "fill": {
              "color": "#EBF0F8"
             },
             "line": {
              "color": "white"
             }
            },
            "header": {
             "fill": {
              "color": "#C8D4E3"
             },
             "line": {
              "color": "white"
             }
            },
            "type": "table"
           }
          ]
         },
         "layout": {
          "annotationdefaults": {
           "arrowcolor": "#2a3f5f",
           "arrowhead": 0,
           "arrowwidth": 1
          },
          "autotypenumbers": "strict",
          "coloraxis": {
           "colorbar": {
            "outlinewidth": 0,
            "ticks": ""
           }
          },
          "colorscale": {
           "diverging": [
            [
             0,
             "#8e0152"
            ],
            [
             0.1,
             "#c51b7d"
            ],
            [
             0.2,
             "#de77ae"
            ],
            [
             0.3,
             "#f1b6da"
            ],
            [
             0.4,
             "#fde0ef"
            ],
            [
             0.5,
             "#f7f7f7"
            ],
            [
             0.6,
             "#e6f5d0"
            ],
            [
             0.7,
             "#b8e186"
            ],
            [
             0.8,
             "#7fbc41"
            ],
            [
             0.9,
             "#4d9221"
            ],
            [
             1,
             "#276419"
            ]
           ],
           "sequential": [
            [
             0,
             "#0d0887"
            ],
            [
             0.1111111111111111,
             "#46039f"
            ],
            [
             0.2222222222222222,
             "#7201a8"
            ],
            [
             0.3333333333333333,
             "#9c179e"
            ],
            [
             0.4444444444444444,
             "#bd3786"
            ],
            [
             0.5555555555555556,
             "#d8576b"
            ],
            [
             0.6666666666666666,
             "#ed7953"
            ],
            [
             0.7777777777777778,
             "#fb9f3a"
            ],
            [
             0.8888888888888888,
             "#fdca26"
            ],
            [
             1,
             "#f0f921"
            ]
           ],
           "sequentialminus": [
            [
             0,
             "#0d0887"
            ],
            [
             0.1111111111111111,
             "#46039f"
            ],
            [
             0.2222222222222222,
             "#7201a8"
            ],
            [
             0.3333333333333333,
             "#9c179e"
            ],
            [
             0.4444444444444444,
             "#bd3786"
            ],
            [
             0.5555555555555556,
             "#d8576b"
            ],
            [
             0.6666666666666666,
             "#ed7953"
            ],
            [
             0.7777777777777778,
             "#fb9f3a"
            ],
            [
             0.8888888888888888,
             "#fdca26"
            ],
            [
             1,
             "#f0f921"
            ]
           ]
          },
          "colorway": [
           "#636efa",
           "#EF553B",
           "#00cc96",
           "#ab63fa",
           "#FFA15A",
           "#19d3f3",
           "#FF6692",
           "#B6E880",
           "#FF97FF",
           "#FECB52"
          ],
          "font": {
           "color": "#2a3f5f"
          },
          "geo": {
           "bgcolor": "white",
           "lakecolor": "white",
           "landcolor": "#E5ECF6",
           "showlakes": true,
           "showland": true,
           "subunitcolor": "white"
          },
          "hoverlabel": {
           "align": "left"
          },
          "hovermode": "closest",
          "mapbox": {
           "style": "light"
          },
          "paper_bgcolor": "white",
          "plot_bgcolor": "#E5ECF6",
          "polar": {
           "angularaxis": {
            "gridcolor": "white",
            "linecolor": "white",
            "ticks": ""
           },
           "bgcolor": "#E5ECF6",
           "radialaxis": {
            "gridcolor": "white",
            "linecolor": "white",
            "ticks": ""
           }
          },
          "scene": {
           "xaxis": {
            "backgroundcolor": "#E5ECF6",
            "gridcolor": "white",
            "gridwidth": 2,
            "linecolor": "white",
            "showbackground": true,
            "ticks": "",
            "zerolinecolor": "white"
           },
           "yaxis": {
            "backgroundcolor": "#E5ECF6",
            "gridcolor": "white",
            "gridwidth": 2,
            "linecolor": "white",
            "showbackground": true,
            "ticks": "",
            "zerolinecolor": "white"
           },
           "zaxis": {
            "backgroundcolor": "#E5ECF6",
            "gridcolor": "white",
            "gridwidth": 2,
            "linecolor": "white",
            "showbackground": true,
            "ticks": "",
            "zerolinecolor": "white"
           }
          },
          "shapedefaults": {
           "line": {
            "color": "#2a3f5f"
           }
          },
          "ternary": {
           "aaxis": {
            "gridcolor": "white",
            "linecolor": "white",
            "ticks": ""
           },
           "baxis": {
            "gridcolor": "white",
            "linecolor": "white",
            "ticks": ""
           },
           "bgcolor": "#E5ECF6",
           "caxis": {
            "gridcolor": "white",
            "linecolor": "white",
            "ticks": ""
           }
          },
          "title": {
           "x": 0.05
          },
          "xaxis": {
           "automargin": true,
           "gridcolor": "white",
           "linecolor": "white",
           "ticks": "",
           "title": {
            "standoff": 15
           },
           "zerolinecolor": "white",
           "zerolinewidth": 2
          },
          "yaxis": {
           "automargin": true,
           "gridcolor": "white",
           "linecolor": "white",
           "ticks": "",
           "title": {
            "standoff": 15
           },
           "zerolinecolor": "white",
           "zerolinewidth": 2
          }
         }
        },
        "title": {
         "font": {
          "color": "#4D5663"
         }
        },
        "xaxis": {
         "gridcolor": "#E1E5ED",
         "showgrid": true,
         "tickfont": {
          "color": "#4D5663"
         },
         "title": {
          "font": {
           "color": "#4D5663"
          },
          "text": ""
         },
         "zerolinecolor": "#E1E5ED"
        },
        "yaxis": {
         "gridcolor": "#E1E5ED",
         "showgrid": true,
         "tickfont": {
          "color": "#4D5663"
         },
         "title": {
          "font": {
           "color": "#4D5663"
          },
          "text": ""
         },
         "zerolinecolor": "#E1E5ED"
        }
       }
      },
      "text/html": [
       "<div>                            <div id=\"8e56c3a9-7d3d-494c-bbf5-2080618c6ed5\" class=\"plotly-graph-div\" style=\"height:525px; width:100%;\"></div>            <script type=\"text/javascript\">                require([\"plotly\"], function(Plotly) {                    window.PLOTLYENV=window.PLOTLYENV || {};\n",
       "                    window.PLOTLYENV.BASE_URL='https://plot.ly';                                    if (document.getElementById(\"8e56c3a9-7d3d-494c-bbf5-2080618c6ed5\")) {                    Plotly.newPlot(                        \"8e56c3a9-7d3d-494c-bbf5-2080618c6ed5\",                        [{\"colorscale\":[[0.0,\"rgb(165,0,38)\"],[0.1,\"rgb(215,48,39)\"],[0.2,\"rgb(244,109,67)\"],[0.3,\"rgb(253,174,97)\"],[0.4,\"rgb(254,224,144)\"],[0.5,\"rgb(255,255,191)\"],[0.6,\"rgb(224,243,248)\"],[0.7,\"rgb(171,217,233)\"],[0.8,\"rgb(116,173,209)\"],[0.9,\"rgb(69,117,180)\"],[1.0,\"rgb(49,54,149)\"]],\"x\":[0,1,2,3,4],\"y\":[\"x\",\"y\",\"z\"],\"z\":[[2,4,6,8,10],[30,20,10,20,30],[2,4,6,8,10]],\"type\":\"surface\"}],                        {\"legend\":{\"bgcolor\":\"#F5F6F9\",\"font\":{\"color\":\"#4D5663\"}},\"paper_bgcolor\":\"#F5F6F9\",\"plot_bgcolor\":\"#F5F6F9\",\"template\":{\"data\":{\"barpolar\":[{\"marker\":{\"line\":{\"color\":\"#E5ECF6\",\"width\":0.5},\"pattern\":{\"fillmode\":\"overlay\",\"size\":10,\"solidity\":0.2}},\"type\":\"barpolar\"}],\"bar\":[{\"error_x\":{\"color\":\"#2a3f5f\"},\"error_y\":{\"color\":\"#2a3f5f\"},\"marker\":{\"line\":{\"color\":\"#E5ECF6\",\"width\":0.5},\"pattern\":{\"fillmode\":\"overlay\",\"size\":10,\"solidity\":0.2}},\"type\":\"bar\"}],\"carpet\":[{\"aaxis\":{\"endlinecolor\":\"#2a3f5f\",\"gridcolor\":\"white\",\"linecolor\":\"white\",\"minorgridcolor\":\"white\",\"startlinecolor\":\"#2a3f5f\"},\"baxis\":{\"endlinecolor\":\"#2a3f5f\",\"gridcolor\":\"white\",\"linecolor\":\"white\",\"minorgridcolor\":\"white\",\"startlinecolor\":\"#2a3f5f\"},\"type\":\"carpet\"}],\"choropleth\":[{\"colorbar\":{\"outlinewidth\":0,\"ticks\":\"\"},\"type\":\"choropleth\"}],\"contourcarpet\":[{\"colorbar\":{\"outlinewidth\":0,\"ticks\":\"\"},\"type\":\"contourcarpet\"}],\"contour\":[{\"colorbar\":{\"outlinewidth\":0,\"ticks\":\"\"},\"colorscale\":[[0.0,\"#0d0887\"],[0.1111111111111111,\"#46039f\"],[0.2222222222222222,\"#7201a8\"],[0.3333333333333333,\"#9c179e\"],[0.4444444444444444,\"#bd3786\"],[0.5555555555555556,\"#d8576b\"],[0.6666666666666666,\"#ed7953\"],[0.7777777777777778,\"#fb9f3a\"],[0.8888888888888888,\"#fdca26\"],[1.0,\"#f0f921\"]],\"type\":\"contour\"}],\"heatmapgl\":[{\"colorbar\":{\"outlinewidth\":0,\"ticks\":\"\"},\"colorscale\":[[0.0,\"#0d0887\"],[0.1111111111111111,\"#46039f\"],[0.2222222222222222,\"#7201a8\"],[0.3333333333333333,\"#9c179e\"],[0.4444444444444444,\"#bd3786\"],[0.5555555555555556,\"#d8576b\"],[0.6666666666666666,\"#ed7953\"],[0.7777777777777778,\"#fb9f3a\"],[0.8888888888888888,\"#fdca26\"],[1.0,\"#f0f921\"]],\"type\":\"heatmapgl\"}],\"heatmap\":[{\"colorbar\":{\"outlinewidth\":0,\"ticks\":\"\"},\"colorscale\":[[0.0,\"#0d0887\"],[0.1111111111111111,\"#46039f\"],[0.2222222222222222,\"#7201a8\"],[0.3333333333333333,\"#9c179e\"],[0.4444444444444444,\"#bd3786\"],[0.5555555555555556,\"#d8576b\"],[0.6666666666666666,\"#ed7953\"],[0.7777777777777778,\"#fb9f3a\"],[0.8888888888888888,\"#fdca26\"],[1.0,\"#f0f921\"]],\"type\":\"heatmap\"}],\"histogram2dcontour\":[{\"colorbar\":{\"outlinewidth\":0,\"ticks\":\"\"},\"colorscale\":[[0.0,\"#0d0887\"],[0.1111111111111111,\"#46039f\"],[0.2222222222222222,\"#7201a8\"],[0.3333333333333333,\"#9c179e\"],[0.4444444444444444,\"#bd3786\"],[0.5555555555555556,\"#d8576b\"],[0.6666666666666666,\"#ed7953\"],[0.7777777777777778,\"#fb9f3a\"],[0.8888888888888888,\"#fdca26\"],[1.0,\"#f0f921\"]],\"type\":\"histogram2dcontour\"}],\"histogram2d\":[{\"colorbar\":{\"outlinewidth\":0,\"ticks\":\"\"},\"colorscale\":[[0.0,\"#0d0887\"],[0.1111111111111111,\"#46039f\"],[0.2222222222222222,\"#7201a8\"],[0.3333333333333333,\"#9c179e\"],[0.4444444444444444,\"#bd3786\"],[0.5555555555555556,\"#d8576b\"],[0.6666666666666666,\"#ed7953\"],[0.7777777777777778,\"#fb9f3a\"],[0.8888888888888888,\"#fdca26\"],[1.0,\"#f0f921\"]],\"type\":\"histogram2d\"}],\"histogram\":[{\"marker\":{\"pattern\":{\"fillmode\":\"overlay\",\"size\":10,\"solidity\":0.2}},\"type\":\"histogram\"}],\"mesh3d\":[{\"colorbar\":{\"outlinewidth\":0,\"ticks\":\"\"},\"type\":\"mesh3d\"}],\"parcoords\":[{\"line\":{\"colorbar\":{\"outlinewidth\":0,\"ticks\":\"\"}},\"type\":\"parcoords\"}],\"pie\":[{\"automargin\":true,\"type\":\"pie\"}],\"scatter3d\":[{\"line\":{\"colorbar\":{\"outlinewidth\":0,\"ticks\":\"\"}},\"marker\":{\"colorbar\":{\"outlinewidth\":0,\"ticks\":\"\"}},\"type\":\"scatter3d\"}],\"scattercarpet\":[{\"marker\":{\"colorbar\":{\"outlinewidth\":0,\"ticks\":\"\"}},\"type\":\"scattercarpet\"}],\"scattergeo\":[{\"marker\":{\"colorbar\":{\"outlinewidth\":0,\"ticks\":\"\"}},\"type\":\"scattergeo\"}],\"scattergl\":[{\"marker\":{\"colorbar\":{\"outlinewidth\":0,\"ticks\":\"\"}},\"type\":\"scattergl\"}],\"scattermapbox\":[{\"marker\":{\"colorbar\":{\"outlinewidth\":0,\"ticks\":\"\"}},\"type\":\"scattermapbox\"}],\"scatterpolargl\":[{\"marker\":{\"colorbar\":{\"outlinewidth\":0,\"ticks\":\"\"}},\"type\":\"scatterpolargl\"}],\"scatterpolar\":[{\"marker\":{\"colorbar\":{\"outlinewidth\":0,\"ticks\":\"\"}},\"type\":\"scatterpolar\"}],\"scatter\":[{\"fillpattern\":{\"fillmode\":\"overlay\",\"size\":10,\"solidity\":0.2},\"type\":\"scatter\"}],\"scatterternary\":[{\"marker\":{\"colorbar\":{\"outlinewidth\":0,\"ticks\":\"\"}},\"type\":\"scatterternary\"}],\"surface\":[{\"colorbar\":{\"outlinewidth\":0,\"ticks\":\"\"},\"colorscale\":[[0.0,\"#0d0887\"],[0.1111111111111111,\"#46039f\"],[0.2222222222222222,\"#7201a8\"],[0.3333333333333333,\"#9c179e\"],[0.4444444444444444,\"#bd3786\"],[0.5555555555555556,\"#d8576b\"],[0.6666666666666666,\"#ed7953\"],[0.7777777777777778,\"#fb9f3a\"],[0.8888888888888888,\"#fdca26\"],[1.0,\"#f0f921\"]],\"type\":\"surface\"}],\"table\":[{\"cells\":{\"fill\":{\"color\":\"#EBF0F8\"},\"line\":{\"color\":\"white\"}},\"header\":{\"fill\":{\"color\":\"#C8D4E3\"},\"line\":{\"color\":\"white\"}},\"type\":\"table\"}]},\"layout\":{\"annotationdefaults\":{\"arrowcolor\":\"#2a3f5f\",\"arrowhead\":0,\"arrowwidth\":1},\"autotypenumbers\":\"strict\",\"coloraxis\":{\"colorbar\":{\"outlinewidth\":0,\"ticks\":\"\"}},\"colorscale\":{\"diverging\":[[0,\"#8e0152\"],[0.1,\"#c51b7d\"],[0.2,\"#de77ae\"],[0.3,\"#f1b6da\"],[0.4,\"#fde0ef\"],[0.5,\"#f7f7f7\"],[0.6,\"#e6f5d0\"],[0.7,\"#b8e186\"],[0.8,\"#7fbc41\"],[0.9,\"#4d9221\"],[1,\"#276419\"]],\"sequential\":[[0.0,\"#0d0887\"],[0.1111111111111111,\"#46039f\"],[0.2222222222222222,\"#7201a8\"],[0.3333333333333333,\"#9c179e\"],[0.4444444444444444,\"#bd3786\"],[0.5555555555555556,\"#d8576b\"],[0.6666666666666666,\"#ed7953\"],[0.7777777777777778,\"#fb9f3a\"],[0.8888888888888888,\"#fdca26\"],[1.0,\"#f0f921\"]],\"sequentialminus\":[[0.0,\"#0d0887\"],[0.1111111111111111,\"#46039f\"],[0.2222222222222222,\"#7201a8\"],[0.3333333333333333,\"#9c179e\"],[0.4444444444444444,\"#bd3786\"],[0.5555555555555556,\"#d8576b\"],[0.6666666666666666,\"#ed7953\"],[0.7777777777777778,\"#fb9f3a\"],[0.8888888888888888,\"#fdca26\"],[1.0,\"#f0f921\"]]},\"colorway\":[\"#636efa\",\"#EF553B\",\"#00cc96\",\"#ab63fa\",\"#FFA15A\",\"#19d3f3\",\"#FF6692\",\"#B6E880\",\"#FF97FF\",\"#FECB52\"],\"font\":{\"color\":\"#2a3f5f\"},\"geo\":{\"bgcolor\":\"white\",\"lakecolor\":\"white\",\"landcolor\":\"#E5ECF6\",\"showlakes\":true,\"showland\":true,\"subunitcolor\":\"white\"},\"hoverlabel\":{\"align\":\"left\"},\"hovermode\":\"closest\",\"mapbox\":{\"style\":\"light\"},\"paper_bgcolor\":\"white\",\"plot_bgcolor\":\"#E5ECF6\",\"polar\":{\"angularaxis\":{\"gridcolor\":\"white\",\"linecolor\":\"white\",\"ticks\":\"\"},\"bgcolor\":\"#E5ECF6\",\"radialaxis\":{\"gridcolor\":\"white\",\"linecolor\":\"white\",\"ticks\":\"\"}},\"scene\":{\"xaxis\":{\"backgroundcolor\":\"#E5ECF6\",\"gridcolor\":\"white\",\"gridwidth\":2,\"linecolor\":\"white\",\"showbackground\":true,\"ticks\":\"\",\"zerolinecolor\":\"white\"},\"yaxis\":{\"backgroundcolor\":\"#E5ECF6\",\"gridcolor\":\"white\",\"gridwidth\":2,\"linecolor\":\"white\",\"showbackground\":true,\"ticks\":\"\",\"zerolinecolor\":\"white\"},\"zaxis\":{\"backgroundcolor\":\"#E5ECF6\",\"gridcolor\":\"white\",\"gridwidth\":2,\"linecolor\":\"white\",\"showbackground\":true,\"ticks\":\"\",\"zerolinecolor\":\"white\"}},\"shapedefaults\":{\"line\":{\"color\":\"#2a3f5f\"}},\"ternary\":{\"aaxis\":{\"gridcolor\":\"white\",\"linecolor\":\"white\",\"ticks\":\"\"},\"baxis\":{\"gridcolor\":\"white\",\"linecolor\":\"white\",\"ticks\":\"\"},\"bgcolor\":\"#E5ECF6\",\"caxis\":{\"gridcolor\":\"white\",\"linecolor\":\"white\",\"ticks\":\"\"}},\"title\":{\"x\":0.05},\"xaxis\":{\"automargin\":true,\"gridcolor\":\"white\",\"linecolor\":\"white\",\"ticks\":\"\",\"title\":{\"standoff\":15},\"zerolinecolor\":\"white\",\"zerolinewidth\":2},\"yaxis\":{\"automargin\":true,\"gridcolor\":\"white\",\"linecolor\":\"white\",\"ticks\":\"\",\"title\":{\"standoff\":15},\"zerolinecolor\":\"white\",\"zerolinewidth\":2}}},\"title\":{\"font\":{\"color\":\"#4D5663\"}},\"xaxis\":{\"gridcolor\":\"#E1E5ED\",\"showgrid\":true,\"tickfont\":{\"color\":\"#4D5663\"},\"title\":{\"font\":{\"color\":\"#4D5663\"},\"text\":\"\"},\"zerolinecolor\":\"#E1E5ED\"},\"yaxis\":{\"gridcolor\":\"#E1E5ED\",\"showgrid\":true,\"tickfont\":{\"color\":\"#4D5663\"},\"title\":{\"font\":{\"color\":\"#4D5663\"},\"text\":\"\"},\"zerolinecolor\":\"#E1E5ED\"}},                        {\"showLink\": true, \"linkText\": \"Export to plot.ly\", \"plotlyServerURL\": \"https://plot.ly\", \"responsive\": true}                    ).then(function(){\n",
       "                            \n",
       "var gd = document.getElementById('8e56c3a9-7d3d-494c-bbf5-2080618c6ed5');\n",
       "var x = new MutationObserver(function (mutations, observer) {{\n",
       "        var display = window.getComputedStyle(gd).display;\n",
       "        if (!display || display === 'none') {{\n",
       "            console.log([gd, 'removed!']);\n",
       "            Plotly.purge(gd);\n",
       "            observer.disconnect();\n",
       "        }}\n",
       "}});\n",
       "\n",
       "// Listen for the removal of the full notebook cells\n",
       "var notebookContainer = gd.closest('#notebook-container');\n",
       "if (notebookContainer) {{\n",
       "    x.observe(notebookContainer, {childList: true});\n",
       "}}\n",
       "\n",
       "// Listen for the clearing of the current output cell\n",
       "var outputEl = gd.closest('.output');\n",
       "if (outputEl) {{\n",
       "    x.observe(outputEl, {childList: true});\n",
       "}}\n",
       "\n",
       "                        })                };                });            </script>        </div>"
      ]
     },
     "metadata": {},
     "output_type": "display_data"
    }
   ],
   "source": [
    "df3 = pd.DataFrame({'x':[2,4,6,8,10],'y':[30,20,10,20,30],'z':[2,4,6,8,10]})\n",
    "df3.iplot(kind='surface',colorscale='rdylbu')"
   ]
  },
  {
   "cell_type": "code",
   "execution_count": 19,
   "metadata": {},
   "outputs": [
    {
     "name": "stderr",
     "output_type": "stream",
     "text": [
      "/Users/alhwyngeonzon/anaconda3/lib/python3.11/site-packages/cufflinks/plotlytools.py:849: FutureWarning:\n",
      "\n",
      "The pandas.np module is deprecated and will be removed from pandas in a future version. Import numpy directly instead.\n",
      "\n",
      "/Users/alhwyngeonzon/anaconda3/lib/python3.11/site-packages/cufflinks/plotlytools.py:850: FutureWarning:\n",
      "\n",
      "The pandas.np module is deprecated and will be removed from pandas in a future version. Import numpy directly instead.\n",
      "\n"
     ]
    },
    {
     "data": {
      "application/vnd.plotly.v1+json": {
       "config": {
        "linkText": "Export to plot.ly",
        "plotlyServerURL": "https://plot.ly",
        "showLink": true
       },
       "data": [
        {
         "line": {
          "color": "rgba(255, 153, 51, 1.0)",
          "dash": "solid",
          "shape": "linear",
          "width": 1.3
         },
         "mode": "lines",
         "name": "A",
         "text": "",
         "type": "scatter",
         "x": [
          0,
          1,
          2,
          3,
          4,
          5,
          6,
          7,
          8,
          9,
          10,
          11,
          12,
          13,
          14,
          15,
          16,
          17,
          18,
          19,
          20,
          21,
          22,
          23,
          24,
          25,
          26,
          27,
          28,
          29,
          30,
          31,
          32,
          33,
          34,
          35,
          36,
          37,
          38,
          39,
          40,
          41,
          42,
          43,
          44,
          45,
          46,
          47,
          48,
          49,
          50,
          51,
          52,
          53,
          54,
          55,
          56,
          57,
          58,
          59,
          60,
          61,
          62,
          63,
          64,
          65,
          66,
          67,
          68,
          69,
          70,
          71,
          72,
          73,
          74,
          75,
          76,
          77,
          78,
          79,
          80,
          81,
          82,
          83,
          84,
          85,
          86,
          87,
          88,
          89,
          90,
          91,
          92,
          93,
          94,
          95,
          96,
          97,
          98,
          99
         ],
         "y": [
          0.3088324856892706,
          -0.3181018657763986,
          -0.3255636066105028,
          -0.19236064939448894,
          -0.31705847833897705,
          -0.3637990623796339,
          1.7381070856119816,
          -1.6365618661350712,
          1.207602245302151,
          0.5795086591513585,
          0.3870112639907086,
          -0.10402522952978051,
          0.39876508426736096,
          0.058877024328745,
          2.046305095259285,
          -0.06205058952363449,
          -0.5088513253753721,
          1.7060136114179525,
          -0.832794298194402,
          0.740658198328443,
          0.9254554710965845,
          -0.5070103677145493,
          -1.4570107579482992,
          -0.24365430134011537,
          1.1676646218937359,
          -0.311995182369368,
          0.7109016891661052,
          -1.0364988054373834,
          -1.09996944787571,
          -0.12594993434748722,
          1.7722816783788544,
          -0.3997032204298883,
          -0.9323688783891173,
          -0.8890050506577837,
          -1.2253267838890964,
          -0.9006985743648436,
          -0.5349749662875761,
          0.8166480990698793,
          -0.7104178965845112,
          -0.3457486752396018,
          2.959469692485582,
          0.23534877803905693,
          0.966630327587809,
          2.4381924323134023,
          -0.30413100985165104,
          -0.05444955774883802,
          0.878998226071373,
          -1.1152616224785363,
          -0.6218799711578149,
          -1.4821637745829594,
          -0.9646987993706798,
          -0.18625141720567243,
          1.082688995662202,
          0.1551996500811465,
          0.6927369140060691,
          -0.4943669432520142,
          0.4662627587205149,
          1.1358562871588116,
          0.013461325519304344,
          0.7146192694121911,
          0.49813190363407545,
          -0.36725654791870793,
          -1.3353814443706784,
          2.5521770370452495,
          -1.4182599967967349,
          -0.43289339497198265,
          1.0100491406976808,
          0.016329224880536244,
          1.3886393871899374,
          0.9613206589194162,
          -1.5355067481574007,
          1.184697490716947,
          2.3216104010354237,
          -2.0445540506204263,
          -0.5871771419671978,
          1.2734450444863539,
          1.4195058858709837,
          0.8390940119444251,
          0.13116077472428445,
          -0.06590812174109323,
          -0.6968929236770744,
          -1.1389255549844535,
          -0.04754382317161936,
          -0.2248628873615001,
          0.7753734423955779,
          -0.18074714231253064,
          -0.8355014732267162,
          0.8467980360783912,
          0.38239269938737475,
          -0.9905196586110199,
          0.9499548630576228,
          -0.6045266692700999,
          1.261098538014877,
          -1.9887055698509426,
          0.8438845678507609,
          -0.5886865644903774,
          0.8100195951040792,
          -1.1556415592736307,
          -0.07990340462631895,
          -0.6901560499125757
         ]
        },
        {
         "line": {
          "color": "rgba(55, 128, 191, 1.0)",
          "dash": "solid",
          "shape": "linear",
          "width": 1.3
         },
         "mode": "lines",
         "name": "B",
         "text": "",
         "type": "scatter",
         "x": [
          0,
          1,
          2,
          3,
          4,
          5,
          6,
          7,
          8,
          9,
          10,
          11,
          12,
          13,
          14,
          15,
          16,
          17,
          18,
          19,
          20,
          21,
          22,
          23,
          24,
          25,
          26,
          27,
          28,
          29,
          30,
          31,
          32,
          33,
          34,
          35,
          36,
          37,
          38,
          39,
          40,
          41,
          42,
          43,
          44,
          45,
          46,
          47,
          48,
          49,
          50,
          51,
          52,
          53,
          54,
          55,
          56,
          57,
          58,
          59,
          60,
          61,
          62,
          63,
          64,
          65,
          66,
          67,
          68,
          69,
          70,
          71,
          72,
          73,
          74,
          75,
          76,
          77,
          78,
          79,
          80,
          81,
          82,
          83,
          84,
          85,
          86,
          87,
          88,
          89,
          90,
          91,
          92,
          93,
          94,
          95,
          96,
          97,
          98,
          99
         ],
         "y": [
          -0.4516907935643547,
          1.9112976940760542,
          0.016278191613616856,
          -1.5612510125262646,
          1.274813950179761,
          -1.6126805385966763,
          -2.2821957251904537,
          0.2089866829343159,
          -0.8429670959668712,
          -0.1760004882461311,
          -0.28365499381420106,
          -0.33009201915794384,
          1.073630642032631,
          -0.6400132697192715,
          -1.6190174132021233,
          -0.8066969102906225,
          -0.7976712506251615,
          -0.04786740123194217,
          0.0036016919413261912,
          0.9796573940454502,
          0.41890900093567296,
          -0.4651558301356142,
          0.3967128531212736,
          0.3647102645827066,
          2.3635634839500868,
          1.690659593065594,
          -0.12958185421349058,
          1.1451978672201555,
          -0.5445427235078433,
          0.23184905659203003,
          -0.661231661728734,
          -1.3468812161015062,
          -0.12597790256040473,
          -0.7661206376129771,
          0.6726122485131029,
          0.8890951709181736,
          0.07540556913641484,
          -0.5375263337691439,
          0.9102631893960552,
          -1.5706703434768574,
          -0.06651099933796677,
          1.9575820573574008,
          0.5984037057002887,
          -0.29279137068526834,
          0.8608585157666441,
          -0.5722289975411223,
          0.2167161010616931,
          -0.07729590112916514,
          -0.11686005672031406,
          0.5093443084130719,
          -0.9960610113310893,
          -1.7664698608708074,
          0.8343471753750914,
          1.4158114289369463,
          -1.3956435087990042,
          0.05322552854207203,
          -0.9523509773763503,
          -0.6663310368452604,
          -1.0650812212374816,
          -1.0140209385032657,
          0.11207349468470248,
          -0.5104156544641547,
          1.234706908081769,
          2.0556699493257153,
          0.535280282309938,
          0.22644574445244361,
          -1.0778958754538086,
          0.49053867687206737,
          -1.0182020417594757,
          0.2268549447273603,
          -1.2811762721246358,
          -1.9424396249265408,
          0.2047971602644152,
          0.6420282395857231,
          -1.051774222557932,
          -0.38613327141997705,
          0.6988444446067775,
          0.22176227835569992,
          -1.3850991419989536,
          3.170042786967088,
          0.9760411158462163,
          0.9843606399408203,
          0.21425644495420632,
          -0.1454975927098459,
          1.1360264375085198,
          1.4965769407068956,
          2.0212430515195114,
          0.6535613771609278,
          -0.20778690624197377,
          0.05133141205531726,
          1.5951808004389887,
          0.024862938608334953,
          -1.0341191496383413,
          -0.6309259671022158,
          1.8896170951490574,
          1.0544275134607926,
          -1.803050885322603,
          -0.3481509866491919,
          0.3364817028101488,
          -1.0504744495799234
         ]
        },
        {
         "connectgaps": false,
         "fill": "tozeroy",
         "line": {
          "color": "green",
          "dash": "solid",
          "shape": "linear",
          "width": 0.5
         },
         "mode": "lines",
         "name": "Spread",
         "showlegend": false,
         "type": "scatter",
         "x": [
          0,
          1,
          2,
          3,
          4,
          5,
          6,
          7,
          8,
          9,
          10,
          11,
          12,
          13,
          14,
          15,
          16,
          17,
          18,
          19,
          20,
          21,
          22,
          23,
          24,
          25,
          26,
          27,
          28,
          29,
          30,
          31,
          32,
          33,
          34,
          35,
          36,
          37,
          38,
          39,
          40,
          41,
          42,
          43,
          44,
          45,
          46,
          47,
          48,
          49,
          50,
          51,
          52,
          53,
          54,
          55,
          56,
          57,
          58,
          59,
          60,
          61,
          62,
          63,
          64,
          65,
          66,
          67,
          68,
          69,
          70,
          71,
          72,
          73,
          74,
          75,
          76,
          77,
          78,
          79,
          80,
          81,
          82,
          83,
          84,
          85,
          86,
          87,
          88,
          89,
          90,
          91,
          92,
          93,
          94,
          95,
          96,
          97,
          98,
          99
         ],
         "xaxis": "x2",
         "y": [
          0.7605232792536253,
          "",
          "",
          1.3688903631317757,
          "",
          1.2488814762170424,
          4.020302810802435,
          "",
          2.0505693412690222,
          0.7555091473974896,
          0.6706662578049096,
          0.22606678962816334,
          "",
          0.6988902940480165,
          3.6653225084614087,
          0.744646320766988,
          0.2888199252497894,
          1.7538810126498947,
          "",
          "",
          0.5065464701609116,
          "",
          "",
          "",
          "",
          "",
          0.8404835433795957,
          "",
          "",
          "",
          2.4335133401075884,
          0.947177995671618,
          "",
          "",
          "",
          "",
          "",
          1.3541744328390233,
          "",
          1.2249216682372557,
          3.025980691823549,
          "",
          0.3682266218875203,
          2.730983802998671,
          "",
          0.5177794397922844,
          0.66228212500968,
          "",
          "",
          "",
          0.03136221196040945,
          1.580218443665135,
          0.2483418202871105,
          "",
          2.0883804228050735,
          "",
          1.4186137360968654,
          1.802187324004072,
          1.078542546756786,
          1.7286402079154568,
          0.38605840894937293,
          0.14315910654544678,
          "",
          0.4965070877195341,
          "",
          "",
          2.0879450161514894,
          "",
          2.406841428949413,
          0.7344657141920559,
          "",
          3.127137115643488,
          2.1168132407710085,
          "",
          0.46459708059073423,
          1.6595783159063309,
          0.7206614412642062,
          0.6173317335887252,
          1.516259916723238,
          "",
          "",
          "",
          "",
          "",
          "",
          "",
          "",
          0.19323665891746344,
          0.5901796056293485,
          "",
          "",
          "",
          2.295217687653218,
          "",
          "",
          "",
          2.613070480426682,
          "",
          "",
          0.3603183996673477
         ],
         "yaxis": "y2"
        },
        {
         "connectgaps": false,
         "fill": "tozeroy",
         "line": {
          "color": "red",
          "dash": "solid",
          "shape": "linear",
          "width": 0.5
         },
         "mode": "lines",
         "name": "Spread",
         "showlegend": false,
         "type": "scatter",
         "x": [
          0,
          1,
          2,
          3,
          4,
          5,
          6,
          7,
          8,
          9,
          10,
          11,
          12,
          13,
          14,
          15,
          16,
          17,
          18,
          19,
          20,
          21,
          22,
          23,
          24,
          25,
          26,
          27,
          28,
          29,
          30,
          31,
          32,
          33,
          34,
          35,
          36,
          37,
          38,
          39,
          40,
          41,
          42,
          43,
          44,
          45,
          46,
          47,
          48,
          49,
          50,
          51,
          52,
          53,
          54,
          55,
          56,
          57,
          58,
          59,
          60,
          61,
          62,
          63,
          64,
          65,
          66,
          67,
          68,
          69,
          70,
          71,
          72,
          73,
          74,
          75,
          76,
          77,
          78,
          79,
          80,
          81,
          82,
          83,
          84,
          85,
          86,
          87,
          88,
          89,
          90,
          91,
          92,
          93,
          94,
          95,
          96,
          97,
          98,
          99
         ],
         "xaxis": "x2",
         "y": [
          "",
          -2.2293995598524528,
          -0.3418417982241197,
          "",
          -1.5918724285187382,
          "",
          "",
          -1.845548549069387,
          "",
          "",
          "",
          "",
          -0.67486555776527,
          "",
          "",
          "",
          "",
          "",
          -0.8363959901357282,
          -0.23899919571700712,
          "",
          -0.04185453757893515,
          -1.8537236110695727,
          -0.608364565922822,
          -1.1958988620563509,
          -2.002654775434962,
          "",
          -2.181696672657539,
          -0.5554267243678668,
          -0.3577989909395173,
          "",
          "",
          -0.8063909758287126,
          -0.12288441304480657,
          -1.8979390324021992,
          -1.789793745283017,
          -0.610380535423991,
          "",
          -1.6206810859805665,
          "",
          "",
          -1.722233279318344,
          "",
          "",
          -1.1649895256182952,
          "",
          "",
          -1.0379657213493712,
          -0.5050199144375008,
          -1.9915080829960314,
          "",
          "",
          "",
          -1.2606117788557998,
          "",
          -0.5475924717940862,
          "",
          "",
          "",
          "",
          "",
          "",
          -2.5700883524524474,
          "",
          -1.9535402791066727,
          -0.6593391394244262,
          "",
          -0.47420945199153114,
          "",
          "",
          -0.25433047603276493,
          "",
          "",
          -2.6865822902061494,
          "",
          "",
          "",
          "",
          "",
          -3.235950908708181,
          -1.6729340395232908,
          -2.123286194925274,
          -0.2618002681258257,
          -0.07936529465165418,
          -0.3606529951129419,
          -1.6773240830194263,
          -2.8567445247462278,
          "",
          "",
          -1.041851070666337,
          -0.6452259373813659,
          -0.6293896078784349,
          "",
          -1.3577796027487268,
          -1.0457325272982965,
          -1.64311407795117,
          "",
          -0.8074905726244388,
          -0.4163851074364677,
          ""
         ],
         "yaxis": "y2"
        }
       ],
       "layout": {
        "hovermode": "x",
        "legend": {
         "bgcolor": "#F5F6F9",
         "font": {
          "color": "#4D5663"
         }
        },
        "paper_bgcolor": "#F5F6F9",
        "plot_bgcolor": "#F5F6F9",
        "template": {
         "data": {
          "bar": [
           {
            "error_x": {
             "color": "#2a3f5f"
            },
            "error_y": {
             "color": "#2a3f5f"
            },
            "marker": {
             "line": {
              "color": "#E5ECF6",
              "width": 0.5
             },
             "pattern": {
              "fillmode": "overlay",
              "size": 10,
              "solidity": 0.2
             }
            },
            "type": "bar"
           }
          ],
          "barpolar": [
           {
            "marker": {
             "line": {
              "color": "#E5ECF6",
              "width": 0.5
             },
             "pattern": {
              "fillmode": "overlay",
              "size": 10,
              "solidity": 0.2
             }
            },
            "type": "barpolar"
           }
          ],
          "carpet": [
           {
            "aaxis": {
             "endlinecolor": "#2a3f5f",
             "gridcolor": "white",
             "linecolor": "white",
             "minorgridcolor": "white",
             "startlinecolor": "#2a3f5f"
            },
            "baxis": {
             "endlinecolor": "#2a3f5f",
             "gridcolor": "white",
             "linecolor": "white",
             "minorgridcolor": "white",
             "startlinecolor": "#2a3f5f"
            },
            "type": "carpet"
           }
          ],
          "choropleth": [
           {
            "colorbar": {
             "outlinewidth": 0,
             "ticks": ""
            },
            "type": "choropleth"
           }
          ],
          "contour": [
           {
            "colorbar": {
             "outlinewidth": 0,
             "ticks": ""
            },
            "colorscale": [
             [
              0,
              "#0d0887"
             ],
             [
              0.1111111111111111,
              "#46039f"
             ],
             [
              0.2222222222222222,
              "#7201a8"
             ],
             [
              0.3333333333333333,
              "#9c179e"
             ],
             [
              0.4444444444444444,
              "#bd3786"
             ],
             [
              0.5555555555555556,
              "#d8576b"
             ],
             [
              0.6666666666666666,
              "#ed7953"
             ],
             [
              0.7777777777777778,
              "#fb9f3a"
             ],
             [
              0.8888888888888888,
              "#fdca26"
             ],
             [
              1,
              "#f0f921"
             ]
            ],
            "type": "contour"
           }
          ],
          "contourcarpet": [
           {
            "colorbar": {
             "outlinewidth": 0,
             "ticks": ""
            },
            "type": "contourcarpet"
           }
          ],
          "heatmap": [
           {
            "colorbar": {
             "outlinewidth": 0,
             "ticks": ""
            },
            "colorscale": [
             [
              0,
              "#0d0887"
             ],
             [
              0.1111111111111111,
              "#46039f"
             ],
             [
              0.2222222222222222,
              "#7201a8"
             ],
             [
              0.3333333333333333,
              "#9c179e"
             ],
             [
              0.4444444444444444,
              "#bd3786"
             ],
             [
              0.5555555555555556,
              "#d8576b"
             ],
             [
              0.6666666666666666,
              "#ed7953"
             ],
             [
              0.7777777777777778,
              "#fb9f3a"
             ],
             [
              0.8888888888888888,
              "#fdca26"
             ],
             [
              1,
              "#f0f921"
             ]
            ],
            "type": "heatmap"
           }
          ],
          "heatmapgl": [
           {
            "colorbar": {
             "outlinewidth": 0,
             "ticks": ""
            },
            "colorscale": [
             [
              0,
              "#0d0887"
             ],
             [
              0.1111111111111111,
              "#46039f"
             ],
             [
              0.2222222222222222,
              "#7201a8"
             ],
             [
              0.3333333333333333,
              "#9c179e"
             ],
             [
              0.4444444444444444,
              "#bd3786"
             ],
             [
              0.5555555555555556,
              "#d8576b"
             ],
             [
              0.6666666666666666,
              "#ed7953"
             ],
             [
              0.7777777777777778,
              "#fb9f3a"
             ],
             [
              0.8888888888888888,
              "#fdca26"
             ],
             [
              1,
              "#f0f921"
             ]
            ],
            "type": "heatmapgl"
           }
          ],
          "histogram": [
           {
            "marker": {
             "pattern": {
              "fillmode": "overlay",
              "size": 10,
              "solidity": 0.2
             }
            },
            "type": "histogram"
           }
          ],
          "histogram2d": [
           {
            "colorbar": {
             "outlinewidth": 0,
             "ticks": ""
            },
            "colorscale": [
             [
              0,
              "#0d0887"
             ],
             [
              0.1111111111111111,
              "#46039f"
             ],
             [
              0.2222222222222222,
              "#7201a8"
             ],
             [
              0.3333333333333333,
              "#9c179e"
             ],
             [
              0.4444444444444444,
              "#bd3786"
             ],
             [
              0.5555555555555556,
              "#d8576b"
             ],
             [
              0.6666666666666666,
              "#ed7953"
             ],
             [
              0.7777777777777778,
              "#fb9f3a"
             ],
             [
              0.8888888888888888,
              "#fdca26"
             ],
             [
              1,
              "#f0f921"
             ]
            ],
            "type": "histogram2d"
           }
          ],
          "histogram2dcontour": [
           {
            "colorbar": {
             "outlinewidth": 0,
             "ticks": ""
            },
            "colorscale": [
             [
              0,
              "#0d0887"
             ],
             [
              0.1111111111111111,
              "#46039f"
             ],
             [
              0.2222222222222222,
              "#7201a8"
             ],
             [
              0.3333333333333333,
              "#9c179e"
             ],
             [
              0.4444444444444444,
              "#bd3786"
             ],
             [
              0.5555555555555556,
              "#d8576b"
             ],
             [
              0.6666666666666666,
              "#ed7953"
             ],
             [
              0.7777777777777778,
              "#fb9f3a"
             ],
             [
              0.8888888888888888,
              "#fdca26"
             ],
             [
              1,
              "#f0f921"
             ]
            ],
            "type": "histogram2dcontour"
           }
          ],
          "mesh3d": [
           {
            "colorbar": {
             "outlinewidth": 0,
             "ticks": ""
            },
            "type": "mesh3d"
           }
          ],
          "parcoords": [
           {
            "line": {
             "colorbar": {
              "outlinewidth": 0,
              "ticks": ""
             }
            },
            "type": "parcoords"
           }
          ],
          "pie": [
           {
            "automargin": true,
            "type": "pie"
           }
          ],
          "scatter": [
           {
            "fillpattern": {
             "fillmode": "overlay",
             "size": 10,
             "solidity": 0.2
            },
            "type": "scatter"
           }
          ],
          "scatter3d": [
           {
            "line": {
             "colorbar": {
              "outlinewidth": 0,
              "ticks": ""
             }
            },
            "marker": {
             "colorbar": {
              "outlinewidth": 0,
              "ticks": ""
             }
            },
            "type": "scatter3d"
           }
          ],
          "scattercarpet": [
           {
            "marker": {
             "colorbar": {
              "outlinewidth": 0,
              "ticks": ""
             }
            },
            "type": "scattercarpet"
           }
          ],
          "scattergeo": [
           {
            "marker": {
             "colorbar": {
              "outlinewidth": 0,
              "ticks": ""
             }
            },
            "type": "scattergeo"
           }
          ],
          "scattergl": [
           {
            "marker": {
             "colorbar": {
              "outlinewidth": 0,
              "ticks": ""
             }
            },
            "type": "scattergl"
           }
          ],
          "scattermapbox": [
           {
            "marker": {
             "colorbar": {
              "outlinewidth": 0,
              "ticks": ""
             }
            },
            "type": "scattermapbox"
           }
          ],
          "scatterpolar": [
           {
            "marker": {
             "colorbar": {
              "outlinewidth": 0,
              "ticks": ""
             }
            },
            "type": "scatterpolar"
           }
          ],
          "scatterpolargl": [
           {
            "marker": {
             "colorbar": {
              "outlinewidth": 0,
              "ticks": ""
             }
            },
            "type": "scatterpolargl"
           }
          ],
          "scatterternary": [
           {
            "marker": {
             "colorbar": {
              "outlinewidth": 0,
              "ticks": ""
             }
            },
            "type": "scatterternary"
           }
          ],
          "surface": [
           {
            "colorbar": {
             "outlinewidth": 0,
             "ticks": ""
            },
            "colorscale": [
             [
              0,
              "#0d0887"
             ],
             [
              0.1111111111111111,
              "#46039f"
             ],
             [
              0.2222222222222222,
              "#7201a8"
             ],
             [
              0.3333333333333333,
              "#9c179e"
             ],
             [
              0.4444444444444444,
              "#bd3786"
             ],
             [
              0.5555555555555556,
              "#d8576b"
             ],
             [
              0.6666666666666666,
              "#ed7953"
             ],
             [
              0.7777777777777778,
              "#fb9f3a"
             ],
             [
              0.8888888888888888,
              "#fdca26"
             ],
             [
              1,
              "#f0f921"
             ]
            ],
            "type": "surface"
           }
          ],
          "table": [
           {
            "cells": {
             "fill": {
              "color": "#EBF0F8"
             },
             "line": {
              "color": "white"
             }
            },
            "header": {
             "fill": {
              "color": "#C8D4E3"
             },
             "line": {
              "color": "white"
             }
            },
            "type": "table"
           }
          ]
         },
         "layout": {
          "annotationdefaults": {
           "arrowcolor": "#2a3f5f",
           "arrowhead": 0,
           "arrowwidth": 1
          },
          "autotypenumbers": "strict",
          "coloraxis": {
           "colorbar": {
            "outlinewidth": 0,
            "ticks": ""
           }
          },
          "colorscale": {
           "diverging": [
            [
             0,
             "#8e0152"
            ],
            [
             0.1,
             "#c51b7d"
            ],
            [
             0.2,
             "#de77ae"
            ],
            [
             0.3,
             "#f1b6da"
            ],
            [
             0.4,
             "#fde0ef"
            ],
            [
             0.5,
             "#f7f7f7"
            ],
            [
             0.6,
             "#e6f5d0"
            ],
            [
             0.7,
             "#b8e186"
            ],
            [
             0.8,
             "#7fbc41"
            ],
            [
             0.9,
             "#4d9221"
            ],
            [
             1,
             "#276419"
            ]
           ],
           "sequential": [
            [
             0,
             "#0d0887"
            ],
            [
             0.1111111111111111,
             "#46039f"
            ],
            [
             0.2222222222222222,
             "#7201a8"
            ],
            [
             0.3333333333333333,
             "#9c179e"
            ],
            [
             0.4444444444444444,
             "#bd3786"
            ],
            [
             0.5555555555555556,
             "#d8576b"
            ],
            [
             0.6666666666666666,
             "#ed7953"
            ],
            [
             0.7777777777777778,
             "#fb9f3a"
            ],
            [
             0.8888888888888888,
             "#fdca26"
            ],
            [
             1,
             "#f0f921"
            ]
           ],
           "sequentialminus": [
            [
             0,
             "#0d0887"
            ],
            [
             0.1111111111111111,
             "#46039f"
            ],
            [
             0.2222222222222222,
             "#7201a8"
            ],
            [
             0.3333333333333333,
             "#9c179e"
            ],
            [
             0.4444444444444444,
             "#bd3786"
            ],
            [
             0.5555555555555556,
             "#d8576b"
            ],
            [
             0.6666666666666666,
             "#ed7953"
            ],
            [
             0.7777777777777778,
             "#fb9f3a"
            ],
            [
             0.8888888888888888,
             "#fdca26"
            ],
            [
             1,
             "#f0f921"
            ]
           ]
          },
          "colorway": [
           "#636efa",
           "#EF553B",
           "#00cc96",
           "#ab63fa",
           "#FFA15A",
           "#19d3f3",
           "#FF6692",
           "#B6E880",
           "#FF97FF",
           "#FECB52"
          ],
          "font": {
           "color": "#2a3f5f"
          },
          "geo": {
           "bgcolor": "white",
           "lakecolor": "white",
           "landcolor": "#E5ECF6",
           "showlakes": true,
           "showland": true,
           "subunitcolor": "white"
          },
          "hoverlabel": {
           "align": "left"
          },
          "hovermode": "closest",
          "mapbox": {
           "style": "light"
          },
          "paper_bgcolor": "white",
          "plot_bgcolor": "#E5ECF6",
          "polar": {
           "angularaxis": {
            "gridcolor": "white",
            "linecolor": "white",
            "ticks": ""
           },
           "bgcolor": "#E5ECF6",
           "radialaxis": {
            "gridcolor": "white",
            "linecolor": "white",
            "ticks": ""
           }
          },
          "scene": {
           "xaxis": {
            "backgroundcolor": "#E5ECF6",
            "gridcolor": "white",
            "gridwidth": 2,
            "linecolor": "white",
            "showbackground": true,
            "ticks": "",
            "zerolinecolor": "white"
           },
           "yaxis": {
            "backgroundcolor": "#E5ECF6",
            "gridcolor": "white",
            "gridwidth": 2,
            "linecolor": "white",
            "showbackground": true,
            "ticks": "",
            "zerolinecolor": "white"
           },
           "zaxis": {
            "backgroundcolor": "#E5ECF6",
            "gridcolor": "white",
            "gridwidth": 2,
            "linecolor": "white",
            "showbackground": true,
            "ticks": "",
            "zerolinecolor": "white"
           }
          },
          "shapedefaults": {
           "line": {
            "color": "#2a3f5f"
           }
          },
          "ternary": {
           "aaxis": {
            "gridcolor": "white",
            "linecolor": "white",
            "ticks": ""
           },
           "baxis": {
            "gridcolor": "white",
            "linecolor": "white",
            "ticks": ""
           },
           "bgcolor": "#E5ECF6",
           "caxis": {
            "gridcolor": "white",
            "linecolor": "white",
            "ticks": ""
           }
          },
          "title": {
           "x": 0.05
          },
          "xaxis": {
           "automargin": true,
           "gridcolor": "white",
           "linecolor": "white",
           "ticks": "",
           "title": {
            "standoff": 15
           },
           "zerolinecolor": "white",
           "zerolinewidth": 2
          },
          "yaxis": {
           "automargin": true,
           "gridcolor": "white",
           "linecolor": "white",
           "ticks": "",
           "title": {
            "standoff": 15
           },
           "zerolinecolor": "white",
           "zerolinewidth": 2
          }
         }
        },
        "title": {
         "font": {
          "color": "#4D5663"
         }
        },
        "xaxis": {
         "gridcolor": "#E1E5ED",
         "showgrid": true,
         "tickfont": {
          "color": "#4D5663"
         },
         "title": {
          "font": {
           "color": "#4D5663"
          },
          "text": ""
         },
         "zerolinecolor": "#E1E5ED"
        },
        "xaxis2": {
         "anchor": "y2",
         "gridcolor": "#E1E5ED",
         "showgrid": true,
         "showticklabels": false,
         "tickfont": {
          "color": "#4D5663"
         },
         "title": {
          "font": {
           "color": "#4D5663"
          },
          "text": ""
         },
         "zerolinecolor": "#E1E5ED"
        },
        "yaxis": {
         "domain": [
          0.3,
          1
         ],
         "gridcolor": "#E1E5ED",
         "showgrid": true,
         "tickfont": {
          "color": "#4D5663"
         },
         "title": {
          "font": {
           "color": "#4D5663"
          },
          "text": ""
         },
         "zerolinecolor": "#E1E5ED"
        },
        "yaxis2": {
         "domain": [
          0,
          0.25
         ],
         "gridcolor": "#E1E5ED",
         "showgrid": true,
         "tickfont": {
          "color": "#4D5663"
         },
         "title": {
          "font": {
           "color": "#4D5663"
          },
          "text": "Spread"
         },
         "zerolinecolor": "#E1E5ED"
        }
       }
      },
      "text/html": [
       "<div>                            <div id=\"7781ba74-01e7-4ca4-a151-04ac477baef0\" class=\"plotly-graph-div\" style=\"height:525px; width:100%;\"></div>            <script type=\"text/javascript\">                require([\"plotly\"], function(Plotly) {                    window.PLOTLYENV=window.PLOTLYENV || {};\n",
       "                    window.PLOTLYENV.BASE_URL='https://plot.ly';                                    if (document.getElementById(\"7781ba74-01e7-4ca4-a151-04ac477baef0\")) {                    Plotly.newPlot(                        \"7781ba74-01e7-4ca4-a151-04ac477baef0\",                        [{\"line\":{\"color\":\"rgba(255, 153, 51, 1.0)\",\"dash\":\"solid\",\"shape\":\"linear\",\"width\":1.3},\"mode\":\"lines\",\"name\":\"A\",\"text\":\"\",\"x\":[0,1,2,3,4,5,6,7,8,9,10,11,12,13,14,15,16,17,18,19,20,21,22,23,24,25,26,27,28,29,30,31,32,33,34,35,36,37,38,39,40,41,42,43,44,45,46,47,48,49,50,51,52,53,54,55,56,57,58,59,60,61,62,63,64,65,66,67,68,69,70,71,72,73,74,75,76,77,78,79,80,81,82,83,84,85,86,87,88,89,90,91,92,93,94,95,96,97,98,99],\"y\":[0.3088324856892706,-0.3181018657763986,-0.3255636066105028,-0.19236064939448894,-0.31705847833897705,-0.3637990623796339,1.7381070856119816,-1.6365618661350712,1.207602245302151,0.5795086591513585,0.3870112639907086,-0.10402522952978051,0.39876508426736096,0.058877024328745,2.046305095259285,-0.06205058952363449,-0.5088513253753721,1.7060136114179525,-0.832794298194402,0.740658198328443,0.9254554710965845,-0.5070103677145493,-1.4570107579482992,-0.24365430134011537,1.1676646218937359,-0.311995182369368,0.7109016891661052,-1.0364988054373834,-1.09996944787571,-0.12594993434748722,1.7722816783788544,-0.3997032204298883,-0.9323688783891173,-0.8890050506577837,-1.2253267838890964,-0.9006985743648436,-0.5349749662875761,0.8166480990698793,-0.7104178965845112,-0.3457486752396018,2.959469692485582,0.23534877803905693,0.966630327587809,2.4381924323134023,-0.30413100985165104,-0.05444955774883802,0.878998226071373,-1.1152616224785363,-0.6218799711578149,-1.4821637745829594,-0.9646987993706798,-0.18625141720567243,1.082688995662202,0.1551996500811465,0.6927369140060691,-0.4943669432520142,0.4662627587205149,1.1358562871588116,0.013461325519304344,0.7146192694121911,0.49813190363407545,-0.36725654791870793,-1.3353814443706784,2.5521770370452495,-1.4182599967967349,-0.43289339497198265,1.0100491406976808,0.016329224880536244,1.3886393871899374,0.9613206589194162,-1.5355067481574007,1.184697490716947,2.3216104010354237,-2.0445540506204263,-0.5871771419671978,1.2734450444863539,1.4195058858709837,0.8390940119444251,0.13116077472428445,-0.06590812174109323,-0.6968929236770744,-1.1389255549844535,-0.04754382317161936,-0.2248628873615001,0.7753734423955779,-0.18074714231253064,-0.8355014732267162,0.8467980360783912,0.38239269938737475,-0.9905196586110199,0.9499548630576228,-0.6045266692700999,1.261098538014877,-1.9887055698509426,0.8438845678507609,-0.5886865644903774,0.8100195951040792,-1.1556415592736307,-0.07990340462631895,-0.6901560499125757],\"type\":\"scatter\"},{\"line\":{\"color\":\"rgba(55, 128, 191, 1.0)\",\"dash\":\"solid\",\"shape\":\"linear\",\"width\":1.3},\"mode\":\"lines\",\"name\":\"B\",\"text\":\"\",\"x\":[0,1,2,3,4,5,6,7,8,9,10,11,12,13,14,15,16,17,18,19,20,21,22,23,24,25,26,27,28,29,30,31,32,33,34,35,36,37,38,39,40,41,42,43,44,45,46,47,48,49,50,51,52,53,54,55,56,57,58,59,60,61,62,63,64,65,66,67,68,69,70,71,72,73,74,75,76,77,78,79,80,81,82,83,84,85,86,87,88,89,90,91,92,93,94,95,96,97,98,99],\"y\":[-0.4516907935643547,1.9112976940760542,0.016278191613616856,-1.5612510125262646,1.274813950179761,-1.6126805385966763,-2.2821957251904537,0.2089866829343159,-0.8429670959668712,-0.1760004882461311,-0.28365499381420106,-0.33009201915794384,1.073630642032631,-0.6400132697192715,-1.6190174132021233,-0.8066969102906225,-0.7976712506251615,-0.04786740123194217,0.0036016919413261912,0.9796573940454502,0.41890900093567296,-0.4651558301356142,0.3967128531212736,0.3647102645827066,2.3635634839500868,1.690659593065594,-0.12958185421349058,1.1451978672201555,-0.5445427235078433,0.23184905659203003,-0.661231661728734,-1.3468812161015062,-0.12597790256040473,-0.7661206376129771,0.6726122485131029,0.8890951709181736,0.07540556913641484,-0.5375263337691439,0.9102631893960552,-1.5706703434768574,-0.06651099933796677,1.9575820573574008,0.5984037057002887,-0.29279137068526834,0.8608585157666441,-0.5722289975411223,0.2167161010616931,-0.07729590112916514,-0.11686005672031406,0.5093443084130719,-0.9960610113310893,-1.7664698608708074,0.8343471753750914,1.4158114289369463,-1.3956435087990042,0.05322552854207203,-0.9523509773763503,-0.6663310368452604,-1.0650812212374816,-1.0140209385032657,0.11207349468470248,-0.5104156544641547,1.234706908081769,2.0556699493257153,0.535280282309938,0.22644574445244361,-1.0778958754538086,0.49053867687206737,-1.0182020417594757,0.2268549447273603,-1.2811762721246358,-1.9424396249265408,0.2047971602644152,0.6420282395857231,-1.051774222557932,-0.38613327141997705,0.6988444446067775,0.22176227835569992,-1.3850991419989536,3.170042786967088,0.9760411158462163,0.9843606399408203,0.21425644495420632,-0.1454975927098459,1.1360264375085198,1.4965769407068956,2.0212430515195114,0.6535613771609278,-0.20778690624197377,0.05133141205531726,1.5951808004389887,0.024862938608334953,-1.0341191496383413,-0.6309259671022158,1.8896170951490574,1.0544275134607926,-1.803050885322603,-0.3481509866491919,0.3364817028101488,-1.0504744495799234],\"type\":\"scatter\"},{\"connectgaps\":false,\"fill\":\"tozeroy\",\"line\":{\"color\":\"green\",\"dash\":\"solid\",\"shape\":\"linear\",\"width\":0.5},\"mode\":\"lines\",\"name\":\"Spread\",\"showlegend\":false,\"x\":[0,1,2,3,4,5,6,7,8,9,10,11,12,13,14,15,16,17,18,19,20,21,22,23,24,25,26,27,28,29,30,31,32,33,34,35,36,37,38,39,40,41,42,43,44,45,46,47,48,49,50,51,52,53,54,55,56,57,58,59,60,61,62,63,64,65,66,67,68,69,70,71,72,73,74,75,76,77,78,79,80,81,82,83,84,85,86,87,88,89,90,91,92,93,94,95,96,97,98,99],\"xaxis\":\"x2\",\"y\":[0.7605232792536253,\"\",\"\",1.3688903631317757,\"\",1.2488814762170424,4.020302810802435,\"\",2.0505693412690222,0.7555091473974896,0.6706662578049096,0.22606678962816334,\"\",0.6988902940480165,3.6653225084614087,0.744646320766988,0.2888199252497894,1.7538810126498947,\"\",\"\",0.5065464701609116,\"\",\"\",\"\",\"\",\"\",0.8404835433795957,\"\",\"\",\"\",2.4335133401075884,0.947177995671618,\"\",\"\",\"\",\"\",\"\",1.3541744328390233,\"\",1.2249216682372557,3.025980691823549,\"\",0.3682266218875203,2.730983802998671,\"\",0.5177794397922844,0.66228212500968,\"\",\"\",\"\",0.03136221196040945,1.580218443665135,0.2483418202871105,\"\",2.0883804228050735,\"\",1.4186137360968654,1.802187324004072,1.078542546756786,1.7286402079154568,0.38605840894937293,0.14315910654544678,\"\",0.4965070877195341,\"\",\"\",2.0879450161514894,\"\",2.406841428949413,0.7344657141920559,\"\",3.127137115643488,2.1168132407710085,\"\",0.46459708059073423,1.6595783159063309,0.7206614412642062,0.6173317335887252,1.516259916723238,\"\",\"\",\"\",\"\",\"\",\"\",\"\",\"\",0.19323665891746344,0.5901796056293485,\"\",\"\",\"\",2.295217687653218,\"\",\"\",\"\",2.613070480426682,\"\",\"\",0.3603183996673477],\"yaxis\":\"y2\",\"type\":\"scatter\"},{\"connectgaps\":false,\"fill\":\"tozeroy\",\"line\":{\"color\":\"red\",\"dash\":\"solid\",\"shape\":\"linear\",\"width\":0.5},\"mode\":\"lines\",\"name\":\"Spread\",\"showlegend\":false,\"x\":[0,1,2,3,4,5,6,7,8,9,10,11,12,13,14,15,16,17,18,19,20,21,22,23,24,25,26,27,28,29,30,31,32,33,34,35,36,37,38,39,40,41,42,43,44,45,46,47,48,49,50,51,52,53,54,55,56,57,58,59,60,61,62,63,64,65,66,67,68,69,70,71,72,73,74,75,76,77,78,79,80,81,82,83,84,85,86,87,88,89,90,91,92,93,94,95,96,97,98,99],\"xaxis\":\"x2\",\"y\":[\"\",-2.2293995598524528,-0.3418417982241197,\"\",-1.5918724285187382,\"\",\"\",-1.845548549069387,\"\",\"\",\"\",\"\",-0.67486555776527,\"\",\"\",\"\",\"\",\"\",-0.8363959901357282,-0.23899919571700712,\"\",-0.04185453757893515,-1.8537236110695727,-0.608364565922822,-1.1958988620563509,-2.002654775434962,\"\",-2.181696672657539,-0.5554267243678668,-0.3577989909395173,\"\",\"\",-0.8063909758287126,-0.12288441304480657,-1.8979390324021992,-1.789793745283017,-0.610380535423991,\"\",-1.6206810859805665,\"\",\"\",-1.722233279318344,\"\",\"\",-1.1649895256182952,\"\",\"\",-1.0379657213493712,-0.5050199144375008,-1.9915080829960314,\"\",\"\",\"\",-1.2606117788557998,\"\",-0.5475924717940862,\"\",\"\",\"\",\"\",\"\",\"\",-2.5700883524524474,\"\",-1.9535402791066727,-0.6593391394244262,\"\",-0.47420945199153114,\"\",\"\",-0.25433047603276493,\"\",\"\",-2.6865822902061494,\"\",\"\",\"\",\"\",\"\",-3.235950908708181,-1.6729340395232908,-2.123286194925274,-0.2618002681258257,-0.07936529465165418,-0.3606529951129419,-1.6773240830194263,-2.8567445247462278,\"\",\"\",-1.041851070666337,-0.6452259373813659,-0.6293896078784349,\"\",-1.3577796027487268,-1.0457325272982965,-1.64311407795117,\"\",-0.8074905726244388,-0.4163851074364677,\"\"],\"yaxis\":\"y2\",\"type\":\"scatter\"}],                        {\"hovermode\":\"x\",\"legend\":{\"bgcolor\":\"#F5F6F9\",\"font\":{\"color\":\"#4D5663\"}},\"paper_bgcolor\":\"#F5F6F9\",\"plot_bgcolor\":\"#F5F6F9\",\"template\":{\"data\":{\"barpolar\":[{\"marker\":{\"line\":{\"color\":\"#E5ECF6\",\"width\":0.5},\"pattern\":{\"fillmode\":\"overlay\",\"size\":10,\"solidity\":0.2}},\"type\":\"barpolar\"}],\"bar\":[{\"error_x\":{\"color\":\"#2a3f5f\"},\"error_y\":{\"color\":\"#2a3f5f\"},\"marker\":{\"line\":{\"color\":\"#E5ECF6\",\"width\":0.5},\"pattern\":{\"fillmode\":\"overlay\",\"size\":10,\"solidity\":0.2}},\"type\":\"bar\"}],\"carpet\":[{\"aaxis\":{\"endlinecolor\":\"#2a3f5f\",\"gridcolor\":\"white\",\"linecolor\":\"white\",\"minorgridcolor\":\"white\",\"startlinecolor\":\"#2a3f5f\"},\"baxis\":{\"endlinecolor\":\"#2a3f5f\",\"gridcolor\":\"white\",\"linecolor\":\"white\",\"minorgridcolor\":\"white\",\"startlinecolor\":\"#2a3f5f\"},\"type\":\"carpet\"}],\"choropleth\":[{\"colorbar\":{\"outlinewidth\":0,\"ticks\":\"\"},\"type\":\"choropleth\"}],\"contourcarpet\":[{\"colorbar\":{\"outlinewidth\":0,\"ticks\":\"\"},\"type\":\"contourcarpet\"}],\"contour\":[{\"colorbar\":{\"outlinewidth\":0,\"ticks\":\"\"},\"colorscale\":[[0.0,\"#0d0887\"],[0.1111111111111111,\"#46039f\"],[0.2222222222222222,\"#7201a8\"],[0.3333333333333333,\"#9c179e\"],[0.4444444444444444,\"#bd3786\"],[0.5555555555555556,\"#d8576b\"],[0.6666666666666666,\"#ed7953\"],[0.7777777777777778,\"#fb9f3a\"],[0.8888888888888888,\"#fdca26\"],[1.0,\"#f0f921\"]],\"type\":\"contour\"}],\"heatmapgl\":[{\"colorbar\":{\"outlinewidth\":0,\"ticks\":\"\"},\"colorscale\":[[0.0,\"#0d0887\"],[0.1111111111111111,\"#46039f\"],[0.2222222222222222,\"#7201a8\"],[0.3333333333333333,\"#9c179e\"],[0.4444444444444444,\"#bd3786\"],[0.5555555555555556,\"#d8576b\"],[0.6666666666666666,\"#ed7953\"],[0.7777777777777778,\"#fb9f3a\"],[0.8888888888888888,\"#fdca26\"],[1.0,\"#f0f921\"]],\"type\":\"heatmapgl\"}],\"heatmap\":[{\"colorbar\":{\"outlinewidth\":0,\"ticks\":\"\"},\"colorscale\":[[0.0,\"#0d0887\"],[0.1111111111111111,\"#46039f\"],[0.2222222222222222,\"#7201a8\"],[0.3333333333333333,\"#9c179e\"],[0.4444444444444444,\"#bd3786\"],[0.5555555555555556,\"#d8576b\"],[0.6666666666666666,\"#ed7953\"],[0.7777777777777778,\"#fb9f3a\"],[0.8888888888888888,\"#fdca26\"],[1.0,\"#f0f921\"]],\"type\":\"heatmap\"}],\"histogram2dcontour\":[{\"colorbar\":{\"outlinewidth\":0,\"ticks\":\"\"},\"colorscale\":[[0.0,\"#0d0887\"],[0.1111111111111111,\"#46039f\"],[0.2222222222222222,\"#7201a8\"],[0.3333333333333333,\"#9c179e\"],[0.4444444444444444,\"#bd3786\"],[0.5555555555555556,\"#d8576b\"],[0.6666666666666666,\"#ed7953\"],[0.7777777777777778,\"#fb9f3a\"],[0.8888888888888888,\"#fdca26\"],[1.0,\"#f0f921\"]],\"type\":\"histogram2dcontour\"}],\"histogram2d\":[{\"colorbar\":{\"outlinewidth\":0,\"ticks\":\"\"},\"colorscale\":[[0.0,\"#0d0887\"],[0.1111111111111111,\"#46039f\"],[0.2222222222222222,\"#7201a8\"],[0.3333333333333333,\"#9c179e\"],[0.4444444444444444,\"#bd3786\"],[0.5555555555555556,\"#d8576b\"],[0.6666666666666666,\"#ed7953\"],[0.7777777777777778,\"#fb9f3a\"],[0.8888888888888888,\"#fdca26\"],[1.0,\"#f0f921\"]],\"type\":\"histogram2d\"}],\"histogram\":[{\"marker\":{\"pattern\":{\"fillmode\":\"overlay\",\"size\":10,\"solidity\":0.2}},\"type\":\"histogram\"}],\"mesh3d\":[{\"colorbar\":{\"outlinewidth\":0,\"ticks\":\"\"},\"type\":\"mesh3d\"}],\"parcoords\":[{\"line\":{\"colorbar\":{\"outlinewidth\":0,\"ticks\":\"\"}},\"type\":\"parcoords\"}],\"pie\":[{\"automargin\":true,\"type\":\"pie\"}],\"scatter3d\":[{\"line\":{\"colorbar\":{\"outlinewidth\":0,\"ticks\":\"\"}},\"marker\":{\"colorbar\":{\"outlinewidth\":0,\"ticks\":\"\"}},\"type\":\"scatter3d\"}],\"scattercarpet\":[{\"marker\":{\"colorbar\":{\"outlinewidth\":0,\"ticks\":\"\"}},\"type\":\"scattercarpet\"}],\"scattergeo\":[{\"marker\":{\"colorbar\":{\"outlinewidth\":0,\"ticks\":\"\"}},\"type\":\"scattergeo\"}],\"scattergl\":[{\"marker\":{\"colorbar\":{\"outlinewidth\":0,\"ticks\":\"\"}},\"type\":\"scattergl\"}],\"scattermapbox\":[{\"marker\":{\"colorbar\":{\"outlinewidth\":0,\"ticks\":\"\"}},\"type\":\"scattermapbox\"}],\"scatterpolargl\":[{\"marker\":{\"colorbar\":{\"outlinewidth\":0,\"ticks\":\"\"}},\"type\":\"scatterpolargl\"}],\"scatterpolar\":[{\"marker\":{\"colorbar\":{\"outlinewidth\":0,\"ticks\":\"\"}},\"type\":\"scatterpolar\"}],\"scatter\":[{\"fillpattern\":{\"fillmode\":\"overlay\",\"size\":10,\"solidity\":0.2},\"type\":\"scatter\"}],\"scatterternary\":[{\"marker\":{\"colorbar\":{\"outlinewidth\":0,\"ticks\":\"\"}},\"type\":\"scatterternary\"}],\"surface\":[{\"colorbar\":{\"outlinewidth\":0,\"ticks\":\"\"},\"colorscale\":[[0.0,\"#0d0887\"],[0.1111111111111111,\"#46039f\"],[0.2222222222222222,\"#7201a8\"],[0.3333333333333333,\"#9c179e\"],[0.4444444444444444,\"#bd3786\"],[0.5555555555555556,\"#d8576b\"],[0.6666666666666666,\"#ed7953\"],[0.7777777777777778,\"#fb9f3a\"],[0.8888888888888888,\"#fdca26\"],[1.0,\"#f0f921\"]],\"type\":\"surface\"}],\"table\":[{\"cells\":{\"fill\":{\"color\":\"#EBF0F8\"},\"line\":{\"color\":\"white\"}},\"header\":{\"fill\":{\"color\":\"#C8D4E3\"},\"line\":{\"color\":\"white\"}},\"type\":\"table\"}]},\"layout\":{\"annotationdefaults\":{\"arrowcolor\":\"#2a3f5f\",\"arrowhead\":0,\"arrowwidth\":1},\"autotypenumbers\":\"strict\",\"coloraxis\":{\"colorbar\":{\"outlinewidth\":0,\"ticks\":\"\"}},\"colorscale\":{\"diverging\":[[0,\"#8e0152\"],[0.1,\"#c51b7d\"],[0.2,\"#de77ae\"],[0.3,\"#f1b6da\"],[0.4,\"#fde0ef\"],[0.5,\"#f7f7f7\"],[0.6,\"#e6f5d0\"],[0.7,\"#b8e186\"],[0.8,\"#7fbc41\"],[0.9,\"#4d9221\"],[1,\"#276419\"]],\"sequential\":[[0.0,\"#0d0887\"],[0.1111111111111111,\"#46039f\"],[0.2222222222222222,\"#7201a8\"],[0.3333333333333333,\"#9c179e\"],[0.4444444444444444,\"#bd3786\"],[0.5555555555555556,\"#d8576b\"],[0.6666666666666666,\"#ed7953\"],[0.7777777777777778,\"#fb9f3a\"],[0.8888888888888888,\"#fdca26\"],[1.0,\"#f0f921\"]],\"sequentialminus\":[[0.0,\"#0d0887\"],[0.1111111111111111,\"#46039f\"],[0.2222222222222222,\"#7201a8\"],[0.3333333333333333,\"#9c179e\"],[0.4444444444444444,\"#bd3786\"],[0.5555555555555556,\"#d8576b\"],[0.6666666666666666,\"#ed7953\"],[0.7777777777777778,\"#fb9f3a\"],[0.8888888888888888,\"#fdca26\"],[1.0,\"#f0f921\"]]},\"colorway\":[\"#636efa\",\"#EF553B\",\"#00cc96\",\"#ab63fa\",\"#FFA15A\",\"#19d3f3\",\"#FF6692\",\"#B6E880\",\"#FF97FF\",\"#FECB52\"],\"font\":{\"color\":\"#2a3f5f\"},\"geo\":{\"bgcolor\":\"white\",\"lakecolor\":\"white\",\"landcolor\":\"#E5ECF6\",\"showlakes\":true,\"showland\":true,\"subunitcolor\":\"white\"},\"hoverlabel\":{\"align\":\"left\"},\"hovermode\":\"closest\",\"mapbox\":{\"style\":\"light\"},\"paper_bgcolor\":\"white\",\"plot_bgcolor\":\"#E5ECF6\",\"polar\":{\"angularaxis\":{\"gridcolor\":\"white\",\"linecolor\":\"white\",\"ticks\":\"\"},\"bgcolor\":\"#E5ECF6\",\"radialaxis\":{\"gridcolor\":\"white\",\"linecolor\":\"white\",\"ticks\":\"\"}},\"scene\":{\"xaxis\":{\"backgroundcolor\":\"#E5ECF6\",\"gridcolor\":\"white\",\"gridwidth\":2,\"linecolor\":\"white\",\"showbackground\":true,\"ticks\":\"\",\"zerolinecolor\":\"white\"},\"yaxis\":{\"backgroundcolor\":\"#E5ECF6\",\"gridcolor\":\"white\",\"gridwidth\":2,\"linecolor\":\"white\",\"showbackground\":true,\"ticks\":\"\",\"zerolinecolor\":\"white\"},\"zaxis\":{\"backgroundcolor\":\"#E5ECF6\",\"gridcolor\":\"white\",\"gridwidth\":2,\"linecolor\":\"white\",\"showbackground\":true,\"ticks\":\"\",\"zerolinecolor\":\"white\"}},\"shapedefaults\":{\"line\":{\"color\":\"#2a3f5f\"}},\"ternary\":{\"aaxis\":{\"gridcolor\":\"white\",\"linecolor\":\"white\",\"ticks\":\"\"},\"baxis\":{\"gridcolor\":\"white\",\"linecolor\":\"white\",\"ticks\":\"\"},\"bgcolor\":\"#E5ECF6\",\"caxis\":{\"gridcolor\":\"white\",\"linecolor\":\"white\",\"ticks\":\"\"}},\"title\":{\"x\":0.05},\"xaxis\":{\"automargin\":true,\"gridcolor\":\"white\",\"linecolor\":\"white\",\"ticks\":\"\",\"title\":{\"standoff\":15},\"zerolinecolor\":\"white\",\"zerolinewidth\":2},\"yaxis\":{\"automargin\":true,\"gridcolor\":\"white\",\"linecolor\":\"white\",\"ticks\":\"\",\"title\":{\"standoff\":15},\"zerolinecolor\":\"white\",\"zerolinewidth\":2}}},\"title\":{\"font\":{\"color\":\"#4D5663\"}},\"xaxis\":{\"gridcolor\":\"#E1E5ED\",\"showgrid\":true,\"tickfont\":{\"color\":\"#4D5663\"},\"title\":{\"font\":{\"color\":\"#4D5663\"},\"text\":\"\"},\"zerolinecolor\":\"#E1E5ED\"},\"yaxis\":{\"domain\":[0.3,1],\"gridcolor\":\"#E1E5ED\",\"showgrid\":true,\"tickfont\":{\"color\":\"#4D5663\"},\"title\":{\"font\":{\"color\":\"#4D5663\"},\"text\":\"\"},\"zerolinecolor\":\"#E1E5ED\"},\"yaxis2\":{\"domain\":[0,0.25],\"gridcolor\":\"#E1E5ED\",\"showgrid\":true,\"tickfont\":{\"color\":\"#4D5663\"},\"title\":{\"font\":{\"color\":\"#4D5663\"},\"text\":\"Spread\"},\"zerolinecolor\":\"#E1E5ED\"},\"xaxis2\":{\"anchor\":\"y2\",\"gridcolor\":\"#E1E5ED\",\"showgrid\":true,\"showticklabels\":false,\"tickfont\":{\"color\":\"#4D5663\"},\"title\":{\"font\":{\"color\":\"#4D5663\"},\"text\":\"\"},\"zerolinecolor\":\"#E1E5ED\"}},                        {\"showLink\": true, \"linkText\": \"Export to plot.ly\", \"plotlyServerURL\": \"https://plot.ly\", \"responsive\": true}                    ).then(function(){\n",
       "                            \n",
       "var gd = document.getElementById('7781ba74-01e7-4ca4-a151-04ac477baef0');\n",
       "var x = new MutationObserver(function (mutations, observer) {{\n",
       "        var display = window.getComputedStyle(gd).display;\n",
       "        if (!display || display === 'none') {{\n",
       "            console.log([gd, 'removed!']);\n",
       "            Plotly.purge(gd);\n",
       "            observer.disconnect();\n",
       "        }}\n",
       "}});\n",
       "\n",
       "// Listen for the removal of the full notebook cells\n",
       "var notebookContainer = gd.closest('#notebook-container');\n",
       "if (notebookContainer) {{\n",
       "    x.observe(notebookContainer, {childList: true});\n",
       "}}\n",
       "\n",
       "// Listen for the clearing of the current output cell\n",
       "var outputEl = gd.closest('.output');\n",
       "if (outputEl) {{\n",
       "    x.observe(outputEl, {childList: true});\n",
       "}}\n",
       "\n",
       "                        })                };                });            </script>        </div>"
      ]
     },
     "metadata": {},
     "output_type": "display_data"
    }
   ],
   "source": [
    "df[['A','B']].iplot(kind='spread')"
   ]
  },
  {
   "cell_type": "code",
   "execution_count": 20,
   "metadata": {},
   "outputs": [
    {
     "data": {
      "application/vnd.plotly.v1+json": {
       "config": {
        "linkText": "Export to plot.ly",
        "plotlyServerURL": "https://plot.ly",
        "showLink": true
       },
       "data": [
        {
         "histfunc": "count",
         "histnorm": "",
         "marker": {
          "color": "rgba(255, 153, 51, 1.0)",
          "line": {
           "color": "#4D5663",
           "width": 1.3
          }
         },
         "name": "A",
         "nbinsx": 25,
         "opacity": 0.8,
         "orientation": "v",
         "type": "histogram",
         "x": [
          0.3088324856892706,
          -0.3181018657763986,
          -0.3255636066105028,
          -0.19236064939448894,
          -0.31705847833897705,
          -0.3637990623796339,
          1.7381070856119816,
          -1.6365618661350712,
          1.207602245302151,
          0.5795086591513585,
          0.3870112639907086,
          -0.10402522952978051,
          0.39876508426736096,
          0.058877024328745,
          2.046305095259285,
          -0.06205058952363449,
          -0.5088513253753721,
          1.7060136114179525,
          -0.832794298194402,
          0.740658198328443,
          0.9254554710965845,
          -0.5070103677145493,
          -1.4570107579482992,
          -0.24365430134011537,
          1.1676646218937359,
          -0.311995182369368,
          0.7109016891661052,
          -1.0364988054373834,
          -1.09996944787571,
          -0.12594993434748722,
          1.7722816783788544,
          -0.3997032204298883,
          -0.9323688783891173,
          -0.8890050506577837,
          -1.2253267838890964,
          -0.9006985743648436,
          -0.5349749662875761,
          0.8166480990698793,
          -0.7104178965845112,
          -0.3457486752396018,
          2.959469692485582,
          0.23534877803905693,
          0.966630327587809,
          2.4381924323134023,
          -0.30413100985165104,
          -0.05444955774883802,
          0.878998226071373,
          -1.1152616224785363,
          -0.6218799711578149,
          -1.4821637745829594,
          -0.9646987993706798,
          -0.18625141720567243,
          1.082688995662202,
          0.1551996500811465,
          0.6927369140060691,
          -0.4943669432520142,
          0.4662627587205149,
          1.1358562871588116,
          0.013461325519304344,
          0.7146192694121911,
          0.49813190363407545,
          -0.36725654791870793,
          -1.3353814443706784,
          2.5521770370452495,
          -1.4182599967967349,
          -0.43289339497198265,
          1.0100491406976808,
          0.016329224880536244,
          1.3886393871899374,
          0.9613206589194162,
          -1.5355067481574007,
          1.184697490716947,
          2.3216104010354237,
          -2.0445540506204263,
          -0.5871771419671978,
          1.2734450444863539,
          1.4195058858709837,
          0.8390940119444251,
          0.13116077472428445,
          -0.06590812174109323,
          -0.6968929236770744,
          -1.1389255549844535,
          -0.04754382317161936,
          -0.2248628873615001,
          0.7753734423955779,
          -0.18074714231253064,
          -0.8355014732267162,
          0.8467980360783912,
          0.38239269938737475,
          -0.9905196586110199,
          0.9499548630576228,
          -0.6045266692700999,
          1.261098538014877,
          -1.9887055698509426,
          0.8438845678507609,
          -0.5886865644903774,
          0.8100195951040792,
          -1.1556415592736307,
          -0.07990340462631895,
          -0.6901560499125757
         ]
        }
       ],
       "layout": {
        "barmode": "overlay",
        "legend": {
         "bgcolor": "#F5F6F9",
         "font": {
          "color": "#4D5663"
         }
        },
        "paper_bgcolor": "#F5F6F9",
        "plot_bgcolor": "#F5F6F9",
        "template": {
         "data": {
          "bar": [
           {
            "error_x": {
             "color": "#2a3f5f"
            },
            "error_y": {
             "color": "#2a3f5f"
            },
            "marker": {
             "line": {
              "color": "#E5ECF6",
              "width": 0.5
             },
             "pattern": {
              "fillmode": "overlay",
              "size": 10,
              "solidity": 0.2
             }
            },
            "type": "bar"
           }
          ],
          "barpolar": [
           {
            "marker": {
             "line": {
              "color": "#E5ECF6",
              "width": 0.5
             },
             "pattern": {
              "fillmode": "overlay",
              "size": 10,
              "solidity": 0.2
             }
            },
            "type": "barpolar"
           }
          ],
          "carpet": [
           {
            "aaxis": {
             "endlinecolor": "#2a3f5f",
             "gridcolor": "white",
             "linecolor": "white",
             "minorgridcolor": "white",
             "startlinecolor": "#2a3f5f"
            },
            "baxis": {
             "endlinecolor": "#2a3f5f",
             "gridcolor": "white",
             "linecolor": "white",
             "minorgridcolor": "white",
             "startlinecolor": "#2a3f5f"
            },
            "type": "carpet"
           }
          ],
          "choropleth": [
           {
            "colorbar": {
             "outlinewidth": 0,
             "ticks": ""
            },
            "type": "choropleth"
           }
          ],
          "contour": [
           {
            "colorbar": {
             "outlinewidth": 0,
             "ticks": ""
            },
            "colorscale": [
             [
              0,
              "#0d0887"
             ],
             [
              0.1111111111111111,
              "#46039f"
             ],
             [
              0.2222222222222222,
              "#7201a8"
             ],
             [
              0.3333333333333333,
              "#9c179e"
             ],
             [
              0.4444444444444444,
              "#bd3786"
             ],
             [
              0.5555555555555556,
              "#d8576b"
             ],
             [
              0.6666666666666666,
              "#ed7953"
             ],
             [
              0.7777777777777778,
              "#fb9f3a"
             ],
             [
              0.8888888888888888,
              "#fdca26"
             ],
             [
              1,
              "#f0f921"
             ]
            ],
            "type": "contour"
           }
          ],
          "contourcarpet": [
           {
            "colorbar": {
             "outlinewidth": 0,
             "ticks": ""
            },
            "type": "contourcarpet"
           }
          ],
          "heatmap": [
           {
            "colorbar": {
             "outlinewidth": 0,
             "ticks": ""
            },
            "colorscale": [
             [
              0,
              "#0d0887"
             ],
             [
              0.1111111111111111,
              "#46039f"
             ],
             [
              0.2222222222222222,
              "#7201a8"
             ],
             [
              0.3333333333333333,
              "#9c179e"
             ],
             [
              0.4444444444444444,
              "#bd3786"
             ],
             [
              0.5555555555555556,
              "#d8576b"
             ],
             [
              0.6666666666666666,
              "#ed7953"
             ],
             [
              0.7777777777777778,
              "#fb9f3a"
             ],
             [
              0.8888888888888888,
              "#fdca26"
             ],
             [
              1,
              "#f0f921"
             ]
            ],
            "type": "heatmap"
           }
          ],
          "heatmapgl": [
           {
            "colorbar": {
             "outlinewidth": 0,
             "ticks": ""
            },
            "colorscale": [
             [
              0,
              "#0d0887"
             ],
             [
              0.1111111111111111,
              "#46039f"
             ],
             [
              0.2222222222222222,
              "#7201a8"
             ],
             [
              0.3333333333333333,
              "#9c179e"
             ],
             [
              0.4444444444444444,
              "#bd3786"
             ],
             [
              0.5555555555555556,
              "#d8576b"
             ],
             [
              0.6666666666666666,
              "#ed7953"
             ],
             [
              0.7777777777777778,
              "#fb9f3a"
             ],
             [
              0.8888888888888888,
              "#fdca26"
             ],
             [
              1,
              "#f0f921"
             ]
            ],
            "type": "heatmapgl"
           }
          ],
          "histogram": [
           {
            "marker": {
             "pattern": {
              "fillmode": "overlay",
              "size": 10,
              "solidity": 0.2
             }
            },
            "type": "histogram"
           }
          ],
          "histogram2d": [
           {
            "colorbar": {
             "outlinewidth": 0,
             "ticks": ""
            },
            "colorscale": [
             [
              0,
              "#0d0887"
             ],
             [
              0.1111111111111111,
              "#46039f"
             ],
             [
              0.2222222222222222,
              "#7201a8"
             ],
             [
              0.3333333333333333,
              "#9c179e"
             ],
             [
              0.4444444444444444,
              "#bd3786"
             ],
             [
              0.5555555555555556,
              "#d8576b"
             ],
             [
              0.6666666666666666,
              "#ed7953"
             ],
             [
              0.7777777777777778,
              "#fb9f3a"
             ],
             [
              0.8888888888888888,
              "#fdca26"
             ],
             [
              1,
              "#f0f921"
             ]
            ],
            "type": "histogram2d"
           }
          ],
          "histogram2dcontour": [
           {
            "colorbar": {
             "outlinewidth": 0,
             "ticks": ""
            },
            "colorscale": [
             [
              0,
              "#0d0887"
             ],
             [
              0.1111111111111111,
              "#46039f"
             ],
             [
              0.2222222222222222,
              "#7201a8"
             ],
             [
              0.3333333333333333,
              "#9c179e"
             ],
             [
              0.4444444444444444,
              "#bd3786"
             ],
             [
              0.5555555555555556,
              "#d8576b"
             ],
             [
              0.6666666666666666,
              "#ed7953"
             ],
             [
              0.7777777777777778,
              "#fb9f3a"
             ],
             [
              0.8888888888888888,
              "#fdca26"
             ],
             [
              1,
              "#f0f921"
             ]
            ],
            "type": "histogram2dcontour"
           }
          ],
          "mesh3d": [
           {
            "colorbar": {
             "outlinewidth": 0,
             "ticks": ""
            },
            "type": "mesh3d"
           }
          ],
          "parcoords": [
           {
            "line": {
             "colorbar": {
              "outlinewidth": 0,
              "ticks": ""
             }
            },
            "type": "parcoords"
           }
          ],
          "pie": [
           {
            "automargin": true,
            "type": "pie"
           }
          ],
          "scatter": [
           {
            "fillpattern": {
             "fillmode": "overlay",
             "size": 10,
             "solidity": 0.2
            },
            "type": "scatter"
           }
          ],
          "scatter3d": [
           {
            "line": {
             "colorbar": {
              "outlinewidth": 0,
              "ticks": ""
             }
            },
            "marker": {
             "colorbar": {
              "outlinewidth": 0,
              "ticks": ""
             }
            },
            "type": "scatter3d"
           }
          ],
          "scattercarpet": [
           {
            "marker": {
             "colorbar": {
              "outlinewidth": 0,
              "ticks": ""
             }
            },
            "type": "scattercarpet"
           }
          ],
          "scattergeo": [
           {
            "marker": {
             "colorbar": {
              "outlinewidth": 0,
              "ticks": ""
             }
            },
            "type": "scattergeo"
           }
          ],
          "scattergl": [
           {
            "marker": {
             "colorbar": {
              "outlinewidth": 0,
              "ticks": ""
             }
            },
            "type": "scattergl"
           }
          ],
          "scattermapbox": [
           {
            "marker": {
             "colorbar": {
              "outlinewidth": 0,
              "ticks": ""
             }
            },
            "type": "scattermapbox"
           }
          ],
          "scatterpolar": [
           {
            "marker": {
             "colorbar": {
              "outlinewidth": 0,
              "ticks": ""
             }
            },
            "type": "scatterpolar"
           }
          ],
          "scatterpolargl": [
           {
            "marker": {
             "colorbar": {
              "outlinewidth": 0,
              "ticks": ""
             }
            },
            "type": "scatterpolargl"
           }
          ],
          "scatterternary": [
           {
            "marker": {
             "colorbar": {
              "outlinewidth": 0,
              "ticks": ""
             }
            },
            "type": "scatterternary"
           }
          ],
          "surface": [
           {
            "colorbar": {
             "outlinewidth": 0,
             "ticks": ""
            },
            "colorscale": [
             [
              0,
              "#0d0887"
             ],
             [
              0.1111111111111111,
              "#46039f"
             ],
             [
              0.2222222222222222,
              "#7201a8"
             ],
             [
              0.3333333333333333,
              "#9c179e"
             ],
             [
              0.4444444444444444,
              "#bd3786"
             ],
             [
              0.5555555555555556,
              "#d8576b"
             ],
             [
              0.6666666666666666,
              "#ed7953"
             ],
             [
              0.7777777777777778,
              "#fb9f3a"
             ],
             [
              0.8888888888888888,
              "#fdca26"
             ],
             [
              1,
              "#f0f921"
             ]
            ],
            "type": "surface"
           }
          ],
          "table": [
           {
            "cells": {
             "fill": {
              "color": "#EBF0F8"
             },
             "line": {
              "color": "white"
             }
            },
            "header": {
             "fill": {
              "color": "#C8D4E3"
             },
             "line": {
              "color": "white"
             }
            },
            "type": "table"
           }
          ]
         },
         "layout": {
          "annotationdefaults": {
           "arrowcolor": "#2a3f5f",
           "arrowhead": 0,
           "arrowwidth": 1
          },
          "autotypenumbers": "strict",
          "coloraxis": {
           "colorbar": {
            "outlinewidth": 0,
            "ticks": ""
           }
          },
          "colorscale": {
           "diverging": [
            [
             0,
             "#8e0152"
            ],
            [
             0.1,
             "#c51b7d"
            ],
            [
             0.2,
             "#de77ae"
            ],
            [
             0.3,
             "#f1b6da"
            ],
            [
             0.4,
             "#fde0ef"
            ],
            [
             0.5,
             "#f7f7f7"
            ],
            [
             0.6,
             "#e6f5d0"
            ],
            [
             0.7,
             "#b8e186"
            ],
            [
             0.8,
             "#7fbc41"
            ],
            [
             0.9,
             "#4d9221"
            ],
            [
             1,
             "#276419"
            ]
           ],
           "sequential": [
            [
             0,
             "#0d0887"
            ],
            [
             0.1111111111111111,
             "#46039f"
            ],
            [
             0.2222222222222222,
             "#7201a8"
            ],
            [
             0.3333333333333333,
             "#9c179e"
            ],
            [
             0.4444444444444444,
             "#bd3786"
            ],
            [
             0.5555555555555556,
             "#d8576b"
            ],
            [
             0.6666666666666666,
             "#ed7953"
            ],
            [
             0.7777777777777778,
             "#fb9f3a"
            ],
            [
             0.8888888888888888,
             "#fdca26"
            ],
            [
             1,
             "#f0f921"
            ]
           ],
           "sequentialminus": [
            [
             0,
             "#0d0887"
            ],
            [
             0.1111111111111111,
             "#46039f"
            ],
            [
             0.2222222222222222,
             "#7201a8"
            ],
            [
             0.3333333333333333,
             "#9c179e"
            ],
            [
             0.4444444444444444,
             "#bd3786"
            ],
            [
             0.5555555555555556,
             "#d8576b"
            ],
            [
             0.6666666666666666,
             "#ed7953"
            ],
            [
             0.7777777777777778,
             "#fb9f3a"
            ],
            [
             0.8888888888888888,
             "#fdca26"
            ],
            [
             1,
             "#f0f921"
            ]
           ]
          },
          "colorway": [
           "#636efa",
           "#EF553B",
           "#00cc96",
           "#ab63fa",
           "#FFA15A",
           "#19d3f3",
           "#FF6692",
           "#B6E880",
           "#FF97FF",
           "#FECB52"
          ],
          "font": {
           "color": "#2a3f5f"
          },
          "geo": {
           "bgcolor": "white",
           "lakecolor": "white",
           "landcolor": "#E5ECF6",
           "showlakes": true,
           "showland": true,
           "subunitcolor": "white"
          },
          "hoverlabel": {
           "align": "left"
          },
          "hovermode": "closest",
          "mapbox": {
           "style": "light"
          },
          "paper_bgcolor": "white",
          "plot_bgcolor": "#E5ECF6",
          "polar": {
           "angularaxis": {
            "gridcolor": "white",
            "linecolor": "white",
            "ticks": ""
           },
           "bgcolor": "#E5ECF6",
           "radialaxis": {
            "gridcolor": "white",
            "linecolor": "white",
            "ticks": ""
           }
          },
          "scene": {
           "xaxis": {
            "backgroundcolor": "#E5ECF6",
            "gridcolor": "white",
            "gridwidth": 2,
            "linecolor": "white",
            "showbackground": true,
            "ticks": "",
            "zerolinecolor": "white"
           },
           "yaxis": {
            "backgroundcolor": "#E5ECF6",
            "gridcolor": "white",
            "gridwidth": 2,
            "linecolor": "white",
            "showbackground": true,
            "ticks": "",
            "zerolinecolor": "white"
           },
           "zaxis": {
            "backgroundcolor": "#E5ECF6",
            "gridcolor": "white",
            "gridwidth": 2,
            "linecolor": "white",
            "showbackground": true,
            "ticks": "",
            "zerolinecolor": "white"
           }
          },
          "shapedefaults": {
           "line": {
            "color": "#2a3f5f"
           }
          },
          "ternary": {
           "aaxis": {
            "gridcolor": "white",
            "linecolor": "white",
            "ticks": ""
           },
           "baxis": {
            "gridcolor": "white",
            "linecolor": "white",
            "ticks": ""
           },
           "bgcolor": "#E5ECF6",
           "caxis": {
            "gridcolor": "white",
            "linecolor": "white",
            "ticks": ""
           }
          },
          "title": {
           "x": 0.05
          },
          "xaxis": {
           "automargin": true,
           "gridcolor": "white",
           "linecolor": "white",
           "ticks": "",
           "title": {
            "standoff": 15
           },
           "zerolinecolor": "white",
           "zerolinewidth": 2
          },
          "yaxis": {
           "automargin": true,
           "gridcolor": "white",
           "linecolor": "white",
           "ticks": "",
           "title": {
            "standoff": 15
           },
           "zerolinecolor": "white",
           "zerolinewidth": 2
          }
         }
        },
        "title": {
         "font": {
          "color": "#4D5663"
         }
        },
        "xaxis": {
         "gridcolor": "#E1E5ED",
         "showgrid": true,
         "tickfont": {
          "color": "#4D5663"
         },
         "title": {
          "font": {
           "color": "#4D5663"
          },
          "text": ""
         },
         "zerolinecolor": "#E1E5ED"
        },
        "yaxis": {
         "gridcolor": "#E1E5ED",
         "showgrid": true,
         "tickfont": {
          "color": "#4D5663"
         },
         "title": {
          "font": {
           "color": "#4D5663"
          },
          "text": ""
         },
         "zerolinecolor": "#E1E5ED"
        }
       }
      },
      "text/html": [
       "<div>                            <div id=\"a61052db-bd8d-40cd-a350-0da3f17f464f\" class=\"plotly-graph-div\" style=\"height:525px; width:100%;\"></div>            <script type=\"text/javascript\">                require([\"plotly\"], function(Plotly) {                    window.PLOTLYENV=window.PLOTLYENV || {};\n",
       "                    window.PLOTLYENV.BASE_URL='https://plot.ly';                                    if (document.getElementById(\"a61052db-bd8d-40cd-a350-0da3f17f464f\")) {                    Plotly.newPlot(                        \"a61052db-bd8d-40cd-a350-0da3f17f464f\",                        [{\"histfunc\":\"count\",\"histnorm\":\"\",\"marker\":{\"color\":\"rgba(255, 153, 51, 1.0)\",\"line\":{\"color\":\"#4D5663\",\"width\":1.3}},\"name\":\"A\",\"nbinsx\":25,\"opacity\":0.8,\"orientation\":\"v\",\"x\":[0.3088324856892706,-0.3181018657763986,-0.3255636066105028,-0.19236064939448894,-0.31705847833897705,-0.3637990623796339,1.7381070856119816,-1.6365618661350712,1.207602245302151,0.5795086591513585,0.3870112639907086,-0.10402522952978051,0.39876508426736096,0.058877024328745,2.046305095259285,-0.06205058952363449,-0.5088513253753721,1.7060136114179525,-0.832794298194402,0.740658198328443,0.9254554710965845,-0.5070103677145493,-1.4570107579482992,-0.24365430134011537,1.1676646218937359,-0.311995182369368,0.7109016891661052,-1.0364988054373834,-1.09996944787571,-0.12594993434748722,1.7722816783788544,-0.3997032204298883,-0.9323688783891173,-0.8890050506577837,-1.2253267838890964,-0.9006985743648436,-0.5349749662875761,0.8166480990698793,-0.7104178965845112,-0.3457486752396018,2.959469692485582,0.23534877803905693,0.966630327587809,2.4381924323134023,-0.30413100985165104,-0.05444955774883802,0.878998226071373,-1.1152616224785363,-0.6218799711578149,-1.4821637745829594,-0.9646987993706798,-0.18625141720567243,1.082688995662202,0.1551996500811465,0.6927369140060691,-0.4943669432520142,0.4662627587205149,1.1358562871588116,0.013461325519304344,0.7146192694121911,0.49813190363407545,-0.36725654791870793,-1.3353814443706784,2.5521770370452495,-1.4182599967967349,-0.43289339497198265,1.0100491406976808,0.016329224880536244,1.3886393871899374,0.9613206589194162,-1.5355067481574007,1.184697490716947,2.3216104010354237,-2.0445540506204263,-0.5871771419671978,1.2734450444863539,1.4195058858709837,0.8390940119444251,0.13116077472428445,-0.06590812174109323,-0.6968929236770744,-1.1389255549844535,-0.04754382317161936,-0.2248628873615001,0.7753734423955779,-0.18074714231253064,-0.8355014732267162,0.8467980360783912,0.38239269938737475,-0.9905196586110199,0.9499548630576228,-0.6045266692700999,1.261098538014877,-1.9887055698509426,0.8438845678507609,-0.5886865644903774,0.8100195951040792,-1.1556415592736307,-0.07990340462631895,-0.6901560499125757],\"type\":\"histogram\"}],                        {\"barmode\":\"overlay\",\"legend\":{\"bgcolor\":\"#F5F6F9\",\"font\":{\"color\":\"#4D5663\"}},\"paper_bgcolor\":\"#F5F6F9\",\"plot_bgcolor\":\"#F5F6F9\",\"template\":{\"data\":{\"barpolar\":[{\"marker\":{\"line\":{\"color\":\"#E5ECF6\",\"width\":0.5},\"pattern\":{\"fillmode\":\"overlay\",\"size\":10,\"solidity\":0.2}},\"type\":\"barpolar\"}],\"bar\":[{\"error_x\":{\"color\":\"#2a3f5f\"},\"error_y\":{\"color\":\"#2a3f5f\"},\"marker\":{\"line\":{\"color\":\"#E5ECF6\",\"width\":0.5},\"pattern\":{\"fillmode\":\"overlay\",\"size\":10,\"solidity\":0.2}},\"type\":\"bar\"}],\"carpet\":[{\"aaxis\":{\"endlinecolor\":\"#2a3f5f\",\"gridcolor\":\"white\",\"linecolor\":\"white\",\"minorgridcolor\":\"white\",\"startlinecolor\":\"#2a3f5f\"},\"baxis\":{\"endlinecolor\":\"#2a3f5f\",\"gridcolor\":\"white\",\"linecolor\":\"white\",\"minorgridcolor\":\"white\",\"startlinecolor\":\"#2a3f5f\"},\"type\":\"carpet\"}],\"choropleth\":[{\"colorbar\":{\"outlinewidth\":0,\"ticks\":\"\"},\"type\":\"choropleth\"}],\"contourcarpet\":[{\"colorbar\":{\"outlinewidth\":0,\"ticks\":\"\"},\"type\":\"contourcarpet\"}],\"contour\":[{\"colorbar\":{\"outlinewidth\":0,\"ticks\":\"\"},\"colorscale\":[[0.0,\"#0d0887\"],[0.1111111111111111,\"#46039f\"],[0.2222222222222222,\"#7201a8\"],[0.3333333333333333,\"#9c179e\"],[0.4444444444444444,\"#bd3786\"],[0.5555555555555556,\"#d8576b\"],[0.6666666666666666,\"#ed7953\"],[0.7777777777777778,\"#fb9f3a\"],[0.8888888888888888,\"#fdca26\"],[1.0,\"#f0f921\"]],\"type\":\"contour\"}],\"heatmapgl\":[{\"colorbar\":{\"outlinewidth\":0,\"ticks\":\"\"},\"colorscale\":[[0.0,\"#0d0887\"],[0.1111111111111111,\"#46039f\"],[0.2222222222222222,\"#7201a8\"],[0.3333333333333333,\"#9c179e\"],[0.4444444444444444,\"#bd3786\"],[0.5555555555555556,\"#d8576b\"],[0.6666666666666666,\"#ed7953\"],[0.7777777777777778,\"#fb9f3a\"],[0.8888888888888888,\"#fdca26\"],[1.0,\"#f0f921\"]],\"type\":\"heatmapgl\"}],\"heatmap\":[{\"colorbar\":{\"outlinewidth\":0,\"ticks\":\"\"},\"colorscale\":[[0.0,\"#0d0887\"],[0.1111111111111111,\"#46039f\"],[0.2222222222222222,\"#7201a8\"],[0.3333333333333333,\"#9c179e\"],[0.4444444444444444,\"#bd3786\"],[0.5555555555555556,\"#d8576b\"],[0.6666666666666666,\"#ed7953\"],[0.7777777777777778,\"#fb9f3a\"],[0.8888888888888888,\"#fdca26\"],[1.0,\"#f0f921\"]],\"type\":\"heatmap\"}],\"histogram2dcontour\":[{\"colorbar\":{\"outlinewidth\":0,\"ticks\":\"\"},\"colorscale\":[[0.0,\"#0d0887\"],[0.1111111111111111,\"#46039f\"],[0.2222222222222222,\"#7201a8\"],[0.3333333333333333,\"#9c179e\"],[0.4444444444444444,\"#bd3786\"],[0.5555555555555556,\"#d8576b\"],[0.6666666666666666,\"#ed7953\"],[0.7777777777777778,\"#fb9f3a\"],[0.8888888888888888,\"#fdca26\"],[1.0,\"#f0f921\"]],\"type\":\"histogram2dcontour\"}],\"histogram2d\":[{\"colorbar\":{\"outlinewidth\":0,\"ticks\":\"\"},\"colorscale\":[[0.0,\"#0d0887\"],[0.1111111111111111,\"#46039f\"],[0.2222222222222222,\"#7201a8\"],[0.3333333333333333,\"#9c179e\"],[0.4444444444444444,\"#bd3786\"],[0.5555555555555556,\"#d8576b\"],[0.6666666666666666,\"#ed7953\"],[0.7777777777777778,\"#fb9f3a\"],[0.8888888888888888,\"#fdca26\"],[1.0,\"#f0f921\"]],\"type\":\"histogram2d\"}],\"histogram\":[{\"marker\":{\"pattern\":{\"fillmode\":\"overlay\",\"size\":10,\"solidity\":0.2}},\"type\":\"histogram\"}],\"mesh3d\":[{\"colorbar\":{\"outlinewidth\":0,\"ticks\":\"\"},\"type\":\"mesh3d\"}],\"parcoords\":[{\"line\":{\"colorbar\":{\"outlinewidth\":0,\"ticks\":\"\"}},\"type\":\"parcoords\"}],\"pie\":[{\"automargin\":true,\"type\":\"pie\"}],\"scatter3d\":[{\"line\":{\"colorbar\":{\"outlinewidth\":0,\"ticks\":\"\"}},\"marker\":{\"colorbar\":{\"outlinewidth\":0,\"ticks\":\"\"}},\"type\":\"scatter3d\"}],\"scattercarpet\":[{\"marker\":{\"colorbar\":{\"outlinewidth\":0,\"ticks\":\"\"}},\"type\":\"scattercarpet\"}],\"scattergeo\":[{\"marker\":{\"colorbar\":{\"outlinewidth\":0,\"ticks\":\"\"}},\"type\":\"scattergeo\"}],\"scattergl\":[{\"marker\":{\"colorbar\":{\"outlinewidth\":0,\"ticks\":\"\"}},\"type\":\"scattergl\"}],\"scattermapbox\":[{\"marker\":{\"colorbar\":{\"outlinewidth\":0,\"ticks\":\"\"}},\"type\":\"scattermapbox\"}],\"scatterpolargl\":[{\"marker\":{\"colorbar\":{\"outlinewidth\":0,\"ticks\":\"\"}},\"type\":\"scatterpolargl\"}],\"scatterpolar\":[{\"marker\":{\"colorbar\":{\"outlinewidth\":0,\"ticks\":\"\"}},\"type\":\"scatterpolar\"}],\"scatter\":[{\"fillpattern\":{\"fillmode\":\"overlay\",\"size\":10,\"solidity\":0.2},\"type\":\"scatter\"}],\"scatterternary\":[{\"marker\":{\"colorbar\":{\"outlinewidth\":0,\"ticks\":\"\"}},\"type\":\"scatterternary\"}],\"surface\":[{\"colorbar\":{\"outlinewidth\":0,\"ticks\":\"\"},\"colorscale\":[[0.0,\"#0d0887\"],[0.1111111111111111,\"#46039f\"],[0.2222222222222222,\"#7201a8\"],[0.3333333333333333,\"#9c179e\"],[0.4444444444444444,\"#bd3786\"],[0.5555555555555556,\"#d8576b\"],[0.6666666666666666,\"#ed7953\"],[0.7777777777777778,\"#fb9f3a\"],[0.8888888888888888,\"#fdca26\"],[1.0,\"#f0f921\"]],\"type\":\"surface\"}],\"table\":[{\"cells\":{\"fill\":{\"color\":\"#EBF0F8\"},\"line\":{\"color\":\"white\"}},\"header\":{\"fill\":{\"color\":\"#C8D4E3\"},\"line\":{\"color\":\"white\"}},\"type\":\"table\"}]},\"layout\":{\"annotationdefaults\":{\"arrowcolor\":\"#2a3f5f\",\"arrowhead\":0,\"arrowwidth\":1},\"autotypenumbers\":\"strict\",\"coloraxis\":{\"colorbar\":{\"outlinewidth\":0,\"ticks\":\"\"}},\"colorscale\":{\"diverging\":[[0,\"#8e0152\"],[0.1,\"#c51b7d\"],[0.2,\"#de77ae\"],[0.3,\"#f1b6da\"],[0.4,\"#fde0ef\"],[0.5,\"#f7f7f7\"],[0.6,\"#e6f5d0\"],[0.7,\"#b8e186\"],[0.8,\"#7fbc41\"],[0.9,\"#4d9221\"],[1,\"#276419\"]],\"sequential\":[[0.0,\"#0d0887\"],[0.1111111111111111,\"#46039f\"],[0.2222222222222222,\"#7201a8\"],[0.3333333333333333,\"#9c179e\"],[0.4444444444444444,\"#bd3786\"],[0.5555555555555556,\"#d8576b\"],[0.6666666666666666,\"#ed7953\"],[0.7777777777777778,\"#fb9f3a\"],[0.8888888888888888,\"#fdca26\"],[1.0,\"#f0f921\"]],\"sequentialminus\":[[0.0,\"#0d0887\"],[0.1111111111111111,\"#46039f\"],[0.2222222222222222,\"#7201a8\"],[0.3333333333333333,\"#9c179e\"],[0.4444444444444444,\"#bd3786\"],[0.5555555555555556,\"#d8576b\"],[0.6666666666666666,\"#ed7953\"],[0.7777777777777778,\"#fb9f3a\"],[0.8888888888888888,\"#fdca26\"],[1.0,\"#f0f921\"]]},\"colorway\":[\"#636efa\",\"#EF553B\",\"#00cc96\",\"#ab63fa\",\"#FFA15A\",\"#19d3f3\",\"#FF6692\",\"#B6E880\",\"#FF97FF\",\"#FECB52\"],\"font\":{\"color\":\"#2a3f5f\"},\"geo\":{\"bgcolor\":\"white\",\"lakecolor\":\"white\",\"landcolor\":\"#E5ECF6\",\"showlakes\":true,\"showland\":true,\"subunitcolor\":\"white\"},\"hoverlabel\":{\"align\":\"left\"},\"hovermode\":\"closest\",\"mapbox\":{\"style\":\"light\"},\"paper_bgcolor\":\"white\",\"plot_bgcolor\":\"#E5ECF6\",\"polar\":{\"angularaxis\":{\"gridcolor\":\"white\",\"linecolor\":\"white\",\"ticks\":\"\"},\"bgcolor\":\"#E5ECF6\",\"radialaxis\":{\"gridcolor\":\"white\",\"linecolor\":\"white\",\"ticks\":\"\"}},\"scene\":{\"xaxis\":{\"backgroundcolor\":\"#E5ECF6\",\"gridcolor\":\"white\",\"gridwidth\":2,\"linecolor\":\"white\",\"showbackground\":true,\"ticks\":\"\",\"zerolinecolor\":\"white\"},\"yaxis\":{\"backgroundcolor\":\"#E5ECF6\",\"gridcolor\":\"white\",\"gridwidth\":2,\"linecolor\":\"white\",\"showbackground\":true,\"ticks\":\"\",\"zerolinecolor\":\"white\"},\"zaxis\":{\"backgroundcolor\":\"#E5ECF6\",\"gridcolor\":\"white\",\"gridwidth\":2,\"linecolor\":\"white\",\"showbackground\":true,\"ticks\":\"\",\"zerolinecolor\":\"white\"}},\"shapedefaults\":{\"line\":{\"color\":\"#2a3f5f\"}},\"ternary\":{\"aaxis\":{\"gridcolor\":\"white\",\"linecolor\":\"white\",\"ticks\":\"\"},\"baxis\":{\"gridcolor\":\"white\",\"linecolor\":\"white\",\"ticks\":\"\"},\"bgcolor\":\"#E5ECF6\",\"caxis\":{\"gridcolor\":\"white\",\"linecolor\":\"white\",\"ticks\":\"\"}},\"title\":{\"x\":0.05},\"xaxis\":{\"automargin\":true,\"gridcolor\":\"white\",\"linecolor\":\"white\",\"ticks\":\"\",\"title\":{\"standoff\":15},\"zerolinecolor\":\"white\",\"zerolinewidth\":2},\"yaxis\":{\"automargin\":true,\"gridcolor\":\"white\",\"linecolor\":\"white\",\"ticks\":\"\",\"title\":{\"standoff\":15},\"zerolinecolor\":\"white\",\"zerolinewidth\":2}}},\"title\":{\"font\":{\"color\":\"#4D5663\"}},\"xaxis\":{\"gridcolor\":\"#E1E5ED\",\"showgrid\":true,\"tickfont\":{\"color\":\"#4D5663\"},\"title\":{\"font\":{\"color\":\"#4D5663\"},\"text\":\"\"},\"zerolinecolor\":\"#E1E5ED\"},\"yaxis\":{\"gridcolor\":\"#E1E5ED\",\"showgrid\":true,\"tickfont\":{\"color\":\"#4D5663\"},\"title\":{\"font\":{\"color\":\"#4D5663\"},\"text\":\"\"},\"zerolinecolor\":\"#E1E5ED\"}},                        {\"showLink\": true, \"linkText\": \"Export to plot.ly\", \"plotlyServerURL\": \"https://plot.ly\", \"responsive\": true}                    ).then(function(){\n",
       "                            \n",
       "var gd = document.getElementById('a61052db-bd8d-40cd-a350-0da3f17f464f');\n",
       "var x = new MutationObserver(function (mutations, observer) {{\n",
       "        var display = window.getComputedStyle(gd).display;\n",
       "        if (!display || display === 'none') {{\n",
       "            console.log([gd, 'removed!']);\n",
       "            Plotly.purge(gd);\n",
       "            observer.disconnect();\n",
       "        }}\n",
       "}});\n",
       "\n",
       "// Listen for the removal of the full notebook cells\n",
       "var notebookContainer = gd.closest('#notebook-container');\n",
       "if (notebookContainer) {{\n",
       "    x.observe(notebookContainer, {childList: true});\n",
       "}}\n",
       "\n",
       "// Listen for the clearing of the current output cell\n",
       "var outputEl = gd.closest('.output');\n",
       "if (outputEl) {{\n",
       "    x.observe(outputEl, {childList: true});\n",
       "}}\n",
       "\n",
       "                        })                };                });            </script>        </div>"
      ]
     },
     "metadata": {},
     "output_type": "display_data"
    }
   ],
   "source": [
    "df['A'].iplot(kind='hist',bins=25)"
   ]
  },
  {
   "cell_type": "code",
   "execution_count": 21,
   "metadata": {},
   "outputs": [
    {
     "data": {
      "application/vnd.plotly.v1+json": {
       "config": {
        "linkText": "Export to plot.ly",
        "plotlyServerURL": "https://plot.ly",
        "showLink": true
       },
       "data": [
        {
         "marker": {
          "color": [
           "rgb(255, 153, 51)",
           "rgb(55, 128, 191)",
           "rgb(50, 171, 96)",
           "rgb(128, 0, 128)",
           "rgb(219, 64, 82)",
           "rgb(0, 128, 128)",
           "rgb(255, 255, 51)",
           "rgb(128, 128, 0)",
           "rgb(251, 128, 114)",
           "rgb(128, 177, 211)"
          ],
          "line": {
           "width": 1.3
          },
          "size": [
           40,
           67,
           73,
           48,
           40,
           56,
           37,
           47,
           100,
           40,
           59,
           54,
           18,
           80,
           59,
           112,
           12,
           70,
           63,
           32,
           93,
           32,
           48,
           54,
           90,
           46,
           63,
           87,
           65,
           44,
           83,
           73,
           37,
           17,
           25,
           63,
           51,
           45,
           83,
           66,
           65,
           87,
           53,
           41,
           29,
           67,
           78,
           50,
           80,
           61,
           41,
           42,
           70,
           81,
           108,
           41,
           69,
           67,
           49,
           67,
           46,
           49,
           51,
           16,
           50,
           82,
           42,
           64,
           49,
           65,
           54,
           59,
           47,
           43,
           47,
           82,
           66,
           59,
           33,
           91,
           64,
           65,
           46,
           79,
           75,
           58,
           61,
           47,
           47,
           54,
           63,
           58,
           56,
           42,
           60,
           93,
           40,
           30,
           67,
           53
          ],
          "symbol": "circle"
         },
         "mode": "markers",
         "text": "",
         "type": "scatter",
         "x": [
          0.3088324856892706,
          -0.3181018657763986,
          -0.3255636066105028,
          -0.19236064939448894,
          -0.31705847833897705,
          -0.3637990623796339,
          1.7381070856119816,
          -1.6365618661350712,
          1.207602245302151,
          0.5795086591513585,
          0.3870112639907086,
          -0.10402522952978051,
          0.39876508426736096,
          0.058877024328745,
          2.046305095259285,
          -0.06205058952363449,
          -0.5088513253753721,
          1.7060136114179525,
          -0.832794298194402,
          0.740658198328443,
          0.9254554710965845,
          -0.5070103677145493,
          -1.4570107579482992,
          -0.24365430134011537,
          1.1676646218937359,
          -0.311995182369368,
          0.7109016891661052,
          -1.0364988054373834,
          -1.09996944787571,
          -0.12594993434748722,
          1.7722816783788544,
          -0.3997032204298883,
          -0.9323688783891173,
          -0.8890050506577837,
          -1.2253267838890964,
          -0.9006985743648436,
          -0.5349749662875761,
          0.8166480990698793,
          -0.7104178965845112,
          -0.3457486752396018,
          2.959469692485582,
          0.23534877803905693,
          0.966630327587809,
          2.4381924323134023,
          -0.30413100985165104,
          -0.05444955774883802,
          0.878998226071373,
          -1.1152616224785363,
          -0.6218799711578149,
          -1.4821637745829594,
          -0.9646987993706798,
          -0.18625141720567243,
          1.082688995662202,
          0.1551996500811465,
          0.6927369140060691,
          -0.4943669432520142,
          0.4662627587205149,
          1.1358562871588116,
          0.013461325519304344,
          0.7146192694121911,
          0.49813190363407545,
          -0.36725654791870793,
          -1.3353814443706784,
          2.5521770370452495,
          -1.4182599967967349,
          -0.43289339497198265,
          1.0100491406976808,
          0.016329224880536244,
          1.3886393871899374,
          0.9613206589194162,
          -1.5355067481574007,
          1.184697490716947,
          2.3216104010354237,
          -2.0445540506204263,
          -0.5871771419671978,
          1.2734450444863539,
          1.4195058858709837,
          0.8390940119444251,
          0.13116077472428445,
          -0.06590812174109323,
          -0.6968929236770744,
          -1.1389255549844535,
          -0.04754382317161936,
          -0.2248628873615001,
          0.7753734423955779,
          -0.18074714231253064,
          -0.8355014732267162,
          0.8467980360783912,
          0.38239269938737475,
          -0.9905196586110199,
          0.9499548630576228,
          -0.6045266692700999,
          1.261098538014877,
          -1.9887055698509426,
          0.8438845678507609,
          -0.5886865644903774,
          0.8100195951040792,
          -1.1556415592736307,
          -0.07990340462631895,
          -0.6901560499125757
         ],
         "y": [
          -0.4516907935643547,
          1.9112976940760542,
          0.016278191613616856,
          -1.5612510125262646,
          1.274813950179761,
          -1.6126805385966763,
          -2.2821957251904537,
          0.2089866829343159,
          -0.8429670959668712,
          -0.1760004882461311,
          -0.28365499381420106,
          -0.33009201915794384,
          1.073630642032631,
          -0.6400132697192715,
          -1.6190174132021233,
          -0.8066969102906225,
          -0.7976712506251615,
          -0.04786740123194217,
          0.0036016919413261912,
          0.9796573940454502,
          0.41890900093567296,
          -0.4651558301356142,
          0.3967128531212736,
          0.3647102645827066,
          2.3635634839500868,
          1.690659593065594,
          -0.12958185421349058,
          1.1451978672201555,
          -0.5445427235078433,
          0.23184905659203003,
          -0.661231661728734,
          -1.3468812161015062,
          -0.12597790256040473,
          -0.7661206376129771,
          0.6726122485131029,
          0.8890951709181736,
          0.07540556913641484,
          -0.5375263337691439,
          0.9102631893960552,
          -1.5706703434768574,
          -0.06651099933796677,
          1.9575820573574008,
          0.5984037057002887,
          -0.29279137068526834,
          0.8608585157666441,
          -0.5722289975411223,
          0.2167161010616931,
          -0.07729590112916514,
          -0.11686005672031406,
          0.5093443084130719,
          -0.9960610113310893,
          -1.7664698608708074,
          0.8343471753750914,
          1.4158114289369463,
          -1.3956435087990042,
          0.05322552854207203,
          -0.9523509773763503,
          -0.6663310368452604,
          -1.0650812212374816,
          -1.0140209385032657,
          0.11207349468470248,
          -0.5104156544641547,
          1.234706908081769,
          2.0556699493257153,
          0.535280282309938,
          0.22644574445244361,
          -1.0778958754538086,
          0.49053867687206737,
          -1.0182020417594757,
          0.2268549447273603,
          -1.2811762721246358,
          -1.9424396249265408,
          0.2047971602644152,
          0.6420282395857231,
          -1.051774222557932,
          -0.38613327141997705,
          0.6988444446067775,
          0.22176227835569992,
          -1.3850991419989536,
          3.170042786967088,
          0.9760411158462163,
          0.9843606399408203,
          0.21425644495420632,
          -0.1454975927098459,
          1.1360264375085198,
          1.4965769407068956,
          2.0212430515195114,
          0.6535613771609278,
          -0.20778690624197377,
          0.05133141205531726,
          1.5951808004389887,
          0.024862938608334953,
          -1.0341191496383413,
          -0.6309259671022158,
          1.8896170951490574,
          1.0544275134607926,
          -1.803050885322603,
          -0.3481509866491919,
          0.3364817028101488,
          -1.0504744495799234
         ]
        }
       ],
       "layout": {
        "legend": {
         "bgcolor": "#F5F6F9",
         "font": {
          "color": "#4D5663"
         }
        },
        "paper_bgcolor": "#F5F6F9",
        "plot_bgcolor": "#F5F6F9",
        "template": {
         "data": {
          "bar": [
           {
            "error_x": {
             "color": "#2a3f5f"
            },
            "error_y": {
             "color": "#2a3f5f"
            },
            "marker": {
             "line": {
              "color": "#E5ECF6",
              "width": 0.5
             },
             "pattern": {
              "fillmode": "overlay",
              "size": 10,
              "solidity": 0.2
             }
            },
            "type": "bar"
           }
          ],
          "barpolar": [
           {
            "marker": {
             "line": {
              "color": "#E5ECF6",
              "width": 0.5
             },
             "pattern": {
              "fillmode": "overlay",
              "size": 10,
              "solidity": 0.2
             }
            },
            "type": "barpolar"
           }
          ],
          "carpet": [
           {
            "aaxis": {
             "endlinecolor": "#2a3f5f",
             "gridcolor": "white",
             "linecolor": "white",
             "minorgridcolor": "white",
             "startlinecolor": "#2a3f5f"
            },
            "baxis": {
             "endlinecolor": "#2a3f5f",
             "gridcolor": "white",
             "linecolor": "white",
             "minorgridcolor": "white",
             "startlinecolor": "#2a3f5f"
            },
            "type": "carpet"
           }
          ],
          "choropleth": [
           {
            "colorbar": {
             "outlinewidth": 0,
             "ticks": ""
            },
            "type": "choropleth"
           }
          ],
          "contour": [
           {
            "colorbar": {
             "outlinewidth": 0,
             "ticks": ""
            },
            "colorscale": [
             [
              0,
              "#0d0887"
             ],
             [
              0.1111111111111111,
              "#46039f"
             ],
             [
              0.2222222222222222,
              "#7201a8"
             ],
             [
              0.3333333333333333,
              "#9c179e"
             ],
             [
              0.4444444444444444,
              "#bd3786"
             ],
             [
              0.5555555555555556,
              "#d8576b"
             ],
             [
              0.6666666666666666,
              "#ed7953"
             ],
             [
              0.7777777777777778,
              "#fb9f3a"
             ],
             [
              0.8888888888888888,
              "#fdca26"
             ],
             [
              1,
              "#f0f921"
             ]
            ],
            "type": "contour"
           }
          ],
          "contourcarpet": [
           {
            "colorbar": {
             "outlinewidth": 0,
             "ticks": ""
            },
            "type": "contourcarpet"
           }
          ],
          "heatmap": [
           {
            "colorbar": {
             "outlinewidth": 0,
             "ticks": ""
            },
            "colorscale": [
             [
              0,
              "#0d0887"
             ],
             [
              0.1111111111111111,
              "#46039f"
             ],
             [
              0.2222222222222222,
              "#7201a8"
             ],
             [
              0.3333333333333333,
              "#9c179e"
             ],
             [
              0.4444444444444444,
              "#bd3786"
             ],
             [
              0.5555555555555556,
              "#d8576b"
             ],
             [
              0.6666666666666666,
              "#ed7953"
             ],
             [
              0.7777777777777778,
              "#fb9f3a"
             ],
             [
              0.8888888888888888,
              "#fdca26"
             ],
             [
              1,
              "#f0f921"
             ]
            ],
            "type": "heatmap"
           }
          ],
          "heatmapgl": [
           {
            "colorbar": {
             "outlinewidth": 0,
             "ticks": ""
            },
            "colorscale": [
             [
              0,
              "#0d0887"
             ],
             [
              0.1111111111111111,
              "#46039f"
             ],
             [
              0.2222222222222222,
              "#7201a8"
             ],
             [
              0.3333333333333333,
              "#9c179e"
             ],
             [
              0.4444444444444444,
              "#bd3786"
             ],
             [
              0.5555555555555556,
              "#d8576b"
             ],
             [
              0.6666666666666666,
              "#ed7953"
             ],
             [
              0.7777777777777778,
              "#fb9f3a"
             ],
             [
              0.8888888888888888,
              "#fdca26"
             ],
             [
              1,
              "#f0f921"
             ]
            ],
            "type": "heatmapgl"
           }
          ],
          "histogram": [
           {
            "marker": {
             "pattern": {
              "fillmode": "overlay",
              "size": 10,
              "solidity": 0.2
             }
            },
            "type": "histogram"
           }
          ],
          "histogram2d": [
           {
            "colorbar": {
             "outlinewidth": 0,
             "ticks": ""
            },
            "colorscale": [
             [
              0,
              "#0d0887"
             ],
             [
              0.1111111111111111,
              "#46039f"
             ],
             [
              0.2222222222222222,
              "#7201a8"
             ],
             [
              0.3333333333333333,
              "#9c179e"
             ],
             [
              0.4444444444444444,
              "#bd3786"
             ],
             [
              0.5555555555555556,
              "#d8576b"
             ],
             [
              0.6666666666666666,
              "#ed7953"
             ],
             [
              0.7777777777777778,
              "#fb9f3a"
             ],
             [
              0.8888888888888888,
              "#fdca26"
             ],
             [
              1,
              "#f0f921"
             ]
            ],
            "type": "histogram2d"
           }
          ],
          "histogram2dcontour": [
           {
            "colorbar": {
             "outlinewidth": 0,
             "ticks": ""
            },
            "colorscale": [
             [
              0,
              "#0d0887"
             ],
             [
              0.1111111111111111,
              "#46039f"
             ],
             [
              0.2222222222222222,
              "#7201a8"
             ],
             [
              0.3333333333333333,
              "#9c179e"
             ],
             [
              0.4444444444444444,
              "#bd3786"
             ],
             [
              0.5555555555555556,
              "#d8576b"
             ],
             [
              0.6666666666666666,
              "#ed7953"
             ],
             [
              0.7777777777777778,
              "#fb9f3a"
             ],
             [
              0.8888888888888888,
              "#fdca26"
             ],
             [
              1,
              "#f0f921"
             ]
            ],
            "type": "histogram2dcontour"
           }
          ],
          "mesh3d": [
           {
            "colorbar": {
             "outlinewidth": 0,
             "ticks": ""
            },
            "type": "mesh3d"
           }
          ],
          "parcoords": [
           {
            "line": {
             "colorbar": {
              "outlinewidth": 0,
              "ticks": ""
             }
            },
            "type": "parcoords"
           }
          ],
          "pie": [
           {
            "automargin": true,
            "type": "pie"
           }
          ],
          "scatter": [
           {
            "fillpattern": {
             "fillmode": "overlay",
             "size": 10,
             "solidity": 0.2
            },
            "type": "scatter"
           }
          ],
          "scatter3d": [
           {
            "line": {
             "colorbar": {
              "outlinewidth": 0,
              "ticks": ""
             }
            },
            "marker": {
             "colorbar": {
              "outlinewidth": 0,
              "ticks": ""
             }
            },
            "type": "scatter3d"
           }
          ],
          "scattercarpet": [
           {
            "marker": {
             "colorbar": {
              "outlinewidth": 0,
              "ticks": ""
             }
            },
            "type": "scattercarpet"
           }
          ],
          "scattergeo": [
           {
            "marker": {
             "colorbar": {
              "outlinewidth": 0,
              "ticks": ""
             }
            },
            "type": "scattergeo"
           }
          ],
          "scattergl": [
           {
            "marker": {
             "colorbar": {
              "outlinewidth": 0,
              "ticks": ""
             }
            },
            "type": "scattergl"
           }
          ],
          "scattermapbox": [
           {
            "marker": {
             "colorbar": {
              "outlinewidth": 0,
              "ticks": ""
             }
            },
            "type": "scattermapbox"
           }
          ],
          "scatterpolar": [
           {
            "marker": {
             "colorbar": {
              "outlinewidth": 0,
              "ticks": ""
             }
            },
            "type": "scatterpolar"
           }
          ],
          "scatterpolargl": [
           {
            "marker": {
             "colorbar": {
              "outlinewidth": 0,
              "ticks": ""
             }
            },
            "type": "scatterpolargl"
           }
          ],
          "scatterternary": [
           {
            "marker": {
             "colorbar": {
              "outlinewidth": 0,
              "ticks": ""
             }
            },
            "type": "scatterternary"
           }
          ],
          "surface": [
           {
            "colorbar": {
             "outlinewidth": 0,
             "ticks": ""
            },
            "colorscale": [
             [
              0,
              "#0d0887"
             ],
             [
              0.1111111111111111,
              "#46039f"
             ],
             [
              0.2222222222222222,
              "#7201a8"
             ],
             [
              0.3333333333333333,
              "#9c179e"
             ],
             [
              0.4444444444444444,
              "#bd3786"
             ],
             [
              0.5555555555555556,
              "#d8576b"
             ],
             [
              0.6666666666666666,
              "#ed7953"
             ],
             [
              0.7777777777777778,
              "#fb9f3a"
             ],
             [
              0.8888888888888888,
              "#fdca26"
             ],
             [
              1,
              "#f0f921"
             ]
            ],
            "type": "surface"
           }
          ],
          "table": [
           {
            "cells": {
             "fill": {
              "color": "#EBF0F8"
             },
             "line": {
              "color": "white"
             }
            },
            "header": {
             "fill": {
              "color": "#C8D4E3"
             },
             "line": {
              "color": "white"
             }
            },
            "type": "table"
           }
          ]
         },
         "layout": {
          "annotationdefaults": {
           "arrowcolor": "#2a3f5f",
           "arrowhead": 0,
           "arrowwidth": 1
          },
          "autotypenumbers": "strict",
          "coloraxis": {
           "colorbar": {
            "outlinewidth": 0,
            "ticks": ""
           }
          },
          "colorscale": {
           "diverging": [
            [
             0,
             "#8e0152"
            ],
            [
             0.1,
             "#c51b7d"
            ],
            [
             0.2,
             "#de77ae"
            ],
            [
             0.3,
             "#f1b6da"
            ],
            [
             0.4,
             "#fde0ef"
            ],
            [
             0.5,
             "#f7f7f7"
            ],
            [
             0.6,
             "#e6f5d0"
            ],
            [
             0.7,
             "#b8e186"
            ],
            [
             0.8,
             "#7fbc41"
            ],
            [
             0.9,
             "#4d9221"
            ],
            [
             1,
             "#276419"
            ]
           ],
           "sequential": [
            [
             0,
             "#0d0887"
            ],
            [
             0.1111111111111111,
             "#46039f"
            ],
            [
             0.2222222222222222,
             "#7201a8"
            ],
            [
             0.3333333333333333,
             "#9c179e"
            ],
            [
             0.4444444444444444,
             "#bd3786"
            ],
            [
             0.5555555555555556,
             "#d8576b"
            ],
            [
             0.6666666666666666,
             "#ed7953"
            ],
            [
             0.7777777777777778,
             "#fb9f3a"
            ],
            [
             0.8888888888888888,
             "#fdca26"
            ],
            [
             1,
             "#f0f921"
            ]
           ],
           "sequentialminus": [
            [
             0,
             "#0d0887"
            ],
            [
             0.1111111111111111,
             "#46039f"
            ],
            [
             0.2222222222222222,
             "#7201a8"
            ],
            [
             0.3333333333333333,
             "#9c179e"
            ],
            [
             0.4444444444444444,
             "#bd3786"
            ],
            [
             0.5555555555555556,
             "#d8576b"
            ],
            [
             0.6666666666666666,
             "#ed7953"
            ],
            [
             0.7777777777777778,
             "#fb9f3a"
            ],
            [
             0.8888888888888888,
             "#fdca26"
            ],
            [
             1,
             "#f0f921"
            ]
           ]
          },
          "colorway": [
           "#636efa",
           "#EF553B",
           "#00cc96",
           "#ab63fa",
           "#FFA15A",
           "#19d3f3",
           "#FF6692",
           "#B6E880",
           "#FF97FF",
           "#FECB52"
          ],
          "font": {
           "color": "#2a3f5f"
          },
          "geo": {
           "bgcolor": "white",
           "lakecolor": "white",
           "landcolor": "#E5ECF6",
           "showlakes": true,
           "showland": true,
           "subunitcolor": "white"
          },
          "hoverlabel": {
           "align": "left"
          },
          "hovermode": "closest",
          "mapbox": {
           "style": "light"
          },
          "paper_bgcolor": "white",
          "plot_bgcolor": "#E5ECF6",
          "polar": {
           "angularaxis": {
            "gridcolor": "white",
            "linecolor": "white",
            "ticks": ""
           },
           "bgcolor": "#E5ECF6",
           "radialaxis": {
            "gridcolor": "white",
            "linecolor": "white",
            "ticks": ""
           }
          },
          "scene": {
           "xaxis": {
            "backgroundcolor": "#E5ECF6",
            "gridcolor": "white",
            "gridwidth": 2,
            "linecolor": "white",
            "showbackground": true,
            "ticks": "",
            "zerolinecolor": "white"
           },
           "yaxis": {
            "backgroundcolor": "#E5ECF6",
            "gridcolor": "white",
            "gridwidth": 2,
            "linecolor": "white",
            "showbackground": true,
            "ticks": "",
            "zerolinecolor": "white"
           },
           "zaxis": {
            "backgroundcolor": "#E5ECF6",
            "gridcolor": "white",
            "gridwidth": 2,
            "linecolor": "white",
            "showbackground": true,
            "ticks": "",
            "zerolinecolor": "white"
           }
          },
          "shapedefaults": {
           "line": {
            "color": "#2a3f5f"
           }
          },
          "ternary": {
           "aaxis": {
            "gridcolor": "white",
            "linecolor": "white",
            "ticks": ""
           },
           "baxis": {
            "gridcolor": "white",
            "linecolor": "white",
            "ticks": ""
           },
           "bgcolor": "#E5ECF6",
           "caxis": {
            "gridcolor": "white",
            "linecolor": "white",
            "ticks": ""
           }
          },
          "title": {
           "x": 0.05
          },
          "xaxis": {
           "automargin": true,
           "gridcolor": "white",
           "linecolor": "white",
           "ticks": "",
           "title": {
            "standoff": 15
           },
           "zerolinecolor": "white",
           "zerolinewidth": 2
          },
          "yaxis": {
           "automargin": true,
           "gridcolor": "white",
           "linecolor": "white",
           "ticks": "",
           "title": {
            "standoff": 15
           },
           "zerolinecolor": "white",
           "zerolinewidth": 2
          }
         }
        },
        "title": {
         "font": {
          "color": "#4D5663"
         }
        },
        "xaxis": {
         "gridcolor": "#E1E5ED",
         "showgrid": true,
         "tickfont": {
          "color": "#4D5663"
         },
         "title": {
          "font": {
           "color": "#4D5663"
          },
          "text": ""
         },
         "zerolinecolor": "#E1E5ED"
        },
        "yaxis": {
         "gridcolor": "#E1E5ED",
         "showgrid": true,
         "tickfont": {
          "color": "#4D5663"
         },
         "title": {
          "font": {
           "color": "#4D5663"
          },
          "text": ""
         },
         "zerolinecolor": "#E1E5ED"
        }
       }
      },
      "text/html": [
       "<div>                            <div id=\"954e54bb-5e8e-4439-8f2e-12e258d41975\" class=\"plotly-graph-div\" style=\"height:525px; width:100%;\"></div>            <script type=\"text/javascript\">                require([\"plotly\"], function(Plotly) {                    window.PLOTLYENV=window.PLOTLYENV || {};\n",
       "                    window.PLOTLYENV.BASE_URL='https://plot.ly';                                    if (document.getElementById(\"954e54bb-5e8e-4439-8f2e-12e258d41975\")) {                    Plotly.newPlot(                        \"954e54bb-5e8e-4439-8f2e-12e258d41975\",                        [{\"marker\":{\"color\":[\"rgb(255, 153, 51)\",\"rgb(55, 128, 191)\",\"rgb(50, 171, 96)\",\"rgb(128, 0, 128)\",\"rgb(219, 64, 82)\",\"rgb(0, 128, 128)\",\"rgb(255, 255, 51)\",\"rgb(128, 128, 0)\",\"rgb(251, 128, 114)\",\"rgb(128, 177, 211)\"],\"line\":{\"width\":1.3},\"size\":[40,67,73,48,40,56,37,47,100,40,59,54,18,80,59,112,12,70,63,32,93,32,48,54,90,46,63,87,65,44,83,73,37,17,25,63,51,45,83,66,65,87,53,41,29,67,78,50,80,61,41,42,70,81,108,41,69,67,49,67,46,49,51,16,50,82,42,64,49,65,54,59,47,43,47,82,66,59,33,91,64,65,46,79,75,58,61,47,47,54,63,58,56,42,60,93,40,30,67,53],\"symbol\":\"circle\"},\"mode\":\"markers\",\"text\":\"\",\"x\":[0.3088324856892706,-0.3181018657763986,-0.3255636066105028,-0.19236064939448894,-0.31705847833897705,-0.3637990623796339,1.7381070856119816,-1.6365618661350712,1.207602245302151,0.5795086591513585,0.3870112639907086,-0.10402522952978051,0.39876508426736096,0.058877024328745,2.046305095259285,-0.06205058952363449,-0.5088513253753721,1.7060136114179525,-0.832794298194402,0.740658198328443,0.9254554710965845,-0.5070103677145493,-1.4570107579482992,-0.24365430134011537,1.1676646218937359,-0.311995182369368,0.7109016891661052,-1.0364988054373834,-1.09996944787571,-0.12594993434748722,1.7722816783788544,-0.3997032204298883,-0.9323688783891173,-0.8890050506577837,-1.2253267838890964,-0.9006985743648436,-0.5349749662875761,0.8166480990698793,-0.7104178965845112,-0.3457486752396018,2.959469692485582,0.23534877803905693,0.966630327587809,2.4381924323134023,-0.30413100985165104,-0.05444955774883802,0.878998226071373,-1.1152616224785363,-0.6218799711578149,-1.4821637745829594,-0.9646987993706798,-0.18625141720567243,1.082688995662202,0.1551996500811465,0.6927369140060691,-0.4943669432520142,0.4662627587205149,1.1358562871588116,0.013461325519304344,0.7146192694121911,0.49813190363407545,-0.36725654791870793,-1.3353814443706784,2.5521770370452495,-1.4182599967967349,-0.43289339497198265,1.0100491406976808,0.016329224880536244,1.3886393871899374,0.9613206589194162,-1.5355067481574007,1.184697490716947,2.3216104010354237,-2.0445540506204263,-0.5871771419671978,1.2734450444863539,1.4195058858709837,0.8390940119444251,0.13116077472428445,-0.06590812174109323,-0.6968929236770744,-1.1389255549844535,-0.04754382317161936,-0.2248628873615001,0.7753734423955779,-0.18074714231253064,-0.8355014732267162,0.8467980360783912,0.38239269938737475,-0.9905196586110199,0.9499548630576228,-0.6045266692700999,1.261098538014877,-1.9887055698509426,0.8438845678507609,-0.5886865644903774,0.8100195951040792,-1.1556415592736307,-0.07990340462631895,-0.6901560499125757],\"y\":[-0.4516907935643547,1.9112976940760542,0.016278191613616856,-1.5612510125262646,1.274813950179761,-1.6126805385966763,-2.2821957251904537,0.2089866829343159,-0.8429670959668712,-0.1760004882461311,-0.28365499381420106,-0.33009201915794384,1.073630642032631,-0.6400132697192715,-1.6190174132021233,-0.8066969102906225,-0.7976712506251615,-0.04786740123194217,0.0036016919413261912,0.9796573940454502,0.41890900093567296,-0.4651558301356142,0.3967128531212736,0.3647102645827066,2.3635634839500868,1.690659593065594,-0.12958185421349058,1.1451978672201555,-0.5445427235078433,0.23184905659203003,-0.661231661728734,-1.3468812161015062,-0.12597790256040473,-0.7661206376129771,0.6726122485131029,0.8890951709181736,0.07540556913641484,-0.5375263337691439,0.9102631893960552,-1.5706703434768574,-0.06651099933796677,1.9575820573574008,0.5984037057002887,-0.29279137068526834,0.8608585157666441,-0.5722289975411223,0.2167161010616931,-0.07729590112916514,-0.11686005672031406,0.5093443084130719,-0.9960610113310893,-1.7664698608708074,0.8343471753750914,1.4158114289369463,-1.3956435087990042,0.05322552854207203,-0.9523509773763503,-0.6663310368452604,-1.0650812212374816,-1.0140209385032657,0.11207349468470248,-0.5104156544641547,1.234706908081769,2.0556699493257153,0.535280282309938,0.22644574445244361,-1.0778958754538086,0.49053867687206737,-1.0182020417594757,0.2268549447273603,-1.2811762721246358,-1.9424396249265408,0.2047971602644152,0.6420282395857231,-1.051774222557932,-0.38613327141997705,0.6988444446067775,0.22176227835569992,-1.3850991419989536,3.170042786967088,0.9760411158462163,0.9843606399408203,0.21425644495420632,-0.1454975927098459,1.1360264375085198,1.4965769407068956,2.0212430515195114,0.6535613771609278,-0.20778690624197377,0.05133141205531726,1.5951808004389887,0.024862938608334953,-1.0341191496383413,-0.6309259671022158,1.8896170951490574,1.0544275134607926,-1.803050885322603,-0.3481509866491919,0.3364817028101488,-1.0504744495799234],\"type\":\"scatter\"}],                        {\"legend\":{\"bgcolor\":\"#F5F6F9\",\"font\":{\"color\":\"#4D5663\"}},\"paper_bgcolor\":\"#F5F6F9\",\"plot_bgcolor\":\"#F5F6F9\",\"template\":{\"data\":{\"barpolar\":[{\"marker\":{\"line\":{\"color\":\"#E5ECF6\",\"width\":0.5},\"pattern\":{\"fillmode\":\"overlay\",\"size\":10,\"solidity\":0.2}},\"type\":\"barpolar\"}],\"bar\":[{\"error_x\":{\"color\":\"#2a3f5f\"},\"error_y\":{\"color\":\"#2a3f5f\"},\"marker\":{\"line\":{\"color\":\"#E5ECF6\",\"width\":0.5},\"pattern\":{\"fillmode\":\"overlay\",\"size\":10,\"solidity\":0.2}},\"type\":\"bar\"}],\"carpet\":[{\"aaxis\":{\"endlinecolor\":\"#2a3f5f\",\"gridcolor\":\"white\",\"linecolor\":\"white\",\"minorgridcolor\":\"white\",\"startlinecolor\":\"#2a3f5f\"},\"baxis\":{\"endlinecolor\":\"#2a3f5f\",\"gridcolor\":\"white\",\"linecolor\":\"white\",\"minorgridcolor\":\"white\",\"startlinecolor\":\"#2a3f5f\"},\"type\":\"carpet\"}],\"choropleth\":[{\"colorbar\":{\"outlinewidth\":0,\"ticks\":\"\"},\"type\":\"choropleth\"}],\"contourcarpet\":[{\"colorbar\":{\"outlinewidth\":0,\"ticks\":\"\"},\"type\":\"contourcarpet\"}],\"contour\":[{\"colorbar\":{\"outlinewidth\":0,\"ticks\":\"\"},\"colorscale\":[[0.0,\"#0d0887\"],[0.1111111111111111,\"#46039f\"],[0.2222222222222222,\"#7201a8\"],[0.3333333333333333,\"#9c179e\"],[0.4444444444444444,\"#bd3786\"],[0.5555555555555556,\"#d8576b\"],[0.6666666666666666,\"#ed7953\"],[0.7777777777777778,\"#fb9f3a\"],[0.8888888888888888,\"#fdca26\"],[1.0,\"#f0f921\"]],\"type\":\"contour\"}],\"heatmapgl\":[{\"colorbar\":{\"outlinewidth\":0,\"ticks\":\"\"},\"colorscale\":[[0.0,\"#0d0887\"],[0.1111111111111111,\"#46039f\"],[0.2222222222222222,\"#7201a8\"],[0.3333333333333333,\"#9c179e\"],[0.4444444444444444,\"#bd3786\"],[0.5555555555555556,\"#d8576b\"],[0.6666666666666666,\"#ed7953\"],[0.7777777777777778,\"#fb9f3a\"],[0.8888888888888888,\"#fdca26\"],[1.0,\"#f0f921\"]],\"type\":\"heatmapgl\"}],\"heatmap\":[{\"colorbar\":{\"outlinewidth\":0,\"ticks\":\"\"},\"colorscale\":[[0.0,\"#0d0887\"],[0.1111111111111111,\"#46039f\"],[0.2222222222222222,\"#7201a8\"],[0.3333333333333333,\"#9c179e\"],[0.4444444444444444,\"#bd3786\"],[0.5555555555555556,\"#d8576b\"],[0.6666666666666666,\"#ed7953\"],[0.7777777777777778,\"#fb9f3a\"],[0.8888888888888888,\"#fdca26\"],[1.0,\"#f0f921\"]],\"type\":\"heatmap\"}],\"histogram2dcontour\":[{\"colorbar\":{\"outlinewidth\":0,\"ticks\":\"\"},\"colorscale\":[[0.0,\"#0d0887\"],[0.1111111111111111,\"#46039f\"],[0.2222222222222222,\"#7201a8\"],[0.3333333333333333,\"#9c179e\"],[0.4444444444444444,\"#bd3786\"],[0.5555555555555556,\"#d8576b\"],[0.6666666666666666,\"#ed7953\"],[0.7777777777777778,\"#fb9f3a\"],[0.8888888888888888,\"#fdca26\"],[1.0,\"#f0f921\"]],\"type\":\"histogram2dcontour\"}],\"histogram2d\":[{\"colorbar\":{\"outlinewidth\":0,\"ticks\":\"\"},\"colorscale\":[[0.0,\"#0d0887\"],[0.1111111111111111,\"#46039f\"],[0.2222222222222222,\"#7201a8\"],[0.3333333333333333,\"#9c179e\"],[0.4444444444444444,\"#bd3786\"],[0.5555555555555556,\"#d8576b\"],[0.6666666666666666,\"#ed7953\"],[0.7777777777777778,\"#fb9f3a\"],[0.8888888888888888,\"#fdca26\"],[1.0,\"#f0f921\"]],\"type\":\"histogram2d\"}],\"histogram\":[{\"marker\":{\"pattern\":{\"fillmode\":\"overlay\",\"size\":10,\"solidity\":0.2}},\"type\":\"histogram\"}],\"mesh3d\":[{\"colorbar\":{\"outlinewidth\":0,\"ticks\":\"\"},\"type\":\"mesh3d\"}],\"parcoords\":[{\"line\":{\"colorbar\":{\"outlinewidth\":0,\"ticks\":\"\"}},\"type\":\"parcoords\"}],\"pie\":[{\"automargin\":true,\"type\":\"pie\"}],\"scatter3d\":[{\"line\":{\"colorbar\":{\"outlinewidth\":0,\"ticks\":\"\"}},\"marker\":{\"colorbar\":{\"outlinewidth\":0,\"ticks\":\"\"}},\"type\":\"scatter3d\"}],\"scattercarpet\":[{\"marker\":{\"colorbar\":{\"outlinewidth\":0,\"ticks\":\"\"}},\"type\":\"scattercarpet\"}],\"scattergeo\":[{\"marker\":{\"colorbar\":{\"outlinewidth\":0,\"ticks\":\"\"}},\"type\":\"scattergeo\"}],\"scattergl\":[{\"marker\":{\"colorbar\":{\"outlinewidth\":0,\"ticks\":\"\"}},\"type\":\"scattergl\"}],\"scattermapbox\":[{\"marker\":{\"colorbar\":{\"outlinewidth\":0,\"ticks\":\"\"}},\"type\":\"scattermapbox\"}],\"scatterpolargl\":[{\"marker\":{\"colorbar\":{\"outlinewidth\":0,\"ticks\":\"\"}},\"type\":\"scatterpolargl\"}],\"scatterpolar\":[{\"marker\":{\"colorbar\":{\"outlinewidth\":0,\"ticks\":\"\"}},\"type\":\"scatterpolar\"}],\"scatter\":[{\"fillpattern\":{\"fillmode\":\"overlay\",\"size\":10,\"solidity\":0.2},\"type\":\"scatter\"}],\"scatterternary\":[{\"marker\":{\"colorbar\":{\"outlinewidth\":0,\"ticks\":\"\"}},\"type\":\"scatterternary\"}],\"surface\":[{\"colorbar\":{\"outlinewidth\":0,\"ticks\":\"\"},\"colorscale\":[[0.0,\"#0d0887\"],[0.1111111111111111,\"#46039f\"],[0.2222222222222222,\"#7201a8\"],[0.3333333333333333,\"#9c179e\"],[0.4444444444444444,\"#bd3786\"],[0.5555555555555556,\"#d8576b\"],[0.6666666666666666,\"#ed7953\"],[0.7777777777777778,\"#fb9f3a\"],[0.8888888888888888,\"#fdca26\"],[1.0,\"#f0f921\"]],\"type\":\"surface\"}],\"table\":[{\"cells\":{\"fill\":{\"color\":\"#EBF0F8\"},\"line\":{\"color\":\"white\"}},\"header\":{\"fill\":{\"color\":\"#C8D4E3\"},\"line\":{\"color\":\"white\"}},\"type\":\"table\"}]},\"layout\":{\"annotationdefaults\":{\"arrowcolor\":\"#2a3f5f\",\"arrowhead\":0,\"arrowwidth\":1},\"autotypenumbers\":\"strict\",\"coloraxis\":{\"colorbar\":{\"outlinewidth\":0,\"ticks\":\"\"}},\"colorscale\":{\"diverging\":[[0,\"#8e0152\"],[0.1,\"#c51b7d\"],[0.2,\"#de77ae\"],[0.3,\"#f1b6da\"],[0.4,\"#fde0ef\"],[0.5,\"#f7f7f7\"],[0.6,\"#e6f5d0\"],[0.7,\"#b8e186\"],[0.8,\"#7fbc41\"],[0.9,\"#4d9221\"],[1,\"#276419\"]],\"sequential\":[[0.0,\"#0d0887\"],[0.1111111111111111,\"#46039f\"],[0.2222222222222222,\"#7201a8\"],[0.3333333333333333,\"#9c179e\"],[0.4444444444444444,\"#bd3786\"],[0.5555555555555556,\"#d8576b\"],[0.6666666666666666,\"#ed7953\"],[0.7777777777777778,\"#fb9f3a\"],[0.8888888888888888,\"#fdca26\"],[1.0,\"#f0f921\"]],\"sequentialminus\":[[0.0,\"#0d0887\"],[0.1111111111111111,\"#46039f\"],[0.2222222222222222,\"#7201a8\"],[0.3333333333333333,\"#9c179e\"],[0.4444444444444444,\"#bd3786\"],[0.5555555555555556,\"#d8576b\"],[0.6666666666666666,\"#ed7953\"],[0.7777777777777778,\"#fb9f3a\"],[0.8888888888888888,\"#fdca26\"],[1.0,\"#f0f921\"]]},\"colorway\":[\"#636efa\",\"#EF553B\",\"#00cc96\",\"#ab63fa\",\"#FFA15A\",\"#19d3f3\",\"#FF6692\",\"#B6E880\",\"#FF97FF\",\"#FECB52\"],\"font\":{\"color\":\"#2a3f5f\"},\"geo\":{\"bgcolor\":\"white\",\"lakecolor\":\"white\",\"landcolor\":\"#E5ECF6\",\"showlakes\":true,\"showland\":true,\"subunitcolor\":\"white\"},\"hoverlabel\":{\"align\":\"left\"},\"hovermode\":\"closest\",\"mapbox\":{\"style\":\"light\"},\"paper_bgcolor\":\"white\",\"plot_bgcolor\":\"#E5ECF6\",\"polar\":{\"angularaxis\":{\"gridcolor\":\"white\",\"linecolor\":\"white\",\"ticks\":\"\"},\"bgcolor\":\"#E5ECF6\",\"radialaxis\":{\"gridcolor\":\"white\",\"linecolor\":\"white\",\"ticks\":\"\"}},\"scene\":{\"xaxis\":{\"backgroundcolor\":\"#E5ECF6\",\"gridcolor\":\"white\",\"gridwidth\":2,\"linecolor\":\"white\",\"showbackground\":true,\"ticks\":\"\",\"zerolinecolor\":\"white\"},\"yaxis\":{\"backgroundcolor\":\"#E5ECF6\",\"gridcolor\":\"white\",\"gridwidth\":2,\"linecolor\":\"white\",\"showbackground\":true,\"ticks\":\"\",\"zerolinecolor\":\"white\"},\"zaxis\":{\"backgroundcolor\":\"#E5ECF6\",\"gridcolor\":\"white\",\"gridwidth\":2,\"linecolor\":\"white\",\"showbackground\":true,\"ticks\":\"\",\"zerolinecolor\":\"white\"}},\"shapedefaults\":{\"line\":{\"color\":\"#2a3f5f\"}},\"ternary\":{\"aaxis\":{\"gridcolor\":\"white\",\"linecolor\":\"white\",\"ticks\":\"\"},\"baxis\":{\"gridcolor\":\"white\",\"linecolor\":\"white\",\"ticks\":\"\"},\"bgcolor\":\"#E5ECF6\",\"caxis\":{\"gridcolor\":\"white\",\"linecolor\":\"white\",\"ticks\":\"\"}},\"title\":{\"x\":0.05},\"xaxis\":{\"automargin\":true,\"gridcolor\":\"white\",\"linecolor\":\"white\",\"ticks\":\"\",\"title\":{\"standoff\":15},\"zerolinecolor\":\"white\",\"zerolinewidth\":2},\"yaxis\":{\"automargin\":true,\"gridcolor\":\"white\",\"linecolor\":\"white\",\"ticks\":\"\",\"title\":{\"standoff\":15},\"zerolinecolor\":\"white\",\"zerolinewidth\":2}}},\"title\":{\"font\":{\"color\":\"#4D5663\"}},\"xaxis\":{\"gridcolor\":\"#E1E5ED\",\"showgrid\":true,\"tickfont\":{\"color\":\"#4D5663\"},\"title\":{\"font\":{\"color\":\"#4D5663\"},\"text\":\"\"},\"zerolinecolor\":\"#E1E5ED\"},\"yaxis\":{\"gridcolor\":\"#E1E5ED\",\"showgrid\":true,\"tickfont\":{\"color\":\"#4D5663\"},\"title\":{\"font\":{\"color\":\"#4D5663\"},\"text\":\"\"},\"zerolinecolor\":\"#E1E5ED\"}},                        {\"showLink\": true, \"linkText\": \"Export to plot.ly\", \"plotlyServerURL\": \"https://plot.ly\", \"responsive\": true}                    ).then(function(){\n",
       "                            \n",
       "var gd = document.getElementById('954e54bb-5e8e-4439-8f2e-12e258d41975');\n",
       "var x = new MutationObserver(function (mutations, observer) {{\n",
       "        var display = window.getComputedStyle(gd).display;\n",
       "        if (!display || display === 'none') {{\n",
       "            console.log([gd, 'removed!']);\n",
       "            Plotly.purge(gd);\n",
       "            observer.disconnect();\n",
       "        }}\n",
       "}});\n",
       "\n",
       "// Listen for the removal of the full notebook cells\n",
       "var notebookContainer = gd.closest('#notebook-container');\n",
       "if (notebookContainer) {{\n",
       "    x.observe(notebookContainer, {childList: true});\n",
       "}}\n",
       "\n",
       "// Listen for the clearing of the current output cell\n",
       "var outputEl = gd.closest('.output');\n",
       "if (outputEl) {{\n",
       "    x.observe(outputEl, {childList: true});\n",
       "}}\n",
       "\n",
       "                        })                };                });            </script>        </div>"
      ]
     },
     "metadata": {},
     "output_type": "display_data"
    }
   ],
   "source": [
    "df.iplot(kind='bubble',x='A',y='B',size='C')"
   ]
  },
  {
   "cell_type": "code",
   "execution_count": 22,
   "metadata": {},
   "outputs": [
    {
     "data": {
      "application/vnd.plotly.v1+json": {
       "config": {
        "linkText": "Export to plot.ly",
        "plotlyServerURL": "https://plot.ly",
        "showLink": true
       },
       "data": [
        {
         "histfunc": "count",
         "histnorm": "",
         "marker": {
          "color": "rgba(255, 153, 51, 1.0)",
          "line": {
           "color": "#4D5663",
           "width": 1.3
          }
         },
         "name": "A",
         "nbinsx": 10,
         "opacity": 0.8,
         "orientation": "v",
         "type": "histogram",
         "x": [
          0.3088324856892706,
          -0.3181018657763986,
          -0.3255636066105028,
          -0.19236064939448894,
          -0.31705847833897705,
          -0.3637990623796339,
          1.7381070856119816,
          -1.6365618661350712,
          1.207602245302151,
          0.5795086591513585,
          0.3870112639907086,
          -0.10402522952978051,
          0.39876508426736096,
          0.058877024328745,
          2.046305095259285,
          -0.06205058952363449,
          -0.5088513253753721,
          1.7060136114179525,
          -0.832794298194402,
          0.740658198328443,
          0.9254554710965845,
          -0.5070103677145493,
          -1.4570107579482992,
          -0.24365430134011537,
          1.1676646218937359,
          -0.311995182369368,
          0.7109016891661052,
          -1.0364988054373834,
          -1.09996944787571,
          -0.12594993434748722,
          1.7722816783788544,
          -0.3997032204298883,
          -0.9323688783891173,
          -0.8890050506577837,
          -1.2253267838890964,
          -0.9006985743648436,
          -0.5349749662875761,
          0.8166480990698793,
          -0.7104178965845112,
          -0.3457486752396018,
          2.959469692485582,
          0.23534877803905693,
          0.966630327587809,
          2.4381924323134023,
          -0.30413100985165104,
          -0.05444955774883802,
          0.878998226071373,
          -1.1152616224785363,
          -0.6218799711578149,
          -1.4821637745829594,
          -0.9646987993706798,
          -0.18625141720567243,
          1.082688995662202,
          0.1551996500811465,
          0.6927369140060691,
          -0.4943669432520142,
          0.4662627587205149,
          1.1358562871588116,
          0.013461325519304344,
          0.7146192694121911,
          0.49813190363407545,
          -0.36725654791870793,
          -1.3353814443706784,
          2.5521770370452495,
          -1.4182599967967349,
          -0.43289339497198265,
          1.0100491406976808,
          0.016329224880536244,
          1.3886393871899374,
          0.9613206589194162,
          -1.5355067481574007,
          1.184697490716947,
          2.3216104010354237,
          -2.0445540506204263,
          -0.5871771419671978,
          1.2734450444863539,
          1.4195058858709837,
          0.8390940119444251,
          0.13116077472428445,
          -0.06590812174109323,
          -0.6968929236770744,
          -1.1389255549844535,
          -0.04754382317161936,
          -0.2248628873615001,
          0.7753734423955779,
          -0.18074714231253064,
          -0.8355014732267162,
          0.8467980360783912,
          0.38239269938737475,
          -0.9905196586110199,
          0.9499548630576228,
          -0.6045266692700999,
          1.261098538014877,
          -1.9887055698509426,
          0.8438845678507609,
          -0.5886865644903774,
          0.8100195951040792,
          -1.1556415592736307,
          -0.07990340462631895,
          -0.6901560499125757
         ],
         "xaxis": "x",
         "yaxis": "y"
        },
        {
         "line": {
          "color": "rgba(128, 128, 128, 1.0)",
          "dash": "solid",
          "shape": "linear",
          "width": 1.3
         },
         "marker": {
          "size": 2,
          "symbol": "circle"
         },
         "mode": "markers",
         "name": "A",
         "text": "",
         "type": "scatter",
         "x": [
          -0.4516907935643547,
          1.9112976940760542,
          0.016278191613616856,
          -1.5612510125262646,
          1.274813950179761,
          -1.6126805385966763,
          -2.2821957251904537,
          0.2089866829343159,
          -0.8429670959668712,
          -0.1760004882461311,
          -0.28365499381420106,
          -0.33009201915794384,
          1.073630642032631,
          -0.6400132697192715,
          -1.6190174132021233,
          -0.8066969102906225,
          -0.7976712506251615,
          -0.04786740123194217,
          0.0036016919413261912,
          0.9796573940454502,
          0.41890900093567296,
          -0.4651558301356142,
          0.3967128531212736,
          0.3647102645827066,
          2.3635634839500868,
          1.690659593065594,
          -0.12958185421349058,
          1.1451978672201555,
          -0.5445427235078433,
          0.23184905659203003,
          -0.661231661728734,
          -1.3468812161015062,
          -0.12597790256040473,
          -0.7661206376129771,
          0.6726122485131029,
          0.8890951709181736,
          0.07540556913641484,
          -0.5375263337691439,
          0.9102631893960552,
          -1.5706703434768574,
          -0.06651099933796677,
          1.9575820573574008,
          0.5984037057002887,
          -0.29279137068526834,
          0.8608585157666441,
          -0.5722289975411223,
          0.2167161010616931,
          -0.07729590112916514,
          -0.11686005672031406,
          0.5093443084130719,
          -0.9960610113310893,
          -1.7664698608708074,
          0.8343471753750914,
          1.4158114289369463,
          -1.3956435087990042,
          0.05322552854207203,
          -0.9523509773763503,
          -0.6663310368452604,
          -1.0650812212374816,
          -1.0140209385032657,
          0.11207349468470248,
          -0.5104156544641547,
          1.234706908081769,
          2.0556699493257153,
          0.535280282309938,
          0.22644574445244361,
          -1.0778958754538086,
          0.49053867687206737,
          -1.0182020417594757,
          0.2268549447273603,
          -1.2811762721246358,
          -1.9424396249265408,
          0.2047971602644152,
          0.6420282395857231,
          -1.051774222557932,
          -0.38613327141997705,
          0.6988444446067775,
          0.22176227835569992,
          -1.3850991419989536,
          3.170042786967088,
          0.9760411158462163,
          0.9843606399408203,
          0.21425644495420632,
          -0.1454975927098459,
          1.1360264375085198,
          1.4965769407068956,
          2.0212430515195114,
          0.6535613771609278,
          -0.20778690624197377,
          0.05133141205531726,
          1.5951808004389887,
          0.024862938608334953,
          -1.0341191496383413,
          -0.6309259671022158,
          1.8896170951490574,
          1.0544275134607926,
          -1.803050885322603,
          -0.3481509866491919,
          0.3364817028101488,
          -1.0504744495799234
         ],
         "xaxis": "x2",
         "y": [
          0.3088324856892706,
          -0.3181018657763986,
          -0.3255636066105028,
          -0.19236064939448894,
          -0.31705847833897705,
          -0.3637990623796339,
          1.7381070856119816,
          -1.6365618661350712,
          1.207602245302151,
          0.5795086591513585,
          0.3870112639907086,
          -0.10402522952978051,
          0.39876508426736096,
          0.058877024328745,
          2.046305095259285,
          -0.06205058952363449,
          -0.5088513253753721,
          1.7060136114179525,
          -0.832794298194402,
          0.740658198328443,
          0.9254554710965845,
          -0.5070103677145493,
          -1.4570107579482992,
          -0.24365430134011537,
          1.1676646218937359,
          -0.311995182369368,
          0.7109016891661052,
          -1.0364988054373834,
          -1.09996944787571,
          -0.12594993434748722,
          1.7722816783788544,
          -0.3997032204298883,
          -0.9323688783891173,
          -0.8890050506577837,
          -1.2253267838890964,
          -0.9006985743648436,
          -0.5349749662875761,
          0.8166480990698793,
          -0.7104178965845112,
          -0.3457486752396018,
          2.959469692485582,
          0.23534877803905693,
          0.966630327587809,
          2.4381924323134023,
          -0.30413100985165104,
          -0.05444955774883802,
          0.878998226071373,
          -1.1152616224785363,
          -0.6218799711578149,
          -1.4821637745829594,
          -0.9646987993706798,
          -0.18625141720567243,
          1.082688995662202,
          0.1551996500811465,
          0.6927369140060691,
          -0.4943669432520142,
          0.4662627587205149,
          1.1358562871588116,
          0.013461325519304344,
          0.7146192694121911,
          0.49813190363407545,
          -0.36725654791870793,
          -1.3353814443706784,
          2.5521770370452495,
          -1.4182599967967349,
          -0.43289339497198265,
          1.0100491406976808,
          0.016329224880536244,
          1.3886393871899374,
          0.9613206589194162,
          -1.5355067481574007,
          1.184697490716947,
          2.3216104010354237,
          -2.0445540506204263,
          -0.5871771419671978,
          1.2734450444863539,
          1.4195058858709837,
          0.8390940119444251,
          0.13116077472428445,
          -0.06590812174109323,
          -0.6968929236770744,
          -1.1389255549844535,
          -0.04754382317161936,
          -0.2248628873615001,
          0.7753734423955779,
          -0.18074714231253064,
          -0.8355014732267162,
          0.8467980360783912,
          0.38239269938737475,
          -0.9905196586110199,
          0.9499548630576228,
          -0.6045266692700999,
          1.261098538014877,
          -1.9887055698509426,
          0.8438845678507609,
          -0.5886865644903774,
          0.8100195951040792,
          -1.1556415592736307,
          -0.07990340462631895,
          -0.6901560499125757
         ],
         "yaxis": "y2"
        },
        {
         "line": {
          "color": "rgba(128, 128, 128, 1.0)",
          "dash": "solid",
          "shape": "linear",
          "width": 1.3
         },
         "marker": {
          "size": 2,
          "symbol": "circle"
         },
         "mode": "markers",
         "name": "A",
         "text": "",
         "type": "scatter",
         "x": [
          -1.0646017191384958,
          0.3321920056960001,
          0.6090565112004517,
          -0.6768570819529374,
          -1.071852230152099,
          -0.24855490387020623,
          -1.2222945542298218,
          -0.7322520382168999,
          2.007825808431446,
          -1.0809123274250112,
          -0.11768824980515039,
          -0.34824883740229345,
          -2.2102969564934667,
          0.9565145379687646,
          -0.12417288508694992,
          2.5823146845108242,
          -2.5287024344669775,
          0.4362370346281354,
          0.08121332970927614,
          -1.4921165100303635,
          1.6166003234227755,
          -1.4695942662227708,
          -0.664102522913956,
          -0.36173738383003123,
          1.467965131525319,
          -0.7817816097642503,
          0.09113405686085366,
          1.352614849916358,
          0.21845700235223287,
          -0.8666878726761752,
          1.1498623968326704,
          0.6270341179443294,
          -1.2159888452185579,
          -2.2367407252258773,
          -1.8241905902059923,
          0.1026918667007109,
          -0.5166984158018366,
          -0.8292277504276038,
          1.1139658929156906,
          0.2582461320386364,
          0.22881042527798265,
          1.347821385670737,
          -0.39667707539964553,
          -1.01167711089197,
          -1.6452610840325774,
          0.29628469907043403,
          0.8598128977845043,
          -0.5560416129710283,
          0.9754877209968313,
          -0.001531870216110855,
          -1.032713818364518,
          -0.9648044180053544,
          0.47594295770189793,
          1.0131918766811312,
          2.410196583079355,
          -1.0000870823338293,
          0.42597637653947035,
          0.3018209684464047,
          -0.6207139460615639,
          0.31005535132277434,
          -0.7429817744889307,
          -0.5925940932553534,
          -0.5284619483949309,
          -2.3237684125449984,
          -0.5358627855578586,
          1.0616177200023125,
          -0.9868376386319648,
          0.1293571158515564,
          -0.6002669440068523,
          0.19344541722782177,
          -0.35028462645634595,
          -0.12053593614707578,
          -0.7195975566273206,
          -0.9420064603175615,
          -0.7368035591177027,
          1.0497050421378742,
          0.27064584782110357,
          -0.09930314779047857,
          -1.448750204622501,
          1.5184863376584545,
          0.13878103585449492,
          0.199580322535217,
          -0.7704516727675462,
          0.8997656223843715,
          0.7230120206437123,
          -0.1574469294514196,
          -0.010010105070724269,
          -0.7093881759296811,
          -0.7344249093563884,
          -0.33452298887329696,
          0.0861567927114379,
          -0.1515132843737287,
          -0.27696493836830705,
          -0.9487310945588182,
          -0.0260201937881905,
          1.6195850610439397,
          -1.0839434795958491,
          -1.596912397493733,
          0.32076136805352334,
          -0.4108168750574777
         ],
         "xaxis": "x3",
         "y": [
          0.3088324856892706,
          -0.3181018657763986,
          -0.3255636066105028,
          -0.19236064939448894,
          -0.31705847833897705,
          -0.3637990623796339,
          1.7381070856119816,
          -1.6365618661350712,
          1.207602245302151,
          0.5795086591513585,
          0.3870112639907086,
          -0.10402522952978051,
          0.39876508426736096,
          0.058877024328745,
          2.046305095259285,
          -0.06205058952363449,
          -0.5088513253753721,
          1.7060136114179525,
          -0.832794298194402,
          0.740658198328443,
          0.9254554710965845,
          -0.5070103677145493,
          -1.4570107579482992,
          -0.24365430134011537,
          1.1676646218937359,
          -0.311995182369368,
          0.7109016891661052,
          -1.0364988054373834,
          -1.09996944787571,
          -0.12594993434748722,
          1.7722816783788544,
          -0.3997032204298883,
          -0.9323688783891173,
          -0.8890050506577837,
          -1.2253267838890964,
          -0.9006985743648436,
          -0.5349749662875761,
          0.8166480990698793,
          -0.7104178965845112,
          -0.3457486752396018,
          2.959469692485582,
          0.23534877803905693,
          0.966630327587809,
          2.4381924323134023,
          -0.30413100985165104,
          -0.05444955774883802,
          0.878998226071373,
          -1.1152616224785363,
          -0.6218799711578149,
          -1.4821637745829594,
          -0.9646987993706798,
          -0.18625141720567243,
          1.082688995662202,
          0.1551996500811465,
          0.6927369140060691,
          -0.4943669432520142,
          0.4662627587205149,
          1.1358562871588116,
          0.013461325519304344,
          0.7146192694121911,
          0.49813190363407545,
          -0.36725654791870793,
          -1.3353814443706784,
          2.5521770370452495,
          -1.4182599967967349,
          -0.43289339497198265,
          1.0100491406976808,
          0.016329224880536244,
          1.3886393871899374,
          0.9613206589194162,
          -1.5355067481574007,
          1.184697490716947,
          2.3216104010354237,
          -2.0445540506204263,
          -0.5871771419671978,
          1.2734450444863539,
          1.4195058858709837,
          0.8390940119444251,
          0.13116077472428445,
          -0.06590812174109323,
          -0.6968929236770744,
          -1.1389255549844535,
          -0.04754382317161936,
          -0.2248628873615001,
          0.7753734423955779,
          -0.18074714231253064,
          -0.8355014732267162,
          0.8467980360783912,
          0.38239269938737475,
          -0.9905196586110199,
          0.9499548630576228,
          -0.6045266692700999,
          1.261098538014877,
          -1.9887055698509426,
          0.8438845678507609,
          -0.5886865644903774,
          0.8100195951040792,
          -1.1556415592736307,
          -0.07990340462631895,
          -0.6901560499125757
         ],
         "yaxis": "y3"
        },
        {
         "line": {
          "color": "rgba(128, 128, 128, 1.0)",
          "dash": "solid",
          "shape": "linear",
          "width": 1.3
         },
         "marker": {
          "size": 2,
          "symbol": "circle"
         },
         "mode": "markers",
         "name": "A",
         "text": "",
         "type": "scatter",
         "x": [
          0.7359993751785493,
          -0.17557093116207317,
          -1.0787873828263503,
          0.6035518134908985,
          0.18167981687568469,
          -0.13124280844835975,
          -0.7084856824897063,
          1.2940719925638406,
          1.3883725849693922,
          -1.4999675734073792,
          -1.5570482851942902,
          -1.349761275032151,
          1.4488471760026187,
          -0.35242888480728524,
          2.2964313296795518,
          -0.5026466049941553,
          -1.7407603578263977,
          0.8987095928114365,
          -0.9605717646133486,
          -1.9544530420613735,
          -0.11057480590181805,
          -0.5820224508966013,
          1.0177299096668178,
          -1.0533154734482344,
          -0.2955482358631533,
          -1.1178890983019882,
          -0.8729133399199831,
          1.6930197330684553,
          -1.4085572541107982,
          -0.7696207939219283,
          -1.1528321094752807,
          0.8227720831940336,
          2.6206574141614865,
          -2.1601402362881577,
          0.8230538217782262,
          0.1540482063819723,
          1.188881265442298,
          -1.412056212300905,
          0.0045927045303107514,
          1.5268714584088512,
          -0.7574748531756668,
          0.5253191985201252,
          -0.7185703785067633,
          1.5334998677776444,
          0.28463919477284333,
          -0.7208273287760024,
          0.5069215950345374,
          0.24519087482467536,
          -0.061549281746454715,
          -1.9698291121616318,
          -0.29575631687560344,
          -1.4980709403457635,
          0.1823380223859322,
          0.7356697165657845,
          -1.2048064883977898,
          -0.4226840602956971,
          0.17684583038739413,
          -0.9859889814806736,
          -0.4818464109298942,
          -0.23513066437363495,
          -0.8163061201015447,
          0.10131426707869867,
          1.1711699293601858,
          -0.8576450485660422,
          -0.34952503702276455,
          -0.4687584668293646,
          0.971603378111854,
          0.7140419326194309,
          2.097600376291275,
          -1.2668312081894249,
          1.5143075166390583,
          0.20665296318028079,
          -1.6665622009528187,
          -0.9131017150669157,
          0.4896363745457838,
          -0.327491791644748,
          0.352250197225543,
          1.2312345592253773,
          0.8850452989683344,
          1.1207003735615513,
          0.21928808851024795,
          0.428652671748359,
          1.540270302284598,
          0.13889038463353362,
          -0.7238454055858894,
          0.4439935804565157,
          1.5173699549790023,
          1.8610768883695068,
          -0.14578225192931238,
          -0.32877649828735056,
          -0.507128933182429,
          0.702742931103773,
          0.40491720787557434,
          -0.3822888160202697,
          -1.0831297740506902,
          -1.8135514824209737,
          -0.24403701726307125,
          0.39519202029123657,
          0.6641580158363705,
          0.2820828673966256
         ],
         "xaxis": "x4",
         "y": [
          0.3088324856892706,
          -0.3181018657763986,
          -0.3255636066105028,
          -0.19236064939448894,
          -0.31705847833897705,
          -0.3637990623796339,
          1.7381070856119816,
          -1.6365618661350712,
          1.207602245302151,
          0.5795086591513585,
          0.3870112639907086,
          -0.10402522952978051,
          0.39876508426736096,
          0.058877024328745,
          2.046305095259285,
          -0.06205058952363449,
          -0.5088513253753721,
          1.7060136114179525,
          -0.832794298194402,
          0.740658198328443,
          0.9254554710965845,
          -0.5070103677145493,
          -1.4570107579482992,
          -0.24365430134011537,
          1.1676646218937359,
          -0.311995182369368,
          0.7109016891661052,
          -1.0364988054373834,
          -1.09996944787571,
          -0.12594993434748722,
          1.7722816783788544,
          -0.3997032204298883,
          -0.9323688783891173,
          -0.8890050506577837,
          -1.2253267838890964,
          -0.9006985743648436,
          -0.5349749662875761,
          0.8166480990698793,
          -0.7104178965845112,
          -0.3457486752396018,
          2.959469692485582,
          0.23534877803905693,
          0.966630327587809,
          2.4381924323134023,
          -0.30413100985165104,
          -0.05444955774883802,
          0.878998226071373,
          -1.1152616224785363,
          -0.6218799711578149,
          -1.4821637745829594,
          -0.9646987993706798,
          -0.18625141720567243,
          1.082688995662202,
          0.1551996500811465,
          0.6927369140060691,
          -0.4943669432520142,
          0.4662627587205149,
          1.1358562871588116,
          0.013461325519304344,
          0.7146192694121911,
          0.49813190363407545,
          -0.36725654791870793,
          -1.3353814443706784,
          2.5521770370452495,
          -1.4182599967967349,
          -0.43289339497198265,
          1.0100491406976808,
          0.016329224880536244,
          1.3886393871899374,
          0.9613206589194162,
          -1.5355067481574007,
          1.184697490716947,
          2.3216104010354237,
          -2.0445540506204263,
          -0.5871771419671978,
          1.2734450444863539,
          1.4195058858709837,
          0.8390940119444251,
          0.13116077472428445,
          -0.06590812174109323,
          -0.6968929236770744,
          -1.1389255549844535,
          -0.04754382317161936,
          -0.2248628873615001,
          0.7753734423955779,
          -0.18074714231253064,
          -0.8355014732267162,
          0.8467980360783912,
          0.38239269938737475,
          -0.9905196586110199,
          0.9499548630576228,
          -0.6045266692700999,
          1.261098538014877,
          -1.9887055698509426,
          0.8438845678507609,
          -0.5886865644903774,
          0.8100195951040792,
          -1.1556415592736307,
          -0.07990340462631895,
          -0.6901560499125757
         ],
         "yaxis": "y4"
        },
        {
         "line": {
          "color": "rgba(128, 128, 128, 1.0)",
          "dash": "solid",
          "shape": "linear",
          "width": 1.3
         },
         "marker": {
          "size": 2,
          "symbol": "circle"
         },
         "mode": "markers",
         "name": "B",
         "text": "",
         "type": "scatter",
         "x": [
          0.3088324856892706,
          -0.3181018657763986,
          -0.3255636066105028,
          -0.19236064939448894,
          -0.31705847833897705,
          -0.3637990623796339,
          1.7381070856119816,
          -1.6365618661350712,
          1.207602245302151,
          0.5795086591513585,
          0.3870112639907086,
          -0.10402522952978051,
          0.39876508426736096,
          0.058877024328745,
          2.046305095259285,
          -0.06205058952363449,
          -0.5088513253753721,
          1.7060136114179525,
          -0.832794298194402,
          0.740658198328443,
          0.9254554710965845,
          -0.5070103677145493,
          -1.4570107579482992,
          -0.24365430134011537,
          1.1676646218937359,
          -0.311995182369368,
          0.7109016891661052,
          -1.0364988054373834,
          -1.09996944787571,
          -0.12594993434748722,
          1.7722816783788544,
          -0.3997032204298883,
          -0.9323688783891173,
          -0.8890050506577837,
          -1.2253267838890964,
          -0.9006985743648436,
          -0.5349749662875761,
          0.8166480990698793,
          -0.7104178965845112,
          -0.3457486752396018,
          2.959469692485582,
          0.23534877803905693,
          0.966630327587809,
          2.4381924323134023,
          -0.30413100985165104,
          -0.05444955774883802,
          0.878998226071373,
          -1.1152616224785363,
          -0.6218799711578149,
          -1.4821637745829594,
          -0.9646987993706798,
          -0.18625141720567243,
          1.082688995662202,
          0.1551996500811465,
          0.6927369140060691,
          -0.4943669432520142,
          0.4662627587205149,
          1.1358562871588116,
          0.013461325519304344,
          0.7146192694121911,
          0.49813190363407545,
          -0.36725654791870793,
          -1.3353814443706784,
          2.5521770370452495,
          -1.4182599967967349,
          -0.43289339497198265,
          1.0100491406976808,
          0.016329224880536244,
          1.3886393871899374,
          0.9613206589194162,
          -1.5355067481574007,
          1.184697490716947,
          2.3216104010354237,
          -2.0445540506204263,
          -0.5871771419671978,
          1.2734450444863539,
          1.4195058858709837,
          0.8390940119444251,
          0.13116077472428445,
          -0.06590812174109323,
          -0.6968929236770744,
          -1.1389255549844535,
          -0.04754382317161936,
          -0.2248628873615001,
          0.7753734423955779,
          -0.18074714231253064,
          -0.8355014732267162,
          0.8467980360783912,
          0.38239269938737475,
          -0.9905196586110199,
          0.9499548630576228,
          -0.6045266692700999,
          1.261098538014877,
          -1.9887055698509426,
          0.8438845678507609,
          -0.5886865644903774,
          0.8100195951040792,
          -1.1556415592736307,
          -0.07990340462631895,
          -0.6901560499125757
         ],
         "xaxis": "x5",
         "y": [
          -0.4516907935643547,
          1.9112976940760542,
          0.016278191613616856,
          -1.5612510125262646,
          1.274813950179761,
          -1.6126805385966763,
          -2.2821957251904537,
          0.2089866829343159,
          -0.8429670959668712,
          -0.1760004882461311,
          -0.28365499381420106,
          -0.33009201915794384,
          1.073630642032631,
          -0.6400132697192715,
          -1.6190174132021233,
          -0.8066969102906225,
          -0.7976712506251615,
          -0.04786740123194217,
          0.0036016919413261912,
          0.9796573940454502,
          0.41890900093567296,
          -0.4651558301356142,
          0.3967128531212736,
          0.3647102645827066,
          2.3635634839500868,
          1.690659593065594,
          -0.12958185421349058,
          1.1451978672201555,
          -0.5445427235078433,
          0.23184905659203003,
          -0.661231661728734,
          -1.3468812161015062,
          -0.12597790256040473,
          -0.7661206376129771,
          0.6726122485131029,
          0.8890951709181736,
          0.07540556913641484,
          -0.5375263337691439,
          0.9102631893960552,
          -1.5706703434768574,
          -0.06651099933796677,
          1.9575820573574008,
          0.5984037057002887,
          -0.29279137068526834,
          0.8608585157666441,
          -0.5722289975411223,
          0.2167161010616931,
          -0.07729590112916514,
          -0.11686005672031406,
          0.5093443084130719,
          -0.9960610113310893,
          -1.7664698608708074,
          0.8343471753750914,
          1.4158114289369463,
          -1.3956435087990042,
          0.05322552854207203,
          -0.9523509773763503,
          -0.6663310368452604,
          -1.0650812212374816,
          -1.0140209385032657,
          0.11207349468470248,
          -0.5104156544641547,
          1.234706908081769,
          2.0556699493257153,
          0.535280282309938,
          0.22644574445244361,
          -1.0778958754538086,
          0.49053867687206737,
          -1.0182020417594757,
          0.2268549447273603,
          -1.2811762721246358,
          -1.9424396249265408,
          0.2047971602644152,
          0.6420282395857231,
          -1.051774222557932,
          -0.38613327141997705,
          0.6988444446067775,
          0.22176227835569992,
          -1.3850991419989536,
          3.170042786967088,
          0.9760411158462163,
          0.9843606399408203,
          0.21425644495420632,
          -0.1454975927098459,
          1.1360264375085198,
          1.4965769407068956,
          2.0212430515195114,
          0.6535613771609278,
          -0.20778690624197377,
          0.05133141205531726,
          1.5951808004389887,
          0.024862938608334953,
          -1.0341191496383413,
          -0.6309259671022158,
          1.8896170951490574,
          1.0544275134607926,
          -1.803050885322603,
          -0.3481509866491919,
          0.3364817028101488,
          -1.0504744495799234
         ],
         "yaxis": "y5"
        },
        {
         "histfunc": "count",
         "histnorm": "",
         "marker": {
          "color": "rgba(55, 128, 191, 1.0)",
          "line": {
           "color": "#4D5663",
           "width": 1.3
          }
         },
         "name": "B",
         "nbinsx": 10,
         "opacity": 0.8,
         "orientation": "v",
         "type": "histogram",
         "x": [
          -0.4516907935643547,
          1.9112976940760542,
          0.016278191613616856,
          -1.5612510125262646,
          1.274813950179761,
          -1.6126805385966763,
          -2.2821957251904537,
          0.2089866829343159,
          -0.8429670959668712,
          -0.1760004882461311,
          -0.28365499381420106,
          -0.33009201915794384,
          1.073630642032631,
          -0.6400132697192715,
          -1.6190174132021233,
          -0.8066969102906225,
          -0.7976712506251615,
          -0.04786740123194217,
          0.0036016919413261912,
          0.9796573940454502,
          0.41890900093567296,
          -0.4651558301356142,
          0.3967128531212736,
          0.3647102645827066,
          2.3635634839500868,
          1.690659593065594,
          -0.12958185421349058,
          1.1451978672201555,
          -0.5445427235078433,
          0.23184905659203003,
          -0.661231661728734,
          -1.3468812161015062,
          -0.12597790256040473,
          -0.7661206376129771,
          0.6726122485131029,
          0.8890951709181736,
          0.07540556913641484,
          -0.5375263337691439,
          0.9102631893960552,
          -1.5706703434768574,
          -0.06651099933796677,
          1.9575820573574008,
          0.5984037057002887,
          -0.29279137068526834,
          0.8608585157666441,
          -0.5722289975411223,
          0.2167161010616931,
          -0.07729590112916514,
          -0.11686005672031406,
          0.5093443084130719,
          -0.9960610113310893,
          -1.7664698608708074,
          0.8343471753750914,
          1.4158114289369463,
          -1.3956435087990042,
          0.05322552854207203,
          -0.9523509773763503,
          -0.6663310368452604,
          -1.0650812212374816,
          -1.0140209385032657,
          0.11207349468470248,
          -0.5104156544641547,
          1.234706908081769,
          2.0556699493257153,
          0.535280282309938,
          0.22644574445244361,
          -1.0778958754538086,
          0.49053867687206737,
          -1.0182020417594757,
          0.2268549447273603,
          -1.2811762721246358,
          -1.9424396249265408,
          0.2047971602644152,
          0.6420282395857231,
          -1.051774222557932,
          -0.38613327141997705,
          0.6988444446067775,
          0.22176227835569992,
          -1.3850991419989536,
          3.170042786967088,
          0.9760411158462163,
          0.9843606399408203,
          0.21425644495420632,
          -0.1454975927098459,
          1.1360264375085198,
          1.4965769407068956,
          2.0212430515195114,
          0.6535613771609278,
          -0.20778690624197377,
          0.05133141205531726,
          1.5951808004389887,
          0.024862938608334953,
          -1.0341191496383413,
          -0.6309259671022158,
          1.8896170951490574,
          1.0544275134607926,
          -1.803050885322603,
          -0.3481509866491919,
          0.3364817028101488,
          -1.0504744495799234
         ],
         "xaxis": "x6",
         "yaxis": "y6"
        },
        {
         "line": {
          "color": "rgba(128, 128, 128, 1.0)",
          "dash": "solid",
          "shape": "linear",
          "width": 1.3
         },
         "marker": {
          "size": 2,
          "symbol": "circle"
         },
         "mode": "markers",
         "name": "B",
         "text": "",
         "type": "scatter",
         "x": [
          -1.0646017191384958,
          0.3321920056960001,
          0.6090565112004517,
          -0.6768570819529374,
          -1.071852230152099,
          -0.24855490387020623,
          -1.2222945542298218,
          -0.7322520382168999,
          2.007825808431446,
          -1.0809123274250112,
          -0.11768824980515039,
          -0.34824883740229345,
          -2.2102969564934667,
          0.9565145379687646,
          -0.12417288508694992,
          2.5823146845108242,
          -2.5287024344669775,
          0.4362370346281354,
          0.08121332970927614,
          -1.4921165100303635,
          1.6166003234227755,
          -1.4695942662227708,
          -0.664102522913956,
          -0.36173738383003123,
          1.467965131525319,
          -0.7817816097642503,
          0.09113405686085366,
          1.352614849916358,
          0.21845700235223287,
          -0.8666878726761752,
          1.1498623968326704,
          0.6270341179443294,
          -1.2159888452185579,
          -2.2367407252258773,
          -1.8241905902059923,
          0.1026918667007109,
          -0.5166984158018366,
          -0.8292277504276038,
          1.1139658929156906,
          0.2582461320386364,
          0.22881042527798265,
          1.347821385670737,
          -0.39667707539964553,
          -1.01167711089197,
          -1.6452610840325774,
          0.29628469907043403,
          0.8598128977845043,
          -0.5560416129710283,
          0.9754877209968313,
          -0.001531870216110855,
          -1.032713818364518,
          -0.9648044180053544,
          0.47594295770189793,
          1.0131918766811312,
          2.410196583079355,
          -1.0000870823338293,
          0.42597637653947035,
          0.3018209684464047,
          -0.6207139460615639,
          0.31005535132277434,
          -0.7429817744889307,
          -0.5925940932553534,
          -0.5284619483949309,
          -2.3237684125449984,
          -0.5358627855578586,
          1.0616177200023125,
          -0.9868376386319648,
          0.1293571158515564,
          -0.6002669440068523,
          0.19344541722782177,
          -0.35028462645634595,
          -0.12053593614707578,
          -0.7195975566273206,
          -0.9420064603175615,
          -0.7368035591177027,
          1.0497050421378742,
          0.27064584782110357,
          -0.09930314779047857,
          -1.448750204622501,
          1.5184863376584545,
          0.13878103585449492,
          0.199580322535217,
          -0.7704516727675462,
          0.8997656223843715,
          0.7230120206437123,
          -0.1574469294514196,
          -0.010010105070724269,
          -0.7093881759296811,
          -0.7344249093563884,
          -0.33452298887329696,
          0.0861567927114379,
          -0.1515132843737287,
          -0.27696493836830705,
          -0.9487310945588182,
          -0.0260201937881905,
          1.6195850610439397,
          -1.0839434795958491,
          -1.596912397493733,
          0.32076136805352334,
          -0.4108168750574777
         ],
         "xaxis": "x7",
         "y": [
          -0.4516907935643547,
          1.9112976940760542,
          0.016278191613616856,
          -1.5612510125262646,
          1.274813950179761,
          -1.6126805385966763,
          -2.2821957251904537,
          0.2089866829343159,
          -0.8429670959668712,
          -0.1760004882461311,
          -0.28365499381420106,
          -0.33009201915794384,
          1.073630642032631,
          -0.6400132697192715,
          -1.6190174132021233,
          -0.8066969102906225,
          -0.7976712506251615,
          -0.04786740123194217,
          0.0036016919413261912,
          0.9796573940454502,
          0.41890900093567296,
          -0.4651558301356142,
          0.3967128531212736,
          0.3647102645827066,
          2.3635634839500868,
          1.690659593065594,
          -0.12958185421349058,
          1.1451978672201555,
          -0.5445427235078433,
          0.23184905659203003,
          -0.661231661728734,
          -1.3468812161015062,
          -0.12597790256040473,
          -0.7661206376129771,
          0.6726122485131029,
          0.8890951709181736,
          0.07540556913641484,
          -0.5375263337691439,
          0.9102631893960552,
          -1.5706703434768574,
          -0.06651099933796677,
          1.9575820573574008,
          0.5984037057002887,
          -0.29279137068526834,
          0.8608585157666441,
          -0.5722289975411223,
          0.2167161010616931,
          -0.07729590112916514,
          -0.11686005672031406,
          0.5093443084130719,
          -0.9960610113310893,
          -1.7664698608708074,
          0.8343471753750914,
          1.4158114289369463,
          -1.3956435087990042,
          0.05322552854207203,
          -0.9523509773763503,
          -0.6663310368452604,
          -1.0650812212374816,
          -1.0140209385032657,
          0.11207349468470248,
          -0.5104156544641547,
          1.234706908081769,
          2.0556699493257153,
          0.535280282309938,
          0.22644574445244361,
          -1.0778958754538086,
          0.49053867687206737,
          -1.0182020417594757,
          0.2268549447273603,
          -1.2811762721246358,
          -1.9424396249265408,
          0.2047971602644152,
          0.6420282395857231,
          -1.051774222557932,
          -0.38613327141997705,
          0.6988444446067775,
          0.22176227835569992,
          -1.3850991419989536,
          3.170042786967088,
          0.9760411158462163,
          0.9843606399408203,
          0.21425644495420632,
          -0.1454975927098459,
          1.1360264375085198,
          1.4965769407068956,
          2.0212430515195114,
          0.6535613771609278,
          -0.20778690624197377,
          0.05133141205531726,
          1.5951808004389887,
          0.024862938608334953,
          -1.0341191496383413,
          -0.6309259671022158,
          1.8896170951490574,
          1.0544275134607926,
          -1.803050885322603,
          -0.3481509866491919,
          0.3364817028101488,
          -1.0504744495799234
         ],
         "yaxis": "y7"
        },
        {
         "line": {
          "color": "rgba(128, 128, 128, 1.0)",
          "dash": "solid",
          "shape": "linear",
          "width": 1.3
         },
         "marker": {
          "size": 2,
          "symbol": "circle"
         },
         "mode": "markers",
         "name": "B",
         "text": "",
         "type": "scatter",
         "x": [
          0.7359993751785493,
          -0.17557093116207317,
          -1.0787873828263503,
          0.6035518134908985,
          0.18167981687568469,
          -0.13124280844835975,
          -0.7084856824897063,
          1.2940719925638406,
          1.3883725849693922,
          -1.4999675734073792,
          -1.5570482851942902,
          -1.349761275032151,
          1.4488471760026187,
          -0.35242888480728524,
          2.2964313296795518,
          -0.5026466049941553,
          -1.7407603578263977,
          0.8987095928114365,
          -0.9605717646133486,
          -1.9544530420613735,
          -0.11057480590181805,
          -0.5820224508966013,
          1.0177299096668178,
          -1.0533154734482344,
          -0.2955482358631533,
          -1.1178890983019882,
          -0.8729133399199831,
          1.6930197330684553,
          -1.4085572541107982,
          -0.7696207939219283,
          -1.1528321094752807,
          0.8227720831940336,
          2.6206574141614865,
          -2.1601402362881577,
          0.8230538217782262,
          0.1540482063819723,
          1.188881265442298,
          -1.412056212300905,
          0.0045927045303107514,
          1.5268714584088512,
          -0.7574748531756668,
          0.5253191985201252,
          -0.7185703785067633,
          1.5334998677776444,
          0.28463919477284333,
          -0.7208273287760024,
          0.5069215950345374,
          0.24519087482467536,
          -0.061549281746454715,
          -1.9698291121616318,
          -0.29575631687560344,
          -1.4980709403457635,
          0.1823380223859322,
          0.7356697165657845,
          -1.2048064883977898,
          -0.4226840602956971,
          0.17684583038739413,
          -0.9859889814806736,
          -0.4818464109298942,
          -0.23513066437363495,
          -0.8163061201015447,
          0.10131426707869867,
          1.1711699293601858,
          -0.8576450485660422,
          -0.34952503702276455,
          -0.4687584668293646,
          0.971603378111854,
          0.7140419326194309,
          2.097600376291275,
          -1.2668312081894249,
          1.5143075166390583,
          0.20665296318028079,
          -1.6665622009528187,
          -0.9131017150669157,
          0.4896363745457838,
          -0.327491791644748,
          0.352250197225543,
          1.2312345592253773,
          0.8850452989683344,
          1.1207003735615513,
          0.21928808851024795,
          0.428652671748359,
          1.540270302284598,
          0.13889038463353362,
          -0.7238454055858894,
          0.4439935804565157,
          1.5173699549790023,
          1.8610768883695068,
          -0.14578225192931238,
          -0.32877649828735056,
          -0.507128933182429,
          0.702742931103773,
          0.40491720787557434,
          -0.3822888160202697,
          -1.0831297740506902,
          -1.8135514824209737,
          -0.24403701726307125,
          0.39519202029123657,
          0.6641580158363705,
          0.2820828673966256
         ],
         "xaxis": "x8",
         "y": [
          -0.4516907935643547,
          1.9112976940760542,
          0.016278191613616856,
          -1.5612510125262646,
          1.274813950179761,
          -1.6126805385966763,
          -2.2821957251904537,
          0.2089866829343159,
          -0.8429670959668712,
          -0.1760004882461311,
          -0.28365499381420106,
          -0.33009201915794384,
          1.073630642032631,
          -0.6400132697192715,
          -1.6190174132021233,
          -0.8066969102906225,
          -0.7976712506251615,
          -0.04786740123194217,
          0.0036016919413261912,
          0.9796573940454502,
          0.41890900093567296,
          -0.4651558301356142,
          0.3967128531212736,
          0.3647102645827066,
          2.3635634839500868,
          1.690659593065594,
          -0.12958185421349058,
          1.1451978672201555,
          -0.5445427235078433,
          0.23184905659203003,
          -0.661231661728734,
          -1.3468812161015062,
          -0.12597790256040473,
          -0.7661206376129771,
          0.6726122485131029,
          0.8890951709181736,
          0.07540556913641484,
          -0.5375263337691439,
          0.9102631893960552,
          -1.5706703434768574,
          -0.06651099933796677,
          1.9575820573574008,
          0.5984037057002887,
          -0.29279137068526834,
          0.8608585157666441,
          -0.5722289975411223,
          0.2167161010616931,
          -0.07729590112916514,
          -0.11686005672031406,
          0.5093443084130719,
          -0.9960610113310893,
          -1.7664698608708074,
          0.8343471753750914,
          1.4158114289369463,
          -1.3956435087990042,
          0.05322552854207203,
          -0.9523509773763503,
          -0.6663310368452604,
          -1.0650812212374816,
          -1.0140209385032657,
          0.11207349468470248,
          -0.5104156544641547,
          1.234706908081769,
          2.0556699493257153,
          0.535280282309938,
          0.22644574445244361,
          -1.0778958754538086,
          0.49053867687206737,
          -1.0182020417594757,
          0.2268549447273603,
          -1.2811762721246358,
          -1.9424396249265408,
          0.2047971602644152,
          0.6420282395857231,
          -1.051774222557932,
          -0.38613327141997705,
          0.6988444446067775,
          0.22176227835569992,
          -1.3850991419989536,
          3.170042786967088,
          0.9760411158462163,
          0.9843606399408203,
          0.21425644495420632,
          -0.1454975927098459,
          1.1360264375085198,
          1.4965769407068956,
          2.0212430515195114,
          0.6535613771609278,
          -0.20778690624197377,
          0.05133141205531726,
          1.5951808004389887,
          0.024862938608334953,
          -1.0341191496383413,
          -0.6309259671022158,
          1.8896170951490574,
          1.0544275134607926,
          -1.803050885322603,
          -0.3481509866491919,
          0.3364817028101488,
          -1.0504744495799234
         ],
         "yaxis": "y8"
        },
        {
         "line": {
          "color": "rgba(128, 128, 128, 1.0)",
          "dash": "solid",
          "shape": "linear",
          "width": 1.3
         },
         "marker": {
          "size": 2,
          "symbol": "circle"
         },
         "mode": "markers",
         "name": "C",
         "text": "",
         "type": "scatter",
         "x": [
          0.3088324856892706,
          -0.3181018657763986,
          -0.3255636066105028,
          -0.19236064939448894,
          -0.31705847833897705,
          -0.3637990623796339,
          1.7381070856119816,
          -1.6365618661350712,
          1.207602245302151,
          0.5795086591513585,
          0.3870112639907086,
          -0.10402522952978051,
          0.39876508426736096,
          0.058877024328745,
          2.046305095259285,
          -0.06205058952363449,
          -0.5088513253753721,
          1.7060136114179525,
          -0.832794298194402,
          0.740658198328443,
          0.9254554710965845,
          -0.5070103677145493,
          -1.4570107579482992,
          -0.24365430134011537,
          1.1676646218937359,
          -0.311995182369368,
          0.7109016891661052,
          -1.0364988054373834,
          -1.09996944787571,
          -0.12594993434748722,
          1.7722816783788544,
          -0.3997032204298883,
          -0.9323688783891173,
          -0.8890050506577837,
          -1.2253267838890964,
          -0.9006985743648436,
          -0.5349749662875761,
          0.8166480990698793,
          -0.7104178965845112,
          -0.3457486752396018,
          2.959469692485582,
          0.23534877803905693,
          0.966630327587809,
          2.4381924323134023,
          -0.30413100985165104,
          -0.05444955774883802,
          0.878998226071373,
          -1.1152616224785363,
          -0.6218799711578149,
          -1.4821637745829594,
          -0.9646987993706798,
          -0.18625141720567243,
          1.082688995662202,
          0.1551996500811465,
          0.6927369140060691,
          -0.4943669432520142,
          0.4662627587205149,
          1.1358562871588116,
          0.013461325519304344,
          0.7146192694121911,
          0.49813190363407545,
          -0.36725654791870793,
          -1.3353814443706784,
          2.5521770370452495,
          -1.4182599967967349,
          -0.43289339497198265,
          1.0100491406976808,
          0.016329224880536244,
          1.3886393871899374,
          0.9613206589194162,
          -1.5355067481574007,
          1.184697490716947,
          2.3216104010354237,
          -2.0445540506204263,
          -0.5871771419671978,
          1.2734450444863539,
          1.4195058858709837,
          0.8390940119444251,
          0.13116077472428445,
          -0.06590812174109323,
          -0.6968929236770744,
          -1.1389255549844535,
          -0.04754382317161936,
          -0.2248628873615001,
          0.7753734423955779,
          -0.18074714231253064,
          -0.8355014732267162,
          0.8467980360783912,
          0.38239269938737475,
          -0.9905196586110199,
          0.9499548630576228,
          -0.6045266692700999,
          1.261098538014877,
          -1.9887055698509426,
          0.8438845678507609,
          -0.5886865644903774,
          0.8100195951040792,
          -1.1556415592736307,
          -0.07990340462631895,
          -0.6901560499125757
         ],
         "xaxis": "x9",
         "y": [
          -1.0646017191384958,
          0.3321920056960001,
          0.6090565112004517,
          -0.6768570819529374,
          -1.071852230152099,
          -0.24855490387020623,
          -1.2222945542298218,
          -0.7322520382168999,
          2.007825808431446,
          -1.0809123274250112,
          -0.11768824980515039,
          -0.34824883740229345,
          -2.2102969564934667,
          0.9565145379687646,
          -0.12417288508694992,
          2.5823146845108242,
          -2.5287024344669775,
          0.4362370346281354,
          0.08121332970927614,
          -1.4921165100303635,
          1.6166003234227755,
          -1.4695942662227708,
          -0.664102522913956,
          -0.36173738383003123,
          1.467965131525319,
          -0.7817816097642503,
          0.09113405686085366,
          1.352614849916358,
          0.21845700235223287,
          -0.8666878726761752,
          1.1498623968326704,
          0.6270341179443294,
          -1.2159888452185579,
          -2.2367407252258773,
          -1.8241905902059923,
          0.1026918667007109,
          -0.5166984158018366,
          -0.8292277504276038,
          1.1139658929156906,
          0.2582461320386364,
          0.22881042527798265,
          1.347821385670737,
          -0.39667707539964553,
          -1.01167711089197,
          -1.6452610840325774,
          0.29628469907043403,
          0.8598128977845043,
          -0.5560416129710283,
          0.9754877209968313,
          -0.001531870216110855,
          -1.032713818364518,
          -0.9648044180053544,
          0.47594295770189793,
          1.0131918766811312,
          2.410196583079355,
          -1.0000870823338293,
          0.42597637653947035,
          0.3018209684464047,
          -0.6207139460615639,
          0.31005535132277434,
          -0.7429817744889307,
          -0.5925940932553534,
          -0.5284619483949309,
          -2.3237684125449984,
          -0.5358627855578586,
          1.0616177200023125,
          -0.9868376386319648,
          0.1293571158515564,
          -0.6002669440068523,
          0.19344541722782177,
          -0.35028462645634595,
          -0.12053593614707578,
          -0.7195975566273206,
          -0.9420064603175615,
          -0.7368035591177027,
          1.0497050421378742,
          0.27064584782110357,
          -0.09930314779047857,
          -1.448750204622501,
          1.5184863376584545,
          0.13878103585449492,
          0.199580322535217,
          -0.7704516727675462,
          0.8997656223843715,
          0.7230120206437123,
          -0.1574469294514196,
          -0.010010105070724269,
          -0.7093881759296811,
          -0.7344249093563884,
          -0.33452298887329696,
          0.0861567927114379,
          -0.1515132843737287,
          -0.27696493836830705,
          -0.9487310945588182,
          -0.0260201937881905,
          1.6195850610439397,
          -1.0839434795958491,
          -1.596912397493733,
          0.32076136805352334,
          -0.4108168750574777
         ],
         "yaxis": "y9"
        },
        {
         "line": {
          "color": "rgba(128, 128, 128, 1.0)",
          "dash": "solid",
          "shape": "linear",
          "width": 1.3
         },
         "marker": {
          "size": 2,
          "symbol": "circle"
         },
         "mode": "markers",
         "name": "C",
         "text": "",
         "type": "scatter",
         "x": [
          -0.4516907935643547,
          1.9112976940760542,
          0.016278191613616856,
          -1.5612510125262646,
          1.274813950179761,
          -1.6126805385966763,
          -2.2821957251904537,
          0.2089866829343159,
          -0.8429670959668712,
          -0.1760004882461311,
          -0.28365499381420106,
          -0.33009201915794384,
          1.073630642032631,
          -0.6400132697192715,
          -1.6190174132021233,
          -0.8066969102906225,
          -0.7976712506251615,
          -0.04786740123194217,
          0.0036016919413261912,
          0.9796573940454502,
          0.41890900093567296,
          -0.4651558301356142,
          0.3967128531212736,
          0.3647102645827066,
          2.3635634839500868,
          1.690659593065594,
          -0.12958185421349058,
          1.1451978672201555,
          -0.5445427235078433,
          0.23184905659203003,
          -0.661231661728734,
          -1.3468812161015062,
          -0.12597790256040473,
          -0.7661206376129771,
          0.6726122485131029,
          0.8890951709181736,
          0.07540556913641484,
          -0.5375263337691439,
          0.9102631893960552,
          -1.5706703434768574,
          -0.06651099933796677,
          1.9575820573574008,
          0.5984037057002887,
          -0.29279137068526834,
          0.8608585157666441,
          -0.5722289975411223,
          0.2167161010616931,
          -0.07729590112916514,
          -0.11686005672031406,
          0.5093443084130719,
          -0.9960610113310893,
          -1.7664698608708074,
          0.8343471753750914,
          1.4158114289369463,
          -1.3956435087990042,
          0.05322552854207203,
          -0.9523509773763503,
          -0.6663310368452604,
          -1.0650812212374816,
          -1.0140209385032657,
          0.11207349468470248,
          -0.5104156544641547,
          1.234706908081769,
          2.0556699493257153,
          0.535280282309938,
          0.22644574445244361,
          -1.0778958754538086,
          0.49053867687206737,
          -1.0182020417594757,
          0.2268549447273603,
          -1.2811762721246358,
          -1.9424396249265408,
          0.2047971602644152,
          0.6420282395857231,
          -1.051774222557932,
          -0.38613327141997705,
          0.6988444446067775,
          0.22176227835569992,
          -1.3850991419989536,
          3.170042786967088,
          0.9760411158462163,
          0.9843606399408203,
          0.21425644495420632,
          -0.1454975927098459,
          1.1360264375085198,
          1.4965769407068956,
          2.0212430515195114,
          0.6535613771609278,
          -0.20778690624197377,
          0.05133141205531726,
          1.5951808004389887,
          0.024862938608334953,
          -1.0341191496383413,
          -0.6309259671022158,
          1.8896170951490574,
          1.0544275134607926,
          -1.803050885322603,
          -0.3481509866491919,
          0.3364817028101488,
          -1.0504744495799234
         ],
         "xaxis": "x10",
         "y": [
          -1.0646017191384958,
          0.3321920056960001,
          0.6090565112004517,
          -0.6768570819529374,
          -1.071852230152099,
          -0.24855490387020623,
          -1.2222945542298218,
          -0.7322520382168999,
          2.007825808431446,
          -1.0809123274250112,
          -0.11768824980515039,
          -0.34824883740229345,
          -2.2102969564934667,
          0.9565145379687646,
          -0.12417288508694992,
          2.5823146845108242,
          -2.5287024344669775,
          0.4362370346281354,
          0.08121332970927614,
          -1.4921165100303635,
          1.6166003234227755,
          -1.4695942662227708,
          -0.664102522913956,
          -0.36173738383003123,
          1.467965131525319,
          -0.7817816097642503,
          0.09113405686085366,
          1.352614849916358,
          0.21845700235223287,
          -0.8666878726761752,
          1.1498623968326704,
          0.6270341179443294,
          -1.2159888452185579,
          -2.2367407252258773,
          -1.8241905902059923,
          0.1026918667007109,
          -0.5166984158018366,
          -0.8292277504276038,
          1.1139658929156906,
          0.2582461320386364,
          0.22881042527798265,
          1.347821385670737,
          -0.39667707539964553,
          -1.01167711089197,
          -1.6452610840325774,
          0.29628469907043403,
          0.8598128977845043,
          -0.5560416129710283,
          0.9754877209968313,
          -0.001531870216110855,
          -1.032713818364518,
          -0.9648044180053544,
          0.47594295770189793,
          1.0131918766811312,
          2.410196583079355,
          -1.0000870823338293,
          0.42597637653947035,
          0.3018209684464047,
          -0.6207139460615639,
          0.31005535132277434,
          -0.7429817744889307,
          -0.5925940932553534,
          -0.5284619483949309,
          -2.3237684125449984,
          -0.5358627855578586,
          1.0616177200023125,
          -0.9868376386319648,
          0.1293571158515564,
          -0.6002669440068523,
          0.19344541722782177,
          -0.35028462645634595,
          -0.12053593614707578,
          -0.7195975566273206,
          -0.9420064603175615,
          -0.7368035591177027,
          1.0497050421378742,
          0.27064584782110357,
          -0.09930314779047857,
          -1.448750204622501,
          1.5184863376584545,
          0.13878103585449492,
          0.199580322535217,
          -0.7704516727675462,
          0.8997656223843715,
          0.7230120206437123,
          -0.1574469294514196,
          -0.010010105070724269,
          -0.7093881759296811,
          -0.7344249093563884,
          -0.33452298887329696,
          0.0861567927114379,
          -0.1515132843737287,
          -0.27696493836830705,
          -0.9487310945588182,
          -0.0260201937881905,
          1.6195850610439397,
          -1.0839434795958491,
          -1.596912397493733,
          0.32076136805352334,
          -0.4108168750574777
         ],
         "yaxis": "y10"
        },
        {
         "histfunc": "count",
         "histnorm": "",
         "marker": {
          "color": "rgba(50, 171, 96, 1.0)",
          "line": {
           "color": "#4D5663",
           "width": 1.3
          }
         },
         "name": "C",
         "nbinsx": 10,
         "opacity": 0.8,
         "orientation": "v",
         "type": "histogram",
         "x": [
          -1.0646017191384958,
          0.3321920056960001,
          0.6090565112004517,
          -0.6768570819529374,
          -1.071852230152099,
          -0.24855490387020623,
          -1.2222945542298218,
          -0.7322520382168999,
          2.007825808431446,
          -1.0809123274250112,
          -0.11768824980515039,
          -0.34824883740229345,
          -2.2102969564934667,
          0.9565145379687646,
          -0.12417288508694992,
          2.5823146845108242,
          -2.5287024344669775,
          0.4362370346281354,
          0.08121332970927614,
          -1.4921165100303635,
          1.6166003234227755,
          -1.4695942662227708,
          -0.664102522913956,
          -0.36173738383003123,
          1.467965131525319,
          -0.7817816097642503,
          0.09113405686085366,
          1.352614849916358,
          0.21845700235223287,
          -0.8666878726761752,
          1.1498623968326704,
          0.6270341179443294,
          -1.2159888452185579,
          -2.2367407252258773,
          -1.8241905902059923,
          0.1026918667007109,
          -0.5166984158018366,
          -0.8292277504276038,
          1.1139658929156906,
          0.2582461320386364,
          0.22881042527798265,
          1.347821385670737,
          -0.39667707539964553,
          -1.01167711089197,
          -1.6452610840325774,
          0.29628469907043403,
          0.8598128977845043,
          -0.5560416129710283,
          0.9754877209968313,
          -0.001531870216110855,
          -1.032713818364518,
          -0.9648044180053544,
          0.47594295770189793,
          1.0131918766811312,
          2.410196583079355,
          -1.0000870823338293,
          0.42597637653947035,
          0.3018209684464047,
          -0.6207139460615639,
          0.31005535132277434,
          -0.7429817744889307,
          -0.5925940932553534,
          -0.5284619483949309,
          -2.3237684125449984,
          -0.5358627855578586,
          1.0616177200023125,
          -0.9868376386319648,
          0.1293571158515564,
          -0.6002669440068523,
          0.19344541722782177,
          -0.35028462645634595,
          -0.12053593614707578,
          -0.7195975566273206,
          -0.9420064603175615,
          -0.7368035591177027,
          1.0497050421378742,
          0.27064584782110357,
          -0.09930314779047857,
          -1.448750204622501,
          1.5184863376584545,
          0.13878103585449492,
          0.199580322535217,
          -0.7704516727675462,
          0.8997656223843715,
          0.7230120206437123,
          -0.1574469294514196,
          -0.010010105070724269,
          -0.7093881759296811,
          -0.7344249093563884,
          -0.33452298887329696,
          0.0861567927114379,
          -0.1515132843737287,
          -0.27696493836830705,
          -0.9487310945588182,
          -0.0260201937881905,
          1.6195850610439397,
          -1.0839434795958491,
          -1.596912397493733,
          0.32076136805352334,
          -0.4108168750574777
         ],
         "xaxis": "x11",
         "yaxis": "y11"
        },
        {
         "line": {
          "color": "rgba(128, 128, 128, 1.0)",
          "dash": "solid",
          "shape": "linear",
          "width": 1.3
         },
         "marker": {
          "size": 2,
          "symbol": "circle"
         },
         "mode": "markers",
         "name": "C",
         "text": "",
         "type": "scatter",
         "x": [
          0.7359993751785493,
          -0.17557093116207317,
          -1.0787873828263503,
          0.6035518134908985,
          0.18167981687568469,
          -0.13124280844835975,
          -0.7084856824897063,
          1.2940719925638406,
          1.3883725849693922,
          -1.4999675734073792,
          -1.5570482851942902,
          -1.349761275032151,
          1.4488471760026187,
          -0.35242888480728524,
          2.2964313296795518,
          -0.5026466049941553,
          -1.7407603578263977,
          0.8987095928114365,
          -0.9605717646133486,
          -1.9544530420613735,
          -0.11057480590181805,
          -0.5820224508966013,
          1.0177299096668178,
          -1.0533154734482344,
          -0.2955482358631533,
          -1.1178890983019882,
          -0.8729133399199831,
          1.6930197330684553,
          -1.4085572541107982,
          -0.7696207939219283,
          -1.1528321094752807,
          0.8227720831940336,
          2.6206574141614865,
          -2.1601402362881577,
          0.8230538217782262,
          0.1540482063819723,
          1.188881265442298,
          -1.412056212300905,
          0.0045927045303107514,
          1.5268714584088512,
          -0.7574748531756668,
          0.5253191985201252,
          -0.7185703785067633,
          1.5334998677776444,
          0.28463919477284333,
          -0.7208273287760024,
          0.5069215950345374,
          0.24519087482467536,
          -0.061549281746454715,
          -1.9698291121616318,
          -0.29575631687560344,
          -1.4980709403457635,
          0.1823380223859322,
          0.7356697165657845,
          -1.2048064883977898,
          -0.4226840602956971,
          0.17684583038739413,
          -0.9859889814806736,
          -0.4818464109298942,
          -0.23513066437363495,
          -0.8163061201015447,
          0.10131426707869867,
          1.1711699293601858,
          -0.8576450485660422,
          -0.34952503702276455,
          -0.4687584668293646,
          0.971603378111854,
          0.7140419326194309,
          2.097600376291275,
          -1.2668312081894249,
          1.5143075166390583,
          0.20665296318028079,
          -1.6665622009528187,
          -0.9131017150669157,
          0.4896363745457838,
          -0.327491791644748,
          0.352250197225543,
          1.2312345592253773,
          0.8850452989683344,
          1.1207003735615513,
          0.21928808851024795,
          0.428652671748359,
          1.540270302284598,
          0.13889038463353362,
          -0.7238454055858894,
          0.4439935804565157,
          1.5173699549790023,
          1.8610768883695068,
          -0.14578225192931238,
          -0.32877649828735056,
          -0.507128933182429,
          0.702742931103773,
          0.40491720787557434,
          -0.3822888160202697,
          -1.0831297740506902,
          -1.8135514824209737,
          -0.24403701726307125,
          0.39519202029123657,
          0.6641580158363705,
          0.2820828673966256
         ],
         "xaxis": "x12",
         "y": [
          -1.0646017191384958,
          0.3321920056960001,
          0.6090565112004517,
          -0.6768570819529374,
          -1.071852230152099,
          -0.24855490387020623,
          -1.2222945542298218,
          -0.7322520382168999,
          2.007825808431446,
          -1.0809123274250112,
          -0.11768824980515039,
          -0.34824883740229345,
          -2.2102969564934667,
          0.9565145379687646,
          -0.12417288508694992,
          2.5823146845108242,
          -2.5287024344669775,
          0.4362370346281354,
          0.08121332970927614,
          -1.4921165100303635,
          1.6166003234227755,
          -1.4695942662227708,
          -0.664102522913956,
          -0.36173738383003123,
          1.467965131525319,
          -0.7817816097642503,
          0.09113405686085366,
          1.352614849916358,
          0.21845700235223287,
          -0.8666878726761752,
          1.1498623968326704,
          0.6270341179443294,
          -1.2159888452185579,
          -2.2367407252258773,
          -1.8241905902059923,
          0.1026918667007109,
          -0.5166984158018366,
          -0.8292277504276038,
          1.1139658929156906,
          0.2582461320386364,
          0.22881042527798265,
          1.347821385670737,
          -0.39667707539964553,
          -1.01167711089197,
          -1.6452610840325774,
          0.29628469907043403,
          0.8598128977845043,
          -0.5560416129710283,
          0.9754877209968313,
          -0.001531870216110855,
          -1.032713818364518,
          -0.9648044180053544,
          0.47594295770189793,
          1.0131918766811312,
          2.410196583079355,
          -1.0000870823338293,
          0.42597637653947035,
          0.3018209684464047,
          -0.6207139460615639,
          0.31005535132277434,
          -0.7429817744889307,
          -0.5925940932553534,
          -0.5284619483949309,
          -2.3237684125449984,
          -0.5358627855578586,
          1.0616177200023125,
          -0.9868376386319648,
          0.1293571158515564,
          -0.6002669440068523,
          0.19344541722782177,
          -0.35028462645634595,
          -0.12053593614707578,
          -0.7195975566273206,
          -0.9420064603175615,
          -0.7368035591177027,
          1.0497050421378742,
          0.27064584782110357,
          -0.09930314779047857,
          -1.448750204622501,
          1.5184863376584545,
          0.13878103585449492,
          0.199580322535217,
          -0.7704516727675462,
          0.8997656223843715,
          0.7230120206437123,
          -0.1574469294514196,
          -0.010010105070724269,
          -0.7093881759296811,
          -0.7344249093563884,
          -0.33452298887329696,
          0.0861567927114379,
          -0.1515132843737287,
          -0.27696493836830705,
          -0.9487310945588182,
          -0.0260201937881905,
          1.6195850610439397,
          -1.0839434795958491,
          -1.596912397493733,
          0.32076136805352334,
          -0.4108168750574777
         ],
         "yaxis": "y12"
        },
        {
         "line": {
          "color": "rgba(128, 128, 128, 1.0)",
          "dash": "solid",
          "shape": "linear",
          "width": 1.3
         },
         "marker": {
          "size": 2,
          "symbol": "circle"
         },
         "mode": "markers",
         "name": "D",
         "text": "",
         "type": "scatter",
         "x": [
          0.3088324856892706,
          -0.3181018657763986,
          -0.3255636066105028,
          -0.19236064939448894,
          -0.31705847833897705,
          -0.3637990623796339,
          1.7381070856119816,
          -1.6365618661350712,
          1.207602245302151,
          0.5795086591513585,
          0.3870112639907086,
          -0.10402522952978051,
          0.39876508426736096,
          0.058877024328745,
          2.046305095259285,
          -0.06205058952363449,
          -0.5088513253753721,
          1.7060136114179525,
          -0.832794298194402,
          0.740658198328443,
          0.9254554710965845,
          -0.5070103677145493,
          -1.4570107579482992,
          -0.24365430134011537,
          1.1676646218937359,
          -0.311995182369368,
          0.7109016891661052,
          -1.0364988054373834,
          -1.09996944787571,
          -0.12594993434748722,
          1.7722816783788544,
          -0.3997032204298883,
          -0.9323688783891173,
          -0.8890050506577837,
          -1.2253267838890964,
          -0.9006985743648436,
          -0.5349749662875761,
          0.8166480990698793,
          -0.7104178965845112,
          -0.3457486752396018,
          2.959469692485582,
          0.23534877803905693,
          0.966630327587809,
          2.4381924323134023,
          -0.30413100985165104,
          -0.05444955774883802,
          0.878998226071373,
          -1.1152616224785363,
          -0.6218799711578149,
          -1.4821637745829594,
          -0.9646987993706798,
          -0.18625141720567243,
          1.082688995662202,
          0.1551996500811465,
          0.6927369140060691,
          -0.4943669432520142,
          0.4662627587205149,
          1.1358562871588116,
          0.013461325519304344,
          0.7146192694121911,
          0.49813190363407545,
          -0.36725654791870793,
          -1.3353814443706784,
          2.5521770370452495,
          -1.4182599967967349,
          -0.43289339497198265,
          1.0100491406976808,
          0.016329224880536244,
          1.3886393871899374,
          0.9613206589194162,
          -1.5355067481574007,
          1.184697490716947,
          2.3216104010354237,
          -2.0445540506204263,
          -0.5871771419671978,
          1.2734450444863539,
          1.4195058858709837,
          0.8390940119444251,
          0.13116077472428445,
          -0.06590812174109323,
          -0.6968929236770744,
          -1.1389255549844535,
          -0.04754382317161936,
          -0.2248628873615001,
          0.7753734423955779,
          -0.18074714231253064,
          -0.8355014732267162,
          0.8467980360783912,
          0.38239269938737475,
          -0.9905196586110199,
          0.9499548630576228,
          -0.6045266692700999,
          1.261098538014877,
          -1.9887055698509426,
          0.8438845678507609,
          -0.5886865644903774,
          0.8100195951040792,
          -1.1556415592736307,
          -0.07990340462631895,
          -0.6901560499125757
         ],
         "xaxis": "x13",
         "y": [
          0.7359993751785493,
          -0.17557093116207317,
          -1.0787873828263503,
          0.6035518134908985,
          0.18167981687568469,
          -0.13124280844835975,
          -0.7084856824897063,
          1.2940719925638406,
          1.3883725849693922,
          -1.4999675734073792,
          -1.5570482851942902,
          -1.349761275032151,
          1.4488471760026187,
          -0.35242888480728524,
          2.2964313296795518,
          -0.5026466049941553,
          -1.7407603578263977,
          0.8987095928114365,
          -0.9605717646133486,
          -1.9544530420613735,
          -0.11057480590181805,
          -0.5820224508966013,
          1.0177299096668178,
          -1.0533154734482344,
          -0.2955482358631533,
          -1.1178890983019882,
          -0.8729133399199831,
          1.6930197330684553,
          -1.4085572541107982,
          -0.7696207939219283,
          -1.1528321094752807,
          0.8227720831940336,
          2.6206574141614865,
          -2.1601402362881577,
          0.8230538217782262,
          0.1540482063819723,
          1.188881265442298,
          -1.412056212300905,
          0.0045927045303107514,
          1.5268714584088512,
          -0.7574748531756668,
          0.5253191985201252,
          -0.7185703785067633,
          1.5334998677776444,
          0.28463919477284333,
          -0.7208273287760024,
          0.5069215950345374,
          0.24519087482467536,
          -0.061549281746454715,
          -1.9698291121616318,
          -0.29575631687560344,
          -1.4980709403457635,
          0.1823380223859322,
          0.7356697165657845,
          -1.2048064883977898,
          -0.4226840602956971,
          0.17684583038739413,
          -0.9859889814806736,
          -0.4818464109298942,
          -0.23513066437363495,
          -0.8163061201015447,
          0.10131426707869867,
          1.1711699293601858,
          -0.8576450485660422,
          -0.34952503702276455,
          -0.4687584668293646,
          0.971603378111854,
          0.7140419326194309,
          2.097600376291275,
          -1.2668312081894249,
          1.5143075166390583,
          0.20665296318028079,
          -1.6665622009528187,
          -0.9131017150669157,
          0.4896363745457838,
          -0.327491791644748,
          0.352250197225543,
          1.2312345592253773,
          0.8850452989683344,
          1.1207003735615513,
          0.21928808851024795,
          0.428652671748359,
          1.540270302284598,
          0.13889038463353362,
          -0.7238454055858894,
          0.4439935804565157,
          1.5173699549790023,
          1.8610768883695068,
          -0.14578225192931238,
          -0.32877649828735056,
          -0.507128933182429,
          0.702742931103773,
          0.40491720787557434,
          -0.3822888160202697,
          -1.0831297740506902,
          -1.8135514824209737,
          -0.24403701726307125,
          0.39519202029123657,
          0.6641580158363705,
          0.2820828673966256
         ],
         "yaxis": "y13"
        },
        {
         "line": {
          "color": "rgba(128, 128, 128, 1.0)",
          "dash": "solid",
          "shape": "linear",
          "width": 1.3
         },
         "marker": {
          "size": 2,
          "symbol": "circle"
         },
         "mode": "markers",
         "name": "D",
         "text": "",
         "type": "scatter",
         "x": [
          -0.4516907935643547,
          1.9112976940760542,
          0.016278191613616856,
          -1.5612510125262646,
          1.274813950179761,
          -1.6126805385966763,
          -2.2821957251904537,
          0.2089866829343159,
          -0.8429670959668712,
          -0.1760004882461311,
          -0.28365499381420106,
          -0.33009201915794384,
          1.073630642032631,
          -0.6400132697192715,
          -1.6190174132021233,
          -0.8066969102906225,
          -0.7976712506251615,
          -0.04786740123194217,
          0.0036016919413261912,
          0.9796573940454502,
          0.41890900093567296,
          -0.4651558301356142,
          0.3967128531212736,
          0.3647102645827066,
          2.3635634839500868,
          1.690659593065594,
          -0.12958185421349058,
          1.1451978672201555,
          -0.5445427235078433,
          0.23184905659203003,
          -0.661231661728734,
          -1.3468812161015062,
          -0.12597790256040473,
          -0.7661206376129771,
          0.6726122485131029,
          0.8890951709181736,
          0.07540556913641484,
          -0.5375263337691439,
          0.9102631893960552,
          -1.5706703434768574,
          -0.06651099933796677,
          1.9575820573574008,
          0.5984037057002887,
          -0.29279137068526834,
          0.8608585157666441,
          -0.5722289975411223,
          0.2167161010616931,
          -0.07729590112916514,
          -0.11686005672031406,
          0.5093443084130719,
          -0.9960610113310893,
          -1.7664698608708074,
          0.8343471753750914,
          1.4158114289369463,
          -1.3956435087990042,
          0.05322552854207203,
          -0.9523509773763503,
          -0.6663310368452604,
          -1.0650812212374816,
          -1.0140209385032657,
          0.11207349468470248,
          -0.5104156544641547,
          1.234706908081769,
          2.0556699493257153,
          0.535280282309938,
          0.22644574445244361,
          -1.0778958754538086,
          0.49053867687206737,
          -1.0182020417594757,
          0.2268549447273603,
          -1.2811762721246358,
          -1.9424396249265408,
          0.2047971602644152,
          0.6420282395857231,
          -1.051774222557932,
          -0.38613327141997705,
          0.6988444446067775,
          0.22176227835569992,
          -1.3850991419989536,
          3.170042786967088,
          0.9760411158462163,
          0.9843606399408203,
          0.21425644495420632,
          -0.1454975927098459,
          1.1360264375085198,
          1.4965769407068956,
          2.0212430515195114,
          0.6535613771609278,
          -0.20778690624197377,
          0.05133141205531726,
          1.5951808004389887,
          0.024862938608334953,
          -1.0341191496383413,
          -0.6309259671022158,
          1.8896170951490574,
          1.0544275134607926,
          -1.803050885322603,
          -0.3481509866491919,
          0.3364817028101488,
          -1.0504744495799234
         ],
         "xaxis": "x14",
         "y": [
          0.7359993751785493,
          -0.17557093116207317,
          -1.0787873828263503,
          0.6035518134908985,
          0.18167981687568469,
          -0.13124280844835975,
          -0.7084856824897063,
          1.2940719925638406,
          1.3883725849693922,
          -1.4999675734073792,
          -1.5570482851942902,
          -1.349761275032151,
          1.4488471760026187,
          -0.35242888480728524,
          2.2964313296795518,
          -0.5026466049941553,
          -1.7407603578263977,
          0.8987095928114365,
          -0.9605717646133486,
          -1.9544530420613735,
          -0.11057480590181805,
          -0.5820224508966013,
          1.0177299096668178,
          -1.0533154734482344,
          -0.2955482358631533,
          -1.1178890983019882,
          -0.8729133399199831,
          1.6930197330684553,
          -1.4085572541107982,
          -0.7696207939219283,
          -1.1528321094752807,
          0.8227720831940336,
          2.6206574141614865,
          -2.1601402362881577,
          0.8230538217782262,
          0.1540482063819723,
          1.188881265442298,
          -1.412056212300905,
          0.0045927045303107514,
          1.5268714584088512,
          -0.7574748531756668,
          0.5253191985201252,
          -0.7185703785067633,
          1.5334998677776444,
          0.28463919477284333,
          -0.7208273287760024,
          0.5069215950345374,
          0.24519087482467536,
          -0.061549281746454715,
          -1.9698291121616318,
          -0.29575631687560344,
          -1.4980709403457635,
          0.1823380223859322,
          0.7356697165657845,
          -1.2048064883977898,
          -0.4226840602956971,
          0.17684583038739413,
          -0.9859889814806736,
          -0.4818464109298942,
          -0.23513066437363495,
          -0.8163061201015447,
          0.10131426707869867,
          1.1711699293601858,
          -0.8576450485660422,
          -0.34952503702276455,
          -0.4687584668293646,
          0.971603378111854,
          0.7140419326194309,
          2.097600376291275,
          -1.2668312081894249,
          1.5143075166390583,
          0.20665296318028079,
          -1.6665622009528187,
          -0.9131017150669157,
          0.4896363745457838,
          -0.327491791644748,
          0.352250197225543,
          1.2312345592253773,
          0.8850452989683344,
          1.1207003735615513,
          0.21928808851024795,
          0.428652671748359,
          1.540270302284598,
          0.13889038463353362,
          -0.7238454055858894,
          0.4439935804565157,
          1.5173699549790023,
          1.8610768883695068,
          -0.14578225192931238,
          -0.32877649828735056,
          -0.507128933182429,
          0.702742931103773,
          0.40491720787557434,
          -0.3822888160202697,
          -1.0831297740506902,
          -1.8135514824209737,
          -0.24403701726307125,
          0.39519202029123657,
          0.6641580158363705,
          0.2820828673966256
         ],
         "yaxis": "y14"
        },
        {
         "line": {
          "color": "rgba(128, 128, 128, 1.0)",
          "dash": "solid",
          "shape": "linear",
          "width": 1.3
         },
         "marker": {
          "size": 2,
          "symbol": "circle"
         },
         "mode": "markers",
         "name": "D",
         "text": "",
         "type": "scatter",
         "x": [
          -1.0646017191384958,
          0.3321920056960001,
          0.6090565112004517,
          -0.6768570819529374,
          -1.071852230152099,
          -0.24855490387020623,
          -1.2222945542298218,
          -0.7322520382168999,
          2.007825808431446,
          -1.0809123274250112,
          -0.11768824980515039,
          -0.34824883740229345,
          -2.2102969564934667,
          0.9565145379687646,
          -0.12417288508694992,
          2.5823146845108242,
          -2.5287024344669775,
          0.4362370346281354,
          0.08121332970927614,
          -1.4921165100303635,
          1.6166003234227755,
          -1.4695942662227708,
          -0.664102522913956,
          -0.36173738383003123,
          1.467965131525319,
          -0.7817816097642503,
          0.09113405686085366,
          1.352614849916358,
          0.21845700235223287,
          -0.8666878726761752,
          1.1498623968326704,
          0.6270341179443294,
          -1.2159888452185579,
          -2.2367407252258773,
          -1.8241905902059923,
          0.1026918667007109,
          -0.5166984158018366,
          -0.8292277504276038,
          1.1139658929156906,
          0.2582461320386364,
          0.22881042527798265,
          1.347821385670737,
          -0.39667707539964553,
          -1.01167711089197,
          -1.6452610840325774,
          0.29628469907043403,
          0.8598128977845043,
          -0.5560416129710283,
          0.9754877209968313,
          -0.001531870216110855,
          -1.032713818364518,
          -0.9648044180053544,
          0.47594295770189793,
          1.0131918766811312,
          2.410196583079355,
          -1.0000870823338293,
          0.42597637653947035,
          0.3018209684464047,
          -0.6207139460615639,
          0.31005535132277434,
          -0.7429817744889307,
          -0.5925940932553534,
          -0.5284619483949309,
          -2.3237684125449984,
          -0.5358627855578586,
          1.0616177200023125,
          -0.9868376386319648,
          0.1293571158515564,
          -0.6002669440068523,
          0.19344541722782177,
          -0.35028462645634595,
          -0.12053593614707578,
          -0.7195975566273206,
          -0.9420064603175615,
          -0.7368035591177027,
          1.0497050421378742,
          0.27064584782110357,
          -0.09930314779047857,
          -1.448750204622501,
          1.5184863376584545,
          0.13878103585449492,
          0.199580322535217,
          -0.7704516727675462,
          0.8997656223843715,
          0.7230120206437123,
          -0.1574469294514196,
          -0.010010105070724269,
          -0.7093881759296811,
          -0.7344249093563884,
          -0.33452298887329696,
          0.0861567927114379,
          -0.1515132843737287,
          -0.27696493836830705,
          -0.9487310945588182,
          -0.0260201937881905,
          1.6195850610439397,
          -1.0839434795958491,
          -1.596912397493733,
          0.32076136805352334,
          -0.4108168750574777
         ],
         "xaxis": "x15",
         "y": [
          0.7359993751785493,
          -0.17557093116207317,
          -1.0787873828263503,
          0.6035518134908985,
          0.18167981687568469,
          -0.13124280844835975,
          -0.7084856824897063,
          1.2940719925638406,
          1.3883725849693922,
          -1.4999675734073792,
          -1.5570482851942902,
          -1.349761275032151,
          1.4488471760026187,
          -0.35242888480728524,
          2.2964313296795518,
          -0.5026466049941553,
          -1.7407603578263977,
          0.8987095928114365,
          -0.9605717646133486,
          -1.9544530420613735,
          -0.11057480590181805,
          -0.5820224508966013,
          1.0177299096668178,
          -1.0533154734482344,
          -0.2955482358631533,
          -1.1178890983019882,
          -0.8729133399199831,
          1.6930197330684553,
          -1.4085572541107982,
          -0.7696207939219283,
          -1.1528321094752807,
          0.8227720831940336,
          2.6206574141614865,
          -2.1601402362881577,
          0.8230538217782262,
          0.1540482063819723,
          1.188881265442298,
          -1.412056212300905,
          0.0045927045303107514,
          1.5268714584088512,
          -0.7574748531756668,
          0.5253191985201252,
          -0.7185703785067633,
          1.5334998677776444,
          0.28463919477284333,
          -0.7208273287760024,
          0.5069215950345374,
          0.24519087482467536,
          -0.061549281746454715,
          -1.9698291121616318,
          -0.29575631687560344,
          -1.4980709403457635,
          0.1823380223859322,
          0.7356697165657845,
          -1.2048064883977898,
          -0.4226840602956971,
          0.17684583038739413,
          -0.9859889814806736,
          -0.4818464109298942,
          -0.23513066437363495,
          -0.8163061201015447,
          0.10131426707869867,
          1.1711699293601858,
          -0.8576450485660422,
          -0.34952503702276455,
          -0.4687584668293646,
          0.971603378111854,
          0.7140419326194309,
          2.097600376291275,
          -1.2668312081894249,
          1.5143075166390583,
          0.20665296318028079,
          -1.6665622009528187,
          -0.9131017150669157,
          0.4896363745457838,
          -0.327491791644748,
          0.352250197225543,
          1.2312345592253773,
          0.8850452989683344,
          1.1207003735615513,
          0.21928808851024795,
          0.428652671748359,
          1.540270302284598,
          0.13889038463353362,
          -0.7238454055858894,
          0.4439935804565157,
          1.5173699549790023,
          1.8610768883695068,
          -0.14578225192931238,
          -0.32877649828735056,
          -0.507128933182429,
          0.702742931103773,
          0.40491720787557434,
          -0.3822888160202697,
          -1.0831297740506902,
          -1.8135514824209737,
          -0.24403701726307125,
          0.39519202029123657,
          0.6641580158363705,
          0.2820828673966256
         ],
         "yaxis": "y15"
        },
        {
         "histfunc": "count",
         "histnorm": "",
         "marker": {
          "color": "rgba(128, 0, 128, 1.0)",
          "line": {
           "color": "#4D5663",
           "width": 1.3
          }
         },
         "name": "D",
         "nbinsx": 10,
         "opacity": 0.8,
         "orientation": "v",
         "type": "histogram",
         "x": [
          0.7359993751785493,
          -0.17557093116207317,
          -1.0787873828263503,
          0.6035518134908985,
          0.18167981687568469,
          -0.13124280844835975,
          -0.7084856824897063,
          1.2940719925638406,
          1.3883725849693922,
          -1.4999675734073792,
          -1.5570482851942902,
          -1.349761275032151,
          1.4488471760026187,
          -0.35242888480728524,
          2.2964313296795518,
          -0.5026466049941553,
          -1.7407603578263977,
          0.8987095928114365,
          -0.9605717646133486,
          -1.9544530420613735,
          -0.11057480590181805,
          -0.5820224508966013,
          1.0177299096668178,
          -1.0533154734482344,
          -0.2955482358631533,
          -1.1178890983019882,
          -0.8729133399199831,
          1.6930197330684553,
          -1.4085572541107982,
          -0.7696207939219283,
          -1.1528321094752807,
          0.8227720831940336,
          2.6206574141614865,
          -2.1601402362881577,
          0.8230538217782262,
          0.1540482063819723,
          1.188881265442298,
          -1.412056212300905,
          0.0045927045303107514,
          1.5268714584088512,
          -0.7574748531756668,
          0.5253191985201252,
          -0.7185703785067633,
          1.5334998677776444,
          0.28463919477284333,
          -0.7208273287760024,
          0.5069215950345374,
          0.24519087482467536,
          -0.061549281746454715,
          -1.9698291121616318,
          -0.29575631687560344,
          -1.4980709403457635,
          0.1823380223859322,
          0.7356697165657845,
          -1.2048064883977898,
          -0.4226840602956971,
          0.17684583038739413,
          -0.9859889814806736,
          -0.4818464109298942,
          -0.23513066437363495,
          -0.8163061201015447,
          0.10131426707869867,
          1.1711699293601858,
          -0.8576450485660422,
          -0.34952503702276455,
          -0.4687584668293646,
          0.971603378111854,
          0.7140419326194309,
          2.097600376291275,
          -1.2668312081894249,
          1.5143075166390583,
          0.20665296318028079,
          -1.6665622009528187,
          -0.9131017150669157,
          0.4896363745457838,
          -0.327491791644748,
          0.352250197225543,
          1.2312345592253773,
          0.8850452989683344,
          1.1207003735615513,
          0.21928808851024795,
          0.428652671748359,
          1.540270302284598,
          0.13889038463353362,
          -0.7238454055858894,
          0.4439935804565157,
          1.5173699549790023,
          1.8610768883695068,
          -0.14578225192931238,
          -0.32877649828735056,
          -0.507128933182429,
          0.702742931103773,
          0.40491720787557434,
          -0.3822888160202697,
          -1.0831297740506902,
          -1.8135514824209737,
          -0.24403701726307125,
          0.39519202029123657,
          0.6641580158363705,
          0.2820828673966256
         ],
         "xaxis": "x16",
         "yaxis": "y16"
        }
       ],
       "layout": {
        "bargap": 0.02,
        "legend": {
         "bgcolor": "#F5F6F9",
         "font": {
          "color": "#4D5663"
         }
        },
        "paper_bgcolor": "#F5F6F9",
        "plot_bgcolor": "#F5F6F9",
        "showlegend": false,
        "template": {
         "data": {
          "bar": [
           {
            "error_x": {
             "color": "#2a3f5f"
            },
            "error_y": {
             "color": "#2a3f5f"
            },
            "marker": {
             "line": {
              "color": "#E5ECF6",
              "width": 0.5
             },
             "pattern": {
              "fillmode": "overlay",
              "size": 10,
              "solidity": 0.2
             }
            },
            "type": "bar"
           }
          ],
          "barpolar": [
           {
            "marker": {
             "line": {
              "color": "#E5ECF6",
              "width": 0.5
             },
             "pattern": {
              "fillmode": "overlay",
              "size": 10,
              "solidity": 0.2
             }
            },
            "type": "barpolar"
           }
          ],
          "carpet": [
           {
            "aaxis": {
             "endlinecolor": "#2a3f5f",
             "gridcolor": "white",
             "linecolor": "white",
             "minorgridcolor": "white",
             "startlinecolor": "#2a3f5f"
            },
            "baxis": {
             "endlinecolor": "#2a3f5f",
             "gridcolor": "white",
             "linecolor": "white",
             "minorgridcolor": "white",
             "startlinecolor": "#2a3f5f"
            },
            "type": "carpet"
           }
          ],
          "choropleth": [
           {
            "colorbar": {
             "outlinewidth": 0,
             "ticks": ""
            },
            "type": "choropleth"
           }
          ],
          "contour": [
           {
            "colorbar": {
             "outlinewidth": 0,
             "ticks": ""
            },
            "colorscale": [
             [
              0,
              "#0d0887"
             ],
             [
              0.1111111111111111,
              "#46039f"
             ],
             [
              0.2222222222222222,
              "#7201a8"
             ],
             [
              0.3333333333333333,
              "#9c179e"
             ],
             [
              0.4444444444444444,
              "#bd3786"
             ],
             [
              0.5555555555555556,
              "#d8576b"
             ],
             [
              0.6666666666666666,
              "#ed7953"
             ],
             [
              0.7777777777777778,
              "#fb9f3a"
             ],
             [
              0.8888888888888888,
              "#fdca26"
             ],
             [
              1,
              "#f0f921"
             ]
            ],
            "type": "contour"
           }
          ],
          "contourcarpet": [
           {
            "colorbar": {
             "outlinewidth": 0,
             "ticks": ""
            },
            "type": "contourcarpet"
           }
          ],
          "heatmap": [
           {
            "colorbar": {
             "outlinewidth": 0,
             "ticks": ""
            },
            "colorscale": [
             [
              0,
              "#0d0887"
             ],
             [
              0.1111111111111111,
              "#46039f"
             ],
             [
              0.2222222222222222,
              "#7201a8"
             ],
             [
              0.3333333333333333,
              "#9c179e"
             ],
             [
              0.4444444444444444,
              "#bd3786"
             ],
             [
              0.5555555555555556,
              "#d8576b"
             ],
             [
              0.6666666666666666,
              "#ed7953"
             ],
             [
              0.7777777777777778,
              "#fb9f3a"
             ],
             [
              0.8888888888888888,
              "#fdca26"
             ],
             [
              1,
              "#f0f921"
             ]
            ],
            "type": "heatmap"
           }
          ],
          "heatmapgl": [
           {
            "colorbar": {
             "outlinewidth": 0,
             "ticks": ""
            },
            "colorscale": [
             [
              0,
              "#0d0887"
             ],
             [
              0.1111111111111111,
              "#46039f"
             ],
             [
              0.2222222222222222,
              "#7201a8"
             ],
             [
              0.3333333333333333,
              "#9c179e"
             ],
             [
              0.4444444444444444,
              "#bd3786"
             ],
             [
              0.5555555555555556,
              "#d8576b"
             ],
             [
              0.6666666666666666,
              "#ed7953"
             ],
             [
              0.7777777777777778,
              "#fb9f3a"
             ],
             [
              0.8888888888888888,
              "#fdca26"
             ],
             [
              1,
              "#f0f921"
             ]
            ],
            "type": "heatmapgl"
           }
          ],
          "histogram": [
           {
            "marker": {
             "pattern": {
              "fillmode": "overlay",
              "size": 10,
              "solidity": 0.2
             }
            },
            "type": "histogram"
           }
          ],
          "histogram2d": [
           {
            "colorbar": {
             "outlinewidth": 0,
             "ticks": ""
            },
            "colorscale": [
             [
              0,
              "#0d0887"
             ],
             [
              0.1111111111111111,
              "#46039f"
             ],
             [
              0.2222222222222222,
              "#7201a8"
             ],
             [
              0.3333333333333333,
              "#9c179e"
             ],
             [
              0.4444444444444444,
              "#bd3786"
             ],
             [
              0.5555555555555556,
              "#d8576b"
             ],
             [
              0.6666666666666666,
              "#ed7953"
             ],
             [
              0.7777777777777778,
              "#fb9f3a"
             ],
             [
              0.8888888888888888,
              "#fdca26"
             ],
             [
              1,
              "#f0f921"
             ]
            ],
            "type": "histogram2d"
           }
          ],
          "histogram2dcontour": [
           {
            "colorbar": {
             "outlinewidth": 0,
             "ticks": ""
            },
            "colorscale": [
             [
              0,
              "#0d0887"
             ],
             [
              0.1111111111111111,
              "#46039f"
             ],
             [
              0.2222222222222222,
              "#7201a8"
             ],
             [
              0.3333333333333333,
              "#9c179e"
             ],
             [
              0.4444444444444444,
              "#bd3786"
             ],
             [
              0.5555555555555556,
              "#d8576b"
             ],
             [
              0.6666666666666666,
              "#ed7953"
             ],
             [
              0.7777777777777778,
              "#fb9f3a"
             ],
             [
              0.8888888888888888,
              "#fdca26"
             ],
             [
              1,
              "#f0f921"
             ]
            ],
            "type": "histogram2dcontour"
           }
          ],
          "mesh3d": [
           {
            "colorbar": {
             "outlinewidth": 0,
             "ticks": ""
            },
            "type": "mesh3d"
           }
          ],
          "parcoords": [
           {
            "line": {
             "colorbar": {
              "outlinewidth": 0,
              "ticks": ""
             }
            },
            "type": "parcoords"
           }
          ],
          "pie": [
           {
            "automargin": true,
            "type": "pie"
           }
          ],
          "scatter": [
           {
            "fillpattern": {
             "fillmode": "overlay",
             "size": 10,
             "solidity": 0.2
            },
            "type": "scatter"
           }
          ],
          "scatter3d": [
           {
            "line": {
             "colorbar": {
              "outlinewidth": 0,
              "ticks": ""
             }
            },
            "marker": {
             "colorbar": {
              "outlinewidth": 0,
              "ticks": ""
             }
            },
            "type": "scatter3d"
           }
          ],
          "scattercarpet": [
           {
            "marker": {
             "colorbar": {
              "outlinewidth": 0,
              "ticks": ""
             }
            },
            "type": "scattercarpet"
           }
          ],
          "scattergeo": [
           {
            "marker": {
             "colorbar": {
              "outlinewidth": 0,
              "ticks": ""
             }
            },
            "type": "scattergeo"
           }
          ],
          "scattergl": [
           {
            "marker": {
             "colorbar": {
              "outlinewidth": 0,
              "ticks": ""
             }
            },
            "type": "scattergl"
           }
          ],
          "scattermapbox": [
           {
            "marker": {
             "colorbar": {
              "outlinewidth": 0,
              "ticks": ""
             }
            },
            "type": "scattermapbox"
           }
          ],
          "scatterpolar": [
           {
            "marker": {
             "colorbar": {
              "outlinewidth": 0,
              "ticks": ""
             }
            },
            "type": "scatterpolar"
           }
          ],
          "scatterpolargl": [
           {
            "marker": {
             "colorbar": {
              "outlinewidth": 0,
              "ticks": ""
             }
            },
            "type": "scatterpolargl"
           }
          ],
          "scatterternary": [
           {
            "marker": {
             "colorbar": {
              "outlinewidth": 0,
              "ticks": ""
             }
            },
            "type": "scatterternary"
           }
          ],
          "surface": [
           {
            "colorbar": {
             "outlinewidth": 0,
             "ticks": ""
            },
            "colorscale": [
             [
              0,
              "#0d0887"
             ],
             [
              0.1111111111111111,
              "#46039f"
             ],
             [
              0.2222222222222222,
              "#7201a8"
             ],
             [
              0.3333333333333333,
              "#9c179e"
             ],
             [
              0.4444444444444444,
              "#bd3786"
             ],
             [
              0.5555555555555556,
              "#d8576b"
             ],
             [
              0.6666666666666666,
              "#ed7953"
             ],
             [
              0.7777777777777778,
              "#fb9f3a"
             ],
             [
              0.8888888888888888,
              "#fdca26"
             ],
             [
              1,
              "#f0f921"
             ]
            ],
            "type": "surface"
           }
          ],
          "table": [
           {
            "cells": {
             "fill": {
              "color": "#EBF0F8"
             },
             "line": {
              "color": "white"
             }
            },
            "header": {
             "fill": {
              "color": "#C8D4E3"
             },
             "line": {
              "color": "white"
             }
            },
            "type": "table"
           }
          ]
         },
         "layout": {
          "annotationdefaults": {
           "arrowcolor": "#2a3f5f",
           "arrowhead": 0,
           "arrowwidth": 1
          },
          "autotypenumbers": "strict",
          "coloraxis": {
           "colorbar": {
            "outlinewidth": 0,
            "ticks": ""
           }
          },
          "colorscale": {
           "diverging": [
            [
             0,
             "#8e0152"
            ],
            [
             0.1,
             "#c51b7d"
            ],
            [
             0.2,
             "#de77ae"
            ],
            [
             0.3,
             "#f1b6da"
            ],
            [
             0.4,
             "#fde0ef"
            ],
            [
             0.5,
             "#f7f7f7"
            ],
            [
             0.6,
             "#e6f5d0"
            ],
            [
             0.7,
             "#b8e186"
            ],
            [
             0.8,
             "#7fbc41"
            ],
            [
             0.9,
             "#4d9221"
            ],
            [
             1,
             "#276419"
            ]
           ],
           "sequential": [
            [
             0,
             "#0d0887"
            ],
            [
             0.1111111111111111,
             "#46039f"
            ],
            [
             0.2222222222222222,
             "#7201a8"
            ],
            [
             0.3333333333333333,
             "#9c179e"
            ],
            [
             0.4444444444444444,
             "#bd3786"
            ],
            [
             0.5555555555555556,
             "#d8576b"
            ],
            [
             0.6666666666666666,
             "#ed7953"
            ],
            [
             0.7777777777777778,
             "#fb9f3a"
            ],
            [
             0.8888888888888888,
             "#fdca26"
            ],
            [
             1,
             "#f0f921"
            ]
           ],
           "sequentialminus": [
            [
             0,
             "#0d0887"
            ],
            [
             0.1111111111111111,
             "#46039f"
            ],
            [
             0.2222222222222222,
             "#7201a8"
            ],
            [
             0.3333333333333333,
             "#9c179e"
            ],
            [
             0.4444444444444444,
             "#bd3786"
            ],
            [
             0.5555555555555556,
             "#d8576b"
            ],
            [
             0.6666666666666666,
             "#ed7953"
            ],
            [
             0.7777777777777778,
             "#fb9f3a"
            ],
            [
             0.8888888888888888,
             "#fdca26"
            ],
            [
             1,
             "#f0f921"
            ]
           ]
          },
          "colorway": [
           "#636efa",
           "#EF553B",
           "#00cc96",
           "#ab63fa",
           "#FFA15A",
           "#19d3f3",
           "#FF6692",
           "#B6E880",
           "#FF97FF",
           "#FECB52"
          ],
          "font": {
           "color": "#2a3f5f"
          },
          "geo": {
           "bgcolor": "white",
           "lakecolor": "white",
           "landcolor": "#E5ECF6",
           "showlakes": true,
           "showland": true,
           "subunitcolor": "white"
          },
          "hoverlabel": {
           "align": "left"
          },
          "hovermode": "closest",
          "mapbox": {
           "style": "light"
          },
          "paper_bgcolor": "white",
          "plot_bgcolor": "#E5ECF6",
          "polar": {
           "angularaxis": {
            "gridcolor": "white",
            "linecolor": "white",
            "ticks": ""
           },
           "bgcolor": "#E5ECF6",
           "radialaxis": {
            "gridcolor": "white",
            "linecolor": "white",
            "ticks": ""
           }
          },
          "scene": {
           "xaxis": {
            "backgroundcolor": "#E5ECF6",
            "gridcolor": "white",
            "gridwidth": 2,
            "linecolor": "white",
            "showbackground": true,
            "ticks": "",
            "zerolinecolor": "white"
           },
           "yaxis": {
            "backgroundcolor": "#E5ECF6",
            "gridcolor": "white",
            "gridwidth": 2,
            "linecolor": "white",
            "showbackground": true,
            "ticks": "",
            "zerolinecolor": "white"
           },
           "zaxis": {
            "backgroundcolor": "#E5ECF6",
            "gridcolor": "white",
            "gridwidth": 2,
            "linecolor": "white",
            "showbackground": true,
            "ticks": "",
            "zerolinecolor": "white"
           }
          },
          "shapedefaults": {
           "line": {
            "color": "#2a3f5f"
           }
          },
          "ternary": {
           "aaxis": {
            "gridcolor": "white",
            "linecolor": "white",
            "ticks": ""
           },
           "baxis": {
            "gridcolor": "white",
            "linecolor": "white",
            "ticks": ""
           },
           "bgcolor": "#E5ECF6",
           "caxis": {
            "gridcolor": "white",
            "linecolor": "white",
            "ticks": ""
           }
          },
          "title": {
           "x": 0.05
          },
          "xaxis": {
           "automargin": true,
           "gridcolor": "white",
           "linecolor": "white",
           "ticks": "",
           "title": {
            "standoff": 15
           },
           "zerolinecolor": "white",
           "zerolinewidth": 2
          },
          "yaxis": {
           "automargin": true,
           "gridcolor": "white",
           "linecolor": "white",
           "ticks": "",
           "title": {
            "standoff": 15
           },
           "zerolinecolor": "white",
           "zerolinewidth": 2
          }
         }
        },
        "title": {
         "font": {
          "color": "#4D5663"
         }
        },
        "xaxis": {
         "anchor": "y",
         "domain": [
          0,
          0.2125
         ],
         "gridcolor": "#E1E5ED",
         "showgrid": false,
         "tickfont": {
          "color": "#4D5663"
         },
         "title": {
          "font": {
           "color": "#4D5663"
          },
          "text": ""
         },
         "zerolinecolor": "#E1E5ED"
        },
        "xaxis10": {
         "anchor": "y10",
         "domain": [
          0.2625,
          0.475
         ],
         "gridcolor": "#E1E5ED",
         "showgrid": false,
         "tickfont": {
          "color": "#4D5663"
         },
         "title": {
          "font": {
           "color": "#4D5663"
          },
          "text": ""
         },
         "zerolinecolor": "#E1E5ED"
        },
        "xaxis11": {
         "anchor": "y11",
         "domain": [
          0.525,
          0.7375
         ],
         "gridcolor": "#E1E5ED",
         "showgrid": false,
         "tickfont": {
          "color": "#4D5663"
         },
         "title": {
          "font": {
           "color": "#4D5663"
          },
          "text": ""
         },
         "zerolinecolor": "#E1E5ED"
        },
        "xaxis12": {
         "anchor": "y12",
         "domain": [
          0.7875,
          1
         ],
         "gridcolor": "#E1E5ED",
         "showgrid": false,
         "tickfont": {
          "color": "#4D5663"
         },
         "title": {
          "font": {
           "color": "#4D5663"
          },
          "text": ""
         },
         "zerolinecolor": "#E1E5ED"
        },
        "xaxis13": {
         "anchor": "y13",
         "domain": [
          0,
          0.2125
         ],
         "gridcolor": "#E1E5ED",
         "showgrid": false,
         "tickfont": {
          "color": "#4D5663"
         },
         "title": {
          "font": {
           "color": "#4D5663"
          },
          "text": ""
         },
         "zerolinecolor": "#E1E5ED"
        },
        "xaxis14": {
         "anchor": "y14",
         "domain": [
          0.2625,
          0.475
         ],
         "gridcolor": "#E1E5ED",
         "showgrid": false,
         "tickfont": {
          "color": "#4D5663"
         },
         "title": {
          "font": {
           "color": "#4D5663"
          },
          "text": ""
         },
         "zerolinecolor": "#E1E5ED"
        },
        "xaxis15": {
         "anchor": "y15",
         "domain": [
          0.525,
          0.7375
         ],
         "gridcolor": "#E1E5ED",
         "showgrid": false,
         "tickfont": {
          "color": "#4D5663"
         },
         "title": {
          "font": {
           "color": "#4D5663"
          },
          "text": ""
         },
         "zerolinecolor": "#E1E5ED"
        },
        "xaxis16": {
         "anchor": "y16",
         "domain": [
          0.7875,
          1
         ],
         "gridcolor": "#E1E5ED",
         "showgrid": false,
         "tickfont": {
          "color": "#4D5663"
         },
         "title": {
          "font": {
           "color": "#4D5663"
          },
          "text": ""
         },
         "zerolinecolor": "#E1E5ED"
        },
        "xaxis2": {
         "anchor": "y2",
         "domain": [
          0.2625,
          0.475
         ],
         "gridcolor": "#E1E5ED",
         "showgrid": false,
         "tickfont": {
          "color": "#4D5663"
         },
         "title": {
          "font": {
           "color": "#4D5663"
          },
          "text": ""
         },
         "zerolinecolor": "#E1E5ED"
        },
        "xaxis3": {
         "anchor": "y3",
         "domain": [
          0.525,
          0.7375
         ],
         "gridcolor": "#E1E5ED",
         "showgrid": false,
         "tickfont": {
          "color": "#4D5663"
         },
         "title": {
          "font": {
           "color": "#4D5663"
          },
          "text": ""
         },
         "zerolinecolor": "#E1E5ED"
        },
        "xaxis4": {
         "anchor": "y4",
         "domain": [
          0.7875,
          1
         ],
         "gridcolor": "#E1E5ED",
         "showgrid": false,
         "tickfont": {
          "color": "#4D5663"
         },
         "title": {
          "font": {
           "color": "#4D5663"
          },
          "text": ""
         },
         "zerolinecolor": "#E1E5ED"
        },
        "xaxis5": {
         "anchor": "y5",
         "domain": [
          0,
          0.2125
         ],
         "gridcolor": "#E1E5ED",
         "showgrid": false,
         "tickfont": {
          "color": "#4D5663"
         },
         "title": {
          "font": {
           "color": "#4D5663"
          },
          "text": ""
         },
         "zerolinecolor": "#E1E5ED"
        },
        "xaxis6": {
         "anchor": "y6",
         "domain": [
          0.2625,
          0.475
         ],
         "gridcolor": "#E1E5ED",
         "showgrid": false,
         "tickfont": {
          "color": "#4D5663"
         },
         "title": {
          "font": {
           "color": "#4D5663"
          },
          "text": ""
         },
         "zerolinecolor": "#E1E5ED"
        },
        "xaxis7": {
         "anchor": "y7",
         "domain": [
          0.525,
          0.7375
         ],
         "gridcolor": "#E1E5ED",
         "showgrid": false,
         "tickfont": {
          "color": "#4D5663"
         },
         "title": {
          "font": {
           "color": "#4D5663"
          },
          "text": ""
         },
         "zerolinecolor": "#E1E5ED"
        },
        "xaxis8": {
         "anchor": "y8",
         "domain": [
          0.7875,
          1
         ],
         "gridcolor": "#E1E5ED",
         "showgrid": false,
         "tickfont": {
          "color": "#4D5663"
         },
         "title": {
          "font": {
           "color": "#4D5663"
          },
          "text": ""
         },
         "zerolinecolor": "#E1E5ED"
        },
        "xaxis9": {
         "anchor": "y9",
         "domain": [
          0,
          0.2125
         ],
         "gridcolor": "#E1E5ED",
         "showgrid": false,
         "tickfont": {
          "color": "#4D5663"
         },
         "title": {
          "font": {
           "color": "#4D5663"
          },
          "text": ""
         },
         "zerolinecolor": "#E1E5ED"
        },
        "yaxis": {
         "anchor": "x",
         "domain": [
          0.8025,
          1
         ],
         "gridcolor": "#E1E5ED",
         "showgrid": false,
         "tickfont": {
          "color": "#4D5663"
         },
         "title": {
          "font": {
           "color": "#4D5663"
          },
          "text": ""
         },
         "zerolinecolor": "#E1E5ED"
        },
        "yaxis10": {
         "anchor": "x10",
         "domain": [
          0.2675,
          0.465
         ],
         "gridcolor": "#E1E5ED",
         "showgrid": false,
         "tickfont": {
          "color": "#4D5663"
         },
         "title": {
          "font": {
           "color": "#4D5663"
          },
          "text": ""
         },
         "zerolinecolor": "#E1E5ED"
        },
        "yaxis11": {
         "anchor": "x11",
         "domain": [
          0.2675,
          0.465
         ],
         "gridcolor": "#E1E5ED",
         "showgrid": false,
         "tickfont": {
          "color": "#4D5663"
         },
         "title": {
          "font": {
           "color": "#4D5663"
          },
          "text": ""
         },
         "zerolinecolor": "#E1E5ED"
        },
        "yaxis12": {
         "anchor": "x12",
         "domain": [
          0.2675,
          0.465
         ],
         "gridcolor": "#E1E5ED",
         "showgrid": false,
         "tickfont": {
          "color": "#4D5663"
         },
         "title": {
          "font": {
           "color": "#4D5663"
          },
          "text": ""
         },
         "zerolinecolor": "#E1E5ED"
        },
        "yaxis13": {
         "anchor": "x13",
         "domain": [
          0,
          0.1975
         ],
         "gridcolor": "#E1E5ED",
         "showgrid": false,
         "tickfont": {
          "color": "#4D5663"
         },
         "title": {
          "font": {
           "color": "#4D5663"
          },
          "text": ""
         },
         "zerolinecolor": "#E1E5ED"
        },
        "yaxis14": {
         "anchor": "x14",
         "domain": [
          0,
          0.1975
         ],
         "gridcolor": "#E1E5ED",
         "showgrid": false,
         "tickfont": {
          "color": "#4D5663"
         },
         "title": {
          "font": {
           "color": "#4D5663"
          },
          "text": ""
         },
         "zerolinecolor": "#E1E5ED"
        },
        "yaxis15": {
         "anchor": "x15",
         "domain": [
          0,
          0.1975
         ],
         "gridcolor": "#E1E5ED",
         "showgrid": false,
         "tickfont": {
          "color": "#4D5663"
         },
         "title": {
          "font": {
           "color": "#4D5663"
          },
          "text": ""
         },
         "zerolinecolor": "#E1E5ED"
        },
        "yaxis16": {
         "anchor": "x16",
         "domain": [
          0,
          0.1975
         ],
         "gridcolor": "#E1E5ED",
         "showgrid": false,
         "tickfont": {
          "color": "#4D5663"
         },
         "title": {
          "font": {
           "color": "#4D5663"
          },
          "text": ""
         },
         "zerolinecolor": "#E1E5ED"
        },
        "yaxis2": {
         "anchor": "x2",
         "domain": [
          0.8025,
          1
         ],
         "gridcolor": "#E1E5ED",
         "showgrid": false,
         "tickfont": {
          "color": "#4D5663"
         },
         "title": {
          "font": {
           "color": "#4D5663"
          },
          "text": ""
         },
         "zerolinecolor": "#E1E5ED"
        },
        "yaxis3": {
         "anchor": "x3",
         "domain": [
          0.8025,
          1
         ],
         "gridcolor": "#E1E5ED",
         "showgrid": false,
         "tickfont": {
          "color": "#4D5663"
         },
         "title": {
          "font": {
           "color": "#4D5663"
          },
          "text": ""
         },
         "zerolinecolor": "#E1E5ED"
        },
        "yaxis4": {
         "anchor": "x4",
         "domain": [
          0.8025,
          1
         ],
         "gridcolor": "#E1E5ED",
         "showgrid": false,
         "tickfont": {
          "color": "#4D5663"
         },
         "title": {
          "font": {
           "color": "#4D5663"
          },
          "text": ""
         },
         "zerolinecolor": "#E1E5ED"
        },
        "yaxis5": {
         "anchor": "x5",
         "domain": [
          0.535,
          0.7325
         ],
         "gridcolor": "#E1E5ED",
         "showgrid": false,
         "tickfont": {
          "color": "#4D5663"
         },
         "title": {
          "font": {
           "color": "#4D5663"
          },
          "text": ""
         },
         "zerolinecolor": "#E1E5ED"
        },
        "yaxis6": {
         "anchor": "x6",
         "domain": [
          0.535,
          0.7325
         ],
         "gridcolor": "#E1E5ED",
         "showgrid": false,
         "tickfont": {
          "color": "#4D5663"
         },
         "title": {
          "font": {
           "color": "#4D5663"
          },
          "text": ""
         },
         "zerolinecolor": "#E1E5ED"
        },
        "yaxis7": {
         "anchor": "x7",
         "domain": [
          0.535,
          0.7325
         ],
         "gridcolor": "#E1E5ED",
         "showgrid": false,
         "tickfont": {
          "color": "#4D5663"
         },
         "title": {
          "font": {
           "color": "#4D5663"
          },
          "text": ""
         },
         "zerolinecolor": "#E1E5ED"
        },
        "yaxis8": {
         "anchor": "x8",
         "domain": [
          0.535,
          0.7325
         ],
         "gridcolor": "#E1E5ED",
         "showgrid": false,
         "tickfont": {
          "color": "#4D5663"
         },
         "title": {
          "font": {
           "color": "#4D5663"
          },
          "text": ""
         },
         "zerolinecolor": "#E1E5ED"
        },
        "yaxis9": {
         "anchor": "x9",
         "domain": [
          0.2675,
          0.465
         ],
         "gridcolor": "#E1E5ED",
         "showgrid": false,
         "tickfont": {
          "color": "#4D5663"
         },
         "title": {
          "font": {
           "color": "#4D5663"
          },
          "text": ""
         },
         "zerolinecolor": "#E1E5ED"
        }
       }
      },
      "text/html": [
       "<div>                            <div id=\"84e74a7b-8a03-4af8-a386-33260e0b8b9d\" class=\"plotly-graph-div\" style=\"height:525px; width:100%;\"></div>            <script type=\"text/javascript\">                require([\"plotly\"], function(Plotly) {                    window.PLOTLYENV=window.PLOTLYENV || {};\n",
       "                    window.PLOTLYENV.BASE_URL='https://plot.ly';                                    if (document.getElementById(\"84e74a7b-8a03-4af8-a386-33260e0b8b9d\")) {                    Plotly.newPlot(                        \"84e74a7b-8a03-4af8-a386-33260e0b8b9d\",                        [{\"histfunc\":\"count\",\"histnorm\":\"\",\"marker\":{\"color\":\"rgba(255, 153, 51, 1.0)\",\"line\":{\"color\":\"#4D5663\",\"width\":1.3}},\"name\":\"A\",\"nbinsx\":10,\"opacity\":0.8,\"orientation\":\"v\",\"x\":[0.3088324856892706,-0.3181018657763986,-0.3255636066105028,-0.19236064939448894,-0.31705847833897705,-0.3637990623796339,1.7381070856119816,-1.6365618661350712,1.207602245302151,0.5795086591513585,0.3870112639907086,-0.10402522952978051,0.39876508426736096,0.058877024328745,2.046305095259285,-0.06205058952363449,-0.5088513253753721,1.7060136114179525,-0.832794298194402,0.740658198328443,0.9254554710965845,-0.5070103677145493,-1.4570107579482992,-0.24365430134011537,1.1676646218937359,-0.311995182369368,0.7109016891661052,-1.0364988054373834,-1.09996944787571,-0.12594993434748722,1.7722816783788544,-0.3997032204298883,-0.9323688783891173,-0.8890050506577837,-1.2253267838890964,-0.9006985743648436,-0.5349749662875761,0.8166480990698793,-0.7104178965845112,-0.3457486752396018,2.959469692485582,0.23534877803905693,0.966630327587809,2.4381924323134023,-0.30413100985165104,-0.05444955774883802,0.878998226071373,-1.1152616224785363,-0.6218799711578149,-1.4821637745829594,-0.9646987993706798,-0.18625141720567243,1.082688995662202,0.1551996500811465,0.6927369140060691,-0.4943669432520142,0.4662627587205149,1.1358562871588116,0.013461325519304344,0.7146192694121911,0.49813190363407545,-0.36725654791870793,-1.3353814443706784,2.5521770370452495,-1.4182599967967349,-0.43289339497198265,1.0100491406976808,0.016329224880536244,1.3886393871899374,0.9613206589194162,-1.5355067481574007,1.184697490716947,2.3216104010354237,-2.0445540506204263,-0.5871771419671978,1.2734450444863539,1.4195058858709837,0.8390940119444251,0.13116077472428445,-0.06590812174109323,-0.6968929236770744,-1.1389255549844535,-0.04754382317161936,-0.2248628873615001,0.7753734423955779,-0.18074714231253064,-0.8355014732267162,0.8467980360783912,0.38239269938737475,-0.9905196586110199,0.9499548630576228,-0.6045266692700999,1.261098538014877,-1.9887055698509426,0.8438845678507609,-0.5886865644903774,0.8100195951040792,-1.1556415592736307,-0.07990340462631895,-0.6901560499125757],\"xaxis\":\"x\",\"yaxis\":\"y\",\"type\":\"histogram\"},{\"line\":{\"color\":\"rgba(128, 128, 128, 1.0)\",\"dash\":\"solid\",\"shape\":\"linear\",\"width\":1.3},\"marker\":{\"size\":2,\"symbol\":\"circle\"},\"mode\":\"markers\",\"name\":\"A\",\"text\":\"\",\"x\":[-0.4516907935643547,1.9112976940760542,0.016278191613616856,-1.5612510125262646,1.274813950179761,-1.6126805385966763,-2.2821957251904537,0.2089866829343159,-0.8429670959668712,-0.1760004882461311,-0.28365499381420106,-0.33009201915794384,1.073630642032631,-0.6400132697192715,-1.6190174132021233,-0.8066969102906225,-0.7976712506251615,-0.04786740123194217,0.0036016919413261912,0.9796573940454502,0.41890900093567296,-0.4651558301356142,0.3967128531212736,0.3647102645827066,2.3635634839500868,1.690659593065594,-0.12958185421349058,1.1451978672201555,-0.5445427235078433,0.23184905659203003,-0.661231661728734,-1.3468812161015062,-0.12597790256040473,-0.7661206376129771,0.6726122485131029,0.8890951709181736,0.07540556913641484,-0.5375263337691439,0.9102631893960552,-1.5706703434768574,-0.06651099933796677,1.9575820573574008,0.5984037057002887,-0.29279137068526834,0.8608585157666441,-0.5722289975411223,0.2167161010616931,-0.07729590112916514,-0.11686005672031406,0.5093443084130719,-0.9960610113310893,-1.7664698608708074,0.8343471753750914,1.4158114289369463,-1.3956435087990042,0.05322552854207203,-0.9523509773763503,-0.6663310368452604,-1.0650812212374816,-1.0140209385032657,0.11207349468470248,-0.5104156544641547,1.234706908081769,2.0556699493257153,0.535280282309938,0.22644574445244361,-1.0778958754538086,0.49053867687206737,-1.0182020417594757,0.2268549447273603,-1.2811762721246358,-1.9424396249265408,0.2047971602644152,0.6420282395857231,-1.051774222557932,-0.38613327141997705,0.6988444446067775,0.22176227835569992,-1.3850991419989536,3.170042786967088,0.9760411158462163,0.9843606399408203,0.21425644495420632,-0.1454975927098459,1.1360264375085198,1.4965769407068956,2.0212430515195114,0.6535613771609278,-0.20778690624197377,0.05133141205531726,1.5951808004389887,0.024862938608334953,-1.0341191496383413,-0.6309259671022158,1.8896170951490574,1.0544275134607926,-1.803050885322603,-0.3481509866491919,0.3364817028101488,-1.0504744495799234],\"xaxis\":\"x2\",\"y\":[0.3088324856892706,-0.3181018657763986,-0.3255636066105028,-0.19236064939448894,-0.31705847833897705,-0.3637990623796339,1.7381070856119816,-1.6365618661350712,1.207602245302151,0.5795086591513585,0.3870112639907086,-0.10402522952978051,0.39876508426736096,0.058877024328745,2.046305095259285,-0.06205058952363449,-0.5088513253753721,1.7060136114179525,-0.832794298194402,0.740658198328443,0.9254554710965845,-0.5070103677145493,-1.4570107579482992,-0.24365430134011537,1.1676646218937359,-0.311995182369368,0.7109016891661052,-1.0364988054373834,-1.09996944787571,-0.12594993434748722,1.7722816783788544,-0.3997032204298883,-0.9323688783891173,-0.8890050506577837,-1.2253267838890964,-0.9006985743648436,-0.5349749662875761,0.8166480990698793,-0.7104178965845112,-0.3457486752396018,2.959469692485582,0.23534877803905693,0.966630327587809,2.4381924323134023,-0.30413100985165104,-0.05444955774883802,0.878998226071373,-1.1152616224785363,-0.6218799711578149,-1.4821637745829594,-0.9646987993706798,-0.18625141720567243,1.082688995662202,0.1551996500811465,0.6927369140060691,-0.4943669432520142,0.4662627587205149,1.1358562871588116,0.013461325519304344,0.7146192694121911,0.49813190363407545,-0.36725654791870793,-1.3353814443706784,2.5521770370452495,-1.4182599967967349,-0.43289339497198265,1.0100491406976808,0.016329224880536244,1.3886393871899374,0.9613206589194162,-1.5355067481574007,1.184697490716947,2.3216104010354237,-2.0445540506204263,-0.5871771419671978,1.2734450444863539,1.4195058858709837,0.8390940119444251,0.13116077472428445,-0.06590812174109323,-0.6968929236770744,-1.1389255549844535,-0.04754382317161936,-0.2248628873615001,0.7753734423955779,-0.18074714231253064,-0.8355014732267162,0.8467980360783912,0.38239269938737475,-0.9905196586110199,0.9499548630576228,-0.6045266692700999,1.261098538014877,-1.9887055698509426,0.8438845678507609,-0.5886865644903774,0.8100195951040792,-1.1556415592736307,-0.07990340462631895,-0.6901560499125757],\"yaxis\":\"y2\",\"type\":\"scatter\"},{\"line\":{\"color\":\"rgba(128, 128, 128, 1.0)\",\"dash\":\"solid\",\"shape\":\"linear\",\"width\":1.3},\"marker\":{\"size\":2,\"symbol\":\"circle\"},\"mode\":\"markers\",\"name\":\"A\",\"text\":\"\",\"x\":[-1.0646017191384958,0.3321920056960001,0.6090565112004517,-0.6768570819529374,-1.071852230152099,-0.24855490387020623,-1.2222945542298218,-0.7322520382168999,2.007825808431446,-1.0809123274250112,-0.11768824980515039,-0.34824883740229345,-2.2102969564934667,0.9565145379687646,-0.12417288508694992,2.5823146845108242,-2.5287024344669775,0.4362370346281354,0.08121332970927614,-1.4921165100303635,1.6166003234227755,-1.4695942662227708,-0.664102522913956,-0.36173738383003123,1.467965131525319,-0.7817816097642503,0.09113405686085366,1.352614849916358,0.21845700235223287,-0.8666878726761752,1.1498623968326704,0.6270341179443294,-1.2159888452185579,-2.2367407252258773,-1.8241905902059923,0.1026918667007109,-0.5166984158018366,-0.8292277504276038,1.1139658929156906,0.2582461320386364,0.22881042527798265,1.347821385670737,-0.39667707539964553,-1.01167711089197,-1.6452610840325774,0.29628469907043403,0.8598128977845043,-0.5560416129710283,0.9754877209968313,-0.001531870216110855,-1.032713818364518,-0.9648044180053544,0.47594295770189793,1.0131918766811312,2.410196583079355,-1.0000870823338293,0.42597637653947035,0.3018209684464047,-0.6207139460615639,0.31005535132277434,-0.7429817744889307,-0.5925940932553534,-0.5284619483949309,-2.3237684125449984,-0.5358627855578586,1.0616177200023125,-0.9868376386319648,0.1293571158515564,-0.6002669440068523,0.19344541722782177,-0.35028462645634595,-0.12053593614707578,-0.7195975566273206,-0.9420064603175615,-0.7368035591177027,1.0497050421378742,0.27064584782110357,-0.09930314779047857,-1.448750204622501,1.5184863376584545,0.13878103585449492,0.199580322535217,-0.7704516727675462,0.8997656223843715,0.7230120206437123,-0.1574469294514196,-0.010010105070724269,-0.7093881759296811,-0.7344249093563884,-0.33452298887329696,0.0861567927114379,-0.1515132843737287,-0.27696493836830705,-0.9487310945588182,-0.0260201937881905,1.6195850610439397,-1.0839434795958491,-1.596912397493733,0.32076136805352334,-0.4108168750574777],\"xaxis\":\"x3\",\"y\":[0.3088324856892706,-0.3181018657763986,-0.3255636066105028,-0.19236064939448894,-0.31705847833897705,-0.3637990623796339,1.7381070856119816,-1.6365618661350712,1.207602245302151,0.5795086591513585,0.3870112639907086,-0.10402522952978051,0.39876508426736096,0.058877024328745,2.046305095259285,-0.06205058952363449,-0.5088513253753721,1.7060136114179525,-0.832794298194402,0.740658198328443,0.9254554710965845,-0.5070103677145493,-1.4570107579482992,-0.24365430134011537,1.1676646218937359,-0.311995182369368,0.7109016891661052,-1.0364988054373834,-1.09996944787571,-0.12594993434748722,1.7722816783788544,-0.3997032204298883,-0.9323688783891173,-0.8890050506577837,-1.2253267838890964,-0.9006985743648436,-0.5349749662875761,0.8166480990698793,-0.7104178965845112,-0.3457486752396018,2.959469692485582,0.23534877803905693,0.966630327587809,2.4381924323134023,-0.30413100985165104,-0.05444955774883802,0.878998226071373,-1.1152616224785363,-0.6218799711578149,-1.4821637745829594,-0.9646987993706798,-0.18625141720567243,1.082688995662202,0.1551996500811465,0.6927369140060691,-0.4943669432520142,0.4662627587205149,1.1358562871588116,0.013461325519304344,0.7146192694121911,0.49813190363407545,-0.36725654791870793,-1.3353814443706784,2.5521770370452495,-1.4182599967967349,-0.43289339497198265,1.0100491406976808,0.016329224880536244,1.3886393871899374,0.9613206589194162,-1.5355067481574007,1.184697490716947,2.3216104010354237,-2.0445540506204263,-0.5871771419671978,1.2734450444863539,1.4195058858709837,0.8390940119444251,0.13116077472428445,-0.06590812174109323,-0.6968929236770744,-1.1389255549844535,-0.04754382317161936,-0.2248628873615001,0.7753734423955779,-0.18074714231253064,-0.8355014732267162,0.8467980360783912,0.38239269938737475,-0.9905196586110199,0.9499548630576228,-0.6045266692700999,1.261098538014877,-1.9887055698509426,0.8438845678507609,-0.5886865644903774,0.8100195951040792,-1.1556415592736307,-0.07990340462631895,-0.6901560499125757],\"yaxis\":\"y3\",\"type\":\"scatter\"},{\"line\":{\"color\":\"rgba(128, 128, 128, 1.0)\",\"dash\":\"solid\",\"shape\":\"linear\",\"width\":1.3},\"marker\":{\"size\":2,\"symbol\":\"circle\"},\"mode\":\"markers\",\"name\":\"A\",\"text\":\"\",\"x\":[0.7359993751785493,-0.17557093116207317,-1.0787873828263503,0.6035518134908985,0.18167981687568469,-0.13124280844835975,-0.7084856824897063,1.2940719925638406,1.3883725849693922,-1.4999675734073792,-1.5570482851942902,-1.349761275032151,1.4488471760026187,-0.35242888480728524,2.2964313296795518,-0.5026466049941553,-1.7407603578263977,0.8987095928114365,-0.9605717646133486,-1.9544530420613735,-0.11057480590181805,-0.5820224508966013,1.0177299096668178,-1.0533154734482344,-0.2955482358631533,-1.1178890983019882,-0.8729133399199831,1.6930197330684553,-1.4085572541107982,-0.7696207939219283,-1.1528321094752807,0.8227720831940336,2.6206574141614865,-2.1601402362881577,0.8230538217782262,0.1540482063819723,1.188881265442298,-1.412056212300905,0.0045927045303107514,1.5268714584088512,-0.7574748531756668,0.5253191985201252,-0.7185703785067633,1.5334998677776444,0.28463919477284333,-0.7208273287760024,0.5069215950345374,0.24519087482467536,-0.061549281746454715,-1.9698291121616318,-0.29575631687560344,-1.4980709403457635,0.1823380223859322,0.7356697165657845,-1.2048064883977898,-0.4226840602956971,0.17684583038739413,-0.9859889814806736,-0.4818464109298942,-0.23513066437363495,-0.8163061201015447,0.10131426707869867,1.1711699293601858,-0.8576450485660422,-0.34952503702276455,-0.4687584668293646,0.971603378111854,0.7140419326194309,2.097600376291275,-1.2668312081894249,1.5143075166390583,0.20665296318028079,-1.6665622009528187,-0.9131017150669157,0.4896363745457838,-0.327491791644748,0.352250197225543,1.2312345592253773,0.8850452989683344,1.1207003735615513,0.21928808851024795,0.428652671748359,1.540270302284598,0.13889038463353362,-0.7238454055858894,0.4439935804565157,1.5173699549790023,1.8610768883695068,-0.14578225192931238,-0.32877649828735056,-0.507128933182429,0.702742931103773,0.40491720787557434,-0.3822888160202697,-1.0831297740506902,-1.8135514824209737,-0.24403701726307125,0.39519202029123657,0.6641580158363705,0.2820828673966256],\"xaxis\":\"x4\",\"y\":[0.3088324856892706,-0.3181018657763986,-0.3255636066105028,-0.19236064939448894,-0.31705847833897705,-0.3637990623796339,1.7381070856119816,-1.6365618661350712,1.207602245302151,0.5795086591513585,0.3870112639907086,-0.10402522952978051,0.39876508426736096,0.058877024328745,2.046305095259285,-0.06205058952363449,-0.5088513253753721,1.7060136114179525,-0.832794298194402,0.740658198328443,0.9254554710965845,-0.5070103677145493,-1.4570107579482992,-0.24365430134011537,1.1676646218937359,-0.311995182369368,0.7109016891661052,-1.0364988054373834,-1.09996944787571,-0.12594993434748722,1.7722816783788544,-0.3997032204298883,-0.9323688783891173,-0.8890050506577837,-1.2253267838890964,-0.9006985743648436,-0.5349749662875761,0.8166480990698793,-0.7104178965845112,-0.3457486752396018,2.959469692485582,0.23534877803905693,0.966630327587809,2.4381924323134023,-0.30413100985165104,-0.05444955774883802,0.878998226071373,-1.1152616224785363,-0.6218799711578149,-1.4821637745829594,-0.9646987993706798,-0.18625141720567243,1.082688995662202,0.1551996500811465,0.6927369140060691,-0.4943669432520142,0.4662627587205149,1.1358562871588116,0.013461325519304344,0.7146192694121911,0.49813190363407545,-0.36725654791870793,-1.3353814443706784,2.5521770370452495,-1.4182599967967349,-0.43289339497198265,1.0100491406976808,0.016329224880536244,1.3886393871899374,0.9613206589194162,-1.5355067481574007,1.184697490716947,2.3216104010354237,-2.0445540506204263,-0.5871771419671978,1.2734450444863539,1.4195058858709837,0.8390940119444251,0.13116077472428445,-0.06590812174109323,-0.6968929236770744,-1.1389255549844535,-0.04754382317161936,-0.2248628873615001,0.7753734423955779,-0.18074714231253064,-0.8355014732267162,0.8467980360783912,0.38239269938737475,-0.9905196586110199,0.9499548630576228,-0.6045266692700999,1.261098538014877,-1.9887055698509426,0.8438845678507609,-0.5886865644903774,0.8100195951040792,-1.1556415592736307,-0.07990340462631895,-0.6901560499125757],\"yaxis\":\"y4\",\"type\":\"scatter\"},{\"line\":{\"color\":\"rgba(128, 128, 128, 1.0)\",\"dash\":\"solid\",\"shape\":\"linear\",\"width\":1.3},\"marker\":{\"size\":2,\"symbol\":\"circle\"},\"mode\":\"markers\",\"name\":\"B\",\"text\":\"\",\"x\":[0.3088324856892706,-0.3181018657763986,-0.3255636066105028,-0.19236064939448894,-0.31705847833897705,-0.3637990623796339,1.7381070856119816,-1.6365618661350712,1.207602245302151,0.5795086591513585,0.3870112639907086,-0.10402522952978051,0.39876508426736096,0.058877024328745,2.046305095259285,-0.06205058952363449,-0.5088513253753721,1.7060136114179525,-0.832794298194402,0.740658198328443,0.9254554710965845,-0.5070103677145493,-1.4570107579482992,-0.24365430134011537,1.1676646218937359,-0.311995182369368,0.7109016891661052,-1.0364988054373834,-1.09996944787571,-0.12594993434748722,1.7722816783788544,-0.3997032204298883,-0.9323688783891173,-0.8890050506577837,-1.2253267838890964,-0.9006985743648436,-0.5349749662875761,0.8166480990698793,-0.7104178965845112,-0.3457486752396018,2.959469692485582,0.23534877803905693,0.966630327587809,2.4381924323134023,-0.30413100985165104,-0.05444955774883802,0.878998226071373,-1.1152616224785363,-0.6218799711578149,-1.4821637745829594,-0.9646987993706798,-0.18625141720567243,1.082688995662202,0.1551996500811465,0.6927369140060691,-0.4943669432520142,0.4662627587205149,1.1358562871588116,0.013461325519304344,0.7146192694121911,0.49813190363407545,-0.36725654791870793,-1.3353814443706784,2.5521770370452495,-1.4182599967967349,-0.43289339497198265,1.0100491406976808,0.016329224880536244,1.3886393871899374,0.9613206589194162,-1.5355067481574007,1.184697490716947,2.3216104010354237,-2.0445540506204263,-0.5871771419671978,1.2734450444863539,1.4195058858709837,0.8390940119444251,0.13116077472428445,-0.06590812174109323,-0.6968929236770744,-1.1389255549844535,-0.04754382317161936,-0.2248628873615001,0.7753734423955779,-0.18074714231253064,-0.8355014732267162,0.8467980360783912,0.38239269938737475,-0.9905196586110199,0.9499548630576228,-0.6045266692700999,1.261098538014877,-1.9887055698509426,0.8438845678507609,-0.5886865644903774,0.8100195951040792,-1.1556415592736307,-0.07990340462631895,-0.6901560499125757],\"xaxis\":\"x5\",\"y\":[-0.4516907935643547,1.9112976940760542,0.016278191613616856,-1.5612510125262646,1.274813950179761,-1.6126805385966763,-2.2821957251904537,0.2089866829343159,-0.8429670959668712,-0.1760004882461311,-0.28365499381420106,-0.33009201915794384,1.073630642032631,-0.6400132697192715,-1.6190174132021233,-0.8066969102906225,-0.7976712506251615,-0.04786740123194217,0.0036016919413261912,0.9796573940454502,0.41890900093567296,-0.4651558301356142,0.3967128531212736,0.3647102645827066,2.3635634839500868,1.690659593065594,-0.12958185421349058,1.1451978672201555,-0.5445427235078433,0.23184905659203003,-0.661231661728734,-1.3468812161015062,-0.12597790256040473,-0.7661206376129771,0.6726122485131029,0.8890951709181736,0.07540556913641484,-0.5375263337691439,0.9102631893960552,-1.5706703434768574,-0.06651099933796677,1.9575820573574008,0.5984037057002887,-0.29279137068526834,0.8608585157666441,-0.5722289975411223,0.2167161010616931,-0.07729590112916514,-0.11686005672031406,0.5093443084130719,-0.9960610113310893,-1.7664698608708074,0.8343471753750914,1.4158114289369463,-1.3956435087990042,0.05322552854207203,-0.9523509773763503,-0.6663310368452604,-1.0650812212374816,-1.0140209385032657,0.11207349468470248,-0.5104156544641547,1.234706908081769,2.0556699493257153,0.535280282309938,0.22644574445244361,-1.0778958754538086,0.49053867687206737,-1.0182020417594757,0.2268549447273603,-1.2811762721246358,-1.9424396249265408,0.2047971602644152,0.6420282395857231,-1.051774222557932,-0.38613327141997705,0.6988444446067775,0.22176227835569992,-1.3850991419989536,3.170042786967088,0.9760411158462163,0.9843606399408203,0.21425644495420632,-0.1454975927098459,1.1360264375085198,1.4965769407068956,2.0212430515195114,0.6535613771609278,-0.20778690624197377,0.05133141205531726,1.5951808004389887,0.024862938608334953,-1.0341191496383413,-0.6309259671022158,1.8896170951490574,1.0544275134607926,-1.803050885322603,-0.3481509866491919,0.3364817028101488,-1.0504744495799234],\"yaxis\":\"y5\",\"type\":\"scatter\"},{\"histfunc\":\"count\",\"histnorm\":\"\",\"marker\":{\"color\":\"rgba(55, 128, 191, 1.0)\",\"line\":{\"color\":\"#4D5663\",\"width\":1.3}},\"name\":\"B\",\"nbinsx\":10,\"opacity\":0.8,\"orientation\":\"v\",\"x\":[-0.4516907935643547,1.9112976940760542,0.016278191613616856,-1.5612510125262646,1.274813950179761,-1.6126805385966763,-2.2821957251904537,0.2089866829343159,-0.8429670959668712,-0.1760004882461311,-0.28365499381420106,-0.33009201915794384,1.073630642032631,-0.6400132697192715,-1.6190174132021233,-0.8066969102906225,-0.7976712506251615,-0.04786740123194217,0.0036016919413261912,0.9796573940454502,0.41890900093567296,-0.4651558301356142,0.3967128531212736,0.3647102645827066,2.3635634839500868,1.690659593065594,-0.12958185421349058,1.1451978672201555,-0.5445427235078433,0.23184905659203003,-0.661231661728734,-1.3468812161015062,-0.12597790256040473,-0.7661206376129771,0.6726122485131029,0.8890951709181736,0.07540556913641484,-0.5375263337691439,0.9102631893960552,-1.5706703434768574,-0.06651099933796677,1.9575820573574008,0.5984037057002887,-0.29279137068526834,0.8608585157666441,-0.5722289975411223,0.2167161010616931,-0.07729590112916514,-0.11686005672031406,0.5093443084130719,-0.9960610113310893,-1.7664698608708074,0.8343471753750914,1.4158114289369463,-1.3956435087990042,0.05322552854207203,-0.9523509773763503,-0.6663310368452604,-1.0650812212374816,-1.0140209385032657,0.11207349468470248,-0.5104156544641547,1.234706908081769,2.0556699493257153,0.535280282309938,0.22644574445244361,-1.0778958754538086,0.49053867687206737,-1.0182020417594757,0.2268549447273603,-1.2811762721246358,-1.9424396249265408,0.2047971602644152,0.6420282395857231,-1.051774222557932,-0.38613327141997705,0.6988444446067775,0.22176227835569992,-1.3850991419989536,3.170042786967088,0.9760411158462163,0.9843606399408203,0.21425644495420632,-0.1454975927098459,1.1360264375085198,1.4965769407068956,2.0212430515195114,0.6535613771609278,-0.20778690624197377,0.05133141205531726,1.5951808004389887,0.024862938608334953,-1.0341191496383413,-0.6309259671022158,1.8896170951490574,1.0544275134607926,-1.803050885322603,-0.3481509866491919,0.3364817028101488,-1.0504744495799234],\"xaxis\":\"x6\",\"yaxis\":\"y6\",\"type\":\"histogram\"},{\"line\":{\"color\":\"rgba(128, 128, 128, 1.0)\",\"dash\":\"solid\",\"shape\":\"linear\",\"width\":1.3},\"marker\":{\"size\":2,\"symbol\":\"circle\"},\"mode\":\"markers\",\"name\":\"B\",\"text\":\"\",\"x\":[-1.0646017191384958,0.3321920056960001,0.6090565112004517,-0.6768570819529374,-1.071852230152099,-0.24855490387020623,-1.2222945542298218,-0.7322520382168999,2.007825808431446,-1.0809123274250112,-0.11768824980515039,-0.34824883740229345,-2.2102969564934667,0.9565145379687646,-0.12417288508694992,2.5823146845108242,-2.5287024344669775,0.4362370346281354,0.08121332970927614,-1.4921165100303635,1.6166003234227755,-1.4695942662227708,-0.664102522913956,-0.36173738383003123,1.467965131525319,-0.7817816097642503,0.09113405686085366,1.352614849916358,0.21845700235223287,-0.8666878726761752,1.1498623968326704,0.6270341179443294,-1.2159888452185579,-2.2367407252258773,-1.8241905902059923,0.1026918667007109,-0.5166984158018366,-0.8292277504276038,1.1139658929156906,0.2582461320386364,0.22881042527798265,1.347821385670737,-0.39667707539964553,-1.01167711089197,-1.6452610840325774,0.29628469907043403,0.8598128977845043,-0.5560416129710283,0.9754877209968313,-0.001531870216110855,-1.032713818364518,-0.9648044180053544,0.47594295770189793,1.0131918766811312,2.410196583079355,-1.0000870823338293,0.42597637653947035,0.3018209684464047,-0.6207139460615639,0.31005535132277434,-0.7429817744889307,-0.5925940932553534,-0.5284619483949309,-2.3237684125449984,-0.5358627855578586,1.0616177200023125,-0.9868376386319648,0.1293571158515564,-0.6002669440068523,0.19344541722782177,-0.35028462645634595,-0.12053593614707578,-0.7195975566273206,-0.9420064603175615,-0.7368035591177027,1.0497050421378742,0.27064584782110357,-0.09930314779047857,-1.448750204622501,1.5184863376584545,0.13878103585449492,0.199580322535217,-0.7704516727675462,0.8997656223843715,0.7230120206437123,-0.1574469294514196,-0.010010105070724269,-0.7093881759296811,-0.7344249093563884,-0.33452298887329696,0.0861567927114379,-0.1515132843737287,-0.27696493836830705,-0.9487310945588182,-0.0260201937881905,1.6195850610439397,-1.0839434795958491,-1.596912397493733,0.32076136805352334,-0.4108168750574777],\"xaxis\":\"x7\",\"y\":[-0.4516907935643547,1.9112976940760542,0.016278191613616856,-1.5612510125262646,1.274813950179761,-1.6126805385966763,-2.2821957251904537,0.2089866829343159,-0.8429670959668712,-0.1760004882461311,-0.28365499381420106,-0.33009201915794384,1.073630642032631,-0.6400132697192715,-1.6190174132021233,-0.8066969102906225,-0.7976712506251615,-0.04786740123194217,0.0036016919413261912,0.9796573940454502,0.41890900093567296,-0.4651558301356142,0.3967128531212736,0.3647102645827066,2.3635634839500868,1.690659593065594,-0.12958185421349058,1.1451978672201555,-0.5445427235078433,0.23184905659203003,-0.661231661728734,-1.3468812161015062,-0.12597790256040473,-0.7661206376129771,0.6726122485131029,0.8890951709181736,0.07540556913641484,-0.5375263337691439,0.9102631893960552,-1.5706703434768574,-0.06651099933796677,1.9575820573574008,0.5984037057002887,-0.29279137068526834,0.8608585157666441,-0.5722289975411223,0.2167161010616931,-0.07729590112916514,-0.11686005672031406,0.5093443084130719,-0.9960610113310893,-1.7664698608708074,0.8343471753750914,1.4158114289369463,-1.3956435087990042,0.05322552854207203,-0.9523509773763503,-0.6663310368452604,-1.0650812212374816,-1.0140209385032657,0.11207349468470248,-0.5104156544641547,1.234706908081769,2.0556699493257153,0.535280282309938,0.22644574445244361,-1.0778958754538086,0.49053867687206737,-1.0182020417594757,0.2268549447273603,-1.2811762721246358,-1.9424396249265408,0.2047971602644152,0.6420282395857231,-1.051774222557932,-0.38613327141997705,0.6988444446067775,0.22176227835569992,-1.3850991419989536,3.170042786967088,0.9760411158462163,0.9843606399408203,0.21425644495420632,-0.1454975927098459,1.1360264375085198,1.4965769407068956,2.0212430515195114,0.6535613771609278,-0.20778690624197377,0.05133141205531726,1.5951808004389887,0.024862938608334953,-1.0341191496383413,-0.6309259671022158,1.8896170951490574,1.0544275134607926,-1.803050885322603,-0.3481509866491919,0.3364817028101488,-1.0504744495799234],\"yaxis\":\"y7\",\"type\":\"scatter\"},{\"line\":{\"color\":\"rgba(128, 128, 128, 1.0)\",\"dash\":\"solid\",\"shape\":\"linear\",\"width\":1.3},\"marker\":{\"size\":2,\"symbol\":\"circle\"},\"mode\":\"markers\",\"name\":\"B\",\"text\":\"\",\"x\":[0.7359993751785493,-0.17557093116207317,-1.0787873828263503,0.6035518134908985,0.18167981687568469,-0.13124280844835975,-0.7084856824897063,1.2940719925638406,1.3883725849693922,-1.4999675734073792,-1.5570482851942902,-1.349761275032151,1.4488471760026187,-0.35242888480728524,2.2964313296795518,-0.5026466049941553,-1.7407603578263977,0.8987095928114365,-0.9605717646133486,-1.9544530420613735,-0.11057480590181805,-0.5820224508966013,1.0177299096668178,-1.0533154734482344,-0.2955482358631533,-1.1178890983019882,-0.8729133399199831,1.6930197330684553,-1.4085572541107982,-0.7696207939219283,-1.1528321094752807,0.8227720831940336,2.6206574141614865,-2.1601402362881577,0.8230538217782262,0.1540482063819723,1.188881265442298,-1.412056212300905,0.0045927045303107514,1.5268714584088512,-0.7574748531756668,0.5253191985201252,-0.7185703785067633,1.5334998677776444,0.28463919477284333,-0.7208273287760024,0.5069215950345374,0.24519087482467536,-0.061549281746454715,-1.9698291121616318,-0.29575631687560344,-1.4980709403457635,0.1823380223859322,0.7356697165657845,-1.2048064883977898,-0.4226840602956971,0.17684583038739413,-0.9859889814806736,-0.4818464109298942,-0.23513066437363495,-0.8163061201015447,0.10131426707869867,1.1711699293601858,-0.8576450485660422,-0.34952503702276455,-0.4687584668293646,0.971603378111854,0.7140419326194309,2.097600376291275,-1.2668312081894249,1.5143075166390583,0.20665296318028079,-1.6665622009528187,-0.9131017150669157,0.4896363745457838,-0.327491791644748,0.352250197225543,1.2312345592253773,0.8850452989683344,1.1207003735615513,0.21928808851024795,0.428652671748359,1.540270302284598,0.13889038463353362,-0.7238454055858894,0.4439935804565157,1.5173699549790023,1.8610768883695068,-0.14578225192931238,-0.32877649828735056,-0.507128933182429,0.702742931103773,0.40491720787557434,-0.3822888160202697,-1.0831297740506902,-1.8135514824209737,-0.24403701726307125,0.39519202029123657,0.6641580158363705,0.2820828673966256],\"xaxis\":\"x8\",\"y\":[-0.4516907935643547,1.9112976940760542,0.016278191613616856,-1.5612510125262646,1.274813950179761,-1.6126805385966763,-2.2821957251904537,0.2089866829343159,-0.8429670959668712,-0.1760004882461311,-0.28365499381420106,-0.33009201915794384,1.073630642032631,-0.6400132697192715,-1.6190174132021233,-0.8066969102906225,-0.7976712506251615,-0.04786740123194217,0.0036016919413261912,0.9796573940454502,0.41890900093567296,-0.4651558301356142,0.3967128531212736,0.3647102645827066,2.3635634839500868,1.690659593065594,-0.12958185421349058,1.1451978672201555,-0.5445427235078433,0.23184905659203003,-0.661231661728734,-1.3468812161015062,-0.12597790256040473,-0.7661206376129771,0.6726122485131029,0.8890951709181736,0.07540556913641484,-0.5375263337691439,0.9102631893960552,-1.5706703434768574,-0.06651099933796677,1.9575820573574008,0.5984037057002887,-0.29279137068526834,0.8608585157666441,-0.5722289975411223,0.2167161010616931,-0.07729590112916514,-0.11686005672031406,0.5093443084130719,-0.9960610113310893,-1.7664698608708074,0.8343471753750914,1.4158114289369463,-1.3956435087990042,0.05322552854207203,-0.9523509773763503,-0.6663310368452604,-1.0650812212374816,-1.0140209385032657,0.11207349468470248,-0.5104156544641547,1.234706908081769,2.0556699493257153,0.535280282309938,0.22644574445244361,-1.0778958754538086,0.49053867687206737,-1.0182020417594757,0.2268549447273603,-1.2811762721246358,-1.9424396249265408,0.2047971602644152,0.6420282395857231,-1.051774222557932,-0.38613327141997705,0.6988444446067775,0.22176227835569992,-1.3850991419989536,3.170042786967088,0.9760411158462163,0.9843606399408203,0.21425644495420632,-0.1454975927098459,1.1360264375085198,1.4965769407068956,2.0212430515195114,0.6535613771609278,-0.20778690624197377,0.05133141205531726,1.5951808004389887,0.024862938608334953,-1.0341191496383413,-0.6309259671022158,1.8896170951490574,1.0544275134607926,-1.803050885322603,-0.3481509866491919,0.3364817028101488,-1.0504744495799234],\"yaxis\":\"y8\",\"type\":\"scatter\"},{\"line\":{\"color\":\"rgba(128, 128, 128, 1.0)\",\"dash\":\"solid\",\"shape\":\"linear\",\"width\":1.3},\"marker\":{\"size\":2,\"symbol\":\"circle\"},\"mode\":\"markers\",\"name\":\"C\",\"text\":\"\",\"x\":[0.3088324856892706,-0.3181018657763986,-0.3255636066105028,-0.19236064939448894,-0.31705847833897705,-0.3637990623796339,1.7381070856119816,-1.6365618661350712,1.207602245302151,0.5795086591513585,0.3870112639907086,-0.10402522952978051,0.39876508426736096,0.058877024328745,2.046305095259285,-0.06205058952363449,-0.5088513253753721,1.7060136114179525,-0.832794298194402,0.740658198328443,0.9254554710965845,-0.5070103677145493,-1.4570107579482992,-0.24365430134011537,1.1676646218937359,-0.311995182369368,0.7109016891661052,-1.0364988054373834,-1.09996944787571,-0.12594993434748722,1.7722816783788544,-0.3997032204298883,-0.9323688783891173,-0.8890050506577837,-1.2253267838890964,-0.9006985743648436,-0.5349749662875761,0.8166480990698793,-0.7104178965845112,-0.3457486752396018,2.959469692485582,0.23534877803905693,0.966630327587809,2.4381924323134023,-0.30413100985165104,-0.05444955774883802,0.878998226071373,-1.1152616224785363,-0.6218799711578149,-1.4821637745829594,-0.9646987993706798,-0.18625141720567243,1.082688995662202,0.1551996500811465,0.6927369140060691,-0.4943669432520142,0.4662627587205149,1.1358562871588116,0.013461325519304344,0.7146192694121911,0.49813190363407545,-0.36725654791870793,-1.3353814443706784,2.5521770370452495,-1.4182599967967349,-0.43289339497198265,1.0100491406976808,0.016329224880536244,1.3886393871899374,0.9613206589194162,-1.5355067481574007,1.184697490716947,2.3216104010354237,-2.0445540506204263,-0.5871771419671978,1.2734450444863539,1.4195058858709837,0.8390940119444251,0.13116077472428445,-0.06590812174109323,-0.6968929236770744,-1.1389255549844535,-0.04754382317161936,-0.2248628873615001,0.7753734423955779,-0.18074714231253064,-0.8355014732267162,0.8467980360783912,0.38239269938737475,-0.9905196586110199,0.9499548630576228,-0.6045266692700999,1.261098538014877,-1.9887055698509426,0.8438845678507609,-0.5886865644903774,0.8100195951040792,-1.1556415592736307,-0.07990340462631895,-0.6901560499125757],\"xaxis\":\"x9\",\"y\":[-1.0646017191384958,0.3321920056960001,0.6090565112004517,-0.6768570819529374,-1.071852230152099,-0.24855490387020623,-1.2222945542298218,-0.7322520382168999,2.007825808431446,-1.0809123274250112,-0.11768824980515039,-0.34824883740229345,-2.2102969564934667,0.9565145379687646,-0.12417288508694992,2.5823146845108242,-2.5287024344669775,0.4362370346281354,0.08121332970927614,-1.4921165100303635,1.6166003234227755,-1.4695942662227708,-0.664102522913956,-0.36173738383003123,1.467965131525319,-0.7817816097642503,0.09113405686085366,1.352614849916358,0.21845700235223287,-0.8666878726761752,1.1498623968326704,0.6270341179443294,-1.2159888452185579,-2.2367407252258773,-1.8241905902059923,0.1026918667007109,-0.5166984158018366,-0.8292277504276038,1.1139658929156906,0.2582461320386364,0.22881042527798265,1.347821385670737,-0.39667707539964553,-1.01167711089197,-1.6452610840325774,0.29628469907043403,0.8598128977845043,-0.5560416129710283,0.9754877209968313,-0.001531870216110855,-1.032713818364518,-0.9648044180053544,0.47594295770189793,1.0131918766811312,2.410196583079355,-1.0000870823338293,0.42597637653947035,0.3018209684464047,-0.6207139460615639,0.31005535132277434,-0.7429817744889307,-0.5925940932553534,-0.5284619483949309,-2.3237684125449984,-0.5358627855578586,1.0616177200023125,-0.9868376386319648,0.1293571158515564,-0.6002669440068523,0.19344541722782177,-0.35028462645634595,-0.12053593614707578,-0.7195975566273206,-0.9420064603175615,-0.7368035591177027,1.0497050421378742,0.27064584782110357,-0.09930314779047857,-1.448750204622501,1.5184863376584545,0.13878103585449492,0.199580322535217,-0.7704516727675462,0.8997656223843715,0.7230120206437123,-0.1574469294514196,-0.010010105070724269,-0.7093881759296811,-0.7344249093563884,-0.33452298887329696,0.0861567927114379,-0.1515132843737287,-0.27696493836830705,-0.9487310945588182,-0.0260201937881905,1.6195850610439397,-1.0839434795958491,-1.596912397493733,0.32076136805352334,-0.4108168750574777],\"yaxis\":\"y9\",\"type\":\"scatter\"},{\"line\":{\"color\":\"rgba(128, 128, 128, 1.0)\",\"dash\":\"solid\",\"shape\":\"linear\",\"width\":1.3},\"marker\":{\"size\":2,\"symbol\":\"circle\"},\"mode\":\"markers\",\"name\":\"C\",\"text\":\"\",\"x\":[-0.4516907935643547,1.9112976940760542,0.016278191613616856,-1.5612510125262646,1.274813950179761,-1.6126805385966763,-2.2821957251904537,0.2089866829343159,-0.8429670959668712,-0.1760004882461311,-0.28365499381420106,-0.33009201915794384,1.073630642032631,-0.6400132697192715,-1.6190174132021233,-0.8066969102906225,-0.7976712506251615,-0.04786740123194217,0.0036016919413261912,0.9796573940454502,0.41890900093567296,-0.4651558301356142,0.3967128531212736,0.3647102645827066,2.3635634839500868,1.690659593065594,-0.12958185421349058,1.1451978672201555,-0.5445427235078433,0.23184905659203003,-0.661231661728734,-1.3468812161015062,-0.12597790256040473,-0.7661206376129771,0.6726122485131029,0.8890951709181736,0.07540556913641484,-0.5375263337691439,0.9102631893960552,-1.5706703434768574,-0.06651099933796677,1.9575820573574008,0.5984037057002887,-0.29279137068526834,0.8608585157666441,-0.5722289975411223,0.2167161010616931,-0.07729590112916514,-0.11686005672031406,0.5093443084130719,-0.9960610113310893,-1.7664698608708074,0.8343471753750914,1.4158114289369463,-1.3956435087990042,0.05322552854207203,-0.9523509773763503,-0.6663310368452604,-1.0650812212374816,-1.0140209385032657,0.11207349468470248,-0.5104156544641547,1.234706908081769,2.0556699493257153,0.535280282309938,0.22644574445244361,-1.0778958754538086,0.49053867687206737,-1.0182020417594757,0.2268549447273603,-1.2811762721246358,-1.9424396249265408,0.2047971602644152,0.6420282395857231,-1.051774222557932,-0.38613327141997705,0.6988444446067775,0.22176227835569992,-1.3850991419989536,3.170042786967088,0.9760411158462163,0.9843606399408203,0.21425644495420632,-0.1454975927098459,1.1360264375085198,1.4965769407068956,2.0212430515195114,0.6535613771609278,-0.20778690624197377,0.05133141205531726,1.5951808004389887,0.024862938608334953,-1.0341191496383413,-0.6309259671022158,1.8896170951490574,1.0544275134607926,-1.803050885322603,-0.3481509866491919,0.3364817028101488,-1.0504744495799234],\"xaxis\":\"x10\",\"y\":[-1.0646017191384958,0.3321920056960001,0.6090565112004517,-0.6768570819529374,-1.071852230152099,-0.24855490387020623,-1.2222945542298218,-0.7322520382168999,2.007825808431446,-1.0809123274250112,-0.11768824980515039,-0.34824883740229345,-2.2102969564934667,0.9565145379687646,-0.12417288508694992,2.5823146845108242,-2.5287024344669775,0.4362370346281354,0.08121332970927614,-1.4921165100303635,1.6166003234227755,-1.4695942662227708,-0.664102522913956,-0.36173738383003123,1.467965131525319,-0.7817816097642503,0.09113405686085366,1.352614849916358,0.21845700235223287,-0.8666878726761752,1.1498623968326704,0.6270341179443294,-1.2159888452185579,-2.2367407252258773,-1.8241905902059923,0.1026918667007109,-0.5166984158018366,-0.8292277504276038,1.1139658929156906,0.2582461320386364,0.22881042527798265,1.347821385670737,-0.39667707539964553,-1.01167711089197,-1.6452610840325774,0.29628469907043403,0.8598128977845043,-0.5560416129710283,0.9754877209968313,-0.001531870216110855,-1.032713818364518,-0.9648044180053544,0.47594295770189793,1.0131918766811312,2.410196583079355,-1.0000870823338293,0.42597637653947035,0.3018209684464047,-0.6207139460615639,0.31005535132277434,-0.7429817744889307,-0.5925940932553534,-0.5284619483949309,-2.3237684125449984,-0.5358627855578586,1.0616177200023125,-0.9868376386319648,0.1293571158515564,-0.6002669440068523,0.19344541722782177,-0.35028462645634595,-0.12053593614707578,-0.7195975566273206,-0.9420064603175615,-0.7368035591177027,1.0497050421378742,0.27064584782110357,-0.09930314779047857,-1.448750204622501,1.5184863376584545,0.13878103585449492,0.199580322535217,-0.7704516727675462,0.8997656223843715,0.7230120206437123,-0.1574469294514196,-0.010010105070724269,-0.7093881759296811,-0.7344249093563884,-0.33452298887329696,0.0861567927114379,-0.1515132843737287,-0.27696493836830705,-0.9487310945588182,-0.0260201937881905,1.6195850610439397,-1.0839434795958491,-1.596912397493733,0.32076136805352334,-0.4108168750574777],\"yaxis\":\"y10\",\"type\":\"scatter\"},{\"histfunc\":\"count\",\"histnorm\":\"\",\"marker\":{\"color\":\"rgba(50, 171, 96, 1.0)\",\"line\":{\"color\":\"#4D5663\",\"width\":1.3}},\"name\":\"C\",\"nbinsx\":10,\"opacity\":0.8,\"orientation\":\"v\",\"x\":[-1.0646017191384958,0.3321920056960001,0.6090565112004517,-0.6768570819529374,-1.071852230152099,-0.24855490387020623,-1.2222945542298218,-0.7322520382168999,2.007825808431446,-1.0809123274250112,-0.11768824980515039,-0.34824883740229345,-2.2102969564934667,0.9565145379687646,-0.12417288508694992,2.5823146845108242,-2.5287024344669775,0.4362370346281354,0.08121332970927614,-1.4921165100303635,1.6166003234227755,-1.4695942662227708,-0.664102522913956,-0.36173738383003123,1.467965131525319,-0.7817816097642503,0.09113405686085366,1.352614849916358,0.21845700235223287,-0.8666878726761752,1.1498623968326704,0.6270341179443294,-1.2159888452185579,-2.2367407252258773,-1.8241905902059923,0.1026918667007109,-0.5166984158018366,-0.8292277504276038,1.1139658929156906,0.2582461320386364,0.22881042527798265,1.347821385670737,-0.39667707539964553,-1.01167711089197,-1.6452610840325774,0.29628469907043403,0.8598128977845043,-0.5560416129710283,0.9754877209968313,-0.001531870216110855,-1.032713818364518,-0.9648044180053544,0.47594295770189793,1.0131918766811312,2.410196583079355,-1.0000870823338293,0.42597637653947035,0.3018209684464047,-0.6207139460615639,0.31005535132277434,-0.7429817744889307,-0.5925940932553534,-0.5284619483949309,-2.3237684125449984,-0.5358627855578586,1.0616177200023125,-0.9868376386319648,0.1293571158515564,-0.6002669440068523,0.19344541722782177,-0.35028462645634595,-0.12053593614707578,-0.7195975566273206,-0.9420064603175615,-0.7368035591177027,1.0497050421378742,0.27064584782110357,-0.09930314779047857,-1.448750204622501,1.5184863376584545,0.13878103585449492,0.199580322535217,-0.7704516727675462,0.8997656223843715,0.7230120206437123,-0.1574469294514196,-0.010010105070724269,-0.7093881759296811,-0.7344249093563884,-0.33452298887329696,0.0861567927114379,-0.1515132843737287,-0.27696493836830705,-0.9487310945588182,-0.0260201937881905,1.6195850610439397,-1.0839434795958491,-1.596912397493733,0.32076136805352334,-0.4108168750574777],\"xaxis\":\"x11\",\"yaxis\":\"y11\",\"type\":\"histogram\"},{\"line\":{\"color\":\"rgba(128, 128, 128, 1.0)\",\"dash\":\"solid\",\"shape\":\"linear\",\"width\":1.3},\"marker\":{\"size\":2,\"symbol\":\"circle\"},\"mode\":\"markers\",\"name\":\"C\",\"text\":\"\",\"x\":[0.7359993751785493,-0.17557093116207317,-1.0787873828263503,0.6035518134908985,0.18167981687568469,-0.13124280844835975,-0.7084856824897063,1.2940719925638406,1.3883725849693922,-1.4999675734073792,-1.5570482851942902,-1.349761275032151,1.4488471760026187,-0.35242888480728524,2.2964313296795518,-0.5026466049941553,-1.7407603578263977,0.8987095928114365,-0.9605717646133486,-1.9544530420613735,-0.11057480590181805,-0.5820224508966013,1.0177299096668178,-1.0533154734482344,-0.2955482358631533,-1.1178890983019882,-0.8729133399199831,1.6930197330684553,-1.4085572541107982,-0.7696207939219283,-1.1528321094752807,0.8227720831940336,2.6206574141614865,-2.1601402362881577,0.8230538217782262,0.1540482063819723,1.188881265442298,-1.412056212300905,0.0045927045303107514,1.5268714584088512,-0.7574748531756668,0.5253191985201252,-0.7185703785067633,1.5334998677776444,0.28463919477284333,-0.7208273287760024,0.5069215950345374,0.24519087482467536,-0.061549281746454715,-1.9698291121616318,-0.29575631687560344,-1.4980709403457635,0.1823380223859322,0.7356697165657845,-1.2048064883977898,-0.4226840602956971,0.17684583038739413,-0.9859889814806736,-0.4818464109298942,-0.23513066437363495,-0.8163061201015447,0.10131426707869867,1.1711699293601858,-0.8576450485660422,-0.34952503702276455,-0.4687584668293646,0.971603378111854,0.7140419326194309,2.097600376291275,-1.2668312081894249,1.5143075166390583,0.20665296318028079,-1.6665622009528187,-0.9131017150669157,0.4896363745457838,-0.327491791644748,0.352250197225543,1.2312345592253773,0.8850452989683344,1.1207003735615513,0.21928808851024795,0.428652671748359,1.540270302284598,0.13889038463353362,-0.7238454055858894,0.4439935804565157,1.5173699549790023,1.8610768883695068,-0.14578225192931238,-0.32877649828735056,-0.507128933182429,0.702742931103773,0.40491720787557434,-0.3822888160202697,-1.0831297740506902,-1.8135514824209737,-0.24403701726307125,0.39519202029123657,0.6641580158363705,0.2820828673966256],\"xaxis\":\"x12\",\"y\":[-1.0646017191384958,0.3321920056960001,0.6090565112004517,-0.6768570819529374,-1.071852230152099,-0.24855490387020623,-1.2222945542298218,-0.7322520382168999,2.007825808431446,-1.0809123274250112,-0.11768824980515039,-0.34824883740229345,-2.2102969564934667,0.9565145379687646,-0.12417288508694992,2.5823146845108242,-2.5287024344669775,0.4362370346281354,0.08121332970927614,-1.4921165100303635,1.6166003234227755,-1.4695942662227708,-0.664102522913956,-0.36173738383003123,1.467965131525319,-0.7817816097642503,0.09113405686085366,1.352614849916358,0.21845700235223287,-0.8666878726761752,1.1498623968326704,0.6270341179443294,-1.2159888452185579,-2.2367407252258773,-1.8241905902059923,0.1026918667007109,-0.5166984158018366,-0.8292277504276038,1.1139658929156906,0.2582461320386364,0.22881042527798265,1.347821385670737,-0.39667707539964553,-1.01167711089197,-1.6452610840325774,0.29628469907043403,0.8598128977845043,-0.5560416129710283,0.9754877209968313,-0.001531870216110855,-1.032713818364518,-0.9648044180053544,0.47594295770189793,1.0131918766811312,2.410196583079355,-1.0000870823338293,0.42597637653947035,0.3018209684464047,-0.6207139460615639,0.31005535132277434,-0.7429817744889307,-0.5925940932553534,-0.5284619483949309,-2.3237684125449984,-0.5358627855578586,1.0616177200023125,-0.9868376386319648,0.1293571158515564,-0.6002669440068523,0.19344541722782177,-0.35028462645634595,-0.12053593614707578,-0.7195975566273206,-0.9420064603175615,-0.7368035591177027,1.0497050421378742,0.27064584782110357,-0.09930314779047857,-1.448750204622501,1.5184863376584545,0.13878103585449492,0.199580322535217,-0.7704516727675462,0.8997656223843715,0.7230120206437123,-0.1574469294514196,-0.010010105070724269,-0.7093881759296811,-0.7344249093563884,-0.33452298887329696,0.0861567927114379,-0.1515132843737287,-0.27696493836830705,-0.9487310945588182,-0.0260201937881905,1.6195850610439397,-1.0839434795958491,-1.596912397493733,0.32076136805352334,-0.4108168750574777],\"yaxis\":\"y12\",\"type\":\"scatter\"},{\"line\":{\"color\":\"rgba(128, 128, 128, 1.0)\",\"dash\":\"solid\",\"shape\":\"linear\",\"width\":1.3},\"marker\":{\"size\":2,\"symbol\":\"circle\"},\"mode\":\"markers\",\"name\":\"D\",\"text\":\"\",\"x\":[0.3088324856892706,-0.3181018657763986,-0.3255636066105028,-0.19236064939448894,-0.31705847833897705,-0.3637990623796339,1.7381070856119816,-1.6365618661350712,1.207602245302151,0.5795086591513585,0.3870112639907086,-0.10402522952978051,0.39876508426736096,0.058877024328745,2.046305095259285,-0.06205058952363449,-0.5088513253753721,1.7060136114179525,-0.832794298194402,0.740658198328443,0.9254554710965845,-0.5070103677145493,-1.4570107579482992,-0.24365430134011537,1.1676646218937359,-0.311995182369368,0.7109016891661052,-1.0364988054373834,-1.09996944787571,-0.12594993434748722,1.7722816783788544,-0.3997032204298883,-0.9323688783891173,-0.8890050506577837,-1.2253267838890964,-0.9006985743648436,-0.5349749662875761,0.8166480990698793,-0.7104178965845112,-0.3457486752396018,2.959469692485582,0.23534877803905693,0.966630327587809,2.4381924323134023,-0.30413100985165104,-0.05444955774883802,0.878998226071373,-1.1152616224785363,-0.6218799711578149,-1.4821637745829594,-0.9646987993706798,-0.18625141720567243,1.082688995662202,0.1551996500811465,0.6927369140060691,-0.4943669432520142,0.4662627587205149,1.1358562871588116,0.013461325519304344,0.7146192694121911,0.49813190363407545,-0.36725654791870793,-1.3353814443706784,2.5521770370452495,-1.4182599967967349,-0.43289339497198265,1.0100491406976808,0.016329224880536244,1.3886393871899374,0.9613206589194162,-1.5355067481574007,1.184697490716947,2.3216104010354237,-2.0445540506204263,-0.5871771419671978,1.2734450444863539,1.4195058858709837,0.8390940119444251,0.13116077472428445,-0.06590812174109323,-0.6968929236770744,-1.1389255549844535,-0.04754382317161936,-0.2248628873615001,0.7753734423955779,-0.18074714231253064,-0.8355014732267162,0.8467980360783912,0.38239269938737475,-0.9905196586110199,0.9499548630576228,-0.6045266692700999,1.261098538014877,-1.9887055698509426,0.8438845678507609,-0.5886865644903774,0.8100195951040792,-1.1556415592736307,-0.07990340462631895,-0.6901560499125757],\"xaxis\":\"x13\",\"y\":[0.7359993751785493,-0.17557093116207317,-1.0787873828263503,0.6035518134908985,0.18167981687568469,-0.13124280844835975,-0.7084856824897063,1.2940719925638406,1.3883725849693922,-1.4999675734073792,-1.5570482851942902,-1.349761275032151,1.4488471760026187,-0.35242888480728524,2.2964313296795518,-0.5026466049941553,-1.7407603578263977,0.8987095928114365,-0.9605717646133486,-1.9544530420613735,-0.11057480590181805,-0.5820224508966013,1.0177299096668178,-1.0533154734482344,-0.2955482358631533,-1.1178890983019882,-0.8729133399199831,1.6930197330684553,-1.4085572541107982,-0.7696207939219283,-1.1528321094752807,0.8227720831940336,2.6206574141614865,-2.1601402362881577,0.8230538217782262,0.1540482063819723,1.188881265442298,-1.412056212300905,0.0045927045303107514,1.5268714584088512,-0.7574748531756668,0.5253191985201252,-0.7185703785067633,1.5334998677776444,0.28463919477284333,-0.7208273287760024,0.5069215950345374,0.24519087482467536,-0.061549281746454715,-1.9698291121616318,-0.29575631687560344,-1.4980709403457635,0.1823380223859322,0.7356697165657845,-1.2048064883977898,-0.4226840602956971,0.17684583038739413,-0.9859889814806736,-0.4818464109298942,-0.23513066437363495,-0.8163061201015447,0.10131426707869867,1.1711699293601858,-0.8576450485660422,-0.34952503702276455,-0.4687584668293646,0.971603378111854,0.7140419326194309,2.097600376291275,-1.2668312081894249,1.5143075166390583,0.20665296318028079,-1.6665622009528187,-0.9131017150669157,0.4896363745457838,-0.327491791644748,0.352250197225543,1.2312345592253773,0.8850452989683344,1.1207003735615513,0.21928808851024795,0.428652671748359,1.540270302284598,0.13889038463353362,-0.7238454055858894,0.4439935804565157,1.5173699549790023,1.8610768883695068,-0.14578225192931238,-0.32877649828735056,-0.507128933182429,0.702742931103773,0.40491720787557434,-0.3822888160202697,-1.0831297740506902,-1.8135514824209737,-0.24403701726307125,0.39519202029123657,0.6641580158363705,0.2820828673966256],\"yaxis\":\"y13\",\"type\":\"scatter\"},{\"line\":{\"color\":\"rgba(128, 128, 128, 1.0)\",\"dash\":\"solid\",\"shape\":\"linear\",\"width\":1.3},\"marker\":{\"size\":2,\"symbol\":\"circle\"},\"mode\":\"markers\",\"name\":\"D\",\"text\":\"\",\"x\":[-0.4516907935643547,1.9112976940760542,0.016278191613616856,-1.5612510125262646,1.274813950179761,-1.6126805385966763,-2.2821957251904537,0.2089866829343159,-0.8429670959668712,-0.1760004882461311,-0.28365499381420106,-0.33009201915794384,1.073630642032631,-0.6400132697192715,-1.6190174132021233,-0.8066969102906225,-0.7976712506251615,-0.04786740123194217,0.0036016919413261912,0.9796573940454502,0.41890900093567296,-0.4651558301356142,0.3967128531212736,0.3647102645827066,2.3635634839500868,1.690659593065594,-0.12958185421349058,1.1451978672201555,-0.5445427235078433,0.23184905659203003,-0.661231661728734,-1.3468812161015062,-0.12597790256040473,-0.7661206376129771,0.6726122485131029,0.8890951709181736,0.07540556913641484,-0.5375263337691439,0.9102631893960552,-1.5706703434768574,-0.06651099933796677,1.9575820573574008,0.5984037057002887,-0.29279137068526834,0.8608585157666441,-0.5722289975411223,0.2167161010616931,-0.07729590112916514,-0.11686005672031406,0.5093443084130719,-0.9960610113310893,-1.7664698608708074,0.8343471753750914,1.4158114289369463,-1.3956435087990042,0.05322552854207203,-0.9523509773763503,-0.6663310368452604,-1.0650812212374816,-1.0140209385032657,0.11207349468470248,-0.5104156544641547,1.234706908081769,2.0556699493257153,0.535280282309938,0.22644574445244361,-1.0778958754538086,0.49053867687206737,-1.0182020417594757,0.2268549447273603,-1.2811762721246358,-1.9424396249265408,0.2047971602644152,0.6420282395857231,-1.051774222557932,-0.38613327141997705,0.6988444446067775,0.22176227835569992,-1.3850991419989536,3.170042786967088,0.9760411158462163,0.9843606399408203,0.21425644495420632,-0.1454975927098459,1.1360264375085198,1.4965769407068956,2.0212430515195114,0.6535613771609278,-0.20778690624197377,0.05133141205531726,1.5951808004389887,0.024862938608334953,-1.0341191496383413,-0.6309259671022158,1.8896170951490574,1.0544275134607926,-1.803050885322603,-0.3481509866491919,0.3364817028101488,-1.0504744495799234],\"xaxis\":\"x14\",\"y\":[0.7359993751785493,-0.17557093116207317,-1.0787873828263503,0.6035518134908985,0.18167981687568469,-0.13124280844835975,-0.7084856824897063,1.2940719925638406,1.3883725849693922,-1.4999675734073792,-1.5570482851942902,-1.349761275032151,1.4488471760026187,-0.35242888480728524,2.2964313296795518,-0.5026466049941553,-1.7407603578263977,0.8987095928114365,-0.9605717646133486,-1.9544530420613735,-0.11057480590181805,-0.5820224508966013,1.0177299096668178,-1.0533154734482344,-0.2955482358631533,-1.1178890983019882,-0.8729133399199831,1.6930197330684553,-1.4085572541107982,-0.7696207939219283,-1.1528321094752807,0.8227720831940336,2.6206574141614865,-2.1601402362881577,0.8230538217782262,0.1540482063819723,1.188881265442298,-1.412056212300905,0.0045927045303107514,1.5268714584088512,-0.7574748531756668,0.5253191985201252,-0.7185703785067633,1.5334998677776444,0.28463919477284333,-0.7208273287760024,0.5069215950345374,0.24519087482467536,-0.061549281746454715,-1.9698291121616318,-0.29575631687560344,-1.4980709403457635,0.1823380223859322,0.7356697165657845,-1.2048064883977898,-0.4226840602956971,0.17684583038739413,-0.9859889814806736,-0.4818464109298942,-0.23513066437363495,-0.8163061201015447,0.10131426707869867,1.1711699293601858,-0.8576450485660422,-0.34952503702276455,-0.4687584668293646,0.971603378111854,0.7140419326194309,2.097600376291275,-1.2668312081894249,1.5143075166390583,0.20665296318028079,-1.6665622009528187,-0.9131017150669157,0.4896363745457838,-0.327491791644748,0.352250197225543,1.2312345592253773,0.8850452989683344,1.1207003735615513,0.21928808851024795,0.428652671748359,1.540270302284598,0.13889038463353362,-0.7238454055858894,0.4439935804565157,1.5173699549790023,1.8610768883695068,-0.14578225192931238,-0.32877649828735056,-0.507128933182429,0.702742931103773,0.40491720787557434,-0.3822888160202697,-1.0831297740506902,-1.8135514824209737,-0.24403701726307125,0.39519202029123657,0.6641580158363705,0.2820828673966256],\"yaxis\":\"y14\",\"type\":\"scatter\"},{\"line\":{\"color\":\"rgba(128, 128, 128, 1.0)\",\"dash\":\"solid\",\"shape\":\"linear\",\"width\":1.3},\"marker\":{\"size\":2,\"symbol\":\"circle\"},\"mode\":\"markers\",\"name\":\"D\",\"text\":\"\",\"x\":[-1.0646017191384958,0.3321920056960001,0.6090565112004517,-0.6768570819529374,-1.071852230152099,-0.24855490387020623,-1.2222945542298218,-0.7322520382168999,2.007825808431446,-1.0809123274250112,-0.11768824980515039,-0.34824883740229345,-2.2102969564934667,0.9565145379687646,-0.12417288508694992,2.5823146845108242,-2.5287024344669775,0.4362370346281354,0.08121332970927614,-1.4921165100303635,1.6166003234227755,-1.4695942662227708,-0.664102522913956,-0.36173738383003123,1.467965131525319,-0.7817816097642503,0.09113405686085366,1.352614849916358,0.21845700235223287,-0.8666878726761752,1.1498623968326704,0.6270341179443294,-1.2159888452185579,-2.2367407252258773,-1.8241905902059923,0.1026918667007109,-0.5166984158018366,-0.8292277504276038,1.1139658929156906,0.2582461320386364,0.22881042527798265,1.347821385670737,-0.39667707539964553,-1.01167711089197,-1.6452610840325774,0.29628469907043403,0.8598128977845043,-0.5560416129710283,0.9754877209968313,-0.001531870216110855,-1.032713818364518,-0.9648044180053544,0.47594295770189793,1.0131918766811312,2.410196583079355,-1.0000870823338293,0.42597637653947035,0.3018209684464047,-0.6207139460615639,0.31005535132277434,-0.7429817744889307,-0.5925940932553534,-0.5284619483949309,-2.3237684125449984,-0.5358627855578586,1.0616177200023125,-0.9868376386319648,0.1293571158515564,-0.6002669440068523,0.19344541722782177,-0.35028462645634595,-0.12053593614707578,-0.7195975566273206,-0.9420064603175615,-0.7368035591177027,1.0497050421378742,0.27064584782110357,-0.09930314779047857,-1.448750204622501,1.5184863376584545,0.13878103585449492,0.199580322535217,-0.7704516727675462,0.8997656223843715,0.7230120206437123,-0.1574469294514196,-0.010010105070724269,-0.7093881759296811,-0.7344249093563884,-0.33452298887329696,0.0861567927114379,-0.1515132843737287,-0.27696493836830705,-0.9487310945588182,-0.0260201937881905,1.6195850610439397,-1.0839434795958491,-1.596912397493733,0.32076136805352334,-0.4108168750574777],\"xaxis\":\"x15\",\"y\":[0.7359993751785493,-0.17557093116207317,-1.0787873828263503,0.6035518134908985,0.18167981687568469,-0.13124280844835975,-0.7084856824897063,1.2940719925638406,1.3883725849693922,-1.4999675734073792,-1.5570482851942902,-1.349761275032151,1.4488471760026187,-0.35242888480728524,2.2964313296795518,-0.5026466049941553,-1.7407603578263977,0.8987095928114365,-0.9605717646133486,-1.9544530420613735,-0.11057480590181805,-0.5820224508966013,1.0177299096668178,-1.0533154734482344,-0.2955482358631533,-1.1178890983019882,-0.8729133399199831,1.6930197330684553,-1.4085572541107982,-0.7696207939219283,-1.1528321094752807,0.8227720831940336,2.6206574141614865,-2.1601402362881577,0.8230538217782262,0.1540482063819723,1.188881265442298,-1.412056212300905,0.0045927045303107514,1.5268714584088512,-0.7574748531756668,0.5253191985201252,-0.7185703785067633,1.5334998677776444,0.28463919477284333,-0.7208273287760024,0.5069215950345374,0.24519087482467536,-0.061549281746454715,-1.9698291121616318,-0.29575631687560344,-1.4980709403457635,0.1823380223859322,0.7356697165657845,-1.2048064883977898,-0.4226840602956971,0.17684583038739413,-0.9859889814806736,-0.4818464109298942,-0.23513066437363495,-0.8163061201015447,0.10131426707869867,1.1711699293601858,-0.8576450485660422,-0.34952503702276455,-0.4687584668293646,0.971603378111854,0.7140419326194309,2.097600376291275,-1.2668312081894249,1.5143075166390583,0.20665296318028079,-1.6665622009528187,-0.9131017150669157,0.4896363745457838,-0.327491791644748,0.352250197225543,1.2312345592253773,0.8850452989683344,1.1207003735615513,0.21928808851024795,0.428652671748359,1.540270302284598,0.13889038463353362,-0.7238454055858894,0.4439935804565157,1.5173699549790023,1.8610768883695068,-0.14578225192931238,-0.32877649828735056,-0.507128933182429,0.702742931103773,0.40491720787557434,-0.3822888160202697,-1.0831297740506902,-1.8135514824209737,-0.24403701726307125,0.39519202029123657,0.6641580158363705,0.2820828673966256],\"yaxis\":\"y15\",\"type\":\"scatter\"},{\"histfunc\":\"count\",\"histnorm\":\"\",\"marker\":{\"color\":\"rgba(128, 0, 128, 1.0)\",\"line\":{\"color\":\"#4D5663\",\"width\":1.3}},\"name\":\"D\",\"nbinsx\":10,\"opacity\":0.8,\"orientation\":\"v\",\"x\":[0.7359993751785493,-0.17557093116207317,-1.0787873828263503,0.6035518134908985,0.18167981687568469,-0.13124280844835975,-0.7084856824897063,1.2940719925638406,1.3883725849693922,-1.4999675734073792,-1.5570482851942902,-1.349761275032151,1.4488471760026187,-0.35242888480728524,2.2964313296795518,-0.5026466049941553,-1.7407603578263977,0.8987095928114365,-0.9605717646133486,-1.9544530420613735,-0.11057480590181805,-0.5820224508966013,1.0177299096668178,-1.0533154734482344,-0.2955482358631533,-1.1178890983019882,-0.8729133399199831,1.6930197330684553,-1.4085572541107982,-0.7696207939219283,-1.1528321094752807,0.8227720831940336,2.6206574141614865,-2.1601402362881577,0.8230538217782262,0.1540482063819723,1.188881265442298,-1.412056212300905,0.0045927045303107514,1.5268714584088512,-0.7574748531756668,0.5253191985201252,-0.7185703785067633,1.5334998677776444,0.28463919477284333,-0.7208273287760024,0.5069215950345374,0.24519087482467536,-0.061549281746454715,-1.9698291121616318,-0.29575631687560344,-1.4980709403457635,0.1823380223859322,0.7356697165657845,-1.2048064883977898,-0.4226840602956971,0.17684583038739413,-0.9859889814806736,-0.4818464109298942,-0.23513066437363495,-0.8163061201015447,0.10131426707869867,1.1711699293601858,-0.8576450485660422,-0.34952503702276455,-0.4687584668293646,0.971603378111854,0.7140419326194309,2.097600376291275,-1.2668312081894249,1.5143075166390583,0.20665296318028079,-1.6665622009528187,-0.9131017150669157,0.4896363745457838,-0.327491791644748,0.352250197225543,1.2312345592253773,0.8850452989683344,1.1207003735615513,0.21928808851024795,0.428652671748359,1.540270302284598,0.13889038463353362,-0.7238454055858894,0.4439935804565157,1.5173699549790023,1.8610768883695068,-0.14578225192931238,-0.32877649828735056,-0.507128933182429,0.702742931103773,0.40491720787557434,-0.3822888160202697,-1.0831297740506902,-1.8135514824209737,-0.24403701726307125,0.39519202029123657,0.6641580158363705,0.2820828673966256],\"xaxis\":\"x16\",\"yaxis\":\"y16\",\"type\":\"histogram\"}],                        {\"bargap\":0.02,\"legend\":{\"bgcolor\":\"#F5F6F9\",\"font\":{\"color\":\"#4D5663\"}},\"paper_bgcolor\":\"#F5F6F9\",\"plot_bgcolor\":\"#F5F6F9\",\"showlegend\":false,\"template\":{\"data\":{\"barpolar\":[{\"marker\":{\"line\":{\"color\":\"#E5ECF6\",\"width\":0.5},\"pattern\":{\"fillmode\":\"overlay\",\"size\":10,\"solidity\":0.2}},\"type\":\"barpolar\"}],\"bar\":[{\"error_x\":{\"color\":\"#2a3f5f\"},\"error_y\":{\"color\":\"#2a3f5f\"},\"marker\":{\"line\":{\"color\":\"#E5ECF6\",\"width\":0.5},\"pattern\":{\"fillmode\":\"overlay\",\"size\":10,\"solidity\":0.2}},\"type\":\"bar\"}],\"carpet\":[{\"aaxis\":{\"endlinecolor\":\"#2a3f5f\",\"gridcolor\":\"white\",\"linecolor\":\"white\",\"minorgridcolor\":\"white\",\"startlinecolor\":\"#2a3f5f\"},\"baxis\":{\"endlinecolor\":\"#2a3f5f\",\"gridcolor\":\"white\",\"linecolor\":\"white\",\"minorgridcolor\":\"white\",\"startlinecolor\":\"#2a3f5f\"},\"type\":\"carpet\"}],\"choropleth\":[{\"colorbar\":{\"outlinewidth\":0,\"ticks\":\"\"},\"type\":\"choropleth\"}],\"contourcarpet\":[{\"colorbar\":{\"outlinewidth\":0,\"ticks\":\"\"},\"type\":\"contourcarpet\"}],\"contour\":[{\"colorbar\":{\"outlinewidth\":0,\"ticks\":\"\"},\"colorscale\":[[0.0,\"#0d0887\"],[0.1111111111111111,\"#46039f\"],[0.2222222222222222,\"#7201a8\"],[0.3333333333333333,\"#9c179e\"],[0.4444444444444444,\"#bd3786\"],[0.5555555555555556,\"#d8576b\"],[0.6666666666666666,\"#ed7953\"],[0.7777777777777778,\"#fb9f3a\"],[0.8888888888888888,\"#fdca26\"],[1.0,\"#f0f921\"]],\"type\":\"contour\"}],\"heatmapgl\":[{\"colorbar\":{\"outlinewidth\":0,\"ticks\":\"\"},\"colorscale\":[[0.0,\"#0d0887\"],[0.1111111111111111,\"#46039f\"],[0.2222222222222222,\"#7201a8\"],[0.3333333333333333,\"#9c179e\"],[0.4444444444444444,\"#bd3786\"],[0.5555555555555556,\"#d8576b\"],[0.6666666666666666,\"#ed7953\"],[0.7777777777777778,\"#fb9f3a\"],[0.8888888888888888,\"#fdca26\"],[1.0,\"#f0f921\"]],\"type\":\"heatmapgl\"}],\"heatmap\":[{\"colorbar\":{\"outlinewidth\":0,\"ticks\":\"\"},\"colorscale\":[[0.0,\"#0d0887\"],[0.1111111111111111,\"#46039f\"],[0.2222222222222222,\"#7201a8\"],[0.3333333333333333,\"#9c179e\"],[0.4444444444444444,\"#bd3786\"],[0.5555555555555556,\"#d8576b\"],[0.6666666666666666,\"#ed7953\"],[0.7777777777777778,\"#fb9f3a\"],[0.8888888888888888,\"#fdca26\"],[1.0,\"#f0f921\"]],\"type\":\"heatmap\"}],\"histogram2dcontour\":[{\"colorbar\":{\"outlinewidth\":0,\"ticks\":\"\"},\"colorscale\":[[0.0,\"#0d0887\"],[0.1111111111111111,\"#46039f\"],[0.2222222222222222,\"#7201a8\"],[0.3333333333333333,\"#9c179e\"],[0.4444444444444444,\"#bd3786\"],[0.5555555555555556,\"#d8576b\"],[0.6666666666666666,\"#ed7953\"],[0.7777777777777778,\"#fb9f3a\"],[0.8888888888888888,\"#fdca26\"],[1.0,\"#f0f921\"]],\"type\":\"histogram2dcontour\"}],\"histogram2d\":[{\"colorbar\":{\"outlinewidth\":0,\"ticks\":\"\"},\"colorscale\":[[0.0,\"#0d0887\"],[0.1111111111111111,\"#46039f\"],[0.2222222222222222,\"#7201a8\"],[0.3333333333333333,\"#9c179e\"],[0.4444444444444444,\"#bd3786\"],[0.5555555555555556,\"#d8576b\"],[0.6666666666666666,\"#ed7953\"],[0.7777777777777778,\"#fb9f3a\"],[0.8888888888888888,\"#fdca26\"],[1.0,\"#f0f921\"]],\"type\":\"histogram2d\"}],\"histogram\":[{\"marker\":{\"pattern\":{\"fillmode\":\"overlay\",\"size\":10,\"solidity\":0.2}},\"type\":\"histogram\"}],\"mesh3d\":[{\"colorbar\":{\"outlinewidth\":0,\"ticks\":\"\"},\"type\":\"mesh3d\"}],\"parcoords\":[{\"line\":{\"colorbar\":{\"outlinewidth\":0,\"ticks\":\"\"}},\"type\":\"parcoords\"}],\"pie\":[{\"automargin\":true,\"type\":\"pie\"}],\"scatter3d\":[{\"line\":{\"colorbar\":{\"outlinewidth\":0,\"ticks\":\"\"}},\"marker\":{\"colorbar\":{\"outlinewidth\":0,\"ticks\":\"\"}},\"type\":\"scatter3d\"}],\"scattercarpet\":[{\"marker\":{\"colorbar\":{\"outlinewidth\":0,\"ticks\":\"\"}},\"type\":\"scattercarpet\"}],\"scattergeo\":[{\"marker\":{\"colorbar\":{\"outlinewidth\":0,\"ticks\":\"\"}},\"type\":\"scattergeo\"}],\"scattergl\":[{\"marker\":{\"colorbar\":{\"outlinewidth\":0,\"ticks\":\"\"}},\"type\":\"scattergl\"}],\"scattermapbox\":[{\"marker\":{\"colorbar\":{\"outlinewidth\":0,\"ticks\":\"\"}},\"type\":\"scattermapbox\"}],\"scatterpolargl\":[{\"marker\":{\"colorbar\":{\"outlinewidth\":0,\"ticks\":\"\"}},\"type\":\"scatterpolargl\"}],\"scatterpolar\":[{\"marker\":{\"colorbar\":{\"outlinewidth\":0,\"ticks\":\"\"}},\"type\":\"scatterpolar\"}],\"scatter\":[{\"fillpattern\":{\"fillmode\":\"overlay\",\"size\":10,\"solidity\":0.2},\"type\":\"scatter\"}],\"scatterternary\":[{\"marker\":{\"colorbar\":{\"outlinewidth\":0,\"ticks\":\"\"}},\"type\":\"scatterternary\"}],\"surface\":[{\"colorbar\":{\"outlinewidth\":0,\"ticks\":\"\"},\"colorscale\":[[0.0,\"#0d0887\"],[0.1111111111111111,\"#46039f\"],[0.2222222222222222,\"#7201a8\"],[0.3333333333333333,\"#9c179e\"],[0.4444444444444444,\"#bd3786\"],[0.5555555555555556,\"#d8576b\"],[0.6666666666666666,\"#ed7953\"],[0.7777777777777778,\"#fb9f3a\"],[0.8888888888888888,\"#fdca26\"],[1.0,\"#f0f921\"]],\"type\":\"surface\"}],\"table\":[{\"cells\":{\"fill\":{\"color\":\"#EBF0F8\"},\"line\":{\"color\":\"white\"}},\"header\":{\"fill\":{\"color\":\"#C8D4E3\"},\"line\":{\"color\":\"white\"}},\"type\":\"table\"}]},\"layout\":{\"annotationdefaults\":{\"arrowcolor\":\"#2a3f5f\",\"arrowhead\":0,\"arrowwidth\":1},\"autotypenumbers\":\"strict\",\"coloraxis\":{\"colorbar\":{\"outlinewidth\":0,\"ticks\":\"\"}},\"colorscale\":{\"diverging\":[[0,\"#8e0152\"],[0.1,\"#c51b7d\"],[0.2,\"#de77ae\"],[0.3,\"#f1b6da\"],[0.4,\"#fde0ef\"],[0.5,\"#f7f7f7\"],[0.6,\"#e6f5d0\"],[0.7,\"#b8e186\"],[0.8,\"#7fbc41\"],[0.9,\"#4d9221\"],[1,\"#276419\"]],\"sequential\":[[0.0,\"#0d0887\"],[0.1111111111111111,\"#46039f\"],[0.2222222222222222,\"#7201a8\"],[0.3333333333333333,\"#9c179e\"],[0.4444444444444444,\"#bd3786\"],[0.5555555555555556,\"#d8576b\"],[0.6666666666666666,\"#ed7953\"],[0.7777777777777778,\"#fb9f3a\"],[0.8888888888888888,\"#fdca26\"],[1.0,\"#f0f921\"]],\"sequentialminus\":[[0.0,\"#0d0887\"],[0.1111111111111111,\"#46039f\"],[0.2222222222222222,\"#7201a8\"],[0.3333333333333333,\"#9c179e\"],[0.4444444444444444,\"#bd3786\"],[0.5555555555555556,\"#d8576b\"],[0.6666666666666666,\"#ed7953\"],[0.7777777777777778,\"#fb9f3a\"],[0.8888888888888888,\"#fdca26\"],[1.0,\"#f0f921\"]]},\"colorway\":[\"#636efa\",\"#EF553B\",\"#00cc96\",\"#ab63fa\",\"#FFA15A\",\"#19d3f3\",\"#FF6692\",\"#B6E880\",\"#FF97FF\",\"#FECB52\"],\"font\":{\"color\":\"#2a3f5f\"},\"geo\":{\"bgcolor\":\"white\",\"lakecolor\":\"white\",\"landcolor\":\"#E5ECF6\",\"showlakes\":true,\"showland\":true,\"subunitcolor\":\"white\"},\"hoverlabel\":{\"align\":\"left\"},\"hovermode\":\"closest\",\"mapbox\":{\"style\":\"light\"},\"paper_bgcolor\":\"white\",\"plot_bgcolor\":\"#E5ECF6\",\"polar\":{\"angularaxis\":{\"gridcolor\":\"white\",\"linecolor\":\"white\",\"ticks\":\"\"},\"bgcolor\":\"#E5ECF6\",\"radialaxis\":{\"gridcolor\":\"white\",\"linecolor\":\"white\",\"ticks\":\"\"}},\"scene\":{\"xaxis\":{\"backgroundcolor\":\"#E5ECF6\",\"gridcolor\":\"white\",\"gridwidth\":2,\"linecolor\":\"white\",\"showbackground\":true,\"ticks\":\"\",\"zerolinecolor\":\"white\"},\"yaxis\":{\"backgroundcolor\":\"#E5ECF6\",\"gridcolor\":\"white\",\"gridwidth\":2,\"linecolor\":\"white\",\"showbackground\":true,\"ticks\":\"\",\"zerolinecolor\":\"white\"},\"zaxis\":{\"backgroundcolor\":\"#E5ECF6\",\"gridcolor\":\"white\",\"gridwidth\":2,\"linecolor\":\"white\",\"showbackground\":true,\"ticks\":\"\",\"zerolinecolor\":\"white\"}},\"shapedefaults\":{\"line\":{\"color\":\"#2a3f5f\"}},\"ternary\":{\"aaxis\":{\"gridcolor\":\"white\",\"linecolor\":\"white\",\"ticks\":\"\"},\"baxis\":{\"gridcolor\":\"white\",\"linecolor\":\"white\",\"ticks\":\"\"},\"bgcolor\":\"#E5ECF6\",\"caxis\":{\"gridcolor\":\"white\",\"linecolor\":\"white\",\"ticks\":\"\"}},\"title\":{\"x\":0.05},\"xaxis\":{\"automargin\":true,\"gridcolor\":\"white\",\"linecolor\":\"white\",\"ticks\":\"\",\"title\":{\"standoff\":15},\"zerolinecolor\":\"white\",\"zerolinewidth\":2},\"yaxis\":{\"automargin\":true,\"gridcolor\":\"white\",\"linecolor\":\"white\",\"ticks\":\"\",\"title\":{\"standoff\":15},\"zerolinecolor\":\"white\",\"zerolinewidth\":2}}},\"title\":{\"font\":{\"color\":\"#4D5663\"}},\"xaxis\":{\"anchor\":\"y\",\"domain\":[0.0,0.2125],\"gridcolor\":\"#E1E5ED\",\"showgrid\":false,\"tickfont\":{\"color\":\"#4D5663\"},\"title\":{\"font\":{\"color\":\"#4D5663\"},\"text\":\"\"},\"zerolinecolor\":\"#E1E5ED\"},\"yaxis\":{\"anchor\":\"x\",\"domain\":[0.8025,1.0],\"gridcolor\":\"#E1E5ED\",\"showgrid\":false,\"tickfont\":{\"color\":\"#4D5663\"},\"title\":{\"font\":{\"color\":\"#4D5663\"},\"text\":\"\"},\"zerolinecolor\":\"#E1E5ED\"},\"xaxis2\":{\"anchor\":\"y2\",\"domain\":[0.2625,0.475],\"gridcolor\":\"#E1E5ED\",\"showgrid\":false,\"tickfont\":{\"color\":\"#4D5663\"},\"title\":{\"font\":{\"color\":\"#4D5663\"},\"text\":\"\"},\"zerolinecolor\":\"#E1E5ED\"},\"yaxis2\":{\"anchor\":\"x2\",\"domain\":[0.8025,1.0],\"gridcolor\":\"#E1E5ED\",\"showgrid\":false,\"tickfont\":{\"color\":\"#4D5663\"},\"title\":{\"font\":{\"color\":\"#4D5663\"},\"text\":\"\"},\"zerolinecolor\":\"#E1E5ED\"},\"xaxis3\":{\"anchor\":\"y3\",\"domain\":[0.525,0.7375],\"gridcolor\":\"#E1E5ED\",\"showgrid\":false,\"tickfont\":{\"color\":\"#4D5663\"},\"title\":{\"font\":{\"color\":\"#4D5663\"},\"text\":\"\"},\"zerolinecolor\":\"#E1E5ED\"},\"yaxis3\":{\"anchor\":\"x3\",\"domain\":[0.8025,1.0],\"gridcolor\":\"#E1E5ED\",\"showgrid\":false,\"tickfont\":{\"color\":\"#4D5663\"},\"title\":{\"font\":{\"color\":\"#4D5663\"},\"text\":\"\"},\"zerolinecolor\":\"#E1E5ED\"},\"xaxis4\":{\"anchor\":\"y4\",\"domain\":[0.7875,1.0],\"gridcolor\":\"#E1E5ED\",\"showgrid\":false,\"tickfont\":{\"color\":\"#4D5663\"},\"title\":{\"font\":{\"color\":\"#4D5663\"},\"text\":\"\"},\"zerolinecolor\":\"#E1E5ED\"},\"yaxis4\":{\"anchor\":\"x4\",\"domain\":[0.8025,1.0],\"gridcolor\":\"#E1E5ED\",\"showgrid\":false,\"tickfont\":{\"color\":\"#4D5663\"},\"title\":{\"font\":{\"color\":\"#4D5663\"},\"text\":\"\"},\"zerolinecolor\":\"#E1E5ED\"},\"xaxis5\":{\"anchor\":\"y5\",\"domain\":[0.0,0.2125],\"gridcolor\":\"#E1E5ED\",\"showgrid\":false,\"tickfont\":{\"color\":\"#4D5663\"},\"title\":{\"font\":{\"color\":\"#4D5663\"},\"text\":\"\"},\"zerolinecolor\":\"#E1E5ED\"},\"yaxis5\":{\"anchor\":\"x5\",\"domain\":[0.535,0.7325],\"gridcolor\":\"#E1E5ED\",\"showgrid\":false,\"tickfont\":{\"color\":\"#4D5663\"},\"title\":{\"font\":{\"color\":\"#4D5663\"},\"text\":\"\"},\"zerolinecolor\":\"#E1E5ED\"},\"xaxis6\":{\"anchor\":\"y6\",\"domain\":[0.2625,0.475],\"gridcolor\":\"#E1E5ED\",\"showgrid\":false,\"tickfont\":{\"color\":\"#4D5663\"},\"title\":{\"font\":{\"color\":\"#4D5663\"},\"text\":\"\"},\"zerolinecolor\":\"#E1E5ED\"},\"yaxis6\":{\"anchor\":\"x6\",\"domain\":[0.535,0.7325],\"gridcolor\":\"#E1E5ED\",\"showgrid\":false,\"tickfont\":{\"color\":\"#4D5663\"},\"title\":{\"font\":{\"color\":\"#4D5663\"},\"text\":\"\"},\"zerolinecolor\":\"#E1E5ED\"},\"xaxis7\":{\"anchor\":\"y7\",\"domain\":[0.525,0.7375],\"gridcolor\":\"#E1E5ED\",\"showgrid\":false,\"tickfont\":{\"color\":\"#4D5663\"},\"title\":{\"font\":{\"color\":\"#4D5663\"},\"text\":\"\"},\"zerolinecolor\":\"#E1E5ED\"},\"yaxis7\":{\"anchor\":\"x7\",\"domain\":[0.535,0.7325],\"gridcolor\":\"#E1E5ED\",\"showgrid\":false,\"tickfont\":{\"color\":\"#4D5663\"},\"title\":{\"font\":{\"color\":\"#4D5663\"},\"text\":\"\"},\"zerolinecolor\":\"#E1E5ED\"},\"xaxis8\":{\"anchor\":\"y8\",\"domain\":[0.7875,1.0],\"gridcolor\":\"#E1E5ED\",\"showgrid\":false,\"tickfont\":{\"color\":\"#4D5663\"},\"title\":{\"font\":{\"color\":\"#4D5663\"},\"text\":\"\"},\"zerolinecolor\":\"#E1E5ED\"},\"yaxis8\":{\"anchor\":\"x8\",\"domain\":[0.535,0.7325],\"gridcolor\":\"#E1E5ED\",\"showgrid\":false,\"tickfont\":{\"color\":\"#4D5663\"},\"title\":{\"font\":{\"color\":\"#4D5663\"},\"text\":\"\"},\"zerolinecolor\":\"#E1E5ED\"},\"xaxis9\":{\"anchor\":\"y9\",\"domain\":[0.0,0.2125],\"gridcolor\":\"#E1E5ED\",\"showgrid\":false,\"tickfont\":{\"color\":\"#4D5663\"},\"title\":{\"font\":{\"color\":\"#4D5663\"},\"text\":\"\"},\"zerolinecolor\":\"#E1E5ED\"},\"yaxis9\":{\"anchor\":\"x9\",\"domain\":[0.2675,0.465],\"gridcolor\":\"#E1E5ED\",\"showgrid\":false,\"tickfont\":{\"color\":\"#4D5663\"},\"title\":{\"font\":{\"color\":\"#4D5663\"},\"text\":\"\"},\"zerolinecolor\":\"#E1E5ED\"},\"xaxis10\":{\"anchor\":\"y10\",\"domain\":[0.2625,0.475],\"gridcolor\":\"#E1E5ED\",\"showgrid\":false,\"tickfont\":{\"color\":\"#4D5663\"},\"title\":{\"font\":{\"color\":\"#4D5663\"},\"text\":\"\"},\"zerolinecolor\":\"#E1E5ED\"},\"yaxis10\":{\"anchor\":\"x10\",\"domain\":[0.2675,0.465],\"gridcolor\":\"#E1E5ED\",\"showgrid\":false,\"tickfont\":{\"color\":\"#4D5663\"},\"title\":{\"font\":{\"color\":\"#4D5663\"},\"text\":\"\"},\"zerolinecolor\":\"#E1E5ED\"},\"xaxis11\":{\"anchor\":\"y11\",\"domain\":[0.525,0.7375],\"gridcolor\":\"#E1E5ED\",\"showgrid\":false,\"tickfont\":{\"color\":\"#4D5663\"},\"title\":{\"font\":{\"color\":\"#4D5663\"},\"text\":\"\"},\"zerolinecolor\":\"#E1E5ED\"},\"yaxis11\":{\"anchor\":\"x11\",\"domain\":[0.2675,0.465],\"gridcolor\":\"#E1E5ED\",\"showgrid\":false,\"tickfont\":{\"color\":\"#4D5663\"},\"title\":{\"font\":{\"color\":\"#4D5663\"},\"text\":\"\"},\"zerolinecolor\":\"#E1E5ED\"},\"xaxis12\":{\"anchor\":\"y12\",\"domain\":[0.7875,1.0],\"gridcolor\":\"#E1E5ED\",\"showgrid\":false,\"tickfont\":{\"color\":\"#4D5663\"},\"title\":{\"font\":{\"color\":\"#4D5663\"},\"text\":\"\"},\"zerolinecolor\":\"#E1E5ED\"},\"yaxis12\":{\"anchor\":\"x12\",\"domain\":[0.2675,0.465],\"gridcolor\":\"#E1E5ED\",\"showgrid\":false,\"tickfont\":{\"color\":\"#4D5663\"},\"title\":{\"font\":{\"color\":\"#4D5663\"},\"text\":\"\"},\"zerolinecolor\":\"#E1E5ED\"},\"xaxis13\":{\"anchor\":\"y13\",\"domain\":[0.0,0.2125],\"gridcolor\":\"#E1E5ED\",\"showgrid\":false,\"tickfont\":{\"color\":\"#4D5663\"},\"title\":{\"font\":{\"color\":\"#4D5663\"},\"text\":\"\"},\"zerolinecolor\":\"#E1E5ED\"},\"yaxis13\":{\"anchor\":\"x13\",\"domain\":[0.0,0.1975],\"gridcolor\":\"#E1E5ED\",\"showgrid\":false,\"tickfont\":{\"color\":\"#4D5663\"},\"title\":{\"font\":{\"color\":\"#4D5663\"},\"text\":\"\"},\"zerolinecolor\":\"#E1E5ED\"},\"xaxis14\":{\"anchor\":\"y14\",\"domain\":[0.2625,0.475],\"gridcolor\":\"#E1E5ED\",\"showgrid\":false,\"tickfont\":{\"color\":\"#4D5663\"},\"title\":{\"font\":{\"color\":\"#4D5663\"},\"text\":\"\"},\"zerolinecolor\":\"#E1E5ED\"},\"yaxis14\":{\"anchor\":\"x14\",\"domain\":[0.0,0.1975],\"gridcolor\":\"#E1E5ED\",\"showgrid\":false,\"tickfont\":{\"color\":\"#4D5663\"},\"title\":{\"font\":{\"color\":\"#4D5663\"},\"text\":\"\"},\"zerolinecolor\":\"#E1E5ED\"},\"xaxis15\":{\"anchor\":\"y15\",\"domain\":[0.525,0.7375],\"gridcolor\":\"#E1E5ED\",\"showgrid\":false,\"tickfont\":{\"color\":\"#4D5663\"},\"title\":{\"font\":{\"color\":\"#4D5663\"},\"text\":\"\"},\"zerolinecolor\":\"#E1E5ED\"},\"yaxis15\":{\"anchor\":\"x15\",\"domain\":[0.0,0.1975],\"gridcolor\":\"#E1E5ED\",\"showgrid\":false,\"tickfont\":{\"color\":\"#4D5663\"},\"title\":{\"font\":{\"color\":\"#4D5663\"},\"text\":\"\"},\"zerolinecolor\":\"#E1E5ED\"},\"xaxis16\":{\"anchor\":\"y16\",\"domain\":[0.7875,1.0],\"gridcolor\":\"#E1E5ED\",\"showgrid\":false,\"tickfont\":{\"color\":\"#4D5663\"},\"title\":{\"font\":{\"color\":\"#4D5663\"},\"text\":\"\"},\"zerolinecolor\":\"#E1E5ED\"},\"yaxis16\":{\"anchor\":\"x16\",\"domain\":[0.0,0.1975],\"gridcolor\":\"#E1E5ED\",\"showgrid\":false,\"tickfont\":{\"color\":\"#4D5663\"},\"title\":{\"font\":{\"color\":\"#4D5663\"},\"text\":\"\"},\"zerolinecolor\":\"#E1E5ED\"}},                        {\"showLink\": true, \"linkText\": \"Export to plot.ly\", \"plotlyServerURL\": \"https://plot.ly\", \"responsive\": true}                    ).then(function(){\n",
       "                            \n",
       "var gd = document.getElementById('84e74a7b-8a03-4af8-a386-33260e0b8b9d');\n",
       "var x = new MutationObserver(function (mutations, observer) {{\n",
       "        var display = window.getComputedStyle(gd).display;\n",
       "        if (!display || display === 'none') {{\n",
       "            console.log([gd, 'removed!']);\n",
       "            Plotly.purge(gd);\n",
       "            observer.disconnect();\n",
       "        }}\n",
       "}});\n",
       "\n",
       "// Listen for the removal of the full notebook cells\n",
       "var notebookContainer = gd.closest('#notebook-container');\n",
       "if (notebookContainer) {{\n",
       "    x.observe(notebookContainer, {childList: true});\n",
       "}}\n",
       "\n",
       "// Listen for the clearing of the current output cell\n",
       "var outputEl = gd.closest('.output');\n",
       "if (outputEl) {{\n",
       "    x.observe(outputEl, {childList: true});\n",
       "}}\n",
       "\n",
       "                        })                };                });            </script>        </div>"
      ]
     },
     "metadata": {},
     "output_type": "display_data"
    }
   ],
   "source": [
    "df.scatter_matrix()"
   ]
  },
  {
   "cell_type": "code",
   "execution_count": 23,
   "metadata": {},
   "outputs": [
    {
     "data": {
      "application/vnd.plotly.v1+json": {
       "config": {
        "linkText": "Export to plot.ly",
        "plotlyServerURL": "https://plot.ly",
        "showLink": true
       },
       "data": [
        {
         "colorscale": [
          [
           0,
           "rgb(165,0,38)"
          ],
          [
           0.1,
           "rgb(215,48,39)"
          ],
          [
           0.2,
           "rgb(244,109,67)"
          ],
          [
           0.3,
           "rgb(253,174,97)"
          ],
          [
           0.4,
           "rgb(254,224,144)"
          ],
          [
           0.5,
           "rgb(255,255,191)"
          ],
          [
           0.6,
           "rgb(224,243,248)"
          ],
          [
           0.7,
           "rgb(171,217,233)"
          ],
          [
           0.8,
           "rgb(116,173,209)"
          ],
          [
           0.9,
           "rgb(69,117,180)"
          ],
          [
           1,
           "rgb(49,54,149)"
          ]
         ],
         "type": "surface",
         "x": [
          0,
          1,
          2,
          3,
          4,
          5,
          6,
          7,
          8,
          9
         ],
         "y": [
          "x",
          "y",
          "z"
         ],
         "z": [
          [
           2,
           4,
           6,
           8,
           10,
           2,
           4,
           6,
           8,
           10
          ],
          [
           30,
           20,
           10,
           20,
           30,
           2,
           4,
           6,
           8,
           10
          ],
          [
           2,
           4,
           6,
           8,
           10,
           2,
           4,
           6,
           8,
           10
          ]
         ]
        }
       ],
       "layout": {
        "legend": {
         "bgcolor": "#F5F6F9",
         "font": {
          "color": "#4D5663"
         }
        },
        "paper_bgcolor": "#F5F6F9",
        "plot_bgcolor": "#F5F6F9",
        "template": {
         "data": {
          "bar": [
           {
            "error_x": {
             "color": "#2a3f5f"
            },
            "error_y": {
             "color": "#2a3f5f"
            },
            "marker": {
             "line": {
              "color": "#E5ECF6",
              "width": 0.5
             },
             "pattern": {
              "fillmode": "overlay",
              "size": 10,
              "solidity": 0.2
             }
            },
            "type": "bar"
           }
          ],
          "barpolar": [
           {
            "marker": {
             "line": {
              "color": "#E5ECF6",
              "width": 0.5
             },
             "pattern": {
              "fillmode": "overlay",
              "size": 10,
              "solidity": 0.2
             }
            },
            "type": "barpolar"
           }
          ],
          "carpet": [
           {
            "aaxis": {
             "endlinecolor": "#2a3f5f",
             "gridcolor": "white",
             "linecolor": "white",
             "minorgridcolor": "white",
             "startlinecolor": "#2a3f5f"
            },
            "baxis": {
             "endlinecolor": "#2a3f5f",
             "gridcolor": "white",
             "linecolor": "white",
             "minorgridcolor": "white",
             "startlinecolor": "#2a3f5f"
            },
            "type": "carpet"
           }
          ],
          "choropleth": [
           {
            "colorbar": {
             "outlinewidth": 0,
             "ticks": ""
            },
            "type": "choropleth"
           }
          ],
          "contour": [
           {
            "colorbar": {
             "outlinewidth": 0,
             "ticks": ""
            },
            "colorscale": [
             [
              0,
              "#0d0887"
             ],
             [
              0.1111111111111111,
              "#46039f"
             ],
             [
              0.2222222222222222,
              "#7201a8"
             ],
             [
              0.3333333333333333,
              "#9c179e"
             ],
             [
              0.4444444444444444,
              "#bd3786"
             ],
             [
              0.5555555555555556,
              "#d8576b"
             ],
             [
              0.6666666666666666,
              "#ed7953"
             ],
             [
              0.7777777777777778,
              "#fb9f3a"
             ],
             [
              0.8888888888888888,
              "#fdca26"
             ],
             [
              1,
              "#f0f921"
             ]
            ],
            "type": "contour"
           }
          ],
          "contourcarpet": [
           {
            "colorbar": {
             "outlinewidth": 0,
             "ticks": ""
            },
            "type": "contourcarpet"
           }
          ],
          "heatmap": [
           {
            "colorbar": {
             "outlinewidth": 0,
             "ticks": ""
            },
            "colorscale": [
             [
              0,
              "#0d0887"
             ],
             [
              0.1111111111111111,
              "#46039f"
             ],
             [
              0.2222222222222222,
              "#7201a8"
             ],
             [
              0.3333333333333333,
              "#9c179e"
             ],
             [
              0.4444444444444444,
              "#bd3786"
             ],
             [
              0.5555555555555556,
              "#d8576b"
             ],
             [
              0.6666666666666666,
              "#ed7953"
             ],
             [
              0.7777777777777778,
              "#fb9f3a"
             ],
             [
              0.8888888888888888,
              "#fdca26"
             ],
             [
              1,
              "#f0f921"
             ]
            ],
            "type": "heatmap"
           }
          ],
          "heatmapgl": [
           {
            "colorbar": {
             "outlinewidth": 0,
             "ticks": ""
            },
            "colorscale": [
             [
              0,
              "#0d0887"
             ],
             [
              0.1111111111111111,
              "#46039f"
             ],
             [
              0.2222222222222222,
              "#7201a8"
             ],
             [
              0.3333333333333333,
              "#9c179e"
             ],
             [
              0.4444444444444444,
              "#bd3786"
             ],
             [
              0.5555555555555556,
              "#d8576b"
             ],
             [
              0.6666666666666666,
              "#ed7953"
             ],
             [
              0.7777777777777778,
              "#fb9f3a"
             ],
             [
              0.8888888888888888,
              "#fdca26"
             ],
             [
              1,
              "#f0f921"
             ]
            ],
            "type": "heatmapgl"
           }
          ],
          "histogram": [
           {
            "marker": {
             "pattern": {
              "fillmode": "overlay",
              "size": 10,
              "solidity": 0.2
             }
            },
            "type": "histogram"
           }
          ],
          "histogram2d": [
           {
            "colorbar": {
             "outlinewidth": 0,
             "ticks": ""
            },
            "colorscale": [
             [
              0,
              "#0d0887"
             ],
             [
              0.1111111111111111,
              "#46039f"
             ],
             [
              0.2222222222222222,
              "#7201a8"
             ],
             [
              0.3333333333333333,
              "#9c179e"
             ],
             [
              0.4444444444444444,
              "#bd3786"
             ],
             [
              0.5555555555555556,
              "#d8576b"
             ],
             [
              0.6666666666666666,
              "#ed7953"
             ],
             [
              0.7777777777777778,
              "#fb9f3a"
             ],
             [
              0.8888888888888888,
              "#fdca26"
             ],
             [
              1,
              "#f0f921"
             ]
            ],
            "type": "histogram2d"
           }
          ],
          "histogram2dcontour": [
           {
            "colorbar": {
             "outlinewidth": 0,
             "ticks": ""
            },
            "colorscale": [
             [
              0,
              "#0d0887"
             ],
             [
              0.1111111111111111,
              "#46039f"
             ],
             [
              0.2222222222222222,
              "#7201a8"
             ],
             [
              0.3333333333333333,
              "#9c179e"
             ],
             [
              0.4444444444444444,
              "#bd3786"
             ],
             [
              0.5555555555555556,
              "#d8576b"
             ],
             [
              0.6666666666666666,
              "#ed7953"
             ],
             [
              0.7777777777777778,
              "#fb9f3a"
             ],
             [
              0.8888888888888888,
              "#fdca26"
             ],
             [
              1,
              "#f0f921"
             ]
            ],
            "type": "histogram2dcontour"
           }
          ],
          "mesh3d": [
           {
            "colorbar": {
             "outlinewidth": 0,
             "ticks": ""
            },
            "type": "mesh3d"
           }
          ],
          "parcoords": [
           {
            "line": {
             "colorbar": {
              "outlinewidth": 0,
              "ticks": ""
             }
            },
            "type": "parcoords"
           }
          ],
          "pie": [
           {
            "automargin": true,
            "type": "pie"
           }
          ],
          "scatter": [
           {
            "fillpattern": {
             "fillmode": "overlay",
             "size": 10,
             "solidity": 0.2
            },
            "type": "scatter"
           }
          ],
          "scatter3d": [
           {
            "line": {
             "colorbar": {
              "outlinewidth": 0,
              "ticks": ""
             }
            },
            "marker": {
             "colorbar": {
              "outlinewidth": 0,
              "ticks": ""
             }
            },
            "type": "scatter3d"
           }
          ],
          "scattercarpet": [
           {
            "marker": {
             "colorbar": {
              "outlinewidth": 0,
              "ticks": ""
             }
            },
            "type": "scattercarpet"
           }
          ],
          "scattergeo": [
           {
            "marker": {
             "colorbar": {
              "outlinewidth": 0,
              "ticks": ""
             }
            },
            "type": "scattergeo"
           }
          ],
          "scattergl": [
           {
            "marker": {
             "colorbar": {
              "outlinewidth": 0,
              "ticks": ""
             }
            },
            "type": "scattergl"
           }
          ],
          "scattermapbox": [
           {
            "marker": {
             "colorbar": {
              "outlinewidth": 0,
              "ticks": ""
             }
            },
            "type": "scattermapbox"
           }
          ],
          "scatterpolar": [
           {
            "marker": {
             "colorbar": {
              "outlinewidth": 0,
              "ticks": ""
             }
            },
            "type": "scatterpolar"
           }
          ],
          "scatterpolargl": [
           {
            "marker": {
             "colorbar": {
              "outlinewidth": 0,
              "ticks": ""
             }
            },
            "type": "scatterpolargl"
           }
          ],
          "scatterternary": [
           {
            "marker": {
             "colorbar": {
              "outlinewidth": 0,
              "ticks": ""
             }
            },
            "type": "scatterternary"
           }
          ],
          "surface": [
           {
            "colorbar": {
             "outlinewidth": 0,
             "ticks": ""
            },
            "colorscale": [
             [
              0,
              "#0d0887"
             ],
             [
              0.1111111111111111,
              "#46039f"
             ],
             [
              0.2222222222222222,
              "#7201a8"
             ],
             [
              0.3333333333333333,
              "#9c179e"
             ],
             [
              0.4444444444444444,
              "#bd3786"
             ],
             [
              0.5555555555555556,
              "#d8576b"
             ],
             [
              0.6666666666666666,
              "#ed7953"
             ],
             [
              0.7777777777777778,
              "#fb9f3a"
             ],
             [
              0.8888888888888888,
              "#fdca26"
             ],
             [
              1,
              "#f0f921"
             ]
            ],
            "type": "surface"
           }
          ],
          "table": [
           {
            "cells": {
             "fill": {
              "color": "#EBF0F8"
             },
             "line": {
              "color": "white"
             }
            },
            "header": {
             "fill": {
              "color": "#C8D4E3"
             },
             "line": {
              "color": "white"
             }
            },
            "type": "table"
           }
          ]
         },
         "layout": {
          "annotationdefaults": {
           "arrowcolor": "#2a3f5f",
           "arrowhead": 0,
           "arrowwidth": 1
          },
          "autotypenumbers": "strict",
          "coloraxis": {
           "colorbar": {
            "outlinewidth": 0,
            "ticks": ""
           }
          },
          "colorscale": {
           "diverging": [
            [
             0,
             "#8e0152"
            ],
            [
             0.1,
             "#c51b7d"
            ],
            [
             0.2,
             "#de77ae"
            ],
            [
             0.3,
             "#f1b6da"
            ],
            [
             0.4,
             "#fde0ef"
            ],
            [
             0.5,
             "#f7f7f7"
            ],
            [
             0.6,
             "#e6f5d0"
            ],
            [
             0.7,
             "#b8e186"
            ],
            [
             0.8,
             "#7fbc41"
            ],
            [
             0.9,
             "#4d9221"
            ],
            [
             1,
             "#276419"
            ]
           ],
           "sequential": [
            [
             0,
             "#0d0887"
            ],
            [
             0.1111111111111111,
             "#46039f"
            ],
            [
             0.2222222222222222,
             "#7201a8"
            ],
            [
             0.3333333333333333,
             "#9c179e"
            ],
            [
             0.4444444444444444,
             "#bd3786"
            ],
            [
             0.5555555555555556,
             "#d8576b"
            ],
            [
             0.6666666666666666,
             "#ed7953"
            ],
            [
             0.7777777777777778,
             "#fb9f3a"
            ],
            [
             0.8888888888888888,
             "#fdca26"
            ],
            [
             1,
             "#f0f921"
            ]
           ],
           "sequentialminus": [
            [
             0,
             "#0d0887"
            ],
            [
             0.1111111111111111,
             "#46039f"
            ],
            [
             0.2222222222222222,
             "#7201a8"
            ],
            [
             0.3333333333333333,
             "#9c179e"
            ],
            [
             0.4444444444444444,
             "#bd3786"
            ],
            [
             0.5555555555555556,
             "#d8576b"
            ],
            [
             0.6666666666666666,
             "#ed7953"
            ],
            [
             0.7777777777777778,
             "#fb9f3a"
            ],
            [
             0.8888888888888888,
             "#fdca26"
            ],
            [
             1,
             "#f0f921"
            ]
           ]
          },
          "colorway": [
           "#636efa",
           "#EF553B",
           "#00cc96",
           "#ab63fa",
           "#FFA15A",
           "#19d3f3",
           "#FF6692",
           "#B6E880",
           "#FF97FF",
           "#FECB52"
          ],
          "font": {
           "color": "#2a3f5f"
          },
          "geo": {
           "bgcolor": "white",
           "lakecolor": "white",
           "landcolor": "#E5ECF6",
           "showlakes": true,
           "showland": true,
           "subunitcolor": "white"
          },
          "hoverlabel": {
           "align": "left"
          },
          "hovermode": "closest",
          "mapbox": {
           "style": "light"
          },
          "paper_bgcolor": "white",
          "plot_bgcolor": "#E5ECF6",
          "polar": {
           "angularaxis": {
            "gridcolor": "white",
            "linecolor": "white",
            "ticks": ""
           },
           "bgcolor": "#E5ECF6",
           "radialaxis": {
            "gridcolor": "white",
            "linecolor": "white",
            "ticks": ""
           }
          },
          "scene": {
           "xaxis": {
            "backgroundcolor": "#E5ECF6",
            "gridcolor": "white",
            "gridwidth": 2,
            "linecolor": "white",
            "showbackground": true,
            "ticks": "",
            "zerolinecolor": "white"
           },
           "yaxis": {
            "backgroundcolor": "#E5ECF6",
            "gridcolor": "white",
            "gridwidth": 2,
            "linecolor": "white",
            "showbackground": true,
            "ticks": "",
            "zerolinecolor": "white"
           },
           "zaxis": {
            "backgroundcolor": "#E5ECF6",
            "gridcolor": "white",
            "gridwidth": 2,
            "linecolor": "white",
            "showbackground": true,
            "ticks": "",
            "zerolinecolor": "white"
           }
          },
          "shapedefaults": {
           "line": {
            "color": "#2a3f5f"
           }
          },
          "ternary": {
           "aaxis": {
            "gridcolor": "white",
            "linecolor": "white",
            "ticks": ""
           },
           "baxis": {
            "gridcolor": "white",
            "linecolor": "white",
            "ticks": ""
           },
           "bgcolor": "#E5ECF6",
           "caxis": {
            "gridcolor": "white",
            "linecolor": "white",
            "ticks": ""
           }
          },
          "title": {
           "x": 0.05
          },
          "xaxis": {
           "automargin": true,
           "gridcolor": "white",
           "linecolor": "white",
           "ticks": "",
           "title": {
            "standoff": 15
           },
           "zerolinecolor": "white",
           "zerolinewidth": 2
          },
          "yaxis": {
           "automargin": true,
           "gridcolor": "white",
           "linecolor": "white",
           "ticks": "",
           "title": {
            "standoff": 15
           },
           "zerolinecolor": "white",
           "zerolinewidth": 2
          }
         }
        },
        "title": {
         "font": {
          "color": "#4D5663"
         }
        },
        "xaxis": {
         "gridcolor": "#E1E5ED",
         "showgrid": true,
         "tickfont": {
          "color": "#4D5663"
         },
         "title": {
          "font": {
           "color": "#4D5663"
          },
          "text": ""
         },
         "zerolinecolor": "#E1E5ED"
        },
        "yaxis": {
         "gridcolor": "#E1E5ED",
         "showgrid": true,
         "tickfont": {
          "color": "#4D5663"
         },
         "title": {
          "font": {
           "color": "#4D5663"
          },
          "text": ""
         },
         "zerolinecolor": "#E1E5ED"
        }
       }
      },
      "text/html": [
       "<div>                            <div id=\"af8b91a1-584a-46b9-85f9-c86b66310fa1\" class=\"plotly-graph-div\" style=\"height:525px; width:100%;\"></div>            <script type=\"text/javascript\">                require([\"plotly\"], function(Plotly) {                    window.PLOTLYENV=window.PLOTLYENV || {};\n",
       "                    window.PLOTLYENV.BASE_URL='https://plot.ly';                                    if (document.getElementById(\"af8b91a1-584a-46b9-85f9-c86b66310fa1\")) {                    Plotly.newPlot(                        \"af8b91a1-584a-46b9-85f9-c86b66310fa1\",                        [{\"colorscale\":[[0.0,\"rgb(165,0,38)\"],[0.1,\"rgb(215,48,39)\"],[0.2,\"rgb(244,109,67)\"],[0.3,\"rgb(253,174,97)\"],[0.4,\"rgb(254,224,144)\"],[0.5,\"rgb(255,255,191)\"],[0.6,\"rgb(224,243,248)\"],[0.7,\"rgb(171,217,233)\"],[0.8,\"rgb(116,173,209)\"],[0.9,\"rgb(69,117,180)\"],[1.0,\"rgb(49,54,149)\"]],\"x\":[0,1,2,3,4,5,6,7,8,9],\"y\":[\"x\",\"y\",\"z\"],\"z\":[[2,4,6,8,10,2,4,6,8,10],[30,20,10,20,30,2,4,6,8,10],[2,4,6,8,10,2,4,6,8,10]],\"type\":\"surface\"}],                        {\"legend\":{\"bgcolor\":\"#F5F6F9\",\"font\":{\"color\":\"#4D5663\"}},\"paper_bgcolor\":\"#F5F6F9\",\"plot_bgcolor\":\"#F5F6F9\",\"template\":{\"data\":{\"barpolar\":[{\"marker\":{\"line\":{\"color\":\"#E5ECF6\",\"width\":0.5},\"pattern\":{\"fillmode\":\"overlay\",\"size\":10,\"solidity\":0.2}},\"type\":\"barpolar\"}],\"bar\":[{\"error_x\":{\"color\":\"#2a3f5f\"},\"error_y\":{\"color\":\"#2a3f5f\"},\"marker\":{\"line\":{\"color\":\"#E5ECF6\",\"width\":0.5},\"pattern\":{\"fillmode\":\"overlay\",\"size\":10,\"solidity\":0.2}},\"type\":\"bar\"}],\"carpet\":[{\"aaxis\":{\"endlinecolor\":\"#2a3f5f\",\"gridcolor\":\"white\",\"linecolor\":\"white\",\"minorgridcolor\":\"white\",\"startlinecolor\":\"#2a3f5f\"},\"baxis\":{\"endlinecolor\":\"#2a3f5f\",\"gridcolor\":\"white\",\"linecolor\":\"white\",\"minorgridcolor\":\"white\",\"startlinecolor\":\"#2a3f5f\"},\"type\":\"carpet\"}],\"choropleth\":[{\"colorbar\":{\"outlinewidth\":0,\"ticks\":\"\"},\"type\":\"choropleth\"}],\"contourcarpet\":[{\"colorbar\":{\"outlinewidth\":0,\"ticks\":\"\"},\"type\":\"contourcarpet\"}],\"contour\":[{\"colorbar\":{\"outlinewidth\":0,\"ticks\":\"\"},\"colorscale\":[[0.0,\"#0d0887\"],[0.1111111111111111,\"#46039f\"],[0.2222222222222222,\"#7201a8\"],[0.3333333333333333,\"#9c179e\"],[0.4444444444444444,\"#bd3786\"],[0.5555555555555556,\"#d8576b\"],[0.6666666666666666,\"#ed7953\"],[0.7777777777777778,\"#fb9f3a\"],[0.8888888888888888,\"#fdca26\"],[1.0,\"#f0f921\"]],\"type\":\"contour\"}],\"heatmapgl\":[{\"colorbar\":{\"outlinewidth\":0,\"ticks\":\"\"},\"colorscale\":[[0.0,\"#0d0887\"],[0.1111111111111111,\"#46039f\"],[0.2222222222222222,\"#7201a8\"],[0.3333333333333333,\"#9c179e\"],[0.4444444444444444,\"#bd3786\"],[0.5555555555555556,\"#d8576b\"],[0.6666666666666666,\"#ed7953\"],[0.7777777777777778,\"#fb9f3a\"],[0.8888888888888888,\"#fdca26\"],[1.0,\"#f0f921\"]],\"type\":\"heatmapgl\"}],\"heatmap\":[{\"colorbar\":{\"outlinewidth\":0,\"ticks\":\"\"},\"colorscale\":[[0.0,\"#0d0887\"],[0.1111111111111111,\"#46039f\"],[0.2222222222222222,\"#7201a8\"],[0.3333333333333333,\"#9c179e\"],[0.4444444444444444,\"#bd3786\"],[0.5555555555555556,\"#d8576b\"],[0.6666666666666666,\"#ed7953\"],[0.7777777777777778,\"#fb9f3a\"],[0.8888888888888888,\"#fdca26\"],[1.0,\"#f0f921\"]],\"type\":\"heatmap\"}],\"histogram2dcontour\":[{\"colorbar\":{\"outlinewidth\":0,\"ticks\":\"\"},\"colorscale\":[[0.0,\"#0d0887\"],[0.1111111111111111,\"#46039f\"],[0.2222222222222222,\"#7201a8\"],[0.3333333333333333,\"#9c179e\"],[0.4444444444444444,\"#bd3786\"],[0.5555555555555556,\"#d8576b\"],[0.6666666666666666,\"#ed7953\"],[0.7777777777777778,\"#fb9f3a\"],[0.8888888888888888,\"#fdca26\"],[1.0,\"#f0f921\"]],\"type\":\"histogram2dcontour\"}],\"histogram2d\":[{\"colorbar\":{\"outlinewidth\":0,\"ticks\":\"\"},\"colorscale\":[[0.0,\"#0d0887\"],[0.1111111111111111,\"#46039f\"],[0.2222222222222222,\"#7201a8\"],[0.3333333333333333,\"#9c179e\"],[0.4444444444444444,\"#bd3786\"],[0.5555555555555556,\"#d8576b\"],[0.6666666666666666,\"#ed7953\"],[0.7777777777777778,\"#fb9f3a\"],[0.8888888888888888,\"#fdca26\"],[1.0,\"#f0f921\"]],\"type\":\"histogram2d\"}],\"histogram\":[{\"marker\":{\"pattern\":{\"fillmode\":\"overlay\",\"size\":10,\"solidity\":0.2}},\"type\":\"histogram\"}],\"mesh3d\":[{\"colorbar\":{\"outlinewidth\":0,\"ticks\":\"\"},\"type\":\"mesh3d\"}],\"parcoords\":[{\"line\":{\"colorbar\":{\"outlinewidth\":0,\"ticks\":\"\"}},\"type\":\"parcoords\"}],\"pie\":[{\"automargin\":true,\"type\":\"pie\"}],\"scatter3d\":[{\"line\":{\"colorbar\":{\"outlinewidth\":0,\"ticks\":\"\"}},\"marker\":{\"colorbar\":{\"outlinewidth\":0,\"ticks\":\"\"}},\"type\":\"scatter3d\"}],\"scattercarpet\":[{\"marker\":{\"colorbar\":{\"outlinewidth\":0,\"ticks\":\"\"}},\"type\":\"scattercarpet\"}],\"scattergeo\":[{\"marker\":{\"colorbar\":{\"outlinewidth\":0,\"ticks\":\"\"}},\"type\":\"scattergeo\"}],\"scattergl\":[{\"marker\":{\"colorbar\":{\"outlinewidth\":0,\"ticks\":\"\"}},\"type\":\"scattergl\"}],\"scattermapbox\":[{\"marker\":{\"colorbar\":{\"outlinewidth\":0,\"ticks\":\"\"}},\"type\":\"scattermapbox\"}],\"scatterpolargl\":[{\"marker\":{\"colorbar\":{\"outlinewidth\":0,\"ticks\":\"\"}},\"type\":\"scatterpolargl\"}],\"scatterpolar\":[{\"marker\":{\"colorbar\":{\"outlinewidth\":0,\"ticks\":\"\"}},\"type\":\"scatterpolar\"}],\"scatter\":[{\"fillpattern\":{\"fillmode\":\"overlay\",\"size\":10,\"solidity\":0.2},\"type\":\"scatter\"}],\"scatterternary\":[{\"marker\":{\"colorbar\":{\"outlinewidth\":0,\"ticks\":\"\"}},\"type\":\"scatterternary\"}],\"surface\":[{\"colorbar\":{\"outlinewidth\":0,\"ticks\":\"\"},\"colorscale\":[[0.0,\"#0d0887\"],[0.1111111111111111,\"#46039f\"],[0.2222222222222222,\"#7201a8\"],[0.3333333333333333,\"#9c179e\"],[0.4444444444444444,\"#bd3786\"],[0.5555555555555556,\"#d8576b\"],[0.6666666666666666,\"#ed7953\"],[0.7777777777777778,\"#fb9f3a\"],[0.8888888888888888,\"#fdca26\"],[1.0,\"#f0f921\"]],\"type\":\"surface\"}],\"table\":[{\"cells\":{\"fill\":{\"color\":\"#EBF0F8\"},\"line\":{\"color\":\"white\"}},\"header\":{\"fill\":{\"color\":\"#C8D4E3\"},\"line\":{\"color\":\"white\"}},\"type\":\"table\"}]},\"layout\":{\"annotationdefaults\":{\"arrowcolor\":\"#2a3f5f\",\"arrowhead\":0,\"arrowwidth\":1},\"autotypenumbers\":\"strict\",\"coloraxis\":{\"colorbar\":{\"outlinewidth\":0,\"ticks\":\"\"}},\"colorscale\":{\"diverging\":[[0,\"#8e0152\"],[0.1,\"#c51b7d\"],[0.2,\"#de77ae\"],[0.3,\"#f1b6da\"],[0.4,\"#fde0ef\"],[0.5,\"#f7f7f7\"],[0.6,\"#e6f5d0\"],[0.7,\"#b8e186\"],[0.8,\"#7fbc41\"],[0.9,\"#4d9221\"],[1,\"#276419\"]],\"sequential\":[[0.0,\"#0d0887\"],[0.1111111111111111,\"#46039f\"],[0.2222222222222222,\"#7201a8\"],[0.3333333333333333,\"#9c179e\"],[0.4444444444444444,\"#bd3786\"],[0.5555555555555556,\"#d8576b\"],[0.6666666666666666,\"#ed7953\"],[0.7777777777777778,\"#fb9f3a\"],[0.8888888888888888,\"#fdca26\"],[1.0,\"#f0f921\"]],\"sequentialminus\":[[0.0,\"#0d0887\"],[0.1111111111111111,\"#46039f\"],[0.2222222222222222,\"#7201a8\"],[0.3333333333333333,\"#9c179e\"],[0.4444444444444444,\"#bd3786\"],[0.5555555555555556,\"#d8576b\"],[0.6666666666666666,\"#ed7953\"],[0.7777777777777778,\"#fb9f3a\"],[0.8888888888888888,\"#fdca26\"],[1.0,\"#f0f921\"]]},\"colorway\":[\"#636efa\",\"#EF553B\",\"#00cc96\",\"#ab63fa\",\"#FFA15A\",\"#19d3f3\",\"#FF6692\",\"#B6E880\",\"#FF97FF\",\"#FECB52\"],\"font\":{\"color\":\"#2a3f5f\"},\"geo\":{\"bgcolor\":\"white\",\"lakecolor\":\"white\",\"landcolor\":\"#E5ECF6\",\"showlakes\":true,\"showland\":true,\"subunitcolor\":\"white\"},\"hoverlabel\":{\"align\":\"left\"},\"hovermode\":\"closest\",\"mapbox\":{\"style\":\"light\"},\"paper_bgcolor\":\"white\",\"plot_bgcolor\":\"#E5ECF6\",\"polar\":{\"angularaxis\":{\"gridcolor\":\"white\",\"linecolor\":\"white\",\"ticks\":\"\"},\"bgcolor\":\"#E5ECF6\",\"radialaxis\":{\"gridcolor\":\"white\",\"linecolor\":\"white\",\"ticks\":\"\"}},\"scene\":{\"xaxis\":{\"backgroundcolor\":\"#E5ECF6\",\"gridcolor\":\"white\",\"gridwidth\":2,\"linecolor\":\"white\",\"showbackground\":true,\"ticks\":\"\",\"zerolinecolor\":\"white\"},\"yaxis\":{\"backgroundcolor\":\"#E5ECF6\",\"gridcolor\":\"white\",\"gridwidth\":2,\"linecolor\":\"white\",\"showbackground\":true,\"ticks\":\"\",\"zerolinecolor\":\"white\"},\"zaxis\":{\"backgroundcolor\":\"#E5ECF6\",\"gridcolor\":\"white\",\"gridwidth\":2,\"linecolor\":\"white\",\"showbackground\":true,\"ticks\":\"\",\"zerolinecolor\":\"white\"}},\"shapedefaults\":{\"line\":{\"color\":\"#2a3f5f\"}},\"ternary\":{\"aaxis\":{\"gridcolor\":\"white\",\"linecolor\":\"white\",\"ticks\":\"\"},\"baxis\":{\"gridcolor\":\"white\",\"linecolor\":\"white\",\"ticks\":\"\"},\"bgcolor\":\"#E5ECF6\",\"caxis\":{\"gridcolor\":\"white\",\"linecolor\":\"white\",\"ticks\":\"\"}},\"title\":{\"x\":0.05},\"xaxis\":{\"automargin\":true,\"gridcolor\":\"white\",\"linecolor\":\"white\",\"ticks\":\"\",\"title\":{\"standoff\":15},\"zerolinecolor\":\"white\",\"zerolinewidth\":2},\"yaxis\":{\"automargin\":true,\"gridcolor\":\"white\",\"linecolor\":\"white\",\"ticks\":\"\",\"title\":{\"standoff\":15},\"zerolinecolor\":\"white\",\"zerolinewidth\":2}}},\"title\":{\"font\":{\"color\":\"#4D5663\"}},\"xaxis\":{\"gridcolor\":\"#E1E5ED\",\"showgrid\":true,\"tickfont\":{\"color\":\"#4D5663\"},\"title\":{\"font\":{\"color\":\"#4D5663\"},\"text\":\"\"},\"zerolinecolor\":\"#E1E5ED\"},\"yaxis\":{\"gridcolor\":\"#E1E5ED\",\"showgrid\":true,\"tickfont\":{\"color\":\"#4D5663\"},\"title\":{\"font\":{\"color\":\"#4D5663\"},\"text\":\"\"},\"zerolinecolor\":\"#E1E5ED\"}},                        {\"showLink\": true, \"linkText\": \"Export to plot.ly\", \"plotlyServerURL\": \"https://plot.ly\", \"responsive\": true}                    ).then(function(){\n",
       "                            \n",
       "var gd = document.getElementById('af8b91a1-584a-46b9-85f9-c86b66310fa1');\n",
       "var x = new MutationObserver(function (mutations, observer) {{\n",
       "        var display = window.getComputedStyle(gd).display;\n",
       "        if (!display || display === 'none') {{\n",
       "            console.log([gd, 'removed!']);\n",
       "            Plotly.purge(gd);\n",
       "            observer.disconnect();\n",
       "        }}\n",
       "}});\n",
       "\n",
       "// Listen for the removal of the full notebook cells\n",
       "var notebookContainer = gd.closest('#notebook-container');\n",
       "if (notebookContainer) {{\n",
       "    x.observe(notebookContainer, {childList: true});\n",
       "}}\n",
       "\n",
       "// Listen for the clearing of the current output cell\n",
       "var outputEl = gd.closest('.output');\n",
       "if (outputEl) {{\n",
       "    x.observe(outputEl, {childList: true});\n",
       "}}\n",
       "\n",
       "                        })                };                });            </script>        </div>"
      ]
     },
     "metadata": {},
     "output_type": "display_data"
    }
   ],
   "source": [
    "df3 = pd.DataFrame({'x':[2,4,6,8,10,2,4,6,8,10],'y':[30,20,10,20,30,2,4,6,8,10],'z':[2,4,6,8,10,2,4,6,8,10]})\n",
    "df3.iplot(kind='surface',colorscale='rdylbu')"
   ]
  },
  {
   "cell_type": "code",
   "execution_count": null,
   "metadata": {},
   "outputs": [],
   "source": []
  }
 ],
 "metadata": {
  "kernelspec": {
   "display_name": "base",
   "language": "python",
   "name": "python3"
  },
  "language_info": {
   "codemirror_mode": {
    "name": "ipython",
    "version": 3
   },
   "file_extension": ".py",
   "mimetype": "text/x-python",
   "name": "python",
   "nbconvert_exporter": "python",
   "pygments_lexer": "ipython3",
   "version": "3.11.4"
  },
  "orig_nbformat": 4
 },
 "nbformat": 4,
 "nbformat_minor": 2
}
